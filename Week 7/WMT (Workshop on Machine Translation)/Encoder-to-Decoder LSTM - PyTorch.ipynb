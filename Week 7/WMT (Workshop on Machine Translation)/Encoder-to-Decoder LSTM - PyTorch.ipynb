{
 "cells": [
  {
   "cell_type": "code",
   "execution_count": 1,
   "id": "1cf177c7",
   "metadata": {},
   "outputs": [
    {
     "name": "stderr",
     "output_type": "stream",
     "text": [
      "/home/ardi/miniconda3/lib/python3.12/site-packages/torchtext/vocab/__init__.py:4: UserWarning: \n",
      "/!\\ IMPORTANT WARNING ABOUT TORCHTEXT STATUS /!\\ \n",
      "Torchtext is deprecated and the last released version will be 0.18 (this one). You can silence this warning by calling the following at the beginnign of your scripts: `import torchtext; torchtext.disable_torchtext_deprecation_warning()`\n",
      "  warnings.warn(torchtext._TORCHTEXT_DEPRECATION_MSG)\n",
      "/home/ardi/miniconda3/lib/python3.12/site-packages/torchtext/utils.py:4: UserWarning: \n",
      "/!\\ IMPORTANT WARNING ABOUT TORCHTEXT STATUS /!\\ \n",
      "Torchtext is deprecated and the last released version will be 0.18 (this one). You can silence this warning by calling the following at the beginnign of your scripts: `import torchtext; torchtext.disable_torchtext_deprecation_warning()`\n",
      "  warnings.warn(torchtext._TORCHTEXT_DEPRECATION_MSG)\n"
     ]
    },
    {
     "name": "stdout",
     "output_type": "stream",
     "text": [
      "Using device: cuda\n",
      "Length:  10\n",
      "{'translation': [{'de': 'Wiederaufnahme der Sitzungsperiode', 'en': 'Resumption of the session'}, {'de': 'Ich erkläre die am Freitag, dem 17. Dezember unterbrochene Sitzungsperiode des Europäischen Parlaments für wiederaufgenommen, wünsche Ihnen nochmals alles Gute zum Jahreswechsel und hoffe, daß Sie schöne Ferien hatten.', 'en': 'I declare resumed the session of the European Parliament adjourned on Friday 17 December 1999, and I would like once again to wish you a happy new year in the hope that you enjoyed a pleasant festive period.'}, {'de': 'Wie Sie feststellen konnten, ist der gefürchtete \"Millenium-Bug \" nicht eingetreten. Doch sind Bürger einiger unserer Mitgliedstaaten Opfer von schrecklichen Naturkatastrophen geworden.', 'en': \"Although, as you will have seen, the dreaded 'millennium bug' failed to materialise, still the people in a number of countries suffered a series of natural disasters that truly were dreadful.\"}, {'de': 'Im Parlament besteht der Wunsch nach einer Aussprache im Verlauf dieser Sitzungsperiode in den nächsten Tagen.', 'en': 'You have requested a debate on this subject in the course of the next few days, during this part-session.'}, {'de': 'Heute möchte ich Sie bitten - das ist auch der Wunsch einiger Kolleginnen und Kollegen -, allen Opfern der Stürme, insbesondere in den verschiedenen Ländern der Europäischen Union, in einer Schweigeminute zu gedenken.', 'en': \"In the meantime, I should like to observe a minute' s silence, as a number of Members have requested, on behalf of all the victims concerned, particularly those of the terrible storms, in the various countries of the European Union.\"}, {'de': 'Ich bitte Sie, sich zu einer Schweigeminute zu erheben.', 'en': \"Please rise, then, for this minute' s silence.\"}, {'de': '(Das Parlament erhebt sich zu einer Schweigeminute.)', 'en': \"(The House rose and observed a minute' s silence)\"}, {'de': 'Frau Präsidentin, zur Geschäftsordnung.', 'en': 'Madam President, on a point of order.'}, {'de': 'Wie Sie sicher aus der Presse und dem Fernsehen wissen, gab es in Sri Lanka mehrere Bombenexplosionen mit zahlreichen Toten.', 'en': 'You will be aware from the press and television that there have been a number of bomb explosions and killings in Sri Lanka.'}, {'de': 'Zu den Attentatsopfern, die es in jüngster Zeit in Sri Lanka zu beklagen gab, zählt auch Herr Kumar Ponnambalam, der dem Europäischen Parlament erst vor wenigen Monaten einen Besuch abgestattet hatte.', 'en': 'One of the people assassinated very recently in Sri Lanka was Mr Kumar Ponnambalam, who had visited the European Parliament just a few months ago.'}]}\n",
      "Sample 1:\n",
      "  German: Wiederaufnahme der Sitzungsperiode\n",
      "  English: Resumption of the session\n",
      "--------------------------------------------------\n",
      "Sample 2:\n",
      "  German: Ich erkläre die am Freitag, dem 17. Dezember unterbrochene Sitzungsperiode des Europäischen Parlaments für wiederaufgenommen, wünsche Ihnen nochmals alles Gute zum Jahreswechsel und hoffe, daß Sie schöne Ferien hatten.\n",
      "  English: I declare resumed the session of the European Parliament adjourned on Friday 17 December 1999, and I would like once again to wish you a happy new year in the hope that you enjoyed a pleasant festive period.\n",
      "--------------------------------------------------\n",
      "Sample 3:\n",
      "  German: Wie Sie feststellen konnten, ist der gefürchtete \"Millenium-Bug \" nicht eingetreten. Doch sind Bürger einiger unserer Mitgliedstaaten Opfer von schrecklichen Naturkatastrophen geworden.\n",
      "  English: Although, as you will have seen, the dreaded 'millennium bug' failed to materialise, still the people in a number of countries suffered a series of natural disasters that truly were dreadful.\n",
      "--------------------------------------------------\n",
      "Sample 4:\n",
      "  German: Im Parlament besteht der Wunsch nach einer Aussprache im Verlauf dieser Sitzungsperiode in den nächsten Tagen.\n",
      "  English: You have requested a debate on this subject in the course of the next few days, during this part-session.\n",
      "--------------------------------------------------\n",
      "Sample 5:\n",
      "  German: Heute möchte ich Sie bitten - das ist auch der Wunsch einiger Kolleginnen und Kollegen -, allen Opfern der Stürme, insbesondere in den verschiedenen Ländern der Europäischen Union, in einer Schweigeminute zu gedenken.\n",
      "  English: In the meantime, I should like to observe a minute' s silence, as a number of Members have requested, on behalf of all the victims concerned, particularly those of the terrible storms, in the various countries of the European Union.\n",
      "--------------------------------------------------\n",
      "Sample 6:\n",
      "  German: Ich bitte Sie, sich zu einer Schweigeminute zu erheben.\n",
      "  English: Please rise, then, for this minute' s silence.\n",
      "--------------------------------------------------\n",
      "Sample 7:\n",
      "  German: (Das Parlament erhebt sich zu einer Schweigeminute.)\n",
      "  English: (The House rose and observed a minute' s silence)\n",
      "--------------------------------------------------\n",
      "Sample 8:\n",
      "  German: Frau Präsidentin, zur Geschäftsordnung.\n",
      "  English: Madam President, on a point of order.\n",
      "--------------------------------------------------\n",
      "Sample 9:\n",
      "  German: Wie Sie sicher aus der Presse und dem Fernsehen wissen, gab es in Sri Lanka mehrere Bombenexplosionen mit zahlreichen Toten.\n",
      "  English: You will be aware from the press and television that there have been a number of bomb explosions and killings in Sri Lanka.\n",
      "--------------------------------------------------\n",
      "Sample 10:\n",
      "  German: Zu den Attentatsopfern, die es in jüngster Zeit in Sri Lanka zu beklagen gab, zählt auch Herr Kumar Ponnambalam, der dem Europäischen Parlament erst vor wenigen Monaten einen Besuch abgestattet hatte.\n",
      "  English: One of the people assassinated very recently in Sri Lanka was Mr Kumar Ponnambalam, who had visited the European Parliament just a few months ago.\n",
      "--------------------------------------------------\n",
      "\n",
      "Length of src_vocab:  133\n",
      "Length of tgt_vocab:  131\n"
     ]
    }
   ],
   "source": [
    "# ======================== Imports ========================\n",
    "import re, unicodedata\n",
    "from collections import Counter\n",
    "\n",
    "import numpy as np\n",
    "import torch\n",
    "import torch.nn as nn\n",
    "from torch.utils.data import DataLoader, TensorDataset, random_split\n",
    "from torchtext.vocab import build_vocab_from_iterator\n",
    "import torch.optim as optim\n",
    "from datasets import load_dataset\n",
    "\n",
    "from sklearn.model_selection import train_test_split\n",
    "from nltk.translate.bleu_score import corpus_bleu\n",
    "\n",
    "import matplotlib.pyplot as plt\n",
    "import seaborn as sns\n",
    "import optuna\n",
    "from sklearn.metrics import classification_report\n",
    "from sklearn.preprocessing import label_binarize\n",
    "from torch.nn.utils.rnn import pad_sequence\n",
    "\n",
    "from tqdm import tqdm\n",
    "\n",
    "# ======================== Config ========================\n",
    "device = torch.device('cuda' if torch.cuda.is_available() else 'cpu')\n",
    "print(f\"Using device: {device}\")\n",
    "torch.backends.cudnn.benchmark = torch.cuda.is_available()\n",
    "\n",
    "import unicodedata\n",
    "import re\n",
    "\n",
    "# ======================== Preprocessing ========================\n",
    "def custom_preprocess(text, language):\n",
    "    text = unicodedata.normalize('NFKC', text)  # Unicode normalization\n",
    "    \n",
    "    if language == 'de':  # Normalize German-specific characters\n",
    "        translation_map = str.maketrans({\"ä\": \"ae\", \"ö\": \"oe\", \"ü\": \"ue\", \"Ä\": \"Ae\", \"Ö\": \"Oe\", \"Ü\": \"Ue\", \"ß\": \"ss\"})\n",
    "        text = text.translate(translation_map)\n",
    "\n",
    "    text = re.sub(r\"[^a-zA-Z0-9.,!?\\\"'\\-:;() ]\", \" \", text)  # Keep relevant characters\n",
    "    text = text.replace(\"’\", \"'\").replace(\"“\", \"\\\"\").replace(\"”\", \"\\\"\")  # Normalize quotes\n",
    "    text = re.sub(r\"([.,!?;:\\-()])\", r\" \\1 \", text)  # Separate punctuation\n",
    "    text = re.sub(r\"\\s+\", \" \", text).strip()  # Clean multiple spaces\n",
    "    \n",
    "    return f\"<start> {text} <end>\"  # Add start/end tokens\n",
    "\n",
    "# ======================== Vocabulary ========================\n",
    "def build_vocab(texts):\n",
    "    def word_iterator():\n",
    "        for text in texts:\n",
    "            yield text.split()  # Each yield is a list of words\n",
    "\n",
    "    vocab = build_vocab_from_iterator(word_iterator(), min_freq=0, specials=['<pad>', '<unk>', '<start>', '<end>'])\n",
    "    vocab.set_default_index(vocab['<unk>'])\n",
    "\n",
    "    counter = Counter(word for text in texts for word in text.split())\n",
    "\n",
    "    return vocab\n",
    "\n",
    "def tokenize_and_pad(texts, vocab):\n",
    "    sequences = [[vocab[token] if token in vocab else vocab['<unk>'] for token in text.split()] for text in texts]\n",
    "    padded = pad_sequence([torch.tensor(seq, dtype=torch.long) for seq in sequences], batch_first=True, padding_value=vocab['<pad>'])\n",
    "    return padded, padded.size(1)\n",
    "\n",
    "# ======================== Load & Process Data ========================\n",
    "dataset = load_dataset(\"wmt/wmt14\", \"de-en\", split='train[:10]')\n",
    "print(\"Length: \", len(dataset))\n",
    "\n",
    "print(dataset[:10])\n",
    "\n",
    "# Print first 10 samples in a structured format\n",
    "for i, entry in enumerate(dataset.select(range(10))):\n",
    "    print(f\"Sample {i+1}:\")\n",
    "    print(f\"  German: {entry['translation']['de']}\")\n",
    "    print(f\"  English: {entry['translation']['en']}\")\n",
    "    print(\"-\" * 50)\n",
    "\n",
    "src_texts = [custom_preprocess(x['translation']['de'], 'de') for x in dataset]\n",
    "tgt_texts = [custom_preprocess(x['translation']['en'], 'en') for x in dataset]\n",
    "\n",
    "src_vocab = build_vocab(src_texts)\n",
    "tgt_vocab = build_vocab(tgt_texts)\n",
    "\n",
    "print(\"\\nLength of src_vocab: \", len(src_vocab))\n",
    "print(\"Length of tgt_vocab: \", len(tgt_vocab))\n",
    "\n",
    "PAD_IDX = tgt_vocab['<pad>']\n",
    "UNK_IDX = tgt_vocab['<unk>']\n",
    "START_IDX = tgt_vocab['<start>']\n",
    "END_IDX = tgt_vocab['<end>']\n",
    "\n",
    "src_tensor, src_max_len = tokenize_and_pad(src_texts, src_vocab)\n",
    "tgt_tensor, tgt_max_len = tokenize_and_pad(tgt_texts, tgt_vocab)\n",
    "\n",
    "decoder_input = tgt_tensor[:, :-1]\n",
    "decoder_target = tgt_tensor[:, 1:]\n",
    "\n",
    "from sklearn.model_selection import train_test_split\n",
    "\n",
    "# Create test set only (20%)\n",
    "x_enc_test, _, x_dec_test, _, y_test, _ = train_test_split(\n",
    "    src_tensor, decoder_input, decoder_target, test_size=0.2, random_state=42\n",
    ")\n",
    "\n",
    "# Use the full data as training set (100%)\n",
    "x_enc_train = src_tensor\n",
    "x_dec_train = decoder_input\n",
    "y_train = decoder_target\n",
    "\n",
    "import torch\n",
    "import torch.nn as nn\n",
    "import torch.nn.functional as F\n",
    "\n",
    "# Define PAD_IDX if it's not already defined in your environment\n",
    "PAD_IDX = 0  # Example value, adjust as needed\n",
    "\n",
    "class Encoder(nn.Module):\n",
    "    def __init__(self, input_dim, emb_dim, hid_dim, dropout):\n",
    "        super().__init__()\n",
    "        self.embedding = nn.Embedding(input_dim, emb_dim, padding_idx=PAD_IDX)\n",
    "        self.rnn = nn.LSTM(emb_dim, hid_dim, bidirectional=True, batch_first=True)\n",
    "        self.fc = nn.Linear(hid_dim * 2, hid_dim)\n",
    "        self.dropout = nn.Dropout(dropout)\n",
    "\n",
    "    def forward(self, src):\n",
    "        # src: [batch_size, src_len]\n",
    "        embedded = self.dropout(self.embedding(src))  # [batch_size, src_len, emb_dim]\n",
    "        outputs, (hidden, cell) = self.rnn(embedded)  # outputs: [batch_size, src_len, hid_dim * 2]\n",
    "        # hidden: [num_layers * num_directions, batch_size, hid_dim]\n",
    "        # cell: [num_layers * num_directions, batch_size, hid_dim]\n",
    "\n",
    "        # Concatenate the final forward and backward hidden states\n",
    "        hidden = torch.cat((hidden[-2, :, :], hidden[-1, :, :]), dim=1)  # [batch_size, hid_dim * 2]\n",
    "        # Apply linear layer and tanh to get the final hidden state for the decoder\n",
    "        hidden = torch.tanh(self.fc(hidden)).unsqueeze(0)  # [1, batch_size, hid_dim]\n",
    "        # Use the final cell state (both directions are usually not combined for cell state)\n",
    "        cell = cell[-1:].contiguous()  # [1, batch_size, hid_dim]\n",
    "\n",
    "        return outputs, hidden, cell\n",
    "\n",
    "class Attention(nn.Module):\n",
    "    def __init__(self, enc_hid_dim, dec_hid_dim):\n",
    "        super().__init__()\n",
    "        self.attn = nn.Linear((enc_hid_dim * 2) + dec_hid_dim, dec_hid_dim)\n",
    "        self.v = nn.Linear(dec_hid_dim, 1, bias=False)\n",
    "\n",
    "    def forward(self, hidden, encoder_outputs):\n",
    "        # hidden: [batch_size, 1, dec_hid_dim]\n",
    "        # encoder_outputs: [batch_size, src_len, enc_hid_dim * 2]\n",
    "\n",
    "        batch_size, src_len, _ = encoder_outputs.shape\n",
    "        # Repeat decoder hidden state to match source sequence length\n",
    "        hidden = hidden.repeat(1, src_len, 1)  # [batch_size, src_len, dec_hid_dim]\n",
    "\n",
    "        # Calculate energy by concatenating encoder outputs and repeated hidden state\n",
    "        energy = torch.tanh(self.attn(torch.cat((hidden, encoder_outputs), dim=2)))  # [batch_size, src_len, dec_hid_dim]\n",
    "\n",
    "        # Calculate attention weights by passing energy through the linear layer and softmax\n",
    "        attention = self.v(energy).squeeze(-1)  # [batch_size, src_len]\n",
    "        return F.softmax(attention, dim=1)\n",
    "\n",
    "class Decoder(nn.Module):\n",
    "    def __init__(self, output_dim, emb_dim, enc_hid_dim, dec_hid_dim, dropout, attention):\n",
    "        super().__init__()\n",
    "        self.output_dim = output_dim\n",
    "        self.attention = attention\n",
    "        self.embedding = nn.Embedding(output_dim, emb_dim, padding_idx=PAD_IDX)\n",
    "        self.rnn = nn.LSTM((enc_hid_dim * 2) + emb_dim, dec_hid_dim, batch_first=True)\n",
    "        self.fc_out = nn.Linear((enc_hid_dim * 2) + dec_hid_dim + emb_dim, output_dim)\n",
    "        self.dropout = nn.Dropout(dropout)\n",
    "\n",
    "    def forward(self, input, hidden, cell, encoder_outputs):\n",
    "        # input: [batch_size]\n",
    "        # hidden: [1, batch_size, dec_hid_dim]\n",
    "        # cell: [1, batch_size, dec_hid_dim]\n",
    "        # encoder_outputs: [batch_size, src_len, enc_hid_dim * 2]\n",
    "\n",
    "        input = input.unsqueeze(1)  # [batch_size, 1]\n",
    "        embedded = self.dropout(self.embedding(input))  # [batch_size, 1, emb_dim]\n",
    "\n",
    "        # Calculate attention weights\n",
    "        attn_weights = self.attention(hidden.permute(1, 0, 2), encoder_outputs)  # [batch_size, src_len]\n",
    "\n",
    "        # Calculate context vector by taking a weighted sum of encoder outputs\n",
    "        context = torch.bmm(attn_weights.unsqueeze(1), encoder_outputs)  # [batch_size, 1, enc_hid_dim * 2]\n",
    "\n",
    "        # Concatenate embedded input and context vector\n",
    "        rnn_input = torch.cat((embedded, context), dim=2)  # [batch_size, 1, emb_dim + enc_hid_dim * 2]\n",
    "\n",
    "        # Pass the concatenated vector and previous hidden/cell states through the RNN\n",
    "        output, (hidden, cell) = self.rnn(rnn_input, (hidden, cell))\n",
    "        # output: [batch_size, 1, dec_hid_dim]\n",
    "        # hidden: [1, batch_size, dec_hid_dim]\n",
    "        # cell: [1, batch_size, dec_hid_dim]\n",
    "\n",
    "        # Concatenate the RNN output, context vector, and embedded input for the final prediction\n",
    "        pred_input = torch.cat((output.squeeze(1), context.squeeze(1), embedded.squeeze(1)), dim=1)  # [batch_size, dec_hid_dim + enc_hid_dim * 2 + emb_dim]\n",
    "\n",
    "        # Make the prediction\n",
    "        prediction = self.fc_out(pred_input)  # [batch_size, output_dim]\n",
    "\n",
    "        return prediction, hidden, cell\n",
    "\n",
    "class Seq2Seq(nn.Module):\n",
    "    def __init__(self, encoder, decoder, device):\n",
    "        super().__init__()\n",
    "        self.encoder = encoder\n",
    "        self.decoder = decoder\n",
    "        self.device = device\n",
    "\n",
    "    def forward(self, src, trg, teacher_forcing_ratio=0.5):\n",
    "        # src: [batch_size, src_len]\n",
    "        # trg: [batch_size, trg_len]\n",
    "\n",
    "        batch_size, trg_len = trg.shape\n",
    "        trg_vocab_size = self.decoder.output_dim\n",
    "\n",
    "        # Tensor to store decoder outputs\n",
    "        outputs = torch.zeros(batch_size, trg_len, trg_vocab_size).to(self.device)\n",
    "\n",
    "        # Encode the input sequence to get the context vector\n",
    "        encoder_outputs, hidden, cell = self.encoder(src)\n",
    "\n",
    "        # First input to the decoder is the <sos> token\n",
    "        input = trg[:, 0]\n",
    "\n",
    "        for t in range(1, trg_len):\n",
    "            # Decode one time step\n",
    "            output, hidden, cell = self.decoder(input, hidden, cell, encoder_outputs)\n",
    "\n",
    "            # Place predictions in the outputs tensor\n",
    "            outputs[:, t] = output\n",
    "\n",
    "            # Decide if we are going to use teacher forcing or not\n",
    "            teacher_force = torch.rand(1).item() < teacher_forcing_ratio\n",
    "\n",
    "            # Get the most predicted token (highest probability)\n",
    "            top1 = output.argmax(1)\n",
    "\n",
    "            # If teacher forcing, use actual next token as next input\n",
    "            # If not, use predicted token\n",
    "            input = trg[:, t] if teacher_force else top1\n",
    "\n",
    "        return outputs\n",
    "    \n",
    "    @torch.no_grad()\n",
    "    def translate(self, src, max_len=100):\n",
    "        batch_size = src.shape[0]\n",
    "        outputs = []\n",
    "\n",
    "        encoder_outputs, hidden, cell = self.encoder(src)\n",
    "        \n",
    "        input = torch.ones(batch_size, dtype=torch.long).to(self.device) * START_IDX\n",
    "\n",
    "        for _ in range(max_len):\n",
    "            output, hidden, cell = self.decoder(input, hidden, cell, encoder_outputs)\n",
    "            top1 = output.argmax(1)\n",
    "            outputs.append(top1.unsqueeze(1))\n",
    "            input = top1\n",
    "            if (top1 == END_IDX).all():\n",
    "                break\n",
    "\n",
    "        return torch.cat(outputs, dim=1)\n",
    "\n",
    "def get_model_and_optimizer(trial=None):\n",
    "    \"\"\"Initialize the model, optimizer, and loss criterion with or without Optuna trial.\"\"\"\n",
    "    if trial:\n",
    "        emb_dim = trial.suggest_int(\"emb_dim\", 64, 128)\n",
    "        hid_dim = trial.suggest_categorical(\"hid_dim\", [64, 128, 256])\n",
    "        dropout = trial.suggest_categorical(\"dropout\", [0.1, 0.3, 0.5])\n",
    "        lr = trial.suggest_float(\"lr\", 1e-4, 5e-3, log=True)\n",
    "    else:\n",
    "        emb_dim, hid_dim, dropout, lr = 128, 128, 0.3, 1e-3\n",
    "\n",
    "    attention = Attention(hid_dim, hid_dim)\n",
    "    encoder = Encoder(len(src_vocab), emb_dim, hid_dim, dropout)\n",
    "    decoder = Decoder(len(tgt_vocab), emb_dim, hid_dim, hid_dim, dropout, attention)\n",
    "    model = Seq2Seq(encoder, decoder, device).to(device)\n",
    "\n",
    "    optimizer = optim.Adam(model.parameters(), lr=lr)\n",
    "    criterion = nn.CrossEntropyLoss(ignore_index=PAD_IDX)\n",
    "\n",
    "    return model, optimizer, criterion\n",
    "\n",
    "\n",
    "def get_data_loaders(batch_size=16):\n",
    "    \"\"\"Prepare training and validation DataLoaders.\"\"\"\n",
    "    train_data = TensorDataset(x_enc_train, x_dec_train, y_train)\n",
    "    val_data = TensorDataset(x_enc_test, x_dec_test, y_test)\n",
    "\n",
    "    train_loader = DataLoader(train_data, batch_size=batch_size, shuffle=True)\n",
    "    val_loader = DataLoader(val_data, batch_size=batch_size, shuffle=False)\n",
    "\n",
    "    return train_loader, val_loader\n",
    "\n",
    "\n",
    "def run_epoch(model, data_loader, optimizer, criterion, is_train=True):\n",
    "    \"\"\"Run one epoch (train or validation) and return average loss and accuracy.\"\"\"\n",
    "    if is_train:\n",
    "        model.train()\n",
    "    else:\n",
    "        model.eval()\n",
    "\n",
    "    epoch_loss, epoch_acc, total_batches = 0.0, 0.0, 0\n",
    "\n",
    "    for src, trg_in, trg_out in tqdm(data_loader, desc=\"Training\" if is_train else \"Validation\"):\n",
    "        src, trg_in, trg_out = src.to(device), trg_in.to(device), trg_out.to(device)\n",
    "\n",
    "        if is_train:\n",
    "            optimizer.zero_grad()\n",
    "\n",
    "        output = model(src, trg_in)\n",
    "        output = output[:, 1:].contiguous().view(-1, output.shape[-1])\n",
    "        trg_out = trg_out[:, 1:].contiguous().view(-1)\n",
    "\n",
    "        loss = criterion(output, trg_out)\n",
    "\n",
    "        if is_train:\n",
    "            loss.backward()\n",
    "            torch.nn.utils.clip_grad_norm_(model.parameters(), max_norm=1.0)\n",
    "            optimizer.step()\n",
    "\n",
    "        # Compute accuracy\n",
    "        preds = output.argmax(dim=1)\n",
    "        mask = trg_out != PAD_IDX\n",
    "        correct = (preds[mask] == trg_out[mask]).float().sum()\n",
    "        total = mask.float().sum()\n",
    "        accuracy = correct / total if total > 0 else 0.0\n",
    "\n",
    "        epoch_loss += loss.item()\n",
    "        epoch_acc += accuracy.item()\n",
    "        total_batches += 1\n",
    "\n",
    "    avg_loss = epoch_loss / total_batches\n",
    "    avg_acc = epoch_acc / total_batches\n",
    "    return avg_loss, avg_acc\n",
    "\n",
    "\n",
    "def train_model(trial=None):\n",
    "    model, optimizer, criterion = get_model_and_optimizer(trial)\n",
    "    train_loader, val_loader = get_data_loaders()\n",
    "\n",
    "    history = {'train_loss': [], 'train_acc': [], 'val_loss': [], 'val_acc': []}\n",
    "    num_epochs = 500 # fixed for both trial and manual training\n",
    "\n",
    "    for epoch in range(num_epochs):\n",
    "        print(f\"Epoch {epoch + 1}/{num_epochs}\")\n",
    "\n",
    "        train_loss, train_acc = run_epoch(model, train_loader, optimizer, criterion, is_train=True)\n",
    "        val_loss, val_acc = run_epoch(model, val_loader, optimizer, criterion, is_train=False)\n",
    "\n",
    "        history['train_loss'].append(train_loss)\n",
    "        history['train_acc'].append(train_acc)\n",
    "        history['val_loss'].append(val_loss)\n",
    "        history['val_acc'].append(val_acc)\n",
    "\n",
    "        print(f\"  Train Loss: {train_loss:.4f}, Train Acc: {train_acc:.4f}\")\n",
    "        print(f\"  Val Loss:   {val_loss:.4f}, Val Acc:   {val_acc:.4f}\")\n",
    "\n",
    "    return val_loss if trial else (model, history)\n",
    "\n",
    "\n",
    "def run_hyperparameter_tuning():\n",
    "    \"\"\"Run Optuna hyperparameter tuning.\"\"\"\n",
    "    print(\"Starting hyperparameter tuning...\")\n",
    "    study = optuna.create_study(direction=\"minimize\")\n",
    "    study.optimize(train_model, n_trials=5)\n",
    "\n",
    "    print(\"\\nBest trial:\")\n",
    "    trial = study.best_trial\n",
    "    print(f\"  Value: {trial.value}\")\n",
    "    print(\"  Params:\")\n",
    "    for key, value in trial.params.items():\n",
    "        print(f\"    {key}: {value}\")\n",
    "\n",
    "    return trial.params"
   ]
  },
  {
   "cell_type": "code",
   "execution_count": 2,
   "id": "207f6708",
   "metadata": {},
   "outputs": [
    {
     "name": "stdout",
     "output_type": "stream",
     "text": [
      "Training model...\n",
      "Epoch 1/500\n"
     ]
    },
    {
     "name": "stderr",
     "output_type": "stream",
     "text": [
      "Training: 100%|██████████| 1/1 [00:01<00:00,  1.31s/it]\n",
      "Validation: 100%|██████████| 1/1 [00:00<00:00, 10.86it/s]\n"
     ]
    },
    {
     "name": "stdout",
     "output_type": "stream",
     "text": [
      "  Train Loss: 4.9078, Train Acc: 0.0000\n",
      "  Val Loss:   4.8538, Val Acc:   0.0000\n",
      "Epoch 2/500\n"
     ]
    },
    {
     "name": "stderr",
     "output_type": "stream",
     "text": [
      "Training: 100%|██████████| 1/1 [00:00<00:00,  3.64it/s]\n",
      "Validation: 100%|██████████| 1/1 [00:00<00:00,  9.35it/s]\n"
     ]
    },
    {
     "name": "stdout",
     "output_type": "stream",
     "text": [
      "  Train Loss: 4.9063, Train Acc: 0.0043\n",
      "  Val Loss:   4.8266, Val Acc:   0.0181\n",
      "Epoch 3/500\n"
     ]
    },
    {
     "name": "stderr",
     "output_type": "stream",
     "text": [
      "Training: 100%|██████████| 1/1 [00:00<00:00,  3.65it/s]\n",
      "Validation: 100%|██████████| 1/1 [00:00<00:00,  8.37it/s]\n"
     ]
    },
    {
     "name": "stdout",
     "output_type": "stream",
     "text": [
      "  Train Loss: 4.8438, Train Acc: 0.0087\n",
      "  Val Loss:   4.7518, Val Acc:   0.0422\n",
      "Epoch 4/500\n"
     ]
    },
    {
     "name": "stderr",
     "output_type": "stream",
     "text": [
      "Training: 100%|██████████| 1/1 [00:00<00:00,  4.06it/s]\n",
      "Validation: 100%|██████████| 1/1 [00:00<00:00,  8.24it/s]\n"
     ]
    },
    {
     "name": "stdout",
     "output_type": "stream",
     "text": [
      "  Train Loss: 4.7914, Train Acc: 0.0174\n",
      "  Val Loss:   4.7294, Val Acc:   0.0422\n",
      "Epoch 5/500\n"
     ]
    },
    {
     "name": "stderr",
     "output_type": "stream",
     "text": [
      "Training: 100%|██████████| 1/1 [00:00<00:00,  3.70it/s]\n",
      "Validation: 100%|██████████| 1/1 [00:00<00:00,  5.98it/s]\n"
     ]
    },
    {
     "name": "stdout",
     "output_type": "stream",
     "text": [
      "  Train Loss: 4.7482, Train Acc: 0.0217\n",
      "  Val Loss:   4.6531, Val Acc:   0.0482\n",
      "Epoch 6/500\n"
     ]
    },
    {
     "name": "stderr",
     "output_type": "stream",
     "text": [
      "Training: 100%|██████████| 1/1 [00:00<00:00,  4.28it/s]\n",
      "Validation: 100%|██████████| 1/1 [00:00<00:00,  7.06it/s]\n"
     ]
    },
    {
     "name": "stdout",
     "output_type": "stream",
     "text": [
      "  Train Loss: 4.6986, Train Acc: 0.0174\n",
      "  Val Loss:   4.6010, Val Acc:   0.0542\n",
      "Epoch 7/500\n"
     ]
    },
    {
     "name": "stderr",
     "output_type": "stream",
     "text": [
      "Training: 100%|██████████| 1/1 [00:00<00:00,  3.29it/s]\n",
      "Validation: 100%|██████████| 1/1 [00:00<00:00,  8.89it/s]\n"
     ]
    },
    {
     "name": "stdout",
     "output_type": "stream",
     "text": [
      "  Train Loss: 4.6351, Train Acc: 0.0783\n",
      "  Val Loss:   4.5596, Val Acc:   0.0783\n",
      "Epoch 8/500\n"
     ]
    },
    {
     "name": "stderr",
     "output_type": "stream",
     "text": [
      "Training: 100%|██████████| 1/1 [00:00<00:00,  3.39it/s]\n",
      "Validation: 100%|██████████| 1/1 [00:00<00:00,  8.39it/s]\n"
     ]
    },
    {
     "name": "stdout",
     "output_type": "stream",
     "text": [
      "  Train Loss: 4.5854, Train Acc: 0.0739\n",
      "  Val Loss:   4.5264, Val Acc:   0.0783\n",
      "Epoch 9/500\n"
     ]
    },
    {
     "name": "stderr",
     "output_type": "stream",
     "text": [
      "Training: 100%|██████████| 1/1 [00:00<00:00,  5.01it/s]\n",
      "Validation: 100%|██████████| 1/1 [00:00<00:00, 12.09it/s]\n"
     ]
    },
    {
     "name": "stdout",
     "output_type": "stream",
     "text": [
      "  Train Loss: 4.5626, Train Acc: 0.0522\n",
      "  Val Loss:   4.4230, Val Acc:   0.0783\n",
      "Epoch 10/500\n"
     ]
    },
    {
     "name": "stderr",
     "output_type": "stream",
     "text": [
      "Training: 100%|██████████| 1/1 [00:00<00:00,  5.38it/s]\n",
      "Validation: 100%|██████████| 1/1 [00:00<00:00, 14.81it/s]\n"
     ]
    },
    {
     "name": "stdout",
     "output_type": "stream",
     "text": [
      "  Train Loss: 4.3851, Train Acc: 0.0957\n",
      "  Val Loss:   4.2683, Val Acc:   0.1265\n",
      "Epoch 11/500\n"
     ]
    },
    {
     "name": "stderr",
     "output_type": "stream",
     "text": [
      "Training: 100%|██████████| 1/1 [00:00<00:00,  5.47it/s]\n",
      "Validation: 100%|██████████| 1/1 [00:00<00:00, 10.27it/s]\n"
     ]
    },
    {
     "name": "stdout",
     "output_type": "stream",
     "text": [
      "  Train Loss: 4.3524, Train Acc: 0.0826\n",
      "  Val Loss:   4.1511, Val Acc:   0.1145\n",
      "Epoch 12/500\n"
     ]
    },
    {
     "name": "stderr",
     "output_type": "stream",
     "text": [
      "Training: 100%|██████████| 1/1 [00:00<00:00,  5.13it/s]\n",
      "Validation: 100%|██████████| 1/1 [00:00<00:00, 12.79it/s]\n"
     ]
    },
    {
     "name": "stdout",
     "output_type": "stream",
     "text": [
      "  Train Loss: 4.2423, Train Acc: 0.0913\n",
      "  Val Loss:   4.0908, Val Acc:   0.1145\n",
      "Epoch 13/500\n"
     ]
    },
    {
     "name": "stderr",
     "output_type": "stream",
     "text": [
      "Training: 100%|██████████| 1/1 [00:00<00:00,  5.07it/s]\n",
      "Validation: 100%|██████████| 1/1 [00:00<00:00, 10.58it/s]\n"
     ]
    },
    {
     "name": "stdout",
     "output_type": "stream",
     "text": [
      "  Train Loss: 4.1335, Train Acc: 0.0826\n",
      "  Val Loss:   3.9715, Val Acc:   0.1084\n",
      "Epoch 14/500\n"
     ]
    },
    {
     "name": "stderr",
     "output_type": "stream",
     "text": [
      "Training: 100%|██████████| 1/1 [00:00<00:00,  5.66it/s]\n",
      "Validation: 100%|██████████| 1/1 [00:00<00:00,  8.22it/s]\n"
     ]
    },
    {
     "name": "stdout",
     "output_type": "stream",
     "text": [
      "  Train Loss: 4.1274, Train Acc: 0.1043\n",
      "  Val Loss:   4.1181, Val Acc:   0.1024\n",
      "Epoch 15/500\n"
     ]
    },
    {
     "name": "stderr",
     "output_type": "stream",
     "text": [
      "Training: 100%|██████████| 1/1 [00:00<00:00,  4.34it/s]\n",
      "Validation: 100%|██████████| 1/1 [00:00<00:00,  8.28it/s]\n"
     ]
    },
    {
     "name": "stdout",
     "output_type": "stream",
     "text": [
      "  Train Loss: 4.1254, Train Acc: 0.0913\n",
      "  Val Loss:   4.0202, Val Acc:   0.1024\n",
      "Epoch 16/500\n"
     ]
    },
    {
     "name": "stderr",
     "output_type": "stream",
     "text": [
      "Training: 100%|██████████| 1/1 [00:00<00:00,  5.01it/s]\n",
      "Validation: 100%|██████████| 1/1 [00:00<00:00, 17.09it/s]\n"
     ]
    },
    {
     "name": "stdout",
     "output_type": "stream",
     "text": [
      "  Train Loss: 4.1252, Train Acc: 0.1000\n",
      "  Val Loss:   4.0283, Val Acc:   0.1084\n",
      "Epoch 17/500\n"
     ]
    },
    {
     "name": "stderr",
     "output_type": "stream",
     "text": [
      "Training: 100%|██████████| 1/1 [00:00<00:00,  5.42it/s]\n",
      "Validation: 100%|██████████| 1/1 [00:00<00:00, 10.52it/s]\n"
     ]
    },
    {
     "name": "stdout",
     "output_type": "stream",
     "text": [
      "  Train Loss: 4.1881, Train Acc: 0.0739\n",
      "  Val Loss:   3.9408, Val Acc:   0.1325\n",
      "Epoch 18/500\n"
     ]
    },
    {
     "name": "stderr",
     "output_type": "stream",
     "text": [
      "Training: 100%|██████████| 1/1 [00:00<00:00,  5.42it/s]\n",
      "Validation: 100%|██████████| 1/1 [00:00<00:00, 15.43it/s]\n"
     ]
    },
    {
     "name": "stdout",
     "output_type": "stream",
     "text": [
      "  Train Loss: 4.0927, Train Acc: 0.0913\n",
      "  Val Loss:   3.9836, Val Acc:   0.1024\n",
      "Epoch 19/500\n"
     ]
    },
    {
     "name": "stderr",
     "output_type": "stream",
     "text": [
      "Training: 100%|██████████| 1/1 [00:00<00:00,  5.10it/s]\n",
      "Validation: 100%|██████████| 1/1 [00:00<00:00, 15.93it/s]\n"
     ]
    },
    {
     "name": "stdout",
     "output_type": "stream",
     "text": [
      "  Train Loss: 3.9378, Train Acc: 0.1043\n",
      "  Val Loss:   3.8801, Val Acc:   0.1024\n",
      "Epoch 20/500\n"
     ]
    },
    {
     "name": "stderr",
     "output_type": "stream",
     "text": [
      "Training: 100%|██████████| 1/1 [00:00<00:00,  6.00it/s]\n",
      "Validation: 100%|██████████| 1/1 [00:00<00:00, 16.47it/s]\n"
     ]
    },
    {
     "name": "stdout",
     "output_type": "stream",
     "text": [
      "  Train Loss: 4.0302, Train Acc: 0.0957\n",
      "  Val Loss:   3.8703, Val Acc:   0.1084\n",
      "Epoch 21/500\n"
     ]
    },
    {
     "name": "stderr",
     "output_type": "stream",
     "text": [
      "Training: 100%|██████████| 1/1 [00:00<00:00,  5.54it/s]\n",
      "Validation: 100%|██████████| 1/1 [00:00<00:00, 12.67it/s]\n"
     ]
    },
    {
     "name": "stdout",
     "output_type": "stream",
     "text": [
      "  Train Loss: 3.9057, Train Acc: 0.1043\n",
      "  Val Loss:   3.7605, Val Acc:   0.1325\n",
      "Epoch 22/500\n"
     ]
    },
    {
     "name": "stderr",
     "output_type": "stream",
     "text": [
      "Training: 100%|██████████| 1/1 [00:00<00:00,  6.81it/s]\n",
      "Validation: 100%|██████████| 1/1 [00:00<00:00, 17.40it/s]\n"
     ]
    },
    {
     "name": "stdout",
     "output_type": "stream",
     "text": [
      "  Train Loss: 3.8689, Train Acc: 0.1391\n",
      "  Val Loss:   3.6262, Val Acc:   0.1566\n",
      "Epoch 23/500\n"
     ]
    },
    {
     "name": "stderr",
     "output_type": "stream",
     "text": [
      "Training: 100%|██████████| 1/1 [00:00<00:00,  6.22it/s]\n",
      "Validation: 100%|██████████| 1/1 [00:00<00:00, 13.61it/s]\n"
     ]
    },
    {
     "name": "stdout",
     "output_type": "stream",
     "text": [
      "  Train Loss: 3.7357, Train Acc: 0.1609\n",
      "  Val Loss:   3.6766, Val Acc:   0.1325\n",
      "Epoch 24/500\n"
     ]
    },
    {
     "name": "stderr",
     "output_type": "stream",
     "text": [
      "Training: 100%|██████████| 1/1 [00:00<00:00,  5.79it/s]\n",
      "Validation: 100%|██████████| 1/1 [00:00<00:00, 11.41it/s]\n"
     ]
    },
    {
     "name": "stdout",
     "output_type": "stream",
     "text": [
      "  Train Loss: 3.7700, Train Acc: 0.1435\n",
      "  Val Loss:   3.6499, Val Acc:   0.1566\n",
      "Epoch 25/500\n"
     ]
    },
    {
     "name": "stderr",
     "output_type": "stream",
     "text": [
      "Training: 100%|██████████| 1/1 [00:00<00:00,  5.34it/s]\n",
      "Validation: 100%|██████████| 1/1 [00:00<00:00, 10.64it/s]\n"
     ]
    },
    {
     "name": "stdout",
     "output_type": "stream",
     "text": [
      "  Train Loss: 3.8464, Train Acc: 0.1217\n",
      "  Val Loss:   3.6238, Val Acc:   0.1506\n",
      "Epoch 26/500\n"
     ]
    },
    {
     "name": "stderr",
     "output_type": "stream",
     "text": [
      "Training: 100%|██████████| 1/1 [00:00<00:00,  4.63it/s]\n",
      "Validation: 100%|██████████| 1/1 [00:00<00:00, 11.60it/s]\n"
     ]
    },
    {
     "name": "stdout",
     "output_type": "stream",
     "text": [
      "  Train Loss: 3.6416, Train Acc: 0.1609\n",
      "  Val Loss:   3.4099, Val Acc:   0.1867\n",
      "Epoch 27/500\n"
     ]
    },
    {
     "name": "stderr",
     "output_type": "stream",
     "text": [
      "Training: 100%|██████████| 1/1 [00:00<00:00,  4.51it/s]\n",
      "Validation: 100%|██████████| 1/1 [00:00<00:00,  8.75it/s]\n"
     ]
    },
    {
     "name": "stdout",
     "output_type": "stream",
     "text": [
      "  Train Loss: 3.6531, Train Acc: 0.1217\n",
      "  Val Loss:   3.5926, Val Acc:   0.1145\n",
      "Epoch 28/500\n"
     ]
    },
    {
     "name": "stderr",
     "output_type": "stream",
     "text": [
      "Training: 100%|██████████| 1/1 [00:00<00:00,  3.98it/s]\n",
      "Validation: 100%|██████████| 1/1 [00:00<00:00,  7.23it/s]\n"
     ]
    },
    {
     "name": "stdout",
     "output_type": "stream",
     "text": [
      "  Train Loss: 3.6655, Train Acc: 0.1696\n",
      "  Val Loss:   3.5031, Val Acc:   0.1566\n",
      "Epoch 29/500\n"
     ]
    },
    {
     "name": "stderr",
     "output_type": "stream",
     "text": [
      "Training: 100%|██████████| 1/1 [00:00<00:00,  3.30it/s]\n",
      "Validation: 100%|██████████| 1/1 [00:00<00:00,  6.65it/s]\n"
     ]
    },
    {
     "name": "stdout",
     "output_type": "stream",
     "text": [
      "  Train Loss: 3.4458, Train Acc: 0.1609\n",
      "  Val Loss:   3.4664, Val Acc:   0.1265\n",
      "Epoch 30/500\n"
     ]
    },
    {
     "name": "stderr",
     "output_type": "stream",
     "text": [
      "Training: 100%|██████████| 1/1 [00:00<00:00,  4.04it/s]\n",
      "Validation: 100%|██████████| 1/1 [00:00<00:00,  4.87it/s]\n"
     ]
    },
    {
     "name": "stdout",
     "output_type": "stream",
     "text": [
      "  Train Loss: 3.3556, Train Acc: 0.1696\n",
      "  Val Loss:   3.2969, Val Acc:   0.1566\n",
      "Epoch 31/500\n"
     ]
    },
    {
     "name": "stderr",
     "output_type": "stream",
     "text": [
      "Training: 100%|██████████| 1/1 [00:00<00:00,  3.94it/s]\n",
      "Validation: 100%|██████████| 1/1 [00:00<00:00,  9.10it/s]\n"
     ]
    },
    {
     "name": "stdout",
     "output_type": "stream",
     "text": [
      "  Train Loss: 3.4232, Train Acc: 0.1565\n",
      "  Val Loss:   3.2435, Val Acc:   0.1566\n",
      "Epoch 32/500\n"
     ]
    },
    {
     "name": "stderr",
     "output_type": "stream",
     "text": [
      "Training: 100%|██████████| 1/1 [00:00<00:00,  4.77it/s]\n",
      "Validation: 100%|██████████| 1/1 [00:00<00:00, 10.84it/s]\n"
     ]
    },
    {
     "name": "stdout",
     "output_type": "stream",
     "text": [
      "  Train Loss: 3.2143, Train Acc: 0.1957\n",
      "  Val Loss:   2.9660, Val Acc:   0.2048\n",
      "Epoch 33/500\n"
     ]
    },
    {
     "name": "stderr",
     "output_type": "stream",
     "text": [
      "Training: 100%|██████████| 1/1 [00:00<00:00,  4.42it/s]\n",
      "Validation: 100%|██████████| 1/1 [00:00<00:00,  6.97it/s]\n"
     ]
    },
    {
     "name": "stdout",
     "output_type": "stream",
     "text": [
      "  Train Loss: 3.1167, Train Acc: 0.2043\n",
      "  Val Loss:   3.0716, Val Acc:   0.2108\n",
      "Epoch 34/500\n"
     ]
    },
    {
     "name": "stderr",
     "output_type": "stream",
     "text": [
      "Training: 100%|██████████| 1/1 [00:00<00:00,  4.67it/s]\n",
      "Validation: 100%|██████████| 1/1 [00:00<00:00,  9.06it/s]\n"
     ]
    },
    {
     "name": "stdout",
     "output_type": "stream",
     "text": [
      "  Train Loss: 3.1859, Train Acc: 0.2000\n",
      "  Val Loss:   2.9542, Val Acc:   0.2410\n",
      "Epoch 35/500\n"
     ]
    },
    {
     "name": "stderr",
     "output_type": "stream",
     "text": [
      "Training: 100%|██████████| 1/1 [00:00<00:00,  4.63it/s]\n",
      "Validation: 100%|██████████| 1/1 [00:00<00:00,  9.99it/s]\n"
     ]
    },
    {
     "name": "stdout",
     "output_type": "stream",
     "text": [
      "  Train Loss: 2.9218, Train Acc: 0.3000\n",
      "  Val Loss:   2.7979, Val Acc:   0.3373\n",
      "Epoch 36/500\n"
     ]
    },
    {
     "name": "stderr",
     "output_type": "stream",
     "text": [
      "Training: 100%|██████████| 1/1 [00:00<00:00,  4.96it/s]\n",
      "Validation: 100%|██████████| 1/1 [00:00<00:00, 16.06it/s]\n"
     ]
    },
    {
     "name": "stdout",
     "output_type": "stream",
     "text": [
      "  Train Loss: 2.9835, Train Acc: 0.2783\n",
      "  Val Loss:   2.8577, Val Acc:   0.3434\n",
      "Epoch 37/500\n"
     ]
    },
    {
     "name": "stderr",
     "output_type": "stream",
     "text": [
      "Training: 100%|██████████| 1/1 [00:00<00:00,  5.18it/s]\n",
      "Validation: 100%|██████████| 1/1 [00:00<00:00,  8.12it/s]\n"
     ]
    },
    {
     "name": "stdout",
     "output_type": "stream",
     "text": [
      "  Train Loss: 2.8987, Train Acc: 0.3217\n",
      "  Val Loss:   2.8960, Val Acc:   0.2711\n",
      "Epoch 38/500\n"
     ]
    },
    {
     "name": "stderr",
     "output_type": "stream",
     "text": [
      "Training: 100%|██████████| 1/1 [00:00<00:00,  3.24it/s]\n",
      "Validation: 100%|██████████| 1/1 [00:00<00:00,  9.98it/s]\n"
     ]
    },
    {
     "name": "stdout",
     "output_type": "stream",
     "text": [
      "  Train Loss: 2.8863, Train Acc: 0.3478\n",
      "  Val Loss:   2.6608, Val Acc:   0.3855\n",
      "Epoch 39/500\n"
     ]
    },
    {
     "name": "stderr",
     "output_type": "stream",
     "text": [
      "Training: 100%|██████████| 1/1 [00:00<00:00,  4.38it/s]\n",
      "Validation: 100%|██████████| 1/1 [00:00<00:00,  6.91it/s]\n"
     ]
    },
    {
     "name": "stdout",
     "output_type": "stream",
     "text": [
      "  Train Loss: 2.8854, Train Acc: 0.3174\n",
      "  Val Loss:   2.6496, Val Acc:   0.3916\n",
      "Epoch 40/500\n"
     ]
    },
    {
     "name": "stderr",
     "output_type": "stream",
     "text": [
      "Training: 100%|██████████| 1/1 [00:00<00:00,  4.61it/s]\n",
      "Validation: 100%|██████████| 1/1 [00:00<00:00, 11.12it/s]\n"
     ]
    },
    {
     "name": "stdout",
     "output_type": "stream",
     "text": [
      "  Train Loss: 2.8026, Train Acc: 0.3435\n",
      "  Val Loss:   2.6137, Val Acc:   0.4277\n",
      "Epoch 41/500\n"
     ]
    },
    {
     "name": "stderr",
     "output_type": "stream",
     "text": [
      "Training: 100%|██████████| 1/1 [00:00<00:00,  5.44it/s]\n",
      "Validation: 100%|██████████| 1/1 [00:00<00:00, 14.80it/s]\n"
     ]
    },
    {
     "name": "stdout",
     "output_type": "stream",
     "text": [
      "  Train Loss: 2.9571, Train Acc: 0.2565\n",
      "  Val Loss:   2.4548, Val Acc:   0.4639\n",
      "Epoch 42/500\n"
     ]
    },
    {
     "name": "stderr",
     "output_type": "stream",
     "text": [
      "Training: 100%|██████████| 1/1 [00:00<00:00,  5.78it/s]\n",
      "Validation: 100%|██████████| 1/1 [00:00<00:00, 16.20it/s]\n"
     ]
    },
    {
     "name": "stdout",
     "output_type": "stream",
     "text": [
      "  Train Loss: 2.5213, Train Acc: 0.4304\n",
      "  Val Loss:   2.4763, Val Acc:   0.4518\n",
      "Epoch 43/500\n"
     ]
    },
    {
     "name": "stderr",
     "output_type": "stream",
     "text": [
      "Training: 100%|██████████| 1/1 [00:00<00:00,  4.40it/s]\n",
      "Validation: 100%|██████████| 1/1 [00:00<00:00,  9.25it/s]\n"
     ]
    },
    {
     "name": "stdout",
     "output_type": "stream",
     "text": [
      "  Train Loss: 2.4896, Train Acc: 0.4478\n",
      "  Val Loss:   2.4406, Val Acc:   0.4337\n",
      "Epoch 44/500\n"
     ]
    },
    {
     "name": "stderr",
     "output_type": "stream",
     "text": [
      "Training: 100%|██████████| 1/1 [00:00<00:00,  4.11it/s]\n",
      "Validation: 100%|██████████| 1/1 [00:00<00:00,  4.60it/s]\n"
     ]
    },
    {
     "name": "stdout",
     "output_type": "stream",
     "text": [
      "  Train Loss: 2.5900, Train Acc: 0.3696\n",
      "  Val Loss:   2.3435, Val Acc:   0.4458\n",
      "Epoch 45/500\n"
     ]
    },
    {
     "name": "stderr",
     "output_type": "stream",
     "text": [
      "Training: 100%|██████████| 1/1 [00:00<00:00,  5.45it/s]\n",
      "Validation: 100%|██████████| 1/1 [00:00<00:00, 13.45it/s]\n"
     ]
    },
    {
     "name": "stdout",
     "output_type": "stream",
     "text": [
      "  Train Loss: 2.5582, Train Acc: 0.3522\n",
      "  Val Loss:   2.2477, Val Acc:   0.5060\n",
      "Epoch 46/500\n"
     ]
    },
    {
     "name": "stderr",
     "output_type": "stream",
     "text": [
      "Training: 100%|██████████| 1/1 [00:00<00:00,  4.41it/s]\n",
      "Validation: 100%|██████████| 1/1 [00:00<00:00,  6.61it/s]\n"
     ]
    },
    {
     "name": "stdout",
     "output_type": "stream",
     "text": [
      "  Train Loss: 2.4697, Train Acc: 0.3435\n",
      "  Val Loss:   2.3752, Val Acc:   0.3735\n",
      "Epoch 47/500\n"
     ]
    },
    {
     "name": "stderr",
     "output_type": "stream",
     "text": [
      "Training: 100%|██████████| 1/1 [00:00<00:00,  5.09it/s]\n",
      "Validation: 100%|██████████| 1/1 [00:00<00:00,  8.82it/s]\n"
     ]
    },
    {
     "name": "stdout",
     "output_type": "stream",
     "text": [
      "  Train Loss: 2.3053, Train Acc: 0.4565\n",
      "  Val Loss:   2.1679, Val Acc:   0.4819\n",
      "Epoch 48/500\n"
     ]
    },
    {
     "name": "stderr",
     "output_type": "stream",
     "text": [
      "Training: 100%|██████████| 1/1 [00:00<00:00,  4.02it/s]\n",
      "Validation: 100%|██████████| 1/1 [00:03<00:00,  3.12s/it]\n"
     ]
    },
    {
     "name": "stdout",
     "output_type": "stream",
     "text": [
      "  Train Loss: 2.5350, Train Acc: 0.3304\n",
      "  Val Loss:   2.2237, Val Acc:   0.4639\n",
      "Epoch 49/500\n"
     ]
    },
    {
     "name": "stderr",
     "output_type": "stream",
     "text": [
      "Training: 100%|██████████| 1/1 [00:00<00:00,  4.67it/s]\n",
      "Validation: 100%|██████████| 1/1 [00:00<00:00,  5.53it/s]\n"
     ]
    },
    {
     "name": "stdout",
     "output_type": "stream",
     "text": [
      "  Train Loss: 2.2163, Train Acc: 0.4783\n",
      "  Val Loss:   1.8904, Val Acc:   0.5843\n",
      "Epoch 50/500\n"
     ]
    },
    {
     "name": "stderr",
     "output_type": "stream",
     "text": [
      "Training: 100%|██████████| 1/1 [00:00<00:00,  4.55it/s]\n",
      "Validation: 100%|██████████| 1/1 [00:00<00:00,  4.11it/s]\n"
     ]
    },
    {
     "name": "stdout",
     "output_type": "stream",
     "text": [
      "  Train Loss: 2.4106, Train Acc: 0.3870\n",
      "  Val Loss:   2.0366, Val Acc:   0.5060\n",
      "Epoch 51/500\n"
     ]
    },
    {
     "name": "stderr",
     "output_type": "stream",
     "text": [
      "Training: 100%|██████████| 1/1 [00:00<00:00,  3.39it/s]\n",
      "Validation: 100%|██████████| 1/1 [00:00<00:00,  5.40it/s]\n"
     ]
    },
    {
     "name": "stdout",
     "output_type": "stream",
     "text": [
      "  Train Loss: 2.1842, Train Acc: 0.4652\n",
      "  Val Loss:   2.0237, Val Acc:   0.5120\n",
      "Epoch 52/500\n"
     ]
    },
    {
     "name": "stderr",
     "output_type": "stream",
     "text": [
      "Training: 100%|██████████| 1/1 [00:00<00:00,  2.94it/s]\n",
      "Validation: 100%|██████████| 1/1 [00:00<00:00,  6.06it/s]\n"
     ]
    },
    {
     "name": "stdout",
     "output_type": "stream",
     "text": [
      "  Train Loss: 2.0093, Train Acc: 0.5391\n",
      "  Val Loss:   2.1248, Val Acc:   0.4699\n",
      "Epoch 53/500\n"
     ]
    },
    {
     "name": "stderr",
     "output_type": "stream",
     "text": [
      "Training: 100%|██████████| 1/1 [00:00<00:00,  3.29it/s]\n",
      "Validation: 100%|██████████| 1/1 [00:00<00:00,  4.85it/s]\n"
     ]
    },
    {
     "name": "stdout",
     "output_type": "stream",
     "text": [
      "  Train Loss: 1.8724, Train Acc: 0.6000\n",
      "  Val Loss:   2.0527, Val Acc:   0.4518\n",
      "Epoch 54/500\n"
     ]
    },
    {
     "name": "stderr",
     "output_type": "stream",
     "text": [
      "Training: 100%|██████████| 1/1 [00:00<00:00,  3.06it/s]\n",
      "Validation: 100%|██████████| 1/1 [00:00<00:00,  6.12it/s]\n"
     ]
    },
    {
     "name": "stdout",
     "output_type": "stream",
     "text": [
      "  Train Loss: 2.1260, Train Acc: 0.4739\n",
      "  Val Loss:   2.1158, Val Acc:   0.4337\n",
      "Epoch 55/500\n"
     ]
    },
    {
     "name": "stderr",
     "output_type": "stream",
     "text": [
      "Training: 100%|██████████| 1/1 [00:00<00:00,  2.83it/s]\n",
      "Validation: 100%|██████████| 1/1 [00:00<00:00,  7.73it/s]\n"
     ]
    },
    {
     "name": "stdout",
     "output_type": "stream",
     "text": [
      "  Train Loss: 2.0906, Train Acc: 0.4565\n",
      "  Val Loss:   1.9997, Val Acc:   0.5120\n",
      "Epoch 56/500\n"
     ]
    },
    {
     "name": "stderr",
     "output_type": "stream",
     "text": [
      "Training: 100%|██████████| 1/1 [00:00<00:00,  3.30it/s]\n",
      "Validation: 100%|██████████| 1/1 [00:00<00:00, 11.02it/s]\n"
     ]
    },
    {
     "name": "stdout",
     "output_type": "stream",
     "text": [
      "  Train Loss: 2.1882, Train Acc: 0.4130\n",
      "  Val Loss:   1.8418, Val Acc:   0.5542\n",
      "Epoch 57/500\n"
     ]
    },
    {
     "name": "stderr",
     "output_type": "stream",
     "text": [
      "Training: 100%|██████████| 1/1 [00:00<00:00,  3.97it/s]\n",
      "Validation: 100%|██████████| 1/1 [00:00<00:00,  6.71it/s]\n"
     ]
    },
    {
     "name": "stdout",
     "output_type": "stream",
     "text": [
      "  Train Loss: 2.0467, Train Acc: 0.4609\n",
      "  Val Loss:   1.8511, Val Acc:   0.4940\n",
      "Epoch 58/500\n"
     ]
    },
    {
     "name": "stderr",
     "output_type": "stream",
     "text": [
      "Training: 100%|██████████| 1/1 [00:00<00:00,  2.61it/s]\n",
      "Validation: 100%|██████████| 1/1 [00:00<00:00,  4.87it/s]\n"
     ]
    },
    {
     "name": "stdout",
     "output_type": "stream",
     "text": [
      "  Train Loss: 1.8866, Train Acc: 0.5391\n",
      "  Val Loss:   1.8026, Val Acc:   0.5663\n",
      "Epoch 59/500\n"
     ]
    },
    {
     "name": "stderr",
     "output_type": "stream",
     "text": [
      "Training: 100%|██████████| 1/1 [00:00<00:00,  3.46it/s]\n",
      "Validation: 100%|██████████| 1/1 [00:00<00:00,  8.99it/s]\n"
     ]
    },
    {
     "name": "stdout",
     "output_type": "stream",
     "text": [
      "  Train Loss: 2.1739, Train Acc: 0.4043\n",
      "  Val Loss:   1.9394, Val Acc:   0.4639\n",
      "Epoch 60/500\n"
     ]
    },
    {
     "name": "stderr",
     "output_type": "stream",
     "text": [
      "Training: 100%|██████████| 1/1 [00:00<00:00,  2.80it/s]\n",
      "Validation: 100%|██████████| 1/1 [00:00<00:00,  4.79it/s]\n"
     ]
    },
    {
     "name": "stdout",
     "output_type": "stream",
     "text": [
      "  Train Loss: 2.1111, Train Acc: 0.4391\n",
      "  Val Loss:   1.7622, Val Acc:   0.5361\n",
      "Epoch 61/500\n"
     ]
    },
    {
     "name": "stderr",
     "output_type": "stream",
     "text": [
      "Training: 100%|██████████| 1/1 [00:00<00:00,  4.22it/s]\n",
      "Validation: 100%|██████████| 1/1 [00:00<00:00,  4.07it/s]\n"
     ]
    },
    {
     "name": "stdout",
     "output_type": "stream",
     "text": [
      "  Train Loss: 1.8831, Train Acc: 0.5130\n",
      "  Val Loss:   1.8682, Val Acc:   0.4759\n",
      "Epoch 62/500\n"
     ]
    },
    {
     "name": "stderr",
     "output_type": "stream",
     "text": [
      "Training: 100%|██████████| 1/1 [00:00<00:00,  2.94it/s]\n",
      "Validation: 100%|██████████| 1/1 [00:00<00:00,  4.36it/s]\n"
     ]
    },
    {
     "name": "stdout",
     "output_type": "stream",
     "text": [
      "  Train Loss: 1.8505, Train Acc: 0.5348\n",
      "  Val Loss:   1.9700, Val Acc:   0.4036\n",
      "Epoch 63/500\n"
     ]
    },
    {
     "name": "stderr",
     "output_type": "stream",
     "text": [
      "Training: 100%|██████████| 1/1 [00:00<00:00,  3.02it/s]\n",
      "Validation: 100%|██████████| 1/1 [00:00<00:00,  4.61it/s]\n"
     ]
    },
    {
     "name": "stdout",
     "output_type": "stream",
     "text": [
      "  Train Loss: 1.6316, Train Acc: 0.6130\n",
      "  Val Loss:   1.9449, Val Acc:   0.4337\n",
      "Epoch 64/500\n"
     ]
    },
    {
     "name": "stderr",
     "output_type": "stream",
     "text": [
      "Training: 100%|██████████| 1/1 [00:00<00:00,  2.99it/s]\n",
      "Validation: 100%|██████████| 1/1 [00:00<00:00,  5.51it/s]\n"
     ]
    },
    {
     "name": "stdout",
     "output_type": "stream",
     "text": [
      "  Train Loss: 1.8086, Train Acc: 0.5348\n",
      "  Val Loss:   1.6786, Val Acc:   0.5663\n",
      "Epoch 65/500\n"
     ]
    },
    {
     "name": "stderr",
     "output_type": "stream",
     "text": [
      "Training: 100%|██████████| 1/1 [00:00<00:00,  3.46it/s]\n",
      "Validation: 100%|██████████| 1/1 [00:00<00:00, 10.03it/s]\n"
     ]
    },
    {
     "name": "stdout",
     "output_type": "stream",
     "text": [
      "  Train Loss: 1.9343, Train Acc: 0.5043\n",
      "  Val Loss:   1.8565, Val Acc:   0.5000\n",
      "Epoch 66/500\n"
     ]
    },
    {
     "name": "stderr",
     "output_type": "stream",
     "text": [
      "Training: 100%|██████████| 1/1 [00:00<00:00,  2.95it/s]\n",
      "Validation: 100%|██████████| 1/1 [00:00<00:00,  8.43it/s]\n"
     ]
    },
    {
     "name": "stdout",
     "output_type": "stream",
     "text": [
      "  Train Loss: 1.6818, Train Acc: 0.5826\n",
      "  Val Loss:   1.7384, Val Acc:   0.5060\n",
      "Epoch 67/500\n"
     ]
    },
    {
     "name": "stderr",
     "output_type": "stream",
     "text": [
      "Training: 100%|██████████| 1/1 [00:00<00:00,  3.30it/s]\n",
      "Validation: 100%|██████████| 1/1 [00:00<00:00,  8.93it/s]\n"
     ]
    },
    {
     "name": "stdout",
     "output_type": "stream",
     "text": [
      "  Train Loss: 1.8978, Train Acc: 0.4652\n",
      "  Val Loss:   1.8847, Val Acc:   0.4458\n",
      "Epoch 68/500\n"
     ]
    },
    {
     "name": "stderr",
     "output_type": "stream",
     "text": [
      "Training: 100%|██████████| 1/1 [00:00<00:00,  4.21it/s]\n",
      "Validation: 100%|██████████| 1/1 [00:00<00:00,  7.41it/s]\n"
     ]
    },
    {
     "name": "stdout",
     "output_type": "stream",
     "text": [
      "  Train Loss: 1.6251, Train Acc: 0.5478\n",
      "  Val Loss:   1.8364, Val Acc:   0.4759\n",
      "Epoch 69/500\n"
     ]
    },
    {
     "name": "stderr",
     "output_type": "stream",
     "text": [
      "Training: 100%|██████████| 1/1 [00:00<00:00,  3.73it/s]\n",
      "Validation: 100%|██████████| 1/1 [00:00<00:00, 10.28it/s]\n"
     ]
    },
    {
     "name": "stdout",
     "output_type": "stream",
     "text": [
      "  Train Loss: 1.5806, Train Acc: 0.6043\n",
      "  Val Loss:   1.6336, Val Acc:   0.5361\n",
      "Epoch 70/500\n"
     ]
    },
    {
     "name": "stderr",
     "output_type": "stream",
     "text": [
      "Training: 100%|██████████| 1/1 [00:00<00:00,  4.24it/s]\n",
      "Validation: 100%|██████████| 1/1 [00:00<00:00,  9.09it/s]\n"
     ]
    },
    {
     "name": "stdout",
     "output_type": "stream",
     "text": [
      "  Train Loss: 1.8558, Train Acc: 0.4696\n",
      "  Val Loss:   1.7161, Val Acc:   0.4880\n",
      "Epoch 71/500\n"
     ]
    },
    {
     "name": "stderr",
     "output_type": "stream",
     "text": [
      "Training: 100%|██████████| 1/1 [00:00<00:00,  3.88it/s]\n",
      "Validation: 100%|██████████| 1/1 [00:00<00:00,  7.06it/s]\n"
     ]
    },
    {
     "name": "stdout",
     "output_type": "stream",
     "text": [
      "  Train Loss: 1.4348, Train Acc: 0.6261\n",
      "  Val Loss:   1.5725, Val Acc:   0.5723\n",
      "Epoch 72/500\n"
     ]
    },
    {
     "name": "stderr",
     "output_type": "stream",
     "text": [
      "Training: 100%|██████████| 1/1 [00:00<00:00,  3.63it/s]\n",
      "Validation: 100%|██████████| 1/1 [00:00<00:00,  8.38it/s]\n"
     ]
    },
    {
     "name": "stdout",
     "output_type": "stream",
     "text": [
      "  Train Loss: 1.6720, Train Acc: 0.5261\n",
      "  Val Loss:   1.5722, Val Acc:   0.5482\n",
      "Epoch 73/500\n"
     ]
    },
    {
     "name": "stderr",
     "output_type": "stream",
     "text": [
      "Training: 100%|██████████| 1/1 [00:00<00:00,  3.86it/s]\n",
      "Validation: 100%|██████████| 1/1 [00:00<00:00,  7.71it/s]\n"
     ]
    },
    {
     "name": "stdout",
     "output_type": "stream",
     "text": [
      "  Train Loss: 1.6216, Train Acc: 0.5652\n",
      "  Val Loss:   1.4298, Val Acc:   0.6325\n",
      "Epoch 74/500\n"
     ]
    },
    {
     "name": "stderr",
     "output_type": "stream",
     "text": [
      "Training: 100%|██████████| 1/1 [00:00<00:00,  4.53it/s]\n",
      "Validation: 100%|██████████| 1/1 [00:00<00:00,  8.03it/s]\n"
     ]
    },
    {
     "name": "stdout",
     "output_type": "stream",
     "text": [
      "  Train Loss: 1.6286, Train Acc: 0.5174\n",
      "  Val Loss:   1.6139, Val Acc:   0.5241\n",
      "Epoch 75/500\n"
     ]
    },
    {
     "name": "stderr",
     "output_type": "stream",
     "text": [
      "Training: 100%|██████████| 1/1 [00:00<00:00,  3.65it/s]\n",
      "Validation: 100%|██████████| 1/1 [00:00<00:00,  6.62it/s]\n"
     ]
    },
    {
     "name": "stdout",
     "output_type": "stream",
     "text": [
      "  Train Loss: 1.5133, Train Acc: 0.5957\n",
      "  Val Loss:   1.6329, Val Acc:   0.4940\n",
      "Epoch 76/500\n"
     ]
    },
    {
     "name": "stderr",
     "output_type": "stream",
     "text": [
      "Training: 100%|██████████| 1/1 [00:00<00:00,  3.74it/s]\n",
      "Validation: 100%|██████████| 1/1 [00:00<00:00, 11.32it/s]\n"
     ]
    },
    {
     "name": "stdout",
     "output_type": "stream",
     "text": [
      "  Train Loss: 1.4324, Train Acc: 0.5957\n",
      "  Val Loss:   1.6435, Val Acc:   0.5000\n",
      "Epoch 77/500\n"
     ]
    },
    {
     "name": "stderr",
     "output_type": "stream",
     "text": [
      "Training: 100%|██████████| 1/1 [00:00<00:00,  3.97it/s]\n",
      "Validation: 100%|██████████| 1/1 [00:00<00:00,  7.12it/s]\n"
     ]
    },
    {
     "name": "stdout",
     "output_type": "stream",
     "text": [
      "  Train Loss: 1.4889, Train Acc: 0.5870\n",
      "  Val Loss:   1.5039, Val Acc:   0.5723\n",
      "Epoch 78/500\n"
     ]
    },
    {
     "name": "stderr",
     "output_type": "stream",
     "text": [
      "Training: 100%|██████████| 1/1 [00:00<00:00,  4.20it/s]\n",
      "Validation: 100%|██████████| 1/1 [00:00<00:00,  6.85it/s]\n"
     ]
    },
    {
     "name": "stdout",
     "output_type": "stream",
     "text": [
      "  Train Loss: 1.6301, Train Acc: 0.5217\n",
      "  Val Loss:   1.4541, Val Acc:   0.6084\n",
      "Epoch 79/500\n"
     ]
    },
    {
     "name": "stderr",
     "output_type": "stream",
     "text": [
      "Training: 100%|██████████| 1/1 [00:00<00:00,  4.01it/s]\n",
      "Validation: 100%|██████████| 1/1 [00:00<00:00,  5.95it/s]\n"
     ]
    },
    {
     "name": "stdout",
     "output_type": "stream",
     "text": [
      "  Train Loss: 1.4389, Train Acc: 0.5783\n",
      "  Val Loss:   1.3317, Val Acc:   0.6386\n",
      "Epoch 80/500\n"
     ]
    },
    {
     "name": "stderr",
     "output_type": "stream",
     "text": [
      "Training: 100%|██████████| 1/1 [00:00<00:00,  3.06it/s]\n",
      "Validation: 100%|██████████| 1/1 [00:00<00:00,  9.21it/s]\n"
     ]
    },
    {
     "name": "stdout",
     "output_type": "stream",
     "text": [
      "  Train Loss: 1.6571, Train Acc: 0.5087\n",
      "  Val Loss:   1.3354, Val Acc:   0.6325\n",
      "Epoch 81/500\n"
     ]
    },
    {
     "name": "stderr",
     "output_type": "stream",
     "text": [
      "Training: 100%|██████████| 1/1 [00:00<00:00,  3.37it/s]\n",
      "Validation: 100%|██████████| 1/1 [00:00<00:00,  6.02it/s]\n"
     ]
    },
    {
     "name": "stdout",
     "output_type": "stream",
     "text": [
      "  Train Loss: 1.4469, Train Acc: 0.5783\n",
      "  Val Loss:   1.4465, Val Acc:   0.5542\n",
      "Epoch 82/500\n"
     ]
    },
    {
     "name": "stderr",
     "output_type": "stream",
     "text": [
      "Training: 100%|██████████| 1/1 [00:00<00:00,  3.37it/s]\n",
      "Validation: 100%|██████████| 1/1 [00:00<00:00,  6.27it/s]\n"
     ]
    },
    {
     "name": "stdout",
     "output_type": "stream",
     "text": [
      "  Train Loss: 1.6940, Train Acc: 0.4696\n",
      "  Val Loss:   1.5472, Val Acc:   0.5241\n",
      "Epoch 83/500\n"
     ]
    },
    {
     "name": "stderr",
     "output_type": "stream",
     "text": [
      "Training: 100%|██████████| 1/1 [00:00<00:00,  3.89it/s]\n",
      "Validation: 100%|██████████| 1/1 [00:00<00:00,  6.23it/s]\n"
     ]
    },
    {
     "name": "stdout",
     "output_type": "stream",
     "text": [
      "  Train Loss: 1.7980, Train Acc: 0.4043\n",
      "  Val Loss:   1.4848, Val Acc:   0.5301\n",
      "Epoch 84/500\n"
     ]
    },
    {
     "name": "stderr",
     "output_type": "stream",
     "text": [
      "Training: 100%|██████████| 1/1 [00:00<00:00,  3.76it/s]\n",
      "Validation: 100%|██████████| 1/1 [00:00<00:00,  9.79it/s]\n"
     ]
    },
    {
     "name": "stdout",
     "output_type": "stream",
     "text": [
      "  Train Loss: 1.6438, Train Acc: 0.5217\n",
      "  Val Loss:   1.3842, Val Acc:   0.5482\n",
      "Epoch 85/500\n"
     ]
    },
    {
     "name": "stderr",
     "output_type": "stream",
     "text": [
      "Training: 100%|██████████| 1/1 [00:00<00:00,  4.88it/s]\n",
      "Validation: 100%|██████████| 1/1 [00:00<00:00,  8.66it/s]\n"
     ]
    },
    {
     "name": "stdout",
     "output_type": "stream",
     "text": [
      "  Train Loss: 1.5175, Train Acc: 0.5174\n",
      "  Val Loss:   1.2622, Val Acc:   0.6446\n",
      "Epoch 86/500\n"
     ]
    },
    {
     "name": "stderr",
     "output_type": "stream",
     "text": [
      "Training: 100%|██████████| 1/1 [00:00<00:00,  3.24it/s]\n",
      "Validation: 100%|██████████| 1/1 [00:00<00:00,  6.80it/s]\n"
     ]
    },
    {
     "name": "stdout",
     "output_type": "stream",
     "text": [
      "  Train Loss: 1.7903, Train Acc: 0.3913\n",
      "  Val Loss:   1.3161, Val Acc:   0.6265\n",
      "Epoch 87/500\n"
     ]
    },
    {
     "name": "stderr",
     "output_type": "stream",
     "text": [
      "Training: 100%|██████████| 1/1 [00:00<00:00,  3.81it/s]\n",
      "Validation: 100%|██████████| 1/1 [00:00<00:00,  6.31it/s]\n"
     ]
    },
    {
     "name": "stdout",
     "output_type": "stream",
     "text": [
      "  Train Loss: 1.4947, Train Acc: 0.5304\n",
      "  Val Loss:   1.3052, Val Acc:   0.6506\n",
      "Epoch 88/500\n"
     ]
    },
    {
     "name": "stderr",
     "output_type": "stream",
     "text": [
      "Training: 100%|██████████| 1/1 [00:00<00:00,  2.72it/s]\n",
      "Validation: 100%|██████████| 1/1 [00:00<00:00,  8.73it/s]\n"
     ]
    },
    {
     "name": "stdout",
     "output_type": "stream",
     "text": [
      "  Train Loss: 1.3914, Train Acc: 0.5652\n",
      "  Val Loss:   1.3654, Val Acc:   0.5723\n",
      "Epoch 89/500\n"
     ]
    },
    {
     "name": "stderr",
     "output_type": "stream",
     "text": [
      "Training: 100%|██████████| 1/1 [00:00<00:00,  4.77it/s]\n",
      "Validation: 100%|██████████| 1/1 [00:00<00:00,  8.70it/s]\n"
     ]
    },
    {
     "name": "stdout",
     "output_type": "stream",
     "text": [
      "  Train Loss: 1.3655, Train Acc: 0.6043\n",
      "  Val Loss:   1.2082, Val Acc:   0.6024\n",
      "Epoch 90/500\n"
     ]
    },
    {
     "name": "stderr",
     "output_type": "stream",
     "text": [
      "Training: 100%|██████████| 1/1 [00:00<00:00,  3.99it/s]\n",
      "Validation: 100%|██████████| 1/1 [00:00<00:00,  9.51it/s]\n"
     ]
    },
    {
     "name": "stdout",
     "output_type": "stream",
     "text": [
      "  Train Loss: 1.3772, Train Acc: 0.5609\n",
      "  Val Loss:   1.3742, Val Acc:   0.5542\n",
      "Epoch 91/500\n"
     ]
    },
    {
     "name": "stderr",
     "output_type": "stream",
     "text": [
      "Training: 100%|██████████| 1/1 [00:00<00:00,  3.81it/s]\n",
      "Validation: 100%|██████████| 1/1 [00:00<00:00,  8.84it/s]\n"
     ]
    },
    {
     "name": "stdout",
     "output_type": "stream",
     "text": [
      "  Train Loss: 1.2121, Train Acc: 0.6652\n",
      "  Val Loss:   1.2909, Val Acc:   0.5723\n",
      "Epoch 92/500\n"
     ]
    },
    {
     "name": "stderr",
     "output_type": "stream",
     "text": [
      "Training: 100%|██████████| 1/1 [00:00<00:00,  3.89it/s]\n",
      "Validation: 100%|██████████| 1/1 [00:00<00:00,  8.19it/s]\n"
     ]
    },
    {
     "name": "stdout",
     "output_type": "stream",
     "text": [
      "  Train Loss: 1.4623, Train Acc: 0.5348\n",
      "  Val Loss:   1.2947, Val Acc:   0.5482\n",
      "Epoch 93/500\n"
     ]
    },
    {
     "name": "stderr",
     "output_type": "stream",
     "text": [
      "Training: 100%|██████████| 1/1 [00:00<00:00,  4.36it/s]\n",
      "Validation: 100%|██████████| 1/1 [00:00<00:00,  9.50it/s]\n"
     ]
    },
    {
     "name": "stdout",
     "output_type": "stream",
     "text": [
      "  Train Loss: 1.4846, Train Acc: 0.5348\n",
      "  Val Loss:   1.3868, Val Acc:   0.5783\n",
      "Epoch 94/500\n"
     ]
    },
    {
     "name": "stderr",
     "output_type": "stream",
     "text": [
      "Training: 100%|██████████| 1/1 [00:00<00:00,  4.30it/s]\n",
      "Validation: 100%|██████████| 1/1 [00:00<00:00,  5.81it/s]\n"
     ]
    },
    {
     "name": "stdout",
     "output_type": "stream",
     "text": [
      "  Train Loss: 1.2913, Train Acc: 0.5739\n",
      "  Val Loss:   1.3530, Val Acc:   0.5422\n",
      "Epoch 95/500\n"
     ]
    },
    {
     "name": "stderr",
     "output_type": "stream",
     "text": [
      "Training: 100%|██████████| 1/1 [00:00<00:00,  3.96it/s]\n",
      "Validation: 100%|██████████| 1/1 [00:00<00:00,  5.82it/s]\n"
     ]
    },
    {
     "name": "stdout",
     "output_type": "stream",
     "text": [
      "  Train Loss: 1.1510, Train Acc: 0.6565\n",
      "  Val Loss:   1.5452, Val Acc:   0.5060\n",
      "Epoch 96/500\n"
     ]
    },
    {
     "name": "stderr",
     "output_type": "stream",
     "text": [
      "Training: 100%|██████████| 1/1 [00:00<00:00,  3.59it/s]\n",
      "Validation: 100%|██████████| 1/1 [00:00<00:00,  9.33it/s]\n"
     ]
    },
    {
     "name": "stdout",
     "output_type": "stream",
     "text": [
      "  Train Loss: 1.3153, Train Acc: 0.5696\n",
      "  Val Loss:   1.3837, Val Acc:   0.5602\n",
      "Epoch 97/500\n"
     ]
    },
    {
     "name": "stderr",
     "output_type": "stream",
     "text": [
      "Training: 100%|██████████| 1/1 [00:00<00:00,  4.96it/s]\n",
      "Validation: 100%|██████████| 1/1 [00:00<00:00,  8.71it/s]\n"
     ]
    },
    {
     "name": "stdout",
     "output_type": "stream",
     "text": [
      "  Train Loss: 1.5953, Train Acc: 0.4609\n",
      "  Val Loss:   1.2267, Val Acc:   0.6566\n",
      "Epoch 98/500\n"
     ]
    },
    {
     "name": "stderr",
     "output_type": "stream",
     "text": [
      "Training: 100%|██████████| 1/1 [00:00<00:00,  3.97it/s]\n",
      "Validation: 100%|██████████| 1/1 [00:00<00:00,  8.85it/s]\n"
     ]
    },
    {
     "name": "stdout",
     "output_type": "stream",
     "text": [
      "  Train Loss: 1.3258, Train Acc: 0.5783\n",
      "  Val Loss:   1.3858, Val Acc:   0.5482\n",
      "Epoch 99/500\n"
     ]
    },
    {
     "name": "stderr",
     "output_type": "stream",
     "text": [
      "Training: 100%|██████████| 1/1 [00:00<00:00,  4.25it/s]\n",
      "Validation: 100%|██████████| 1/1 [00:00<00:00,  5.89it/s]\n"
     ]
    },
    {
     "name": "stdout",
     "output_type": "stream",
     "text": [
      "  Train Loss: 1.1272, Train Acc: 0.6652\n",
      "  Val Loss:   1.2501, Val Acc:   0.5663\n",
      "Epoch 100/500\n"
     ]
    },
    {
     "name": "stderr",
     "output_type": "stream",
     "text": [
      "Training: 100%|██████████| 1/1 [00:00<00:00,  2.86it/s]\n",
      "Validation: 100%|██████████| 1/1 [00:00<00:00,  6.13it/s]\n"
     ]
    },
    {
     "name": "stdout",
     "output_type": "stream",
     "text": [
      "  Train Loss: 1.4447, Train Acc: 0.4957\n",
      "  Val Loss:   1.3042, Val Acc:   0.5361\n",
      "Epoch 101/500\n"
     ]
    },
    {
     "name": "stderr",
     "output_type": "stream",
     "text": [
      "Training: 100%|██████████| 1/1 [00:00<00:00,  4.34it/s]\n",
      "Validation: 100%|██████████| 1/1 [00:00<00:00,  4.91it/s]\n"
     ]
    },
    {
     "name": "stdout",
     "output_type": "stream",
     "text": [
      "  Train Loss: 1.1844, Train Acc: 0.6348\n",
      "  Val Loss:   1.1882, Val Acc:   0.5964\n",
      "Epoch 102/500\n"
     ]
    },
    {
     "name": "stderr",
     "output_type": "stream",
     "text": [
      "Training: 100%|██████████| 1/1 [00:00<00:00,  3.39it/s]\n",
      "Validation: 100%|██████████| 1/1 [00:00<00:00,  7.67it/s]\n"
     ]
    },
    {
     "name": "stdout",
     "output_type": "stream",
     "text": [
      "  Train Loss: 1.1973, Train Acc: 0.5870\n",
      "  Val Loss:   1.4567, Val Acc:   0.5843\n",
      "Epoch 103/500\n"
     ]
    },
    {
     "name": "stderr",
     "output_type": "stream",
     "text": [
      "Training: 100%|██████████| 1/1 [00:00<00:00,  3.46it/s]\n",
      "Validation: 100%|██████████| 1/1 [00:00<00:00,  9.86it/s]\n"
     ]
    },
    {
     "name": "stdout",
     "output_type": "stream",
     "text": [
      "  Train Loss: 1.2541, Train Acc: 0.5826\n",
      "  Val Loss:   1.2265, Val Acc:   0.6325\n",
      "Epoch 104/500\n"
     ]
    },
    {
     "name": "stderr",
     "output_type": "stream",
     "text": [
      "Training: 100%|██████████| 1/1 [00:00<00:00,  4.55it/s]\n",
      "Validation: 100%|██████████| 1/1 [00:00<00:00, 10.82it/s]\n"
     ]
    },
    {
     "name": "stdout",
     "output_type": "stream",
     "text": [
      "  Train Loss: 1.2354, Train Acc: 0.5783\n",
      "  Val Loss:   1.4381, Val Acc:   0.5181\n",
      "Epoch 105/500\n"
     ]
    },
    {
     "name": "stderr",
     "output_type": "stream",
     "text": [
      "Training: 100%|██████████| 1/1 [00:00<00:00,  4.48it/s]\n",
      "Validation: 100%|██████████| 1/1 [00:00<00:00,  8.08it/s]\n"
     ]
    },
    {
     "name": "stdout",
     "output_type": "stream",
     "text": [
      "  Train Loss: 1.2957, Train Acc: 0.6043\n",
      "  Val Loss:   1.1418, Val Acc:   0.6566\n",
      "Epoch 106/500\n"
     ]
    },
    {
     "name": "stderr",
     "output_type": "stream",
     "text": [
      "Training: 100%|██████████| 1/1 [00:00<00:00,  3.91it/s]\n",
      "Validation: 100%|██████████| 1/1 [00:00<00:00,  8.80it/s]\n"
     ]
    },
    {
     "name": "stdout",
     "output_type": "stream",
     "text": [
      "  Train Loss: 1.1024, Train Acc: 0.6348\n",
      "  Val Loss:   1.1997, Val Acc:   0.5904\n",
      "Epoch 107/500\n"
     ]
    },
    {
     "name": "stderr",
     "output_type": "stream",
     "text": [
      "Training: 100%|██████████| 1/1 [00:00<00:00,  4.92it/s]\n",
      "Validation: 100%|██████████| 1/1 [00:00<00:00, 15.04it/s]\n"
     ]
    },
    {
     "name": "stdout",
     "output_type": "stream",
     "text": [
      "  Train Loss: 1.3298, Train Acc: 0.5565\n",
      "  Val Loss:   1.3902, Val Acc:   0.5120\n",
      "Epoch 108/500\n"
     ]
    },
    {
     "name": "stderr",
     "output_type": "stream",
     "text": [
      "Training: 100%|██████████| 1/1 [00:00<00:00,  4.27it/s]\n",
      "Validation: 100%|██████████| 1/1 [00:00<00:00,  6.23it/s]\n"
     ]
    },
    {
     "name": "stdout",
     "output_type": "stream",
     "text": [
      "  Train Loss: 1.3071, Train Acc: 0.5261\n",
      "  Val Loss:   1.0883, Val Acc:   0.6928\n",
      "Epoch 109/500\n"
     ]
    },
    {
     "name": "stderr",
     "output_type": "stream",
     "text": [
      "Training: 100%|██████████| 1/1 [00:00<00:00,  4.84it/s]\n",
      "Validation: 100%|██████████| 1/1 [00:00<00:00,  8.73it/s]\n"
     ]
    },
    {
     "name": "stdout",
     "output_type": "stream",
     "text": [
      "  Train Loss: 1.3509, Train Acc: 0.5304\n",
      "  Val Loss:   1.2979, Val Acc:   0.5422\n",
      "Epoch 110/500\n"
     ]
    },
    {
     "name": "stderr",
     "output_type": "stream",
     "text": [
      "Training: 100%|██████████| 1/1 [00:00<00:00,  4.07it/s]\n",
      "Validation: 100%|██████████| 1/1 [00:00<00:00,  6.29it/s]\n"
     ]
    },
    {
     "name": "stdout",
     "output_type": "stream",
     "text": [
      "  Train Loss: 1.2278, Train Acc: 0.5826\n",
      "  Val Loss:   1.0144, Val Acc:   0.7108\n",
      "Epoch 111/500\n"
     ]
    },
    {
     "name": "stderr",
     "output_type": "stream",
     "text": [
      "Training: 100%|██████████| 1/1 [00:00<00:00,  4.95it/s]\n",
      "Validation: 100%|██████████| 1/1 [00:00<00:00, 16.33it/s]\n"
     ]
    },
    {
     "name": "stdout",
     "output_type": "stream",
     "text": [
      "  Train Loss: 1.2724, Train Acc: 0.5565\n",
      "  Val Loss:   0.9681, Val Acc:   0.6747\n",
      "Epoch 112/500\n"
     ]
    },
    {
     "name": "stderr",
     "output_type": "stream",
     "text": [
      "Training: 100%|██████████| 1/1 [00:00<00:00,  6.40it/s]\n",
      "Validation: 100%|██████████| 1/1 [00:00<00:00, 15.80it/s]\n"
     ]
    },
    {
     "name": "stdout",
     "output_type": "stream",
     "text": [
      "  Train Loss: 1.2910, Train Acc: 0.5391\n",
      "  Val Loss:   0.9708, Val Acc:   0.7108\n",
      "Epoch 113/500\n"
     ]
    },
    {
     "name": "stderr",
     "output_type": "stream",
     "text": [
      "Training: 100%|██████████| 1/1 [00:00<00:00,  6.37it/s]\n",
      "Validation: 100%|██████████| 1/1 [00:00<00:00, 16.25it/s]\n"
     ]
    },
    {
     "name": "stdout",
     "output_type": "stream",
     "text": [
      "  Train Loss: 1.0618, Train Acc: 0.6391\n",
      "  Val Loss:   1.0811, Val Acc:   0.6386\n",
      "Epoch 114/500\n"
     ]
    },
    {
     "name": "stderr",
     "output_type": "stream",
     "text": [
      "Training: 100%|██████████| 1/1 [00:00<00:00,  6.16it/s]\n",
      "Validation: 100%|██████████| 1/1 [00:00<00:00, 18.90it/s]\n"
     ]
    },
    {
     "name": "stdout",
     "output_type": "stream",
     "text": [
      "  Train Loss: 1.0425, Train Acc: 0.6565\n",
      "  Val Loss:   1.0650, Val Acc:   0.6386\n",
      "Epoch 115/500\n"
     ]
    },
    {
     "name": "stderr",
     "output_type": "stream",
     "text": [
      "Training: 100%|██████████| 1/1 [00:00<00:00,  4.83it/s]\n",
      "Validation: 100%|██████████| 1/1 [00:00<00:00, 11.64it/s]\n"
     ]
    },
    {
     "name": "stdout",
     "output_type": "stream",
     "text": [
      "  Train Loss: 1.0911, Train Acc: 0.6565\n",
      "  Val Loss:   1.0326, Val Acc:   0.6506\n",
      "Epoch 116/500\n"
     ]
    },
    {
     "name": "stderr",
     "output_type": "stream",
     "text": [
      "Training: 100%|██████████| 1/1 [00:00<00:00,  4.19it/s]\n",
      "Validation: 100%|██████████| 1/1 [00:00<00:00,  4.31it/s]\n"
     ]
    },
    {
     "name": "stdout",
     "output_type": "stream",
     "text": [
      "  Train Loss: 1.0239, Train Acc: 0.6565\n",
      "  Val Loss:   1.1516, Val Acc:   0.6386\n",
      "Epoch 117/500\n"
     ]
    },
    {
     "name": "stderr",
     "output_type": "stream",
     "text": [
      "Training: 100%|██████████| 1/1 [00:00<00:00,  3.31it/s]\n",
      "Validation: 100%|██████████| 1/1 [00:00<00:00,  4.41it/s]\n"
     ]
    },
    {
     "name": "stdout",
     "output_type": "stream",
     "text": [
      "  Train Loss: 1.1852, Train Acc: 0.5739\n",
      "  Val Loss:   1.3836, Val Acc:   0.4518\n",
      "Epoch 118/500\n"
     ]
    },
    {
     "name": "stderr",
     "output_type": "stream",
     "text": [
      "Training: 100%|██████████| 1/1 [00:00<00:00,  3.31it/s]\n",
      "Validation: 100%|██████████| 1/1 [00:00<00:00,  5.71it/s]\n"
     ]
    },
    {
     "name": "stdout",
     "output_type": "stream",
     "text": [
      "  Train Loss: 1.0442, Train Acc: 0.6217\n",
      "  Val Loss:   1.0352, Val Acc:   0.6506\n",
      "Epoch 119/500\n"
     ]
    },
    {
     "name": "stderr",
     "output_type": "stream",
     "text": [
      "Training: 100%|██████████| 1/1 [00:00<00:00,  3.04it/s]\n",
      "Validation: 100%|██████████| 1/1 [00:00<00:00,  7.11it/s]\n"
     ]
    },
    {
     "name": "stdout",
     "output_type": "stream",
     "text": [
      "  Train Loss: 1.0386, Train Acc: 0.6304\n",
      "  Val Loss:   1.0083, Val Acc:   0.7048\n",
      "Epoch 120/500\n"
     ]
    },
    {
     "name": "stderr",
     "output_type": "stream",
     "text": [
      "Training: 100%|██████████| 1/1 [00:00<00:00,  3.46it/s]\n",
      "Validation: 100%|██████████| 1/1 [00:00<00:00,  5.31it/s]\n"
     ]
    },
    {
     "name": "stdout",
     "output_type": "stream",
     "text": [
      "  Train Loss: 1.0837, Train Acc: 0.6348\n",
      "  Val Loss:   1.4948, Val Acc:   0.4880\n",
      "Epoch 121/500\n"
     ]
    },
    {
     "name": "stderr",
     "output_type": "stream",
     "text": [
      "Training: 100%|██████████| 1/1 [00:00<00:00,  3.63it/s]\n",
      "Validation: 100%|██████████| 1/1 [00:00<00:00,  7.56it/s]\n"
     ]
    },
    {
     "name": "stdout",
     "output_type": "stream",
     "text": [
      "  Train Loss: 1.2282, Train Acc: 0.5565\n",
      "  Val Loss:   1.1038, Val Acc:   0.6205\n",
      "Epoch 122/500\n"
     ]
    },
    {
     "name": "stderr",
     "output_type": "stream",
     "text": [
      "Training: 100%|██████████| 1/1 [00:00<00:00,  5.56it/s]\n",
      "Validation: 100%|██████████| 1/1 [00:00<00:00, 15.92it/s]\n"
     ]
    },
    {
     "name": "stdout",
     "output_type": "stream",
     "text": [
      "  Train Loss: 0.9726, Train Acc: 0.6870\n",
      "  Val Loss:   0.9345, Val Acc:   0.7108\n",
      "Epoch 123/500\n"
     ]
    },
    {
     "name": "stderr",
     "output_type": "stream",
     "text": [
      "Training: 100%|██████████| 1/1 [00:00<00:00,  4.18it/s]\n",
      "Validation: 100%|██████████| 1/1 [00:00<00:00,  4.50it/s]\n"
     ]
    },
    {
     "name": "stdout",
     "output_type": "stream",
     "text": [
      "  Train Loss: 1.1106, Train Acc: 0.6087\n",
      "  Val Loss:   0.8805, Val Acc:   0.7169\n",
      "Epoch 124/500\n"
     ]
    },
    {
     "name": "stderr",
     "output_type": "stream",
     "text": [
      "Training: 100%|██████████| 1/1 [00:00<00:00,  2.91it/s]\n",
      "Validation: 100%|██████████| 1/1 [00:00<00:00,  4.31it/s]\n"
     ]
    },
    {
     "name": "stdout",
     "output_type": "stream",
     "text": [
      "  Train Loss: 1.0445, Train Acc: 0.6130\n",
      "  Val Loss:   1.0068, Val Acc:   0.6867\n",
      "Epoch 125/500\n"
     ]
    },
    {
     "name": "stderr",
     "output_type": "stream",
     "text": [
      "Training: 100%|██████████| 1/1 [00:00<00:00,  3.58it/s]\n",
      "Validation: 100%|██████████| 1/1 [00:03<00:00,  3.25s/it]\n"
     ]
    },
    {
     "name": "stdout",
     "output_type": "stream",
     "text": [
      "  Train Loss: 0.9028, Train Acc: 0.6783\n",
      "  Val Loss:   1.1411, Val Acc:   0.5723\n",
      "Epoch 126/500\n"
     ]
    },
    {
     "name": "stderr",
     "output_type": "stream",
     "text": [
      "Training: 100%|██████████| 1/1 [00:00<00:00,  4.75it/s]\n",
      "Validation: 100%|██████████| 1/1 [00:00<00:00,  5.33it/s]\n"
     ]
    },
    {
     "name": "stdout",
     "output_type": "stream",
     "text": [
      "  Train Loss: 1.0875, Train Acc: 0.6043\n",
      "  Val Loss:   0.9331, Val Acc:   0.6928\n",
      "Epoch 127/500\n"
     ]
    },
    {
     "name": "stderr",
     "output_type": "stream",
     "text": [
      "Training: 100%|██████████| 1/1 [00:00<00:00,  4.16it/s]\n",
      "Validation: 100%|██████████| 1/1 [00:00<00:00,  7.75it/s]\n"
     ]
    },
    {
     "name": "stdout",
     "output_type": "stream",
     "text": [
      "  Train Loss: 0.8604, Train Acc: 0.7261\n",
      "  Val Loss:   0.7733, Val Acc:   0.8012\n",
      "Epoch 128/500\n"
     ]
    },
    {
     "name": "stderr",
     "output_type": "stream",
     "text": [
      "Training: 100%|██████████| 1/1 [00:00<00:00,  4.51it/s]\n",
      "Validation: 100%|██████████| 1/1 [00:00<00:00,  4.45it/s]\n"
     ]
    },
    {
     "name": "stdout",
     "output_type": "stream",
     "text": [
      "  Train Loss: 1.0772, Train Acc: 0.6217\n",
      "  Val Loss:   1.1149, Val Acc:   0.6386\n",
      "Epoch 129/500\n"
     ]
    },
    {
     "name": "stderr",
     "output_type": "stream",
     "text": [
      "Training: 100%|██████████| 1/1 [00:00<00:00,  3.22it/s]\n",
      "Validation: 100%|██████████| 1/1 [00:00<00:00,  5.81it/s]\n"
     ]
    },
    {
     "name": "stdout",
     "output_type": "stream",
     "text": [
      "  Train Loss: 0.9588, Train Acc: 0.6913\n",
      "  Val Loss:   0.8763, Val Acc:   0.7289\n",
      "Epoch 130/500\n"
     ]
    },
    {
     "name": "stderr",
     "output_type": "stream",
     "text": [
      "Training: 100%|██████████| 1/1 [00:00<00:00,  3.86it/s]\n",
      "Validation: 100%|██████████| 1/1 [00:00<00:00,  3.83it/s]\n"
     ]
    },
    {
     "name": "stdout",
     "output_type": "stream",
     "text": [
      "  Train Loss: 0.9202, Train Acc: 0.7000\n",
      "  Val Loss:   1.0216, Val Acc:   0.5964\n",
      "Epoch 131/500\n"
     ]
    },
    {
     "name": "stderr",
     "output_type": "stream",
     "text": [
      "Training: 100%|██████████| 1/1 [00:00<00:00,  3.46it/s]\n",
      "Validation: 100%|██████████| 1/1 [00:00<00:00, 10.93it/s]\n"
     ]
    },
    {
     "name": "stdout",
     "output_type": "stream",
     "text": [
      "  Train Loss: 1.1261, Train Acc: 0.6435\n",
      "  Val Loss:   0.8007, Val Acc:   0.7711\n",
      "Epoch 132/500\n"
     ]
    },
    {
     "name": "stderr",
     "output_type": "stream",
     "text": [
      "Training: 100%|██████████| 1/1 [00:00<00:00,  3.32it/s]\n",
      "Validation: 100%|██████████| 1/1 [00:00<00:00,  7.16it/s]\n"
     ]
    },
    {
     "name": "stdout",
     "output_type": "stream",
     "text": [
      "  Train Loss: 1.0168, Train Acc: 0.6261\n",
      "  Val Loss:   0.9988, Val Acc:   0.6145\n",
      "Epoch 133/500\n"
     ]
    },
    {
     "name": "stderr",
     "output_type": "stream",
     "text": [
      "Training: 100%|██████████| 1/1 [00:00<00:00,  2.52it/s]\n",
      "Validation: 100%|██████████| 1/1 [00:00<00:00,  7.53it/s]\n"
     ]
    },
    {
     "name": "stdout",
     "output_type": "stream",
     "text": [
      "  Train Loss: 0.7864, Train Acc: 0.7913\n",
      "  Val Loss:   1.1055, Val Acc:   0.6506\n",
      "Epoch 134/500\n"
     ]
    },
    {
     "name": "stderr",
     "output_type": "stream",
     "text": [
      "Training: 100%|██████████| 1/1 [00:00<00:00,  2.54it/s]\n",
      "Validation: 100%|██████████| 1/1 [00:00<00:00, 12.32it/s]\n"
     ]
    },
    {
     "name": "stdout",
     "output_type": "stream",
     "text": [
      "  Train Loss: 1.1037, Train Acc: 0.6696\n",
      "  Val Loss:   0.7871, Val Acc:   0.7470\n",
      "Epoch 135/500\n"
     ]
    },
    {
     "name": "stderr",
     "output_type": "stream",
     "text": [
      "Training: 100%|██████████| 1/1 [00:00<00:00,  3.73it/s]\n",
      "Validation: 100%|██████████| 1/1 [00:00<00:00, 10.77it/s]\n"
     ]
    },
    {
     "name": "stdout",
     "output_type": "stream",
     "text": [
      "  Train Loss: 1.0063, Train Acc: 0.6609\n",
      "  Val Loss:   0.8833, Val Acc:   0.6867\n",
      "Epoch 136/500\n"
     ]
    },
    {
     "name": "stderr",
     "output_type": "stream",
     "text": [
      "Training: 100%|██████████| 1/1 [00:00<00:00,  3.77it/s]\n",
      "Validation: 100%|██████████| 1/1 [00:00<00:00,  9.00it/s]\n"
     ]
    },
    {
     "name": "stdout",
     "output_type": "stream",
     "text": [
      "  Train Loss: 1.0638, Train Acc: 0.5913\n",
      "  Val Loss:   1.1813, Val Acc:   0.5181\n",
      "Epoch 137/500\n"
     ]
    },
    {
     "name": "stderr",
     "output_type": "stream",
     "text": [
      "Training: 100%|██████████| 1/1 [00:00<00:00,  4.98it/s]\n",
      "Validation: 100%|██████████| 1/1 [00:00<00:00, 12.37it/s]\n"
     ]
    },
    {
     "name": "stdout",
     "output_type": "stream",
     "text": [
      "  Train Loss: 1.1234, Train Acc: 0.5652\n",
      "  Val Loss:   0.9446, Val Acc:   0.7229\n",
      "Epoch 138/500\n"
     ]
    },
    {
     "name": "stderr",
     "output_type": "stream",
     "text": [
      "Training: 100%|██████████| 1/1 [00:00<00:00,  4.48it/s]\n",
      "Validation: 100%|██████████| 1/1 [00:00<00:00,  3.84it/s]\n"
     ]
    },
    {
     "name": "stdout",
     "output_type": "stream",
     "text": [
      "  Train Loss: 1.0788, Train Acc: 0.5913\n",
      "  Val Loss:   1.0373, Val Acc:   0.6506\n",
      "Epoch 139/500\n"
     ]
    },
    {
     "name": "stderr",
     "output_type": "stream",
     "text": [
      "Training: 100%|██████████| 1/1 [00:00<00:00,  2.93it/s]\n",
      "Validation: 100%|██████████| 1/1 [00:00<00:00, 10.81it/s]\n"
     ]
    },
    {
     "name": "stdout",
     "output_type": "stream",
     "text": [
      "  Train Loss: 1.3027, Train Acc: 0.5609\n",
      "  Val Loss:   0.9421, Val Acc:   0.7108\n",
      "Epoch 140/500\n"
     ]
    },
    {
     "name": "stderr",
     "output_type": "stream",
     "text": [
      "Training: 100%|██████████| 1/1 [00:00<00:00,  4.99it/s]\n",
      "Validation: 100%|██████████| 1/1 [00:00<00:00,  4.61it/s]\n"
     ]
    },
    {
     "name": "stdout",
     "output_type": "stream",
     "text": [
      "  Train Loss: 1.1071, Train Acc: 0.6261\n",
      "  Val Loss:   0.9761, Val Acc:   0.6747\n",
      "Epoch 141/500\n"
     ]
    },
    {
     "name": "stderr",
     "output_type": "stream",
     "text": [
      "Training: 100%|██████████| 1/1 [00:00<00:00,  2.44it/s]\n",
      "Validation: 100%|██████████| 1/1 [00:00<00:00,  8.94it/s]\n"
     ]
    },
    {
     "name": "stdout",
     "output_type": "stream",
     "text": [
      "  Train Loss: 0.8563, Train Acc: 0.7087\n",
      "  Val Loss:   0.9322, Val Acc:   0.6928\n",
      "Epoch 142/500\n"
     ]
    },
    {
     "name": "stderr",
     "output_type": "stream",
     "text": [
      "Training: 100%|██████████| 1/1 [00:00<00:00,  3.91it/s]\n",
      "Validation: 100%|██████████| 1/1 [00:00<00:00,  6.93it/s]\n"
     ]
    },
    {
     "name": "stdout",
     "output_type": "stream",
     "text": [
      "  Train Loss: 0.8429, Train Acc: 0.7261\n",
      "  Val Loss:   0.9404, Val Acc:   0.6627\n",
      "Epoch 143/500\n"
     ]
    },
    {
     "name": "stderr",
     "output_type": "stream",
     "text": [
      "Training: 100%|██████████| 1/1 [00:00<00:00,  3.83it/s]\n",
      "Validation: 100%|██████████| 1/1 [00:00<00:00,  6.38it/s]\n"
     ]
    },
    {
     "name": "stdout",
     "output_type": "stream",
     "text": [
      "  Train Loss: 1.0003, Train Acc: 0.6391\n",
      "  Val Loss:   0.9082, Val Acc:   0.6807\n",
      "Epoch 144/500\n"
     ]
    },
    {
     "name": "stderr",
     "output_type": "stream",
     "text": [
      "Training: 100%|██████████| 1/1 [00:00<00:00,  3.88it/s]\n",
      "Validation: 100%|██████████| 1/1 [00:00<00:00,  7.16it/s]\n"
     ]
    },
    {
     "name": "stdout",
     "output_type": "stream",
     "text": [
      "  Train Loss: 0.9530, Train Acc: 0.6609\n",
      "  Val Loss:   0.9073, Val Acc:   0.6506\n",
      "Epoch 145/500\n"
     ]
    },
    {
     "name": "stderr",
     "output_type": "stream",
     "text": [
      "Training: 100%|██████████| 1/1 [00:00<00:00,  3.41it/s]\n",
      "Validation: 100%|██████████| 1/1 [00:00<00:00,  7.95it/s]\n"
     ]
    },
    {
     "name": "stdout",
     "output_type": "stream",
     "text": [
      "  Train Loss: 1.2152, Train Acc: 0.5391\n",
      "  Val Loss:   0.8544, Val Acc:   0.7048\n",
      "Epoch 146/500\n"
     ]
    },
    {
     "name": "stderr",
     "output_type": "stream",
     "text": [
      "Training: 100%|██████████| 1/1 [00:00<00:00,  2.53it/s]\n",
      "Validation: 100%|██████████| 1/1 [00:00<00:00,  6.11it/s]\n"
     ]
    },
    {
     "name": "stdout",
     "output_type": "stream",
     "text": [
      "  Train Loss: 0.9553, Train Acc: 0.6652\n",
      "  Val Loss:   0.9252, Val Acc:   0.6687\n",
      "Epoch 147/500\n"
     ]
    },
    {
     "name": "stderr",
     "output_type": "stream",
     "text": [
      "Training: 100%|██████████| 1/1 [00:00<00:00,  3.05it/s]\n",
      "Validation: 100%|██████████| 1/1 [00:00<00:00, 11.79it/s]\n"
     ]
    },
    {
     "name": "stdout",
     "output_type": "stream",
     "text": [
      "  Train Loss: 0.9780, Train Acc: 0.6478\n",
      "  Val Loss:   0.9071, Val Acc:   0.7229\n",
      "Epoch 148/500\n"
     ]
    },
    {
     "name": "stderr",
     "output_type": "stream",
     "text": [
      "Training: 100%|██████████| 1/1 [00:00<00:00,  3.50it/s]\n",
      "Validation: 100%|██████████| 1/1 [00:00<00:00,  4.28it/s]\n"
     ]
    },
    {
     "name": "stdout",
     "output_type": "stream",
     "text": [
      "  Train Loss: 1.0486, Train Acc: 0.6478\n",
      "  Val Loss:   0.9206, Val Acc:   0.7108\n",
      "Epoch 149/500\n"
     ]
    },
    {
     "name": "stderr",
     "output_type": "stream",
     "text": [
      "Training: 100%|██████████| 1/1 [00:00<00:00,  3.35it/s]\n",
      "Validation: 100%|██████████| 1/1 [00:00<00:00,  7.47it/s]\n"
     ]
    },
    {
     "name": "stdout",
     "output_type": "stream",
     "text": [
      "  Train Loss: 0.9794, Train Acc: 0.6304\n",
      "  Val Loss:   1.0868, Val Acc:   0.5783\n",
      "Epoch 150/500\n"
     ]
    },
    {
     "name": "stderr",
     "output_type": "stream",
     "text": [
      "Training: 100%|██████████| 1/1 [00:00<00:00,  3.39it/s]\n",
      "Validation: 100%|██████████| 1/1 [00:00<00:00,  4.64it/s]\n"
     ]
    },
    {
     "name": "stdout",
     "output_type": "stream",
     "text": [
      "  Train Loss: 0.9575, Train Acc: 0.6609\n",
      "  Val Loss:   0.9507, Val Acc:   0.7048\n",
      "Epoch 151/500\n"
     ]
    },
    {
     "name": "stderr",
     "output_type": "stream",
     "text": [
      "Training: 100%|██████████| 1/1 [00:00<00:00,  3.61it/s]\n",
      "Validation: 100%|██████████| 1/1 [00:00<00:00,  8.25it/s]\n"
     ]
    },
    {
     "name": "stdout",
     "output_type": "stream",
     "text": [
      "  Train Loss: 0.9156, Train Acc: 0.6957\n",
      "  Val Loss:   0.8495, Val Acc:   0.6988\n",
      "Epoch 152/500\n"
     ]
    },
    {
     "name": "stderr",
     "output_type": "stream",
     "text": [
      "Training: 100%|██████████| 1/1 [00:00<00:00,  3.45it/s]\n",
      "Validation: 100%|██████████| 1/1 [00:00<00:00,  5.81it/s]\n"
     ]
    },
    {
     "name": "stdout",
     "output_type": "stream",
     "text": [
      "  Train Loss: 1.0656, Train Acc: 0.6043\n",
      "  Val Loss:   0.9464, Val Acc:   0.6566\n",
      "Epoch 153/500\n"
     ]
    },
    {
     "name": "stderr",
     "output_type": "stream",
     "text": [
      "Training: 100%|██████████| 1/1 [00:00<00:00,  3.16it/s]\n",
      "Validation: 100%|██████████| 1/1 [00:00<00:00,  5.12it/s]\n"
     ]
    },
    {
     "name": "stdout",
     "output_type": "stream",
     "text": [
      "  Train Loss: 0.8773, Train Acc: 0.7043\n",
      "  Val Loss:   0.9221, Val Acc:   0.6807\n",
      "Epoch 154/500\n"
     ]
    },
    {
     "name": "stderr",
     "output_type": "stream",
     "text": [
      "Training: 100%|██████████| 1/1 [00:00<00:00,  2.68it/s]\n",
      "Validation: 100%|██████████| 1/1 [00:00<00:00,  4.76it/s]\n"
     ]
    },
    {
     "name": "stdout",
     "output_type": "stream",
     "text": [
      "  Train Loss: 0.9431, Train Acc: 0.6217\n",
      "  Val Loss:   0.9399, Val Acc:   0.6687\n",
      "Epoch 155/500\n"
     ]
    },
    {
     "name": "stderr",
     "output_type": "stream",
     "text": [
      "Training: 100%|██████████| 1/1 [00:00<00:00,  2.73it/s]\n",
      "Validation: 100%|██████████| 1/1 [00:00<00:00,  5.07it/s]\n"
     ]
    },
    {
     "name": "stdout",
     "output_type": "stream",
     "text": [
      "  Train Loss: 1.0037, Train Acc: 0.6652\n",
      "  Val Loss:   0.9084, Val Acc:   0.7530\n",
      "Epoch 156/500\n"
     ]
    },
    {
     "name": "stderr",
     "output_type": "stream",
     "text": [
      "Training: 100%|██████████| 1/1 [00:00<00:00,  3.58it/s]\n",
      "Validation: 100%|██████████| 1/1 [00:00<00:00,  8.42it/s]\n"
     ]
    },
    {
     "name": "stdout",
     "output_type": "stream",
     "text": [
      "  Train Loss: 0.8471, Train Acc: 0.6870\n",
      "  Val Loss:   0.8092, Val Acc:   0.7530\n",
      "Epoch 157/500\n"
     ]
    },
    {
     "name": "stderr",
     "output_type": "stream",
     "text": [
      "Training: 100%|██████████| 1/1 [00:00<00:00,  4.12it/s]\n",
      "Validation: 100%|██████████| 1/1 [00:00<00:00,  6.16it/s]\n"
     ]
    },
    {
     "name": "stdout",
     "output_type": "stream",
     "text": [
      "  Train Loss: 0.9105, Train Acc: 0.6783\n",
      "  Val Loss:   0.8566, Val Acc:   0.7530\n",
      "Epoch 158/500\n"
     ]
    },
    {
     "name": "stderr",
     "output_type": "stream",
     "text": [
      "Training: 100%|██████████| 1/1 [00:00<00:00,  3.72it/s]\n",
      "Validation: 100%|██████████| 1/1 [00:00<00:00, 10.99it/s]\n"
     ]
    },
    {
     "name": "stdout",
     "output_type": "stream",
     "text": [
      "  Train Loss: 0.8423, Train Acc: 0.7130\n",
      "  Val Loss:   0.7844, Val Acc:   0.7771\n",
      "Epoch 159/500\n"
     ]
    },
    {
     "name": "stderr",
     "output_type": "stream",
     "text": [
      "Training: 100%|██████████| 1/1 [00:00<00:00,  3.02it/s]\n",
      "Validation: 100%|██████████| 1/1 [00:00<00:00,  4.80it/s]\n"
     ]
    },
    {
     "name": "stdout",
     "output_type": "stream",
     "text": [
      "  Train Loss: 1.0194, Train Acc: 0.6348\n",
      "  Val Loss:   0.8286, Val Acc:   0.7048\n",
      "Epoch 160/500\n"
     ]
    },
    {
     "name": "stderr",
     "output_type": "stream",
     "text": [
      "Training: 100%|██████████| 1/1 [00:00<00:00,  2.54it/s]\n",
      "Validation: 100%|██████████| 1/1 [00:00<00:00,  7.22it/s]\n"
     ]
    },
    {
     "name": "stdout",
     "output_type": "stream",
     "text": [
      "  Train Loss: 0.9662, Train Acc: 0.6174\n",
      "  Val Loss:   0.9590, Val Acc:   0.6687\n",
      "Epoch 161/500\n"
     ]
    },
    {
     "name": "stderr",
     "output_type": "stream",
     "text": [
      "Training: 100%|██████████| 1/1 [00:00<00:00,  3.13it/s]\n",
      "Validation: 100%|██████████| 1/1 [00:00<00:00,  5.01it/s]\n"
     ]
    },
    {
     "name": "stdout",
     "output_type": "stream",
     "text": [
      "  Train Loss: 0.9537, Train Acc: 0.6478\n",
      "  Val Loss:   0.7320, Val Acc:   0.8133\n",
      "Epoch 162/500\n"
     ]
    },
    {
     "name": "stderr",
     "output_type": "stream",
     "text": [
      "Training: 100%|██████████| 1/1 [00:00<00:00,  3.55it/s]\n",
      "Validation: 100%|██████████| 1/1 [00:00<00:00, 10.03it/s]\n"
     ]
    },
    {
     "name": "stdout",
     "output_type": "stream",
     "text": [
      "  Train Loss: 0.8693, Train Acc: 0.6565\n",
      "  Val Loss:   0.8751, Val Acc:   0.6928\n",
      "Epoch 163/500\n"
     ]
    },
    {
     "name": "stderr",
     "output_type": "stream",
     "text": [
      "Training: 100%|██████████| 1/1 [00:00<00:00,  3.20it/s]\n",
      "Validation: 100%|██████████| 1/1 [00:00<00:00,  5.57it/s]\n"
     ]
    },
    {
     "name": "stdout",
     "output_type": "stream",
     "text": [
      "  Train Loss: 1.1894, Train Acc: 0.6217\n",
      "  Val Loss:   0.7635, Val Acc:   0.7771\n",
      "Epoch 164/500\n"
     ]
    },
    {
     "name": "stderr",
     "output_type": "stream",
     "text": [
      "Training: 100%|██████████| 1/1 [00:00<00:00,  3.62it/s]\n",
      "Validation: 100%|██████████| 1/1 [00:00<00:00,  5.95it/s]\n"
     ]
    },
    {
     "name": "stdout",
     "output_type": "stream",
     "text": [
      "  Train Loss: 0.8863, Train Acc: 0.6696\n",
      "  Val Loss:   0.7857, Val Acc:   0.7470\n",
      "Epoch 165/500\n"
     ]
    },
    {
     "name": "stderr",
     "output_type": "stream",
     "text": [
      "Training: 100%|██████████| 1/1 [00:00<00:00,  2.34it/s]\n",
      "Validation: 100%|██████████| 1/1 [00:00<00:00,  4.27it/s]\n"
     ]
    },
    {
     "name": "stdout",
     "output_type": "stream",
     "text": [
      "  Train Loss: 0.7738, Train Acc: 0.7348\n",
      "  Val Loss:   0.8361, Val Acc:   0.7048\n",
      "Epoch 166/500\n"
     ]
    },
    {
     "name": "stderr",
     "output_type": "stream",
     "text": [
      "Training: 100%|██████████| 1/1 [00:00<00:00,  2.49it/s]\n",
      "Validation: 100%|██████████| 1/1 [00:00<00:00,  4.12it/s]\n"
     ]
    },
    {
     "name": "stdout",
     "output_type": "stream",
     "text": [
      "  Train Loss: 0.7383, Train Acc: 0.7435\n",
      "  Val Loss:   0.6909, Val Acc:   0.8012\n",
      "Epoch 167/500\n"
     ]
    },
    {
     "name": "stderr",
     "output_type": "stream",
     "text": [
      "Training: 100%|██████████| 1/1 [00:00<00:00,  3.23it/s]\n",
      "Validation: 100%|██████████| 1/1 [00:00<00:00,  5.41it/s]\n"
     ]
    },
    {
     "name": "stdout",
     "output_type": "stream",
     "text": [
      "  Train Loss: 0.9065, Train Acc: 0.6348\n",
      "  Val Loss:   0.9376, Val Acc:   0.6566\n",
      "Epoch 168/500\n"
     ]
    },
    {
     "name": "stderr",
     "output_type": "stream",
     "text": [
      "Training: 100%|██████████| 1/1 [00:00<00:00,  3.29it/s]\n",
      "Validation: 100%|██████████| 1/1 [00:00<00:00,  5.51it/s]\n"
     ]
    },
    {
     "name": "stdout",
     "output_type": "stream",
     "text": [
      "  Train Loss: 0.9418, Train Acc: 0.6696\n",
      "  Val Loss:   0.8599, Val Acc:   0.6325\n",
      "Epoch 169/500\n"
     ]
    },
    {
     "name": "stderr",
     "output_type": "stream",
     "text": [
      "Training: 100%|██████████| 1/1 [00:00<00:00,  2.79it/s]\n",
      "Validation: 100%|██████████| 1/1 [00:00<00:00,  4.15it/s]\n"
     ]
    },
    {
     "name": "stdout",
     "output_type": "stream",
     "text": [
      "  Train Loss: 0.9534, Train Acc: 0.6348\n",
      "  Val Loss:   0.8352, Val Acc:   0.7410\n",
      "Epoch 170/500\n"
     ]
    },
    {
     "name": "stderr",
     "output_type": "stream",
     "text": [
      "Training: 100%|██████████| 1/1 [00:00<00:00,  3.33it/s]\n",
      "Validation: 100%|██████████| 1/1 [00:00<00:00,  9.12it/s]\n"
     ]
    },
    {
     "name": "stdout",
     "output_type": "stream",
     "text": [
      "  Train Loss: 0.8601, Train Acc: 0.6174\n",
      "  Val Loss:   0.8062, Val Acc:   0.7530\n",
      "Epoch 171/500\n"
     ]
    },
    {
     "name": "stderr",
     "output_type": "stream",
     "text": [
      "Training: 100%|██████████| 1/1 [00:00<00:00,  3.47it/s]\n",
      "Validation: 100%|██████████| 1/1 [00:00<00:00,  7.31it/s]\n"
     ]
    },
    {
     "name": "stdout",
     "output_type": "stream",
     "text": [
      "  Train Loss: 0.9663, Train Acc: 0.6478\n",
      "  Val Loss:   0.8114, Val Acc:   0.7590\n",
      "Epoch 172/500\n"
     ]
    },
    {
     "name": "stderr",
     "output_type": "stream",
     "text": [
      "Training: 100%|██████████| 1/1 [00:00<00:00,  2.27it/s]\n",
      "Validation: 100%|██████████| 1/1 [00:00<00:00,  5.19it/s]\n"
     ]
    },
    {
     "name": "stdout",
     "output_type": "stream",
     "text": [
      "  Train Loss: 0.9191, Train Acc: 0.6304\n",
      "  Val Loss:   0.8757, Val Acc:   0.6807\n",
      "Epoch 173/500\n"
     ]
    },
    {
     "name": "stderr",
     "output_type": "stream",
     "text": [
      "Training: 100%|██████████| 1/1 [00:00<00:00,  1.81it/s]\n",
      "Validation: 100%|██████████| 1/1 [00:00<00:00,  6.08it/s]\n"
     ]
    },
    {
     "name": "stdout",
     "output_type": "stream",
     "text": [
      "  Train Loss: 0.9169, Train Acc: 0.6391\n",
      "  Val Loss:   0.8367, Val Acc:   0.7349\n",
      "Epoch 174/500\n"
     ]
    },
    {
     "name": "stderr",
     "output_type": "stream",
     "text": [
      "Training: 100%|██████████| 1/1 [00:00<00:00,  2.21it/s]\n",
      "Validation: 100%|██████████| 1/1 [00:00<00:00,  5.74it/s]\n"
     ]
    },
    {
     "name": "stdout",
     "output_type": "stream",
     "text": [
      "  Train Loss: 0.7538, Train Acc: 0.7609\n",
      "  Val Loss:   0.9629, Val Acc:   0.6506\n",
      "Epoch 175/500\n"
     ]
    },
    {
     "name": "stderr",
     "output_type": "stream",
     "text": [
      "Training: 100%|██████████| 1/1 [00:00<00:00,  2.44it/s]\n",
      "Validation: 100%|██████████| 1/1 [00:00<00:00,  4.48it/s]\n"
     ]
    },
    {
     "name": "stdout",
     "output_type": "stream",
     "text": [
      "  Train Loss: 0.8446, Train Acc: 0.6913\n",
      "  Val Loss:   0.7761, Val Acc:   0.7651\n",
      "Epoch 176/500\n"
     ]
    },
    {
     "name": "stderr",
     "output_type": "stream",
     "text": [
      "Training: 100%|██████████| 1/1 [00:00<00:00,  2.82it/s]\n",
      "Validation: 100%|██████████| 1/1 [00:00<00:00,  6.15it/s]\n"
     ]
    },
    {
     "name": "stdout",
     "output_type": "stream",
     "text": [
      "  Train Loss: 1.0203, Train Acc: 0.6130\n",
      "  Val Loss:   0.6474, Val Acc:   0.8554\n",
      "Epoch 177/500\n"
     ]
    },
    {
     "name": "stderr",
     "output_type": "stream",
     "text": [
      "Training: 100%|██████████| 1/1 [00:00<00:00,  2.62it/s]\n",
      "Validation: 100%|██████████| 1/1 [00:00<00:00,  3.98it/s]\n"
     ]
    },
    {
     "name": "stdout",
     "output_type": "stream",
     "text": [
      "  Train Loss: 0.8670, Train Acc: 0.6609\n",
      "  Val Loss:   0.7887, Val Acc:   0.7711\n",
      "Epoch 178/500\n"
     ]
    },
    {
     "name": "stderr",
     "output_type": "stream",
     "text": [
      "Training: 100%|██████████| 1/1 [00:00<00:00,  2.55it/s]\n",
      "Validation: 100%|██████████| 1/1 [00:00<00:00,  7.36it/s]\n"
     ]
    },
    {
     "name": "stdout",
     "output_type": "stream",
     "text": [
      "  Train Loss: 0.7803, Train Acc: 0.7304\n",
      "  Val Loss:   0.7536, Val Acc:   0.7410\n",
      "Epoch 179/500\n"
     ]
    },
    {
     "name": "stderr",
     "output_type": "stream",
     "text": [
      "Training: 100%|██████████| 1/1 [00:00<00:00,  2.02it/s]\n",
      "Validation: 100%|██████████| 1/1 [00:00<00:00,  6.76it/s]\n"
     ]
    },
    {
     "name": "stdout",
     "output_type": "stream",
     "text": [
      "  Train Loss: 0.7961, Train Acc: 0.7391\n",
      "  Val Loss:   0.7477, Val Acc:   0.7771\n",
      "Epoch 180/500\n"
     ]
    },
    {
     "name": "stderr",
     "output_type": "stream",
     "text": [
      "Training: 100%|██████████| 1/1 [00:00<00:00,  1.67it/s]\n",
      "Validation: 100%|██████████| 1/1 [00:00<00:00,  4.15it/s]\n"
     ]
    },
    {
     "name": "stdout",
     "output_type": "stream",
     "text": [
      "  Train Loss: 0.7592, Train Acc: 0.7609\n",
      "  Val Loss:   0.6257, Val Acc:   0.8253\n",
      "Epoch 181/500\n"
     ]
    },
    {
     "name": "stderr",
     "output_type": "stream",
     "text": [
      "Training: 100%|██████████| 1/1 [00:00<00:00,  2.97it/s]\n",
      "Validation: 100%|██████████| 1/1 [00:00<00:00,  6.60it/s]\n"
     ]
    },
    {
     "name": "stdout",
     "output_type": "stream",
     "text": [
      "  Train Loss: 0.6738, Train Acc: 0.7913\n",
      "  Val Loss:   0.7106, Val Acc:   0.7892\n",
      "Epoch 182/500\n"
     ]
    },
    {
     "name": "stderr",
     "output_type": "stream",
     "text": [
      "Training: 100%|██████████| 1/1 [00:00<00:00,  3.15it/s]\n",
      "Validation: 100%|██████████| 1/1 [00:00<00:00,  5.78it/s]\n"
     ]
    },
    {
     "name": "stdout",
     "output_type": "stream",
     "text": [
      "  Train Loss: 0.8347, Train Acc: 0.7174\n",
      "  Val Loss:   0.7859, Val Acc:   0.6928\n",
      "Epoch 183/500\n"
     ]
    },
    {
     "name": "stderr",
     "output_type": "stream",
     "text": [
      "Training: 100%|██████████| 1/1 [00:00<00:00,  3.13it/s]\n",
      "Validation: 100%|██████████| 1/1 [00:00<00:00,  7.55it/s]\n"
     ]
    },
    {
     "name": "stdout",
     "output_type": "stream",
     "text": [
      "  Train Loss: 0.9606, Train Acc: 0.6174\n",
      "  Val Loss:   1.1150, Val Acc:   0.5602\n",
      "Epoch 184/500\n"
     ]
    },
    {
     "name": "stderr",
     "output_type": "stream",
     "text": [
      "Training: 100%|██████████| 1/1 [00:00<00:00,  2.65it/s]\n",
      "Validation: 100%|██████████| 1/1 [00:00<00:00,  3.90it/s]\n"
     ]
    },
    {
     "name": "stdout",
     "output_type": "stream",
     "text": [
      "  Train Loss: 0.8246, Train Acc: 0.6826\n",
      "  Val Loss:   0.8712, Val Acc:   0.7108\n",
      "Epoch 185/500\n"
     ]
    },
    {
     "name": "stderr",
     "output_type": "stream",
     "text": [
      "Training: 100%|██████████| 1/1 [00:00<00:00,  3.28it/s]\n",
      "Validation: 100%|██████████| 1/1 [00:00<00:00, 10.74it/s]\n"
     ]
    },
    {
     "name": "stdout",
     "output_type": "stream",
     "text": [
      "  Train Loss: 0.6956, Train Acc: 0.7565\n",
      "  Val Loss:   0.7441, Val Acc:   0.7892\n",
      "Epoch 186/500\n"
     ]
    },
    {
     "name": "stderr",
     "output_type": "stream",
     "text": [
      "Training: 100%|██████████| 1/1 [00:00<00:00,  3.52it/s]\n",
      "Validation: 100%|██████████| 1/1 [00:00<00:00,  9.21it/s]\n"
     ]
    },
    {
     "name": "stdout",
     "output_type": "stream",
     "text": [
      "  Train Loss: 0.7530, Train Acc: 0.7261\n",
      "  Val Loss:   0.6929, Val Acc:   0.8012\n",
      "Epoch 187/500\n"
     ]
    },
    {
     "name": "stderr",
     "output_type": "stream",
     "text": [
      "Training: 100%|██████████| 1/1 [00:00<00:00,  3.13it/s]\n",
      "Validation: 100%|██████████| 1/1 [00:00<00:00,  6.16it/s]\n"
     ]
    },
    {
     "name": "stdout",
     "output_type": "stream",
     "text": [
      "  Train Loss: 0.8561, Train Acc: 0.6565\n",
      "  Val Loss:   0.7079, Val Acc:   0.8193\n",
      "Epoch 188/500\n"
     ]
    },
    {
     "name": "stderr",
     "output_type": "stream",
     "text": [
      "Training: 100%|██████████| 1/1 [00:00<00:00,  3.53it/s]\n",
      "Validation: 100%|██████████| 1/1 [00:00<00:00,  6.32it/s]\n"
     ]
    },
    {
     "name": "stdout",
     "output_type": "stream",
     "text": [
      "  Train Loss: 0.9264, Train Acc: 0.6348\n",
      "  Val Loss:   0.8648, Val Acc:   0.7349\n",
      "Epoch 189/500\n"
     ]
    },
    {
     "name": "stderr",
     "output_type": "stream",
     "text": [
      "Training: 100%|██████████| 1/1 [00:00<00:00,  3.20it/s]\n",
      "Validation: 100%|██████████| 1/1 [00:00<00:00,  8.26it/s]\n"
     ]
    },
    {
     "name": "stdout",
     "output_type": "stream",
     "text": [
      "  Train Loss: 0.8013, Train Acc: 0.7217\n",
      "  Val Loss:   0.7765, Val Acc:   0.7771\n",
      "Epoch 190/500\n"
     ]
    },
    {
     "name": "stderr",
     "output_type": "stream",
     "text": [
      "Training: 100%|██████████| 1/1 [00:00<00:00,  3.12it/s]\n",
      "Validation: 100%|██████████| 1/1 [00:03<00:00,  3.18s/it]\n"
     ]
    },
    {
     "name": "stdout",
     "output_type": "stream",
     "text": [
      "  Train Loss: 0.9044, Train Acc: 0.6391\n",
      "  Val Loss:   0.7584, Val Acc:   0.7651\n",
      "Epoch 191/500\n"
     ]
    },
    {
     "name": "stderr",
     "output_type": "stream",
     "text": [
      "Training: 100%|██████████| 1/1 [00:00<00:00,  2.83it/s]\n",
      "Validation: 100%|██████████| 1/1 [00:00<00:00,  4.38it/s]\n"
     ]
    },
    {
     "name": "stdout",
     "output_type": "stream",
     "text": [
      "  Train Loss: 0.8041, Train Acc: 0.7087\n",
      "  Val Loss:   0.7284, Val Acc:   0.8072\n",
      "Epoch 192/500\n"
     ]
    },
    {
     "name": "stderr",
     "output_type": "stream",
     "text": [
      "Training: 100%|██████████| 1/1 [00:00<00:00,  3.20it/s]\n",
      "Validation: 100%|██████████| 1/1 [00:00<00:00,  4.59it/s]\n"
     ]
    },
    {
     "name": "stdout",
     "output_type": "stream",
     "text": [
      "  Train Loss: 0.8035, Train Acc: 0.7000\n",
      "  Val Loss:   0.5862, Val Acc:   0.8735\n",
      "Epoch 193/500\n"
     ]
    },
    {
     "name": "stderr",
     "output_type": "stream",
     "text": [
      "Training: 100%|██████████| 1/1 [00:00<00:00,  3.15it/s]\n",
      "Validation: 100%|██████████| 1/1 [00:00<00:00,  8.24it/s]\n"
     ]
    },
    {
     "name": "stdout",
     "output_type": "stream",
     "text": [
      "  Train Loss: 0.8496, Train Acc: 0.6478\n",
      "  Val Loss:   0.7790, Val Acc:   0.7831\n",
      "Epoch 194/500\n"
     ]
    },
    {
     "name": "stderr",
     "output_type": "stream",
     "text": [
      "Training: 100%|██████████| 1/1 [00:00<00:00,  3.38it/s]\n",
      "Validation: 100%|██████████| 1/1 [00:00<00:00,  7.32it/s]\n"
     ]
    },
    {
     "name": "stdout",
     "output_type": "stream",
     "text": [
      "  Train Loss: 0.9864, Train Acc: 0.6391\n",
      "  Val Loss:   0.6684, Val Acc:   0.7771\n",
      "Epoch 195/500\n"
     ]
    },
    {
     "name": "stderr",
     "output_type": "stream",
     "text": [
      "Training: 100%|██████████| 1/1 [00:00<00:00,  2.75it/s]\n",
      "Validation: 100%|██████████| 1/1 [00:00<00:00,  5.90it/s]\n"
     ]
    },
    {
     "name": "stdout",
     "output_type": "stream",
     "text": [
      "  Train Loss: 0.7827, Train Acc: 0.7304\n",
      "  Val Loss:   0.7520, Val Acc:   0.7771\n",
      "Epoch 196/500\n"
     ]
    },
    {
     "name": "stderr",
     "output_type": "stream",
     "text": [
      "Training: 100%|██████████| 1/1 [00:00<00:00,  3.54it/s]\n",
      "Validation: 100%|██████████| 1/1 [00:00<00:00,  6.13it/s]\n"
     ]
    },
    {
     "name": "stdout",
     "output_type": "stream",
     "text": [
      "  Train Loss: 0.7085, Train Acc: 0.7565\n",
      "  Val Loss:   0.6480, Val Acc:   0.8373\n",
      "Epoch 197/500\n"
     ]
    },
    {
     "name": "stderr",
     "output_type": "stream",
     "text": [
      "Training: 100%|██████████| 1/1 [00:00<00:00,  2.91it/s]\n",
      "Validation: 100%|██████████| 1/1 [00:00<00:00,  7.26it/s]\n"
     ]
    },
    {
     "name": "stdout",
     "output_type": "stream",
     "text": [
      "  Train Loss: 0.7252, Train Acc: 0.7652\n",
      "  Val Loss:   0.7288, Val Acc:   0.7651\n",
      "Epoch 198/500\n"
     ]
    },
    {
     "name": "stderr",
     "output_type": "stream",
     "text": [
      "Training: 100%|██████████| 1/1 [00:00<00:00,  3.03it/s]\n",
      "Validation: 100%|██████████| 1/1 [00:00<00:00,  6.08it/s]\n"
     ]
    },
    {
     "name": "stdout",
     "output_type": "stream",
     "text": [
      "  Train Loss: 0.9436, Train Acc: 0.6043\n",
      "  Val Loss:   0.6844, Val Acc:   0.7892\n",
      "Epoch 199/500\n"
     ]
    },
    {
     "name": "stderr",
     "output_type": "stream",
     "text": [
      "Training: 100%|██████████| 1/1 [00:00<00:00,  3.30it/s]\n",
      "Validation: 100%|██████████| 1/1 [00:00<00:00,  5.65it/s]\n"
     ]
    },
    {
     "name": "stdout",
     "output_type": "stream",
     "text": [
      "  Train Loss: 0.6894, Train Acc: 0.7870\n",
      "  Val Loss:   0.6907, Val Acc:   0.7771\n",
      "Epoch 200/500\n"
     ]
    },
    {
     "name": "stderr",
     "output_type": "stream",
     "text": [
      "Training: 100%|██████████| 1/1 [00:00<00:00,  3.18it/s]\n",
      "Validation: 100%|██████████| 1/1 [00:00<00:00,  4.83it/s]\n"
     ]
    },
    {
     "name": "stdout",
     "output_type": "stream",
     "text": [
      "  Train Loss: 0.8668, Train Acc: 0.6739\n",
      "  Val Loss:   0.8339, Val Acc:   0.6687\n",
      "Epoch 201/500\n"
     ]
    },
    {
     "name": "stderr",
     "output_type": "stream",
     "text": [
      "Training: 100%|██████████| 1/1 [00:00<00:00,  3.09it/s]\n",
      "Validation: 100%|██████████| 1/1 [00:00<00:00,  5.52it/s]\n"
     ]
    },
    {
     "name": "stdout",
     "output_type": "stream",
     "text": [
      "  Train Loss: 0.7796, Train Acc: 0.6957\n",
      "  Val Loss:   0.7177, Val Acc:   0.7651\n",
      "Epoch 202/500\n"
     ]
    },
    {
     "name": "stderr",
     "output_type": "stream",
     "text": [
      "Training: 100%|██████████| 1/1 [00:00<00:00,  3.31it/s]\n",
      "Validation: 100%|██████████| 1/1 [00:00<00:00,  5.92it/s]\n"
     ]
    },
    {
     "name": "stdout",
     "output_type": "stream",
     "text": [
      "  Train Loss: 0.7065, Train Acc: 0.7304\n",
      "  Val Loss:   0.6830, Val Acc:   0.7771\n",
      "Epoch 203/500\n"
     ]
    },
    {
     "name": "stderr",
     "output_type": "stream",
     "text": [
      "Training: 100%|██████████| 1/1 [00:00<00:00,  3.09it/s]\n",
      "Validation: 100%|██████████| 1/1 [00:00<00:00,  6.59it/s]\n"
     ]
    },
    {
     "name": "stdout",
     "output_type": "stream",
     "text": [
      "  Train Loss: 0.7958, Train Acc: 0.7391\n",
      "  Val Loss:   0.7702, Val Acc:   0.7289\n",
      "Epoch 204/500\n"
     ]
    },
    {
     "name": "stderr",
     "output_type": "stream",
     "text": [
      "Training: 100%|██████████| 1/1 [00:00<00:00,  3.10it/s]\n",
      "Validation: 100%|██████████| 1/1 [00:00<00:00,  6.28it/s]\n"
     ]
    },
    {
     "name": "stdout",
     "output_type": "stream",
     "text": [
      "  Train Loss: 0.7081, Train Acc: 0.7826\n",
      "  Val Loss:   0.6871, Val Acc:   0.7590\n",
      "Epoch 205/500\n"
     ]
    },
    {
     "name": "stderr",
     "output_type": "stream",
     "text": [
      "Training: 100%|██████████| 1/1 [00:00<00:00,  3.44it/s]\n",
      "Validation: 100%|██████████| 1/1 [00:00<00:00,  7.26it/s]\n"
     ]
    },
    {
     "name": "stdout",
     "output_type": "stream",
     "text": [
      "  Train Loss: 0.6962, Train Acc: 0.7783\n",
      "  Val Loss:   0.6365, Val Acc:   0.8253\n",
      "Epoch 206/500\n"
     ]
    },
    {
     "name": "stderr",
     "output_type": "stream",
     "text": [
      "Training: 100%|██████████| 1/1 [00:00<00:00,  3.25it/s]\n",
      "Validation: 100%|██████████| 1/1 [00:00<00:00,  9.12it/s]\n"
     ]
    },
    {
     "name": "stdout",
     "output_type": "stream",
     "text": [
      "  Train Loss: 0.6857, Train Acc: 0.7565\n",
      "  Val Loss:   0.8786, Val Acc:   0.6747\n",
      "Epoch 207/500\n"
     ]
    },
    {
     "name": "stderr",
     "output_type": "stream",
     "text": [
      "Training: 100%|██████████| 1/1 [00:00<00:00,  3.42it/s]\n",
      "Validation: 100%|██████████| 1/1 [00:00<00:00,  7.76it/s]\n"
     ]
    },
    {
     "name": "stdout",
     "output_type": "stream",
     "text": [
      "  Train Loss: 0.9022, Train Acc: 0.6435\n",
      "  Val Loss:   0.6156, Val Acc:   0.8012\n",
      "Epoch 208/500\n"
     ]
    },
    {
     "name": "stderr",
     "output_type": "stream",
     "text": [
      "Training: 100%|██████████| 1/1 [00:00<00:00,  3.24it/s]\n",
      "Validation: 100%|██████████| 1/1 [00:00<00:00,  5.28it/s]\n"
     ]
    },
    {
     "name": "stdout",
     "output_type": "stream",
     "text": [
      "  Train Loss: 0.7801, Train Acc: 0.7304\n",
      "  Val Loss:   0.5471, Val Acc:   0.8795\n",
      "Epoch 209/500\n"
     ]
    },
    {
     "name": "stderr",
     "output_type": "stream",
     "text": [
      "Training: 100%|██████████| 1/1 [00:00<00:00,  2.52it/s]\n",
      "Validation: 100%|██████████| 1/1 [00:00<00:00,  6.17it/s]\n"
     ]
    },
    {
     "name": "stdout",
     "output_type": "stream",
     "text": [
      "  Train Loss: 0.7281, Train Acc: 0.7739\n",
      "  Val Loss:   0.6580, Val Acc:   0.7651\n",
      "Epoch 210/500\n"
     ]
    },
    {
     "name": "stderr",
     "output_type": "stream",
     "text": [
      "Training: 100%|██████████| 1/1 [00:00<00:00,  2.92it/s]\n",
      "Validation: 100%|██████████| 1/1 [00:00<00:00,  4.64it/s]\n"
     ]
    },
    {
     "name": "stdout",
     "output_type": "stream",
     "text": [
      "  Train Loss: 0.7725, Train Acc: 0.7087\n",
      "  Val Loss:   0.6730, Val Acc:   0.7831\n",
      "Epoch 211/500\n"
     ]
    },
    {
     "name": "stderr",
     "output_type": "stream",
     "text": [
      "Training: 100%|██████████| 1/1 [00:00<00:00,  2.50it/s]\n",
      "Validation: 100%|██████████| 1/1 [00:00<00:00,  6.05it/s]\n"
     ]
    },
    {
     "name": "stdout",
     "output_type": "stream",
     "text": [
      "  Train Loss: 0.7315, Train Acc: 0.7565\n",
      "  Val Loss:   0.8223, Val Acc:   0.7289\n",
      "Epoch 212/500\n"
     ]
    },
    {
     "name": "stderr",
     "output_type": "stream",
     "text": [
      "Training: 100%|██████████| 1/1 [00:00<00:00,  2.40it/s]\n",
      "Validation: 100%|██████████| 1/1 [00:00<00:00,  4.25it/s]\n"
     ]
    },
    {
     "name": "stdout",
     "output_type": "stream",
     "text": [
      "  Train Loss: 0.6763, Train Acc: 0.7696\n",
      "  Val Loss:   0.6887, Val Acc:   0.8193\n",
      "Epoch 213/500\n"
     ]
    },
    {
     "name": "stderr",
     "output_type": "stream",
     "text": [
      "Training: 100%|██████████| 1/1 [00:00<00:00,  2.77it/s]\n",
      "Validation: 100%|██████████| 1/1 [00:00<00:00,  6.58it/s]\n"
     ]
    },
    {
     "name": "stdout",
     "output_type": "stream",
     "text": [
      "  Train Loss: 0.9105, Train Acc: 0.6739\n",
      "  Val Loss:   0.6092, Val Acc:   0.8554\n",
      "Epoch 214/500\n"
     ]
    },
    {
     "name": "stderr",
     "output_type": "stream",
     "text": [
      "Training: 100%|██████████| 1/1 [00:00<00:00,  2.70it/s]\n",
      "Validation: 100%|██████████| 1/1 [00:00<00:00,  7.73it/s]\n"
     ]
    },
    {
     "name": "stdout",
     "output_type": "stream",
     "text": [
      "  Train Loss: 0.7429, Train Acc: 0.7000\n",
      "  Val Loss:   0.6995, Val Acc:   0.7590\n",
      "Epoch 215/500\n"
     ]
    },
    {
     "name": "stderr",
     "output_type": "stream",
     "text": [
      "Training: 100%|██████████| 1/1 [00:00<00:00,  2.90it/s]\n",
      "Validation: 100%|██████████| 1/1 [00:00<00:00,  5.62it/s]\n"
     ]
    },
    {
     "name": "stdout",
     "output_type": "stream",
     "text": [
      "  Train Loss: 0.7001, Train Acc: 0.7522\n",
      "  Val Loss:   0.6067, Val Acc:   0.8494\n",
      "Epoch 216/500\n"
     ]
    },
    {
     "name": "stderr",
     "output_type": "stream",
     "text": [
      "Training: 100%|██████████| 1/1 [00:00<00:00,  2.42it/s]\n",
      "Validation: 100%|██████████| 1/1 [00:00<00:00,  4.83it/s]\n"
     ]
    },
    {
     "name": "stdout",
     "output_type": "stream",
     "text": [
      "  Train Loss: 0.7579, Train Acc: 0.7217\n",
      "  Val Loss:   0.6736, Val Acc:   0.7590\n",
      "Epoch 217/500\n"
     ]
    },
    {
     "name": "stderr",
     "output_type": "stream",
     "text": [
      "Training: 100%|██████████| 1/1 [00:00<00:00,  2.33it/s]\n",
      "Validation: 100%|██████████| 1/1 [00:00<00:00,  4.27it/s]\n"
     ]
    },
    {
     "name": "stdout",
     "output_type": "stream",
     "text": [
      "  Train Loss: 0.6162, Train Acc: 0.8261\n",
      "  Val Loss:   0.6418, Val Acc:   0.7590\n",
      "Epoch 218/500\n"
     ]
    },
    {
     "name": "stderr",
     "output_type": "stream",
     "text": [
      "Training: 100%|██████████| 1/1 [00:00<00:00,  2.15it/s]\n",
      "Validation: 100%|██████████| 1/1 [00:00<00:00,  4.63it/s]\n"
     ]
    },
    {
     "name": "stdout",
     "output_type": "stream",
     "text": [
      "  Train Loss: 0.7585, Train Acc: 0.6783\n",
      "  Val Loss:   0.6389, Val Acc:   0.7892\n",
      "Epoch 219/500\n"
     ]
    },
    {
     "name": "stderr",
     "output_type": "stream",
     "text": [
      "Training: 100%|██████████| 1/1 [00:00<00:00,  2.28it/s]\n",
      "Validation: 100%|██████████| 1/1 [00:00<00:00,  3.09it/s]\n"
     ]
    },
    {
     "name": "stdout",
     "output_type": "stream",
     "text": [
      "  Train Loss: 0.6486, Train Acc: 0.7957\n",
      "  Val Loss:   0.8475, Val Acc:   0.6988\n",
      "Epoch 220/500\n"
     ]
    },
    {
     "name": "stderr",
     "output_type": "stream",
     "text": [
      "Training: 100%|██████████| 1/1 [00:00<00:00,  1.78it/s]\n",
      "Validation: 100%|██████████| 1/1 [00:00<00:00,  3.74it/s]\n"
     ]
    },
    {
     "name": "stdout",
     "output_type": "stream",
     "text": [
      "  Train Loss: 0.6013, Train Acc: 0.8130\n",
      "  Val Loss:   0.8843, Val Acc:   0.6747\n",
      "Epoch 221/500\n"
     ]
    },
    {
     "name": "stderr",
     "output_type": "stream",
     "text": [
      "Training: 100%|██████████| 1/1 [00:00<00:00,  2.31it/s]\n",
      "Validation: 100%|██████████| 1/1 [00:00<00:00,  4.51it/s]\n"
     ]
    },
    {
     "name": "stdout",
     "output_type": "stream",
     "text": [
      "  Train Loss: 1.1957, Train Acc: 0.6000\n",
      "  Val Loss:   0.7701, Val Acc:   0.6566\n",
      "Epoch 222/500\n"
     ]
    },
    {
     "name": "stderr",
     "output_type": "stream",
     "text": [
      "Training: 100%|██████████| 1/1 [00:00<00:00,  1.63it/s]\n",
      "Validation: 100%|██████████| 1/1 [00:00<00:00,  3.15it/s]\n"
     ]
    },
    {
     "name": "stdout",
     "output_type": "stream",
     "text": [
      "  Train Loss: 0.7485, Train Acc: 0.7304\n",
      "  Val Loss:   0.7819, Val Acc:   0.6928\n",
      "Epoch 223/500\n"
     ]
    },
    {
     "name": "stderr",
     "output_type": "stream",
     "text": [
      "Training: 100%|██████████| 1/1 [00:00<00:00,  1.91it/s]\n",
      "Validation: 100%|██████████| 1/1 [00:00<00:00,  3.49it/s]\n"
     ]
    },
    {
     "name": "stdout",
     "output_type": "stream",
     "text": [
      "  Train Loss: 0.7482, Train Acc: 0.6913\n",
      "  Val Loss:   0.6517, Val Acc:   0.7289\n",
      "Epoch 224/500\n"
     ]
    },
    {
     "name": "stderr",
     "output_type": "stream",
     "text": [
      "Training: 100%|██████████| 1/1 [00:00<00:00,  2.27it/s]\n",
      "Validation: 100%|██████████| 1/1 [00:00<00:00,  4.47it/s]\n"
     ]
    },
    {
     "name": "stdout",
     "output_type": "stream",
     "text": [
      "  Train Loss: 0.7661, Train Acc: 0.7174\n",
      "  Val Loss:   0.6135, Val Acc:   0.8494\n",
      "Epoch 225/500\n"
     ]
    },
    {
     "name": "stderr",
     "output_type": "stream",
     "text": [
      "Training: 100%|██████████| 1/1 [00:00<00:00,  2.55it/s]\n",
      "Validation: 100%|██████████| 1/1 [00:00<00:00,  6.72it/s]\n"
     ]
    },
    {
     "name": "stdout",
     "output_type": "stream",
     "text": [
      "  Train Loss: 0.8193, Train Acc: 0.7304\n",
      "  Val Loss:   0.6329, Val Acc:   0.8253\n",
      "Epoch 226/500\n"
     ]
    },
    {
     "name": "stderr",
     "output_type": "stream",
     "text": [
      "Training: 100%|██████████| 1/1 [00:00<00:00,  1.95it/s]\n",
      "Validation: 100%|██████████| 1/1 [00:00<00:00,  4.46it/s]\n"
     ]
    },
    {
     "name": "stdout",
     "output_type": "stream",
     "text": [
      "  Train Loss: 0.6335, Train Acc: 0.7783\n",
      "  Val Loss:   0.5587, Val Acc:   0.8614\n",
      "Epoch 227/500\n"
     ]
    },
    {
     "name": "stderr",
     "output_type": "stream",
     "text": [
      "Training: 100%|██████████| 1/1 [00:00<00:00,  2.79it/s]\n",
      "Validation: 100%|██████████| 1/1 [00:00<00:00,  5.05it/s]\n"
     ]
    },
    {
     "name": "stdout",
     "output_type": "stream",
     "text": [
      "  Train Loss: 0.7371, Train Acc: 0.7217\n",
      "  Val Loss:   0.7401, Val Acc:   0.7470\n",
      "Epoch 228/500\n"
     ]
    },
    {
     "name": "stderr",
     "output_type": "stream",
     "text": [
      "Training: 100%|██████████| 1/1 [00:00<00:00,  3.14it/s]\n",
      "Validation: 100%|██████████| 1/1 [00:00<00:00,  8.31it/s]\n"
     ]
    },
    {
     "name": "stdout",
     "output_type": "stream",
     "text": [
      "  Train Loss: 0.5881, Train Acc: 0.8391\n",
      "  Val Loss:   0.6404, Val Acc:   0.8012\n",
      "Epoch 229/500\n"
     ]
    },
    {
     "name": "stderr",
     "output_type": "stream",
     "text": [
      "Training: 100%|██████████| 1/1 [00:00<00:00,  2.49it/s]\n",
      "Validation: 100%|██████████| 1/1 [00:00<00:00,  4.16it/s]\n"
     ]
    },
    {
     "name": "stdout",
     "output_type": "stream",
     "text": [
      "  Train Loss: 0.6147, Train Acc: 0.7913\n",
      "  Val Loss:   0.8862, Val Acc:   0.6265\n",
      "Epoch 230/500\n"
     ]
    },
    {
     "name": "stderr",
     "output_type": "stream",
     "text": [
      "Training: 100%|██████████| 1/1 [00:00<00:00,  2.44it/s]\n",
      "Validation: 100%|██████████| 1/1 [00:00<00:00,  8.12it/s]\n"
     ]
    },
    {
     "name": "stdout",
     "output_type": "stream",
     "text": [
      "  Train Loss: 1.1348, Train Acc: 0.5652\n",
      "  Val Loss:   0.7461, Val Acc:   0.6867\n",
      "Epoch 231/500\n"
     ]
    },
    {
     "name": "stderr",
     "output_type": "stream",
     "text": [
      "Training: 100%|██████████| 1/1 [00:00<00:00,  2.18it/s]\n",
      "Validation: 100%|██████████| 1/1 [00:00<00:00,  5.96it/s]\n"
     ]
    },
    {
     "name": "stdout",
     "output_type": "stream",
     "text": [
      "  Train Loss: 0.7107, Train Acc: 0.7435\n",
      "  Val Loss:   0.6739, Val Acc:   0.7831\n",
      "Epoch 232/500\n"
     ]
    },
    {
     "name": "stderr",
     "output_type": "stream",
     "text": [
      "Training: 100%|██████████| 1/1 [00:00<00:00,  2.90it/s]\n",
      "Validation: 100%|██████████| 1/1 [00:00<00:00,  4.63it/s]\n"
     ]
    },
    {
     "name": "stdout",
     "output_type": "stream",
     "text": [
      "  Train Loss: 0.6809, Train Acc: 0.7609\n",
      "  Val Loss:   0.7234, Val Acc:   0.7410\n",
      "Epoch 233/500\n"
     ]
    },
    {
     "name": "stderr",
     "output_type": "stream",
     "text": [
      "Training: 100%|██████████| 1/1 [00:00<00:00,  3.18it/s]\n",
      "Validation: 100%|██████████| 1/1 [00:00<00:00,  3.34it/s]\n"
     ]
    },
    {
     "name": "stdout",
     "output_type": "stream",
     "text": [
      "  Train Loss: 0.6472, Train Acc: 0.7783\n",
      "  Val Loss:   0.6970, Val Acc:   0.7831\n",
      "Epoch 234/500\n"
     ]
    },
    {
     "name": "stderr",
     "output_type": "stream",
     "text": [
      "Training: 100%|██████████| 1/1 [00:00<00:00,  2.41it/s]\n",
      "Validation: 100%|██████████| 1/1 [00:00<00:00,  4.74it/s]\n"
     ]
    },
    {
     "name": "stdout",
     "output_type": "stream",
     "text": [
      "  Train Loss: 0.6978, Train Acc: 0.7522\n",
      "  Val Loss:   0.7242, Val Acc:   0.7169\n",
      "Epoch 235/500\n"
     ]
    },
    {
     "name": "stderr",
     "output_type": "stream",
     "text": [
      "Training: 100%|██████████| 1/1 [00:00<00:00,  3.27it/s]\n",
      "Validation: 100%|██████████| 1/1 [00:00<00:00,  5.62it/s]\n"
     ]
    },
    {
     "name": "stdout",
     "output_type": "stream",
     "text": [
      "  Train Loss: 0.6836, Train Acc: 0.7870\n",
      "  Val Loss:   0.6317, Val Acc:   0.7771\n",
      "Epoch 236/500\n"
     ]
    },
    {
     "name": "stderr",
     "output_type": "stream",
     "text": [
      "Training: 100%|██████████| 1/1 [00:00<00:00,  2.67it/s]\n",
      "Validation: 100%|██████████| 1/1 [00:00<00:00,  8.99it/s]\n"
     ]
    },
    {
     "name": "stdout",
     "output_type": "stream",
     "text": [
      "  Train Loss: 0.8340, Train Acc: 0.7043\n",
      "  Val Loss:   0.6470, Val Acc:   0.7711\n",
      "Epoch 237/500\n"
     ]
    },
    {
     "name": "stderr",
     "output_type": "stream",
     "text": [
      "Training: 100%|██████████| 1/1 [00:00<00:00,  2.17it/s]\n",
      "Validation: 100%|██████████| 1/1 [00:00<00:00,  8.71it/s]\n"
     ]
    },
    {
     "name": "stdout",
     "output_type": "stream",
     "text": [
      "  Train Loss: 0.7310, Train Acc: 0.6957\n",
      "  Val Loss:   0.6347, Val Acc:   0.7952\n",
      "Epoch 238/500\n"
     ]
    },
    {
     "name": "stderr",
     "output_type": "stream",
     "text": [
      "Training: 100%|██████████| 1/1 [00:00<00:00,  4.17it/s]\n",
      "Validation: 100%|██████████| 1/1 [00:00<00:00,  5.03it/s]\n"
     ]
    },
    {
     "name": "stdout",
     "output_type": "stream",
     "text": [
      "  Train Loss: 0.7154, Train Acc: 0.7261\n",
      "  Val Loss:   0.5793, Val Acc:   0.8253\n",
      "Epoch 239/500\n"
     ]
    },
    {
     "name": "stderr",
     "output_type": "stream",
     "text": [
      "Training: 100%|██████████| 1/1 [00:00<00:00,  1.91it/s]\n",
      "Validation: 100%|██████████| 1/1 [00:00<00:00,  5.63it/s]\n"
     ]
    },
    {
     "name": "stdout",
     "output_type": "stream",
     "text": [
      "  Train Loss: 0.8210, Train Acc: 0.6478\n",
      "  Val Loss:   0.5804, Val Acc:   0.8193\n",
      "Epoch 240/500\n"
     ]
    },
    {
     "name": "stderr",
     "output_type": "stream",
     "text": [
      "Training: 100%|██████████| 1/1 [00:00<00:00,  1.83it/s]\n",
      "Validation: 100%|██████████| 1/1 [00:00<00:00,  3.58it/s]\n"
     ]
    },
    {
     "name": "stdout",
     "output_type": "stream",
     "text": [
      "  Train Loss: 0.6689, Train Acc: 0.7739\n",
      "  Val Loss:   0.5664, Val Acc:   0.8434\n",
      "Epoch 241/500\n"
     ]
    },
    {
     "name": "stderr",
     "output_type": "stream",
     "text": [
      "Training: 100%|██████████| 1/1 [00:00<00:00,  2.78it/s]\n",
      "Validation: 100%|██████████| 1/1 [00:00<00:00,  5.01it/s]\n"
     ]
    },
    {
     "name": "stdout",
     "output_type": "stream",
     "text": [
      "  Train Loss: 0.5981, Train Acc: 0.8217\n",
      "  Val Loss:   0.6333, Val Acc:   0.7952\n",
      "Epoch 242/500\n"
     ]
    },
    {
     "name": "stderr",
     "output_type": "stream",
     "text": [
      "Training: 100%|██████████| 1/1 [00:00<00:00,  3.04it/s]\n",
      "Validation: 100%|██████████| 1/1 [00:00<00:00,  3.73it/s]\n"
     ]
    },
    {
     "name": "stdout",
     "output_type": "stream",
     "text": [
      "  Train Loss: 0.7696, Train Acc: 0.6913\n",
      "  Val Loss:   0.5648, Val Acc:   0.8614\n",
      "Epoch 243/500\n"
     ]
    },
    {
     "name": "stderr",
     "output_type": "stream",
     "text": [
      "Training: 100%|██████████| 1/1 [00:00<00:00,  2.87it/s]\n",
      "Validation: 100%|██████████| 1/1 [00:00<00:00,  3.96it/s]\n"
     ]
    },
    {
     "name": "stdout",
     "output_type": "stream",
     "text": [
      "  Train Loss: 0.6536, Train Acc: 0.7652\n",
      "  Val Loss:   0.6327, Val Acc:   0.7771\n",
      "Epoch 244/500\n"
     ]
    },
    {
     "name": "stderr",
     "output_type": "stream",
     "text": [
      "Training: 100%|██████████| 1/1 [00:00<00:00,  3.06it/s]\n",
      "Validation: 100%|██████████| 1/1 [00:00<00:00,  6.73it/s]\n"
     ]
    },
    {
     "name": "stdout",
     "output_type": "stream",
     "text": [
      "  Train Loss: 0.6481, Train Acc: 0.7565\n",
      "  Val Loss:   0.6235, Val Acc:   0.8614\n",
      "Epoch 245/500\n"
     ]
    },
    {
     "name": "stderr",
     "output_type": "stream",
     "text": [
      "Training: 100%|██████████| 1/1 [00:03<00:00,  3.16s/it]\n",
      "Validation: 100%|██████████| 1/1 [00:00<00:00,  7.13it/s]\n"
     ]
    },
    {
     "name": "stdout",
     "output_type": "stream",
     "text": [
      "  Train Loss: 0.8593, Train Acc: 0.6783\n",
      "  Val Loss:   0.5950, Val Acc:   0.8313\n",
      "Epoch 246/500\n"
     ]
    },
    {
     "name": "stderr",
     "output_type": "stream",
     "text": [
      "Training: 100%|██████████| 1/1 [00:00<00:00,  2.61it/s]\n",
      "Validation: 100%|██████████| 1/1 [00:00<00:00,  5.78it/s]\n"
     ]
    },
    {
     "name": "stdout",
     "output_type": "stream",
     "text": [
      "  Train Loss: 0.7236, Train Acc: 0.7130\n",
      "  Val Loss:   0.5808, Val Acc:   0.8675\n",
      "Epoch 247/500\n"
     ]
    },
    {
     "name": "stderr",
     "output_type": "stream",
     "text": [
      "Training: 100%|██████████| 1/1 [00:00<00:00,  2.60it/s]\n",
      "Validation: 100%|██████████| 1/1 [00:00<00:00,  5.94it/s]\n"
     ]
    },
    {
     "name": "stdout",
     "output_type": "stream",
     "text": [
      "  Train Loss: 0.6423, Train Acc: 0.7783\n",
      "  Val Loss:   0.5488, Val Acc:   0.8554\n",
      "Epoch 248/500\n"
     ]
    },
    {
     "name": "stderr",
     "output_type": "stream",
     "text": [
      "Training: 100%|██████████| 1/1 [00:00<00:00,  1.52it/s]\n",
      "Validation: 100%|██████████| 1/1 [00:00<00:00,  4.41it/s]\n"
     ]
    },
    {
     "name": "stdout",
     "output_type": "stream",
     "text": [
      "  Train Loss: 0.6556, Train Acc: 0.8000\n",
      "  Val Loss:   0.6329, Val Acc:   0.8012\n",
      "Epoch 249/500\n"
     ]
    },
    {
     "name": "stderr",
     "output_type": "stream",
     "text": [
      "Training: 100%|██████████| 1/1 [00:00<00:00,  2.12it/s]\n",
      "Validation: 100%|██████████| 1/1 [00:00<00:00,  4.93it/s]\n"
     ]
    },
    {
     "name": "stdout",
     "output_type": "stream",
     "text": [
      "  Train Loss: 0.5915, Train Acc: 0.8043\n",
      "  Val Loss:   0.5744, Val Acc:   0.8133\n",
      "Epoch 250/500\n"
     ]
    },
    {
     "name": "stderr",
     "output_type": "stream",
     "text": [
      "Training: 100%|██████████| 1/1 [00:00<00:00,  1.95it/s]\n",
      "Validation: 100%|██████████| 1/1 [00:00<00:00,  3.92it/s]\n"
     ]
    },
    {
     "name": "stdout",
     "output_type": "stream",
     "text": [
      "  Train Loss: 0.5827, Train Acc: 0.8130\n",
      "  Val Loss:   0.5425, Val Acc:   0.8133\n",
      "Epoch 251/500\n"
     ]
    },
    {
     "name": "stderr",
     "output_type": "stream",
     "text": [
      "Training: 100%|██████████| 1/1 [00:00<00:00,  1.91it/s]\n",
      "Validation: 100%|██████████| 1/1 [00:00<00:00,  6.56it/s]\n"
     ]
    },
    {
     "name": "stdout",
     "output_type": "stream",
     "text": [
      "  Train Loss: 0.5951, Train Acc: 0.8087\n",
      "  Val Loss:   0.5459, Val Acc:   0.8494\n",
      "Epoch 252/500\n"
     ]
    },
    {
     "name": "stderr",
     "output_type": "stream",
     "text": [
      "Training: 100%|██████████| 1/1 [00:00<00:00,  2.74it/s]\n",
      "Validation: 100%|██████████| 1/1 [00:00<00:00,  4.15it/s]\n"
     ]
    },
    {
     "name": "stdout",
     "output_type": "stream",
     "text": [
      "  Train Loss: 0.9872, Train Acc: 0.5870\n",
      "  Val Loss:   0.6681, Val Acc:   0.7289\n",
      "Epoch 253/500\n"
     ]
    },
    {
     "name": "stderr",
     "output_type": "stream",
     "text": [
      "Training: 100%|██████████| 1/1 [00:00<00:00,  3.61it/s]\n",
      "Validation: 100%|██████████| 1/1 [00:00<00:00,  3.45it/s]\n"
     ]
    },
    {
     "name": "stdout",
     "output_type": "stream",
     "text": [
      "  Train Loss: 0.5905, Train Acc: 0.8304\n",
      "  Val Loss:   0.4677, Val Acc:   0.9036\n",
      "Epoch 254/500\n"
     ]
    },
    {
     "name": "stderr",
     "output_type": "stream",
     "text": [
      "Training: 100%|██████████| 1/1 [00:00<00:00,  3.23it/s]\n",
      "Validation: 100%|██████████| 1/1 [00:00<00:00,  6.55it/s]\n"
     ]
    },
    {
     "name": "stdout",
     "output_type": "stream",
     "text": [
      "  Train Loss: 0.8321, Train Acc: 0.6652\n",
      "  Val Loss:   0.8001, Val Acc:   0.6747\n",
      "Epoch 255/500\n"
     ]
    },
    {
     "name": "stderr",
     "output_type": "stream",
     "text": [
      "Training: 100%|██████████| 1/1 [00:00<00:00,  2.49it/s]\n",
      "Validation: 100%|██████████| 1/1 [00:00<00:00,  7.22it/s]\n"
     ]
    },
    {
     "name": "stdout",
     "output_type": "stream",
     "text": [
      "  Train Loss: 0.6405, Train Acc: 0.7609\n",
      "  Val Loss:   0.5791, Val Acc:   0.8494\n",
      "Epoch 256/500\n"
     ]
    },
    {
     "name": "stderr",
     "output_type": "stream",
     "text": [
      "Training: 100%|██████████| 1/1 [00:00<00:00,  3.40it/s]\n",
      "Validation: 100%|██████████| 1/1 [00:00<00:00,  4.21it/s]\n"
     ]
    },
    {
     "name": "stdout",
     "output_type": "stream",
     "text": [
      "  Train Loss: 0.5942, Train Acc: 0.7913\n",
      "  Val Loss:   0.5644, Val Acc:   0.8253\n",
      "Epoch 257/500\n"
     ]
    },
    {
     "name": "stderr",
     "output_type": "stream",
     "text": [
      "Training: 100%|██████████| 1/1 [00:00<00:00,  2.07it/s]\n",
      "Validation: 100%|██████████| 1/1 [00:00<00:00,  9.16it/s]\n"
     ]
    },
    {
     "name": "stdout",
     "output_type": "stream",
     "text": [
      "  Train Loss: 0.6501, Train Acc: 0.7870\n",
      "  Val Loss:   0.6361, Val Acc:   0.7771\n",
      "Epoch 258/500\n"
     ]
    },
    {
     "name": "stderr",
     "output_type": "stream",
     "text": [
      "Training: 100%|██████████| 1/1 [00:00<00:00,  1.96it/s]\n",
      "Validation: 100%|██████████| 1/1 [00:00<00:00,  5.61it/s]\n"
     ]
    },
    {
     "name": "stdout",
     "output_type": "stream",
     "text": [
      "  Train Loss: 0.6756, Train Acc: 0.7348\n",
      "  Val Loss:   0.7523, Val Acc:   0.6928\n",
      "Epoch 259/500\n"
     ]
    },
    {
     "name": "stderr",
     "output_type": "stream",
     "text": [
      "Training: 100%|██████████| 1/1 [00:00<00:00,  2.39it/s]\n",
      "Validation: 100%|██████████| 1/1 [00:00<00:00,  3.23it/s]\n"
     ]
    },
    {
     "name": "stdout",
     "output_type": "stream",
     "text": [
      "  Train Loss: 0.6074, Train Acc: 0.7913\n",
      "  Val Loss:   0.6020, Val Acc:   0.8133\n",
      "Epoch 260/500\n"
     ]
    },
    {
     "name": "stderr",
     "output_type": "stream",
     "text": [
      "Training: 100%|██████████| 1/1 [00:00<00:00,  2.43it/s]\n",
      "Validation: 100%|██████████| 1/1 [00:00<00:00,  5.88it/s]\n"
     ]
    },
    {
     "name": "stdout",
     "output_type": "stream",
     "text": [
      "  Train Loss: 0.5115, Train Acc: 0.8391\n",
      "  Val Loss:   0.5122, Val Acc:   0.8494\n",
      "Epoch 261/500\n"
     ]
    },
    {
     "name": "stderr",
     "output_type": "stream",
     "text": [
      "Training: 100%|██████████| 1/1 [00:00<00:00,  3.02it/s]\n",
      "Validation: 100%|██████████| 1/1 [00:00<00:00,  2.98it/s]\n"
     ]
    },
    {
     "name": "stdout",
     "output_type": "stream",
     "text": [
      "  Train Loss: 0.5647, Train Acc: 0.7957\n",
      "  Val Loss:   0.5766, Val Acc:   0.8253\n",
      "Epoch 262/500\n"
     ]
    },
    {
     "name": "stderr",
     "output_type": "stream",
     "text": [
      "Training: 100%|██████████| 1/1 [00:00<00:00,  1.82it/s]\n",
      "Validation: 100%|██████████| 1/1 [00:00<00:00,  3.52it/s]\n"
     ]
    },
    {
     "name": "stdout",
     "output_type": "stream",
     "text": [
      "  Train Loss: 0.7939, Train Acc: 0.6435\n",
      "  Val Loss:   0.6483, Val Acc:   0.7711\n",
      "Epoch 263/500\n"
     ]
    },
    {
     "name": "stderr",
     "output_type": "stream",
     "text": [
      "Training: 100%|██████████| 1/1 [00:00<00:00,  1.81it/s]\n",
      "Validation: 100%|██████████| 1/1 [00:00<00:00,  3.39it/s]\n"
     ]
    },
    {
     "name": "stdout",
     "output_type": "stream",
     "text": [
      "  Train Loss: 0.5220, Train Acc: 0.8217\n",
      "  Val Loss:   0.5301, Val Acc:   0.8072\n",
      "Epoch 264/500\n"
     ]
    },
    {
     "name": "stderr",
     "output_type": "stream",
     "text": [
      "Training: 100%|██████████| 1/1 [00:00<00:00,  2.39it/s]\n",
      "Validation: 100%|██████████| 1/1 [00:00<00:00,  4.44it/s]\n"
     ]
    },
    {
     "name": "stdout",
     "output_type": "stream",
     "text": [
      "  Train Loss: 0.8064, Train Acc: 0.6522\n",
      "  Val Loss:   0.6030, Val Acc:   0.7711\n",
      "Epoch 265/500\n"
     ]
    },
    {
     "name": "stderr",
     "output_type": "stream",
     "text": [
      "Training: 100%|██████████| 1/1 [00:00<00:00,  1.74it/s]\n",
      "Validation: 100%|██████████| 1/1 [00:00<00:00,  4.82it/s]\n"
     ]
    },
    {
     "name": "stdout",
     "output_type": "stream",
     "text": [
      "  Train Loss: 0.6726, Train Acc: 0.7565\n",
      "  Val Loss:   0.6342, Val Acc:   0.7711\n",
      "Epoch 266/500\n"
     ]
    },
    {
     "name": "stderr",
     "output_type": "stream",
     "text": [
      "Training: 100%|██████████| 1/1 [00:00<00:00,  2.61it/s]\n",
      "Validation: 100%|██████████| 1/1 [00:00<00:00,  3.84it/s]\n"
     ]
    },
    {
     "name": "stdout",
     "output_type": "stream",
     "text": [
      "  Train Loss: 0.5965, Train Acc: 0.8217\n",
      "  Val Loss:   0.4726, Val Acc:   0.8976\n",
      "Epoch 267/500\n"
     ]
    },
    {
     "name": "stderr",
     "output_type": "stream",
     "text": [
      "Training: 100%|██████████| 1/1 [00:00<00:00,  2.41it/s]\n",
      "Validation: 100%|██████████| 1/1 [00:00<00:00,  3.43it/s]\n"
     ]
    },
    {
     "name": "stdout",
     "output_type": "stream",
     "text": [
      "  Train Loss: 0.6732, Train Acc: 0.7739\n",
      "  Val Loss:   0.6141, Val Acc:   0.7711\n",
      "Epoch 268/500\n"
     ]
    },
    {
     "name": "stderr",
     "output_type": "stream",
     "text": [
      "Training: 100%|██████████| 1/1 [00:00<00:00,  1.89it/s]\n",
      "Validation: 100%|██████████| 1/1 [00:00<00:00,  2.98it/s]\n"
     ]
    },
    {
     "name": "stdout",
     "output_type": "stream",
     "text": [
      "  Train Loss: 0.6275, Train Acc: 0.7391\n",
      "  Val Loss:   0.5827, Val Acc:   0.7952\n",
      "Epoch 269/500\n"
     ]
    },
    {
     "name": "stderr",
     "output_type": "stream",
     "text": [
      "Training: 100%|██████████| 1/1 [00:00<00:00,  1.83it/s]\n",
      "Validation: 100%|██████████| 1/1 [00:00<00:00,  3.14it/s]\n"
     ]
    },
    {
     "name": "stdout",
     "output_type": "stream",
     "text": [
      "  Train Loss: 0.5727, Train Acc: 0.8261\n",
      "  Val Loss:   0.5740, Val Acc:   0.8253\n",
      "Epoch 270/500\n"
     ]
    },
    {
     "name": "stderr",
     "output_type": "stream",
     "text": [
      "Training: 100%|██████████| 1/1 [00:00<00:00,  2.49it/s]\n",
      "Validation: 100%|██████████| 1/1 [00:00<00:00,  3.71it/s]\n"
     ]
    },
    {
     "name": "stdout",
     "output_type": "stream",
     "text": [
      "  Train Loss: 0.7281, Train Acc: 0.7087\n",
      "  Val Loss:   0.5855, Val Acc:   0.8133\n",
      "Epoch 271/500\n"
     ]
    },
    {
     "name": "stderr",
     "output_type": "stream",
     "text": [
      "Training: 100%|██████████| 1/1 [00:00<00:00,  3.16it/s]\n",
      "Validation: 100%|██████████| 1/1 [00:00<00:00,  8.92it/s]\n"
     ]
    },
    {
     "name": "stdout",
     "output_type": "stream",
     "text": [
      "  Train Loss: 0.5378, Train Acc: 0.8217\n",
      "  Val Loss:   0.4702, Val Acc:   0.9036\n",
      "Epoch 272/500\n"
     ]
    },
    {
     "name": "stderr",
     "output_type": "stream",
     "text": [
      "Training: 100%|██████████| 1/1 [00:00<00:00,  2.43it/s]\n",
      "Validation: 100%|██████████| 1/1 [00:00<00:00,  7.85it/s]\n"
     ]
    },
    {
     "name": "stdout",
     "output_type": "stream",
     "text": [
      "  Train Loss: 0.8712, Train Acc: 0.6087\n",
      "  Val Loss:   0.6876, Val Acc:   0.7349\n",
      "Epoch 273/500\n"
     ]
    },
    {
     "name": "stderr",
     "output_type": "stream",
     "text": [
      "Training: 100%|██████████| 1/1 [00:00<00:00,  1.87it/s]\n",
      "Validation: 100%|██████████| 1/1 [00:00<00:00,  6.45it/s]\n"
     ]
    },
    {
     "name": "stdout",
     "output_type": "stream",
     "text": [
      "  Train Loss: 0.5907, Train Acc: 0.7913\n",
      "  Val Loss:   0.4677, Val Acc:   0.8735\n",
      "Epoch 274/500\n"
     ]
    },
    {
     "name": "stderr",
     "output_type": "stream",
     "text": [
      "Training: 100%|██████████| 1/1 [00:00<00:00,  2.33it/s]\n",
      "Validation: 100%|██████████| 1/1 [00:00<00:00,  4.92it/s]\n"
     ]
    },
    {
     "name": "stdout",
     "output_type": "stream",
     "text": [
      "  Train Loss: 0.6561, Train Acc: 0.7739\n",
      "  Val Loss:   0.4883, Val Acc:   0.8675\n",
      "Epoch 275/500\n"
     ]
    },
    {
     "name": "stderr",
     "output_type": "stream",
     "text": [
      "Training: 100%|██████████| 1/1 [00:00<00:00,  1.93it/s]\n",
      "Validation: 100%|██████████| 1/1 [00:00<00:00,  7.78it/s]\n"
     ]
    },
    {
     "name": "stdout",
     "output_type": "stream",
     "text": [
      "  Train Loss: 0.5729, Train Acc: 0.8174\n",
      "  Val Loss:   0.5860, Val Acc:   0.8313\n",
      "Epoch 276/500\n"
     ]
    },
    {
     "name": "stderr",
     "output_type": "stream",
     "text": [
      "Training: 100%|██████████| 1/1 [00:00<00:00,  1.88it/s]\n",
      "Validation: 100%|██████████| 1/1 [00:00<00:00,  6.44it/s]\n"
     ]
    },
    {
     "name": "stdout",
     "output_type": "stream",
     "text": [
      "  Train Loss: 0.5291, Train Acc: 0.8087\n",
      "  Val Loss:   0.7650, Val Acc:   0.6747\n",
      "Epoch 277/500\n"
     ]
    },
    {
     "name": "stderr",
     "output_type": "stream",
     "text": [
      "Training: 100%|██████████| 1/1 [00:00<00:00,  2.65it/s]\n",
      "Validation: 100%|██████████| 1/1 [00:00<00:00,  4.64it/s]\n"
     ]
    },
    {
     "name": "stdout",
     "output_type": "stream",
     "text": [
      "  Train Loss: 0.5488, Train Acc: 0.8043\n",
      "  Val Loss:   0.4662, Val Acc:   0.8735\n",
      "Epoch 278/500\n"
     ]
    },
    {
     "name": "stderr",
     "output_type": "stream",
     "text": [
      "Training: 100%|██████████| 1/1 [00:00<00:00,  3.28it/s]\n",
      "Validation: 100%|██████████| 1/1 [00:00<00:00,  6.47it/s]\n"
     ]
    },
    {
     "name": "stdout",
     "output_type": "stream",
     "text": [
      "  Train Loss: 0.8352, Train Acc: 0.6261\n",
      "  Val Loss:   0.4640, Val Acc:   0.8554\n",
      "Epoch 279/500\n"
     ]
    },
    {
     "name": "stderr",
     "output_type": "stream",
     "text": [
      "Training: 100%|██████████| 1/1 [00:00<00:00,  3.86it/s]\n",
      "Validation: 100%|██████████| 1/1 [00:00<00:00,  4.89it/s]\n"
     ]
    },
    {
     "name": "stdout",
     "output_type": "stream",
     "text": [
      "  Train Loss: 0.6355, Train Acc: 0.7696\n",
      "  Val Loss:   0.6419, Val Acc:   0.7952\n",
      "Epoch 280/500\n"
     ]
    },
    {
     "name": "stderr",
     "output_type": "stream",
     "text": [
      "Training: 100%|██████████| 1/1 [00:00<00:00,  2.74it/s]\n",
      "Validation: 100%|██████████| 1/1 [00:00<00:00,  8.73it/s]\n"
     ]
    },
    {
     "name": "stdout",
     "output_type": "stream",
     "text": [
      "  Train Loss: 0.6162, Train Acc: 0.7957\n",
      "  Val Loss:   0.6002, Val Acc:   0.7651\n",
      "Epoch 281/500\n"
     ]
    },
    {
     "name": "stderr",
     "output_type": "stream",
     "text": [
      "Training: 100%|██████████| 1/1 [00:00<00:00,  2.18it/s]\n",
      "Validation: 100%|██████████| 1/1 [00:00<00:00, 10.40it/s]\n"
     ]
    },
    {
     "name": "stdout",
     "output_type": "stream",
     "text": [
      "  Train Loss: 0.6618, Train Acc: 0.7696\n",
      "  Val Loss:   0.6429, Val Acc:   0.7711\n",
      "Epoch 282/500\n"
     ]
    },
    {
     "name": "stderr",
     "output_type": "stream",
     "text": [
      "Training: 100%|██████████| 1/1 [00:00<00:00,  3.58it/s]\n",
      "Validation: 100%|██████████| 1/1 [00:00<00:00,  9.79it/s]\n"
     ]
    },
    {
     "name": "stdout",
     "output_type": "stream",
     "text": [
      "  Train Loss: 0.5019, Train Acc: 0.8609\n",
      "  Val Loss:   0.4822, Val Acc:   0.8855\n",
      "Epoch 283/500\n"
     ]
    },
    {
     "name": "stderr",
     "output_type": "stream",
     "text": [
      "Training: 100%|██████████| 1/1 [00:00<00:00,  3.25it/s]\n",
      "Validation: 100%|██████████| 1/1 [00:00<00:00,  4.12it/s]\n"
     ]
    },
    {
     "name": "stdout",
     "output_type": "stream",
     "text": [
      "  Train Loss: 0.5599, Train Acc: 0.7957\n",
      "  Val Loss:   0.5321, Val Acc:   0.8133\n",
      "Epoch 284/500\n"
     ]
    },
    {
     "name": "stderr",
     "output_type": "stream",
     "text": [
      "Training: 100%|██████████| 1/1 [00:00<00:00,  3.39it/s]\n",
      "Validation: 100%|██████████| 1/1 [00:00<00:00,  3.88it/s]\n"
     ]
    },
    {
     "name": "stdout",
     "output_type": "stream",
     "text": [
      "  Train Loss: 0.5616, Train Acc: 0.8304\n",
      "  Val Loss:   0.6141, Val Acc:   0.7349\n",
      "Epoch 285/500\n"
     ]
    },
    {
     "name": "stderr",
     "output_type": "stream",
     "text": [
      "Training: 100%|██████████| 1/1 [00:00<00:00,  2.61it/s]\n",
      "Validation: 100%|██████████| 1/1 [00:00<00:00,  5.36it/s]\n"
     ]
    },
    {
     "name": "stdout",
     "output_type": "stream",
     "text": [
      "  Train Loss: 0.6302, Train Acc: 0.7565\n",
      "  Val Loss:   0.4975, Val Acc:   0.8735\n",
      "Epoch 286/500\n"
     ]
    },
    {
     "name": "stderr",
     "output_type": "stream",
     "text": [
      "Training: 100%|██████████| 1/1 [00:00<00:00,  2.83it/s]\n",
      "Validation: 100%|██████████| 1/1 [00:00<00:00,  6.43it/s]\n"
     ]
    },
    {
     "name": "stdout",
     "output_type": "stream",
     "text": [
      "  Train Loss: 0.5769, Train Acc: 0.7652\n",
      "  Val Loss:   0.4751, Val Acc:   0.8855\n",
      "Epoch 287/500\n"
     ]
    },
    {
     "name": "stderr",
     "output_type": "stream",
     "text": [
      "Training: 100%|██████████| 1/1 [00:00<00:00,  2.91it/s]\n",
      "Validation: 100%|██████████| 1/1 [00:00<00:00,  5.16it/s]\n"
     ]
    },
    {
     "name": "stdout",
     "output_type": "stream",
     "text": [
      "  Train Loss: 0.5681, Train Acc: 0.8130\n",
      "  Val Loss:   0.5023, Val Acc:   0.8675\n",
      "Epoch 288/500\n"
     ]
    },
    {
     "name": "stderr",
     "output_type": "stream",
     "text": [
      "Training: 100%|██████████| 1/1 [00:00<00:00,  2.80it/s]\n",
      "Validation: 100%|██████████| 1/1 [00:00<00:00,  5.25it/s]\n"
     ]
    },
    {
     "name": "stdout",
     "output_type": "stream",
     "text": [
      "  Train Loss: 0.5308, Train Acc: 0.8304\n",
      "  Val Loss:   0.4980, Val Acc:   0.8735\n",
      "Epoch 289/500\n"
     ]
    },
    {
     "name": "stderr",
     "output_type": "stream",
     "text": [
      "Training: 100%|██████████| 1/1 [00:00<00:00,  2.82it/s]\n",
      "Validation: 100%|██████████| 1/1 [00:00<00:00,  4.28it/s]\n"
     ]
    },
    {
     "name": "stdout",
     "output_type": "stream",
     "text": [
      "  Train Loss: 0.6004, Train Acc: 0.7870\n",
      "  Val Loss:   0.5604, Val Acc:   0.8554\n",
      "Epoch 290/500\n"
     ]
    },
    {
     "name": "stderr",
     "output_type": "stream",
     "text": [
      "Training: 100%|██████████| 1/1 [00:00<00:00,  3.36it/s]\n",
      "Validation: 100%|██████████| 1/1 [00:00<00:00,  4.73it/s]\n"
     ]
    },
    {
     "name": "stdout",
     "output_type": "stream",
     "text": [
      "  Train Loss: 0.5405, Train Acc: 0.8391\n",
      "  Val Loss:   0.5046, Val Acc:   0.8916\n",
      "Epoch 291/500\n"
     ]
    },
    {
     "name": "stderr",
     "output_type": "stream",
     "text": [
      "Training: 100%|██████████| 1/1 [00:00<00:00,  2.86it/s]\n",
      "Validation: 100%|██████████| 1/1 [00:00<00:00,  4.59it/s]\n"
     ]
    },
    {
     "name": "stdout",
     "output_type": "stream",
     "text": [
      "  Train Loss: 0.5265, Train Acc: 0.8348\n",
      "  Val Loss:   0.4890, Val Acc:   0.8855\n",
      "Epoch 292/500\n"
     ]
    },
    {
     "name": "stderr",
     "output_type": "stream",
     "text": [
      "Training: 100%|██████████| 1/1 [00:00<00:00,  2.43it/s]\n",
      "Validation: 100%|██████████| 1/1 [00:00<00:00,  6.50it/s]\n"
     ]
    },
    {
     "name": "stdout",
     "output_type": "stream",
     "text": [
      "  Train Loss: 0.5487, Train Acc: 0.8391\n",
      "  Val Loss:   0.4914, Val Acc:   0.8614\n",
      "Epoch 293/500\n"
     ]
    },
    {
     "name": "stderr",
     "output_type": "stream",
     "text": [
      "Training: 100%|██████████| 1/1 [00:00<00:00,  2.07it/s]\n",
      "Validation: 100%|██████████| 1/1 [00:00<00:00,  7.47it/s]\n"
     ]
    },
    {
     "name": "stdout",
     "output_type": "stream",
     "text": [
      "  Train Loss: 0.5222, Train Acc: 0.8348\n",
      "  Val Loss:   0.5440, Val Acc:   0.8133\n",
      "Epoch 294/500\n"
     ]
    },
    {
     "name": "stderr",
     "output_type": "stream",
     "text": [
      "Training: 100%|██████████| 1/1 [00:00<00:00,  2.64it/s]\n",
      "Validation: 100%|██████████| 1/1 [00:00<00:00,  4.73it/s]\n"
     ]
    },
    {
     "name": "stdout",
     "output_type": "stream",
     "text": [
      "  Train Loss: 0.5668, Train Acc: 0.8087\n",
      "  Val Loss:   0.7384, Val Acc:   0.7289\n",
      "Epoch 295/500\n"
     ]
    },
    {
     "name": "stderr",
     "output_type": "stream",
     "text": [
      "Training: 100%|██████████| 1/1 [00:00<00:00,  2.85it/s]\n",
      "Validation: 100%|██████████| 1/1 [00:00<00:00,  4.01it/s]\n"
     ]
    },
    {
     "name": "stdout",
     "output_type": "stream",
     "text": [
      "  Train Loss: 0.5486, Train Acc: 0.7870\n",
      "  Val Loss:   0.5267, Val Acc:   0.8253\n",
      "Epoch 296/500\n"
     ]
    },
    {
     "name": "stderr",
     "output_type": "stream",
     "text": [
      "Training: 100%|██████████| 1/1 [00:03<00:00,  3.49s/it]\n",
      "Validation: 100%|██████████| 1/1 [00:00<00:00,  5.58it/s]\n"
     ]
    },
    {
     "name": "stdout",
     "output_type": "stream",
     "text": [
      "  Train Loss: 0.6496, Train Acc: 0.7913\n",
      "  Val Loss:   0.4212, Val Acc:   0.8976\n",
      "Epoch 297/500\n"
     ]
    },
    {
     "name": "stderr",
     "output_type": "stream",
     "text": [
      "Training: 100%|██████████| 1/1 [00:00<00:00,  3.12it/s]\n",
      "Validation: 100%|██████████| 1/1 [00:00<00:00,  5.11it/s]\n"
     ]
    },
    {
     "name": "stdout",
     "output_type": "stream",
     "text": [
      "  Train Loss: 0.6454, Train Acc: 0.7957\n",
      "  Val Loss:   0.4361, Val Acc:   0.8795\n",
      "Epoch 298/500\n"
     ]
    },
    {
     "name": "stderr",
     "output_type": "stream",
     "text": [
      "Training: 100%|██████████| 1/1 [00:00<00:00,  2.76it/s]\n",
      "Validation: 100%|██████████| 1/1 [00:00<00:00, 11.83it/s]\n"
     ]
    },
    {
     "name": "stdout",
     "output_type": "stream",
     "text": [
      "  Train Loss: 0.5766, Train Acc: 0.7522\n",
      "  Val Loss:   0.6889, Val Acc:   0.7108\n",
      "Epoch 299/500\n"
     ]
    },
    {
     "name": "stderr",
     "output_type": "stream",
     "text": [
      "Training: 100%|██████████| 1/1 [00:00<00:00,  2.48it/s]\n",
      "Validation: 100%|██████████| 1/1 [00:00<00:00,  4.16it/s]\n"
     ]
    },
    {
     "name": "stdout",
     "output_type": "stream",
     "text": [
      "  Train Loss: 0.5781, Train Acc: 0.8174\n",
      "  Val Loss:   0.4574, Val Acc:   0.8554\n",
      "Epoch 300/500\n"
     ]
    },
    {
     "name": "stderr",
     "output_type": "stream",
     "text": [
      "Training: 100%|██████████| 1/1 [00:00<00:00,  3.05it/s]\n",
      "Validation: 100%|██████████| 1/1 [00:00<00:00,  4.57it/s]\n"
     ]
    },
    {
     "name": "stdout",
     "output_type": "stream",
     "text": [
      "  Train Loss: 0.6570, Train Acc: 0.7435\n",
      "  Val Loss:   0.5241, Val Acc:   0.8554\n",
      "Epoch 301/500\n"
     ]
    },
    {
     "name": "stderr",
     "output_type": "stream",
     "text": [
      "Training: 100%|██████████| 1/1 [00:00<00:00,  2.97it/s]\n",
      "Validation: 100%|██████████| 1/1 [00:00<00:00,  3.51it/s]\n"
     ]
    },
    {
     "name": "stdout",
     "output_type": "stream",
     "text": [
      "  Train Loss: 0.5966, Train Acc: 0.8348\n",
      "  Val Loss:   0.4933, Val Acc:   0.8434\n",
      "Epoch 302/500\n"
     ]
    },
    {
     "name": "stderr",
     "output_type": "stream",
     "text": [
      "Training: 100%|██████████| 1/1 [00:00<00:00,  2.36it/s]\n",
      "Validation: 100%|██████████| 1/1 [00:00<00:00,  3.68it/s]\n"
     ]
    },
    {
     "name": "stdout",
     "output_type": "stream",
     "text": [
      "  Train Loss: 0.5044, Train Acc: 0.8652\n",
      "  Val Loss:   0.5186, Val Acc:   0.8735\n",
      "Epoch 303/500\n"
     ]
    },
    {
     "name": "stderr",
     "output_type": "stream",
     "text": [
      "Training: 100%|██████████| 1/1 [00:00<00:00,  2.70it/s]\n",
      "Validation: 100%|██████████| 1/1 [00:00<00:00,  4.58it/s]\n"
     ]
    },
    {
     "name": "stdout",
     "output_type": "stream",
     "text": [
      "  Train Loss: 0.5155, Train Acc: 0.8565\n",
      "  Val Loss:   0.4092, Val Acc:   0.9277\n",
      "Epoch 304/500\n"
     ]
    },
    {
     "name": "stderr",
     "output_type": "stream",
     "text": [
      "Training: 100%|██████████| 1/1 [00:00<00:00,  3.01it/s]\n",
      "Validation: 100%|██████████| 1/1 [00:00<00:00,  5.62it/s]\n"
     ]
    },
    {
     "name": "stdout",
     "output_type": "stream",
     "text": [
      "  Train Loss: 0.4503, Train Acc: 0.8957\n",
      "  Val Loss:   0.4132, Val Acc:   0.9277\n",
      "Epoch 305/500\n"
     ]
    },
    {
     "name": "stderr",
     "output_type": "stream",
     "text": [
      "Training: 100%|██████████| 1/1 [00:00<00:00,  3.12it/s]\n",
      "Validation: 100%|██████████| 1/1 [00:00<00:00,  8.81it/s]\n"
     ]
    },
    {
     "name": "stdout",
     "output_type": "stream",
     "text": [
      "  Train Loss: 0.7439, Train Acc: 0.7348\n",
      "  Val Loss:   0.4008, Val Acc:   0.9578\n",
      "Epoch 306/500\n"
     ]
    },
    {
     "name": "stderr",
     "output_type": "stream",
     "text": [
      "Training: 100%|██████████| 1/1 [00:00<00:00,  3.26it/s]\n",
      "Validation: 100%|██████████| 1/1 [00:00<00:00,  7.69it/s]\n"
     ]
    },
    {
     "name": "stdout",
     "output_type": "stream",
     "text": [
      "  Train Loss: 0.5771, Train Acc: 0.8217\n",
      "  Val Loss:   0.5535, Val Acc:   0.7892\n",
      "Epoch 307/500\n"
     ]
    },
    {
     "name": "stderr",
     "output_type": "stream",
     "text": [
      "Training: 100%|██████████| 1/1 [00:00<00:00,  3.03it/s]\n",
      "Validation: 100%|██████████| 1/1 [00:00<00:00,  5.04it/s]\n"
     ]
    },
    {
     "name": "stdout",
     "output_type": "stream",
     "text": [
      "  Train Loss: 0.4769, Train Acc: 0.8261\n",
      "  Val Loss:   0.5699, Val Acc:   0.7530\n",
      "Epoch 308/500\n"
     ]
    },
    {
     "name": "stderr",
     "output_type": "stream",
     "text": [
      "Training: 100%|██████████| 1/1 [00:00<00:00,  4.82it/s]\n",
      "Validation: 100%|██████████| 1/1 [00:00<00:00,  5.61it/s]\n"
     ]
    },
    {
     "name": "stdout",
     "output_type": "stream",
     "text": [
      "  Train Loss: 0.5503, Train Acc: 0.8000\n",
      "  Val Loss:   0.4981, Val Acc:   0.8554\n",
      "Epoch 309/500\n"
     ]
    },
    {
     "name": "stderr",
     "output_type": "stream",
     "text": [
      "Training: 100%|██████████| 1/1 [00:00<00:00,  1.85it/s]\n",
      "Validation: 100%|██████████| 1/1 [00:00<00:00,  3.87it/s]\n"
     ]
    },
    {
     "name": "stdout",
     "output_type": "stream",
     "text": [
      "  Train Loss: 0.5125, Train Acc: 0.8304\n",
      "  Val Loss:   0.4462, Val Acc:   0.8855\n",
      "Epoch 310/500\n"
     ]
    },
    {
     "name": "stderr",
     "output_type": "stream",
     "text": [
      "Training: 100%|██████████| 1/1 [00:00<00:00,  2.56it/s]\n",
      "Validation: 100%|██████████| 1/1 [00:00<00:00,  3.35it/s]\n"
     ]
    },
    {
     "name": "stdout",
     "output_type": "stream",
     "text": [
      "  Train Loss: 0.4610, Train Acc: 0.8870\n",
      "  Val Loss:   0.4763, Val Acc:   0.8494\n",
      "Epoch 311/500\n"
     ]
    },
    {
     "name": "stderr",
     "output_type": "stream",
     "text": [
      "Training: 100%|██████████| 1/1 [00:00<00:00,  2.16it/s]\n",
      "Validation: 100%|██████████| 1/1 [00:00<00:00,  8.67it/s]\n"
     ]
    },
    {
     "name": "stdout",
     "output_type": "stream",
     "text": [
      "  Train Loss: 0.6431, Train Acc: 0.7739\n",
      "  Val Loss:   0.5434, Val Acc:   0.8313\n",
      "Epoch 312/500\n"
     ]
    },
    {
     "name": "stderr",
     "output_type": "stream",
     "text": [
      "Training: 100%|██████████| 1/1 [00:00<00:00,  2.41it/s]\n",
      "Validation: 100%|██████████| 1/1 [00:00<00:00,  6.60it/s]\n"
     ]
    },
    {
     "name": "stdout",
     "output_type": "stream",
     "text": [
      "  Train Loss: 0.8696, Train Acc: 0.6696\n",
      "  Val Loss:   0.4310, Val Acc:   0.8976\n",
      "Epoch 313/500\n"
     ]
    },
    {
     "name": "stderr",
     "output_type": "stream",
     "text": [
      "Training: 100%|██████████| 1/1 [00:00<00:00,  3.52it/s]\n",
      "Validation: 100%|██████████| 1/1 [00:00<00:00,  3.64it/s]\n"
     ]
    },
    {
     "name": "stdout",
     "output_type": "stream",
     "text": [
      "  Train Loss: 0.5312, Train Acc: 0.8000\n",
      "  Val Loss:   0.4751, Val Acc:   0.8614\n",
      "Epoch 314/500\n"
     ]
    },
    {
     "name": "stderr",
     "output_type": "stream",
     "text": [
      "Training: 100%|██████████| 1/1 [00:00<00:00,  2.86it/s]\n",
      "Validation: 100%|██████████| 1/1 [00:00<00:00,  4.49it/s]\n"
     ]
    },
    {
     "name": "stdout",
     "output_type": "stream",
     "text": [
      "  Train Loss: 0.5520, Train Acc: 0.8130\n",
      "  Val Loss:   0.4665, Val Acc:   0.8735\n",
      "Epoch 315/500\n"
     ]
    },
    {
     "name": "stderr",
     "output_type": "stream",
     "text": [
      "Training: 100%|██████████| 1/1 [00:00<00:00,  3.50it/s]\n",
      "Validation: 100%|██████████| 1/1 [00:00<00:00,  8.15it/s]\n"
     ]
    },
    {
     "name": "stdout",
     "output_type": "stream",
     "text": [
      "  Train Loss: 0.4997, Train Acc: 0.8130\n",
      "  Val Loss:   0.4724, Val Acc:   0.8795\n",
      "Epoch 316/500\n"
     ]
    },
    {
     "name": "stderr",
     "output_type": "stream",
     "text": [
      "Training: 100%|██████████| 1/1 [00:00<00:00,  4.23it/s]\n",
      "Validation: 100%|██████████| 1/1 [00:00<00:00,  4.71it/s]\n"
     ]
    },
    {
     "name": "stdout",
     "output_type": "stream",
     "text": [
      "  Train Loss: 0.5689, Train Acc: 0.8217\n",
      "  Val Loss:   0.4551, Val Acc:   0.8916\n",
      "Epoch 317/500\n"
     ]
    },
    {
     "name": "stderr",
     "output_type": "stream",
     "text": [
      "Training: 100%|██████████| 1/1 [00:00<00:00,  3.21it/s]\n",
      "Validation: 100%|██████████| 1/1 [00:00<00:00,  4.75it/s]\n"
     ]
    },
    {
     "name": "stdout",
     "output_type": "stream",
     "text": [
      "  Train Loss: 0.5347, Train Acc: 0.7913\n",
      "  Val Loss:   0.5571, Val Acc:   0.8494\n",
      "Epoch 318/500\n"
     ]
    },
    {
     "name": "stderr",
     "output_type": "stream",
     "text": [
      "Training: 100%|██████████| 1/1 [00:00<00:00,  3.34it/s]\n",
      "Validation: 100%|██████████| 1/1 [00:00<00:00, 10.76it/s]\n"
     ]
    },
    {
     "name": "stdout",
     "output_type": "stream",
     "text": [
      "  Train Loss: 0.6169, Train Acc: 0.7609\n",
      "  Val Loss:   0.3873, Val Acc:   0.9096\n",
      "Epoch 319/500\n"
     ]
    },
    {
     "name": "stderr",
     "output_type": "stream",
     "text": [
      "Training: 100%|██████████| 1/1 [00:00<00:00,  3.51it/s]\n",
      "Validation: 100%|██████████| 1/1 [00:00<00:00,  4.55it/s]\n"
     ]
    },
    {
     "name": "stdout",
     "output_type": "stream",
     "text": [
      "  Train Loss: 0.6543, Train Acc: 0.7870\n",
      "  Val Loss:   0.5047, Val Acc:   0.8434\n",
      "Epoch 320/500\n"
     ]
    },
    {
     "name": "stderr",
     "output_type": "stream",
     "text": [
      "Training: 100%|██████████| 1/1 [00:00<00:00,  3.51it/s]\n",
      "Validation: 100%|██████████| 1/1 [00:00<00:00,  9.46it/s]\n"
     ]
    },
    {
     "name": "stdout",
     "output_type": "stream",
     "text": [
      "  Train Loss: 0.6707, Train Acc: 0.7348\n",
      "  Val Loss:   0.4943, Val Acc:   0.8373\n",
      "Epoch 321/500\n"
     ]
    },
    {
     "name": "stderr",
     "output_type": "stream",
     "text": [
      "Training: 100%|██████████| 1/1 [00:00<00:00,  4.03it/s]\n",
      "Validation: 100%|██████████| 1/1 [00:00<00:00, 13.65it/s]\n"
     ]
    },
    {
     "name": "stdout",
     "output_type": "stream",
     "text": [
      "  Train Loss: 0.5219, Train Acc: 0.8130\n",
      "  Val Loss:   0.4591, Val Acc:   0.8494\n",
      "Epoch 322/500\n"
     ]
    },
    {
     "name": "stderr",
     "output_type": "stream",
     "text": [
      "Training: 100%|██████████| 1/1 [00:00<00:00,  4.26it/s]\n",
      "Validation: 100%|██████████| 1/1 [00:00<00:00,  6.99it/s]\n"
     ]
    },
    {
     "name": "stdout",
     "output_type": "stream",
     "text": [
      "  Train Loss: 0.5214, Train Acc: 0.8217\n",
      "  Val Loss:   0.4684, Val Acc:   0.8675\n",
      "Epoch 323/500\n"
     ]
    },
    {
     "name": "stderr",
     "output_type": "stream",
     "text": [
      "Training: 100%|██████████| 1/1 [00:00<00:00,  3.87it/s]\n",
      "Validation: 100%|██████████| 1/1 [00:00<00:00,  6.66it/s]\n"
     ]
    },
    {
     "name": "stdout",
     "output_type": "stream",
     "text": [
      "  Train Loss: 0.4962, Train Acc: 0.8478\n",
      "  Val Loss:   0.4209, Val Acc:   0.8735\n",
      "Epoch 324/500\n"
     ]
    },
    {
     "name": "stderr",
     "output_type": "stream",
     "text": [
      "Training: 100%|██████████| 1/1 [00:00<00:00,  3.74it/s]\n",
      "Validation: 100%|██████████| 1/1 [00:00<00:00,  5.39it/s]\n"
     ]
    },
    {
     "name": "stdout",
     "output_type": "stream",
     "text": [
      "  Train Loss: 0.4336, Train Acc: 0.8783\n",
      "  Val Loss:   0.4293, Val Acc:   0.8675\n",
      "Epoch 325/500\n"
     ]
    },
    {
     "name": "stderr",
     "output_type": "stream",
     "text": [
      "Training: 100%|██████████| 1/1 [00:00<00:00,  4.21it/s]\n",
      "Validation: 100%|██████████| 1/1 [00:00<00:00,  6.48it/s]\n"
     ]
    },
    {
     "name": "stdout",
     "output_type": "stream",
     "text": [
      "  Train Loss: 0.5239, Train Acc: 0.8000\n",
      "  Val Loss:   0.3945, Val Acc:   0.9157\n",
      "Epoch 326/500\n"
     ]
    },
    {
     "name": "stderr",
     "output_type": "stream",
     "text": [
      "Training: 100%|██████████| 1/1 [00:00<00:00,  3.97it/s]\n",
      "Validation: 100%|██████████| 1/1 [00:00<00:00,  4.01it/s]\n"
     ]
    },
    {
     "name": "stdout",
     "output_type": "stream",
     "text": [
      "  Train Loss: 0.4114, Train Acc: 0.8826\n",
      "  Val Loss:   0.4125, Val Acc:   0.8855\n",
      "Epoch 327/500\n"
     ]
    },
    {
     "name": "stderr",
     "output_type": "stream",
     "text": [
      "Training: 100%|██████████| 1/1 [00:00<00:00,  2.94it/s]\n",
      "Validation: 100%|██████████| 1/1 [00:00<00:00,  5.50it/s]\n"
     ]
    },
    {
     "name": "stdout",
     "output_type": "stream",
     "text": [
      "  Train Loss: 0.4277, Train Acc: 0.8522\n",
      "  Val Loss:   0.5774, Val Acc:   0.7530\n",
      "Epoch 328/500\n"
     ]
    },
    {
     "name": "stderr",
     "output_type": "stream",
     "text": [
      "Training: 100%|██████████| 1/1 [00:00<00:00,  3.12it/s]\n",
      "Validation: 100%|██████████| 1/1 [00:00<00:00,  4.03it/s]\n"
     ]
    },
    {
     "name": "stdout",
     "output_type": "stream",
     "text": [
      "  Train Loss: 0.5931, Train Acc: 0.7652\n",
      "  Val Loss:   0.4602, Val Acc:   0.8675\n",
      "Epoch 329/500\n"
     ]
    },
    {
     "name": "stderr",
     "output_type": "stream",
     "text": [
      "Training: 100%|██████████| 1/1 [00:00<00:00,  2.72it/s]\n",
      "Validation: 100%|██████████| 1/1 [00:00<00:00,  4.36it/s]\n"
     ]
    },
    {
     "name": "stdout",
     "output_type": "stream",
     "text": [
      "  Train Loss: 0.6292, Train Acc: 0.7783\n",
      "  Val Loss:   0.4418, Val Acc:   0.8976\n",
      "Epoch 330/500\n"
     ]
    },
    {
     "name": "stderr",
     "output_type": "stream",
     "text": [
      "Training: 100%|██████████| 1/1 [00:00<00:00,  2.48it/s]\n",
      "Validation: 100%|██████████| 1/1 [00:00<00:00,  5.65it/s]\n"
     ]
    },
    {
     "name": "stdout",
     "output_type": "stream",
     "text": [
      "  Train Loss: 0.5640, Train Acc: 0.8261\n",
      "  Val Loss:   0.6859, Val Acc:   0.7892\n",
      "Epoch 331/500\n"
     ]
    },
    {
     "name": "stderr",
     "output_type": "stream",
     "text": [
      "Training: 100%|██████████| 1/1 [00:00<00:00,  3.54it/s]\n",
      "Validation: 100%|██████████| 1/1 [00:00<00:00,  4.45it/s]\n"
     ]
    },
    {
     "name": "stdout",
     "output_type": "stream",
     "text": [
      "  Train Loss: 0.5612, Train Acc: 0.7870\n",
      "  Val Loss:   0.4132, Val Acc:   0.9096\n",
      "Epoch 332/500\n"
     ]
    },
    {
     "name": "stderr",
     "output_type": "stream",
     "text": [
      "Training: 100%|██████████| 1/1 [00:00<00:00,  2.37it/s]\n",
      "Validation: 100%|██████████| 1/1 [00:00<00:00,  5.85it/s]\n"
     ]
    },
    {
     "name": "stdout",
     "output_type": "stream",
     "text": [
      "  Train Loss: 0.5181, Train Acc: 0.8522\n",
      "  Val Loss:   0.3984, Val Acc:   0.9036\n",
      "Epoch 333/500\n"
     ]
    },
    {
     "name": "stderr",
     "output_type": "stream",
     "text": [
      "Training: 100%|██████████| 1/1 [00:00<00:00,  3.15it/s]\n",
      "Validation: 100%|██████████| 1/1 [00:00<00:00,  4.43it/s]\n"
     ]
    },
    {
     "name": "stdout",
     "output_type": "stream",
     "text": [
      "  Train Loss: 0.4672, Train Acc: 0.8609\n",
      "  Val Loss:   0.4201, Val Acc:   0.8434\n",
      "Epoch 334/500\n"
     ]
    },
    {
     "name": "stderr",
     "output_type": "stream",
     "text": [
      "Training: 100%|██████████| 1/1 [00:00<00:00,  3.04it/s]\n",
      "Validation: 100%|██████████| 1/1 [00:00<00:00,  3.75it/s]\n"
     ]
    },
    {
     "name": "stdout",
     "output_type": "stream",
     "text": [
      "  Train Loss: 0.4775, Train Acc: 0.8348\n",
      "  Val Loss:   0.3609, Val Acc:   0.9157\n",
      "Epoch 335/500\n"
     ]
    },
    {
     "name": "stderr",
     "output_type": "stream",
     "text": [
      "Training: 100%|██████████| 1/1 [00:00<00:00,  2.25it/s]\n",
      "Validation: 100%|██████████| 1/1 [00:00<00:00,  4.71it/s]\n"
     ]
    },
    {
     "name": "stdout",
     "output_type": "stream",
     "text": [
      "  Train Loss: 0.5859, Train Acc: 0.7696\n",
      "  Val Loss:   0.4927, Val Acc:   0.8554\n",
      "Epoch 336/500\n"
     ]
    },
    {
     "name": "stderr",
     "output_type": "stream",
     "text": [
      "Training: 100%|██████████| 1/1 [00:00<00:00,  2.41it/s]\n",
      "Validation: 100%|██████████| 1/1 [00:00<00:00,  4.32it/s]\n"
     ]
    },
    {
     "name": "stdout",
     "output_type": "stream",
     "text": [
      "  Train Loss: 0.4263, Train Acc: 0.8826\n",
      "  Val Loss:   0.4343, Val Acc:   0.8735\n",
      "Epoch 337/500\n"
     ]
    },
    {
     "name": "stderr",
     "output_type": "stream",
     "text": [
      "Training: 100%|██████████| 1/1 [00:00<00:00,  2.25it/s]\n",
      "Validation: 100%|██████████| 1/1 [00:00<00:00,  4.61it/s]\n"
     ]
    },
    {
     "name": "stdout",
     "output_type": "stream",
     "text": [
      "  Train Loss: 0.4736, Train Acc: 0.8522\n",
      "  Val Loss:   0.3804, Val Acc:   0.9398\n",
      "Epoch 338/500\n"
     ]
    },
    {
     "name": "stderr",
     "output_type": "stream",
     "text": [
      "Training: 100%|██████████| 1/1 [00:00<00:00,  2.33it/s]\n",
      "Validation: 100%|██████████| 1/1 [00:00<00:00, 10.22it/s]\n"
     ]
    },
    {
     "name": "stdout",
     "output_type": "stream",
     "text": [
      "  Train Loss: 0.5372, Train Acc: 0.8043\n",
      "  Val Loss:   0.4058, Val Acc:   0.9096\n",
      "Epoch 339/500\n"
     ]
    },
    {
     "name": "stderr",
     "output_type": "stream",
     "text": [
      "Training: 100%|██████████| 1/1 [00:00<00:00,  2.93it/s]\n",
      "Validation: 100%|██████████| 1/1 [00:00<00:00,  6.10it/s]\n"
     ]
    },
    {
     "name": "stdout",
     "output_type": "stream",
     "text": [
      "  Train Loss: 0.4647, Train Acc: 0.8522\n",
      "  Val Loss:   0.4101, Val Acc:   0.9277\n",
      "Epoch 340/500\n"
     ]
    },
    {
     "name": "stderr",
     "output_type": "stream",
     "text": [
      "Training: 100%|██████████| 1/1 [00:00<00:00,  2.93it/s]\n",
      "Validation: 100%|██████████| 1/1 [00:00<00:00,  6.29it/s]\n"
     ]
    },
    {
     "name": "stdout",
     "output_type": "stream",
     "text": [
      "  Train Loss: 0.4731, Train Acc: 0.8304\n",
      "  Val Loss:   0.5045, Val Acc:   0.8795\n",
      "Epoch 341/500\n"
     ]
    },
    {
     "name": "stderr",
     "output_type": "stream",
     "text": [
      "Training: 100%|██████████| 1/1 [00:00<00:00,  3.47it/s]\n",
      "Validation: 100%|██████████| 1/1 [00:00<00:00,  6.05it/s]\n"
     ]
    },
    {
     "name": "stdout",
     "output_type": "stream",
     "text": [
      "  Train Loss: 0.3829, Train Acc: 0.9000\n",
      "  Val Loss:   0.4092, Val Acc:   0.8976\n",
      "Epoch 342/500\n"
     ]
    },
    {
     "name": "stderr",
     "output_type": "stream",
     "text": [
      "Training: 100%|██████████| 1/1 [00:00<00:00,  3.54it/s]\n",
      "Validation: 100%|██████████| 1/1 [00:00<00:00,  4.57it/s]\n"
     ]
    },
    {
     "name": "stdout",
     "output_type": "stream",
     "text": [
      "  Train Loss: 0.4251, Train Acc: 0.8565\n",
      "  Val Loss:   0.3580, Val Acc:   0.9337\n",
      "Epoch 343/500\n"
     ]
    },
    {
     "name": "stderr",
     "output_type": "stream",
     "text": [
      "Training: 100%|██████████| 1/1 [00:00<00:00,  2.73it/s]\n",
      "Validation: 100%|██████████| 1/1 [00:00<00:00,  5.93it/s]\n"
     ]
    },
    {
     "name": "stdout",
     "output_type": "stream",
     "text": [
      "  Train Loss: 0.5879, Train Acc: 0.8565\n",
      "  Val Loss:   0.4488, Val Acc:   0.8916\n",
      "Epoch 344/500\n"
     ]
    },
    {
     "name": "stderr",
     "output_type": "stream",
     "text": [
      "Training: 100%|██████████| 1/1 [00:00<00:00,  3.52it/s]\n",
      "Validation: 100%|██████████| 1/1 [00:00<00:00,  8.98it/s]\n"
     ]
    },
    {
     "name": "stdout",
     "output_type": "stream",
     "text": [
      "  Train Loss: 0.4687, Train Acc: 0.8174\n",
      "  Val Loss:   0.3828, Val Acc:   0.9157\n",
      "Epoch 345/500\n"
     ]
    },
    {
     "name": "stderr",
     "output_type": "stream",
     "text": [
      "Training: 100%|██████████| 1/1 [00:00<00:00,  3.25it/s]\n",
      "Validation: 100%|██████████| 1/1 [00:00<00:00,  8.60it/s]\n"
     ]
    },
    {
     "name": "stdout",
     "output_type": "stream",
     "text": [
      "  Train Loss: 0.4700, Train Acc: 0.8522\n",
      "  Val Loss:   0.3959, Val Acc:   0.9157\n",
      "Epoch 346/500\n"
     ]
    },
    {
     "name": "stderr",
     "output_type": "stream",
     "text": [
      "Training: 100%|██████████| 1/1 [00:00<00:00,  2.46it/s]\n",
      "Validation: 100%|██████████| 1/1 [00:00<00:00,  6.18it/s]\n"
     ]
    },
    {
     "name": "stdout",
     "output_type": "stream",
     "text": [
      "  Train Loss: 0.5562, Train Acc: 0.7783\n",
      "  Val Loss:   0.6105, Val Acc:   0.6928\n",
      "Epoch 347/500\n"
     ]
    },
    {
     "name": "stderr",
     "output_type": "stream",
     "text": [
      "Training: 100%|██████████| 1/1 [00:00<00:00,  2.45it/s]\n",
      "Validation: 100%|██████████| 1/1 [00:00<00:00,  6.36it/s]\n"
     ]
    },
    {
     "name": "stdout",
     "output_type": "stream",
     "text": [
      "  Train Loss: 0.4811, Train Acc: 0.8565\n",
      "  Val Loss:   0.4571, Val Acc:   0.8494\n",
      "Epoch 348/500\n"
     ]
    },
    {
     "name": "stderr",
     "output_type": "stream",
     "text": [
      "Training: 100%|██████████| 1/1 [00:00<00:00,  3.10it/s]\n",
      "Validation: 100%|██████████| 1/1 [00:00<00:00, 10.45it/s]\n"
     ]
    },
    {
     "name": "stdout",
     "output_type": "stream",
     "text": [
      "  Train Loss: 0.5535, Train Acc: 0.7739\n",
      "  Val Loss:   0.4839, Val Acc:   0.8072\n",
      "Epoch 349/500\n"
     ]
    },
    {
     "name": "stderr",
     "output_type": "stream",
     "text": [
      "Training: 100%|██████████| 1/1 [00:00<00:00,  3.99it/s]\n",
      "Validation: 100%|██████████| 1/1 [00:00<00:00,  8.36it/s]\n"
     ]
    },
    {
     "name": "stdout",
     "output_type": "stream",
     "text": [
      "  Train Loss: 0.6003, Train Acc: 0.7565\n",
      "  Val Loss:   0.4253, Val Acc:   0.8614\n",
      "Epoch 350/500\n"
     ]
    },
    {
     "name": "stderr",
     "output_type": "stream",
     "text": [
      "Training: 100%|██████████| 1/1 [00:00<00:00,  3.29it/s]\n",
      "Validation: 100%|██████████| 1/1 [00:00<00:00,  6.69it/s]\n"
     ]
    },
    {
     "name": "stdout",
     "output_type": "stream",
     "text": [
      "  Train Loss: 0.4840, Train Acc: 0.8174\n",
      "  Val Loss:   0.3747, Val Acc:   0.9096\n",
      "Epoch 351/500\n"
     ]
    },
    {
     "name": "stderr",
     "output_type": "stream",
     "text": [
      "Training: 100%|██████████| 1/1 [00:00<00:00,  3.91it/s]\n",
      "Validation: 100%|██████████| 1/1 [00:00<00:00, 10.31it/s]\n"
     ]
    },
    {
     "name": "stdout",
     "output_type": "stream",
     "text": [
      "  Train Loss: 0.4399, Train Acc: 0.8913\n",
      "  Val Loss:   0.3622, Val Acc:   0.8675\n",
      "Epoch 352/500\n"
     ]
    },
    {
     "name": "stderr",
     "output_type": "stream",
     "text": [
      "Training: 100%|██████████| 1/1 [00:00<00:00,  2.43it/s]\n",
      "Validation: 100%|██████████| 1/1 [00:00<00:00,  6.13it/s]\n"
     ]
    },
    {
     "name": "stdout",
     "output_type": "stream",
     "text": [
      "  Train Loss: 0.4902, Train Acc: 0.8304\n",
      "  Val Loss:   0.3778, Val Acc:   0.8916\n",
      "Epoch 353/500\n"
     ]
    },
    {
     "name": "stderr",
     "output_type": "stream",
     "text": [
      "Training: 100%|██████████| 1/1 [00:00<00:00,  2.64it/s]\n",
      "Validation: 100%|██████████| 1/1 [00:00<00:00,  7.19it/s]\n"
     ]
    },
    {
     "name": "stdout",
     "output_type": "stream",
     "text": [
      "  Train Loss: 0.5758, Train Acc: 0.7609\n",
      "  Val Loss:   0.4748, Val Acc:   0.8313\n",
      "Epoch 354/500\n"
     ]
    },
    {
     "name": "stderr",
     "output_type": "stream",
     "text": [
      "Training: 100%|██████████| 1/1 [00:00<00:00,  2.97it/s]\n",
      "Validation: 100%|██████████| 1/1 [00:00<00:00,  6.05it/s]\n"
     ]
    },
    {
     "name": "stdout",
     "output_type": "stream",
     "text": [
      "  Train Loss: 0.4766, Train Acc: 0.8348\n",
      "  Val Loss:   0.3747, Val Acc:   0.8916\n",
      "Epoch 355/500\n"
     ]
    },
    {
     "name": "stderr",
     "output_type": "stream",
     "text": [
      "Training: 100%|██████████| 1/1 [00:00<00:00,  2.59it/s]\n",
      "Validation: 100%|██████████| 1/1 [00:00<00:00,  6.66it/s]\n"
     ]
    },
    {
     "name": "stdout",
     "output_type": "stream",
     "text": [
      "  Train Loss: 0.4055, Train Acc: 0.8783\n",
      "  Val Loss:   0.4062, Val Acc:   0.8795\n",
      "Epoch 356/500\n"
     ]
    },
    {
     "name": "stderr",
     "output_type": "stream",
     "text": [
      "Training: 100%|██████████| 1/1 [00:00<00:00,  2.31it/s]\n",
      "Validation: 100%|██████████| 1/1 [00:02<00:00,  2.95s/it]\n"
     ]
    },
    {
     "name": "stdout",
     "output_type": "stream",
     "text": [
      "  Train Loss: 0.4150, Train Acc: 0.8957\n",
      "  Val Loss:   0.4132, Val Acc:   0.8614\n",
      "Epoch 357/500\n"
     ]
    },
    {
     "name": "stderr",
     "output_type": "stream",
     "text": [
      "Training: 100%|██████████| 1/1 [00:00<00:00,  2.49it/s]\n",
      "Validation: 100%|██████████| 1/1 [00:00<00:00,  6.10it/s]\n"
     ]
    },
    {
     "name": "stdout",
     "output_type": "stream",
     "text": [
      "  Train Loss: 0.5843, Train Acc: 0.7870\n",
      "  Val Loss:   0.3945, Val Acc:   0.9036\n",
      "Epoch 358/500\n"
     ]
    },
    {
     "name": "stderr",
     "output_type": "stream",
     "text": [
      "Training: 100%|██████████| 1/1 [00:00<00:00,  2.44it/s]\n",
      "Validation: 100%|██████████| 1/1 [00:00<00:00,  7.62it/s]\n"
     ]
    },
    {
     "name": "stdout",
     "output_type": "stream",
     "text": [
      "  Train Loss: 0.4604, Train Acc: 0.8826\n",
      "  Val Loss:   0.4997, Val Acc:   0.8253\n",
      "Epoch 359/500\n"
     ]
    },
    {
     "name": "stderr",
     "output_type": "stream",
     "text": [
      "Training: 100%|██████████| 1/1 [00:00<00:00,  2.35it/s]\n",
      "Validation: 100%|██████████| 1/1 [00:00<00:00,  7.82it/s]\n"
     ]
    },
    {
     "name": "stdout",
     "output_type": "stream",
     "text": [
      "  Train Loss: 0.4809, Train Acc: 0.8696\n",
      "  Val Loss:   0.3922, Val Acc:   0.8976\n",
      "Epoch 360/500\n"
     ]
    },
    {
     "name": "stderr",
     "output_type": "stream",
     "text": [
      "Training: 100%|██████████| 1/1 [00:00<00:00,  3.33it/s]\n",
      "Validation: 100%|██████████| 1/1 [00:00<00:00,  6.05it/s]\n"
     ]
    },
    {
     "name": "stdout",
     "output_type": "stream",
     "text": [
      "  Train Loss: 0.4026, Train Acc: 0.8957\n",
      "  Val Loss:   0.4627, Val Acc:   0.8313\n",
      "Epoch 361/500\n"
     ]
    },
    {
     "name": "stderr",
     "output_type": "stream",
     "text": [
      "Training: 100%|██████████| 1/1 [00:00<00:00,  3.43it/s]\n",
      "Validation: 100%|██████████| 1/1 [00:00<00:00,  3.72it/s]\n"
     ]
    },
    {
     "name": "stdout",
     "output_type": "stream",
     "text": [
      "  Train Loss: 0.4137, Train Acc: 0.9174\n",
      "  Val Loss:   0.3711, Val Acc:   0.8855\n",
      "Epoch 362/500\n"
     ]
    },
    {
     "name": "stderr",
     "output_type": "stream",
     "text": [
      "Training: 100%|██████████| 1/1 [00:00<00:00,  3.48it/s]\n",
      "Validation: 100%|██████████| 1/1 [00:00<00:00,  4.92it/s]\n"
     ]
    },
    {
     "name": "stdout",
     "output_type": "stream",
     "text": [
      "  Train Loss: 0.3818, Train Acc: 0.8652\n",
      "  Val Loss:   0.4073, Val Acc:   0.8494\n",
      "Epoch 363/500\n"
     ]
    },
    {
     "name": "stderr",
     "output_type": "stream",
     "text": [
      "Training: 100%|██████████| 1/1 [00:00<00:00,  3.12it/s]\n",
      "Validation: 100%|██████████| 1/1 [00:00<00:00,  4.45it/s]\n"
     ]
    },
    {
     "name": "stdout",
     "output_type": "stream",
     "text": [
      "  Train Loss: 0.3871, Train Acc: 0.8870\n",
      "  Val Loss:   0.6431, Val Acc:   0.7771\n",
      "Epoch 364/500\n"
     ]
    },
    {
     "name": "stderr",
     "output_type": "stream",
     "text": [
      "Training: 100%|██████████| 1/1 [00:00<00:00,  2.70it/s]\n",
      "Validation: 100%|██████████| 1/1 [00:00<00:00,  5.19it/s]\n"
     ]
    },
    {
     "name": "stdout",
     "output_type": "stream",
     "text": [
      "  Train Loss: 0.6523, Train Acc: 0.7565\n",
      "  Val Loss:   0.3511, Val Acc:   0.8855\n",
      "Epoch 365/500\n"
     ]
    },
    {
     "name": "stderr",
     "output_type": "stream",
     "text": [
      "Training: 100%|██████████| 1/1 [00:00<00:00,  1.97it/s]\n",
      "Validation: 100%|██████████| 1/1 [00:00<00:00,  8.84it/s]\n"
     ]
    },
    {
     "name": "stdout",
     "output_type": "stream",
     "text": [
      "  Train Loss: 0.7010, Train Acc: 0.7217\n",
      "  Val Loss:   0.4601, Val Acc:   0.8193\n",
      "Epoch 366/500\n"
     ]
    },
    {
     "name": "stderr",
     "output_type": "stream",
     "text": [
      "Training: 100%|██████████| 1/1 [00:00<00:00,  3.65it/s]\n",
      "Validation: 100%|██████████| 1/1 [00:00<00:00,  3.57it/s]\n"
     ]
    },
    {
     "name": "stdout",
     "output_type": "stream",
     "text": [
      "  Train Loss: 0.4224, Train Acc: 0.8304\n",
      "  Val Loss:   0.4103, Val Acc:   0.8976\n",
      "Epoch 367/500\n"
     ]
    },
    {
     "name": "stderr",
     "output_type": "stream",
     "text": [
      "Training: 100%|██████████| 1/1 [00:00<00:00,  2.86it/s]\n",
      "Validation: 100%|██████████| 1/1 [00:00<00:00,  3.31it/s]\n"
     ]
    },
    {
     "name": "stdout",
     "output_type": "stream",
     "text": [
      "  Train Loss: 0.3593, Train Acc: 0.9348\n",
      "  Val Loss:   0.6958, Val Acc:   0.8012\n",
      "Epoch 368/500\n"
     ]
    },
    {
     "name": "stderr",
     "output_type": "stream",
     "text": [
      "Training: 100%|██████████| 1/1 [00:00<00:00,  2.45it/s]\n",
      "Validation: 100%|██████████| 1/1 [00:00<00:00,  5.07it/s]\n"
     ]
    },
    {
     "name": "stdout",
     "output_type": "stream",
     "text": [
      "  Train Loss: 0.5381, Train Acc: 0.8304\n",
      "  Val Loss:   0.5402, Val Acc:   0.8193\n",
      "Epoch 369/500\n"
     ]
    },
    {
     "name": "stderr",
     "output_type": "stream",
     "text": [
      "Training: 100%|██████████| 1/1 [00:00<00:00,  2.59it/s]\n",
      "Validation: 100%|██████████| 1/1 [00:00<00:00,  5.98it/s]\n"
     ]
    },
    {
     "name": "stdout",
     "output_type": "stream",
     "text": [
      "  Train Loss: 0.4175, Train Acc: 0.8783\n",
      "  Val Loss:   0.3410, Val Acc:   0.9578\n",
      "Epoch 370/500\n"
     ]
    },
    {
     "name": "stderr",
     "output_type": "stream",
     "text": [
      "Training: 100%|██████████| 1/1 [00:00<00:00,  2.18it/s]\n",
      "Validation: 100%|██████████| 1/1 [00:00<00:00,  8.88it/s]\n"
     ]
    },
    {
     "name": "stdout",
     "output_type": "stream",
     "text": [
      "  Train Loss: 0.5361, Train Acc: 0.7957\n",
      "  Val Loss:   0.4505, Val Acc:   0.8434\n",
      "Epoch 371/500\n"
     ]
    },
    {
     "name": "stderr",
     "output_type": "stream",
     "text": [
      "Training: 100%|██████████| 1/1 [00:00<00:00,  2.21it/s]\n",
      "Validation: 100%|██████████| 1/1 [00:00<00:00,  4.59it/s]\n"
     ]
    },
    {
     "name": "stdout",
     "output_type": "stream",
     "text": [
      "  Train Loss: 0.5246, Train Acc: 0.8043\n",
      "  Val Loss:   0.3978, Val Acc:   0.8916\n",
      "Epoch 372/500\n"
     ]
    },
    {
     "name": "stderr",
     "output_type": "stream",
     "text": [
      "Training: 100%|██████████| 1/1 [00:00<00:00,  1.64it/s]\n",
      "Validation: 100%|██████████| 1/1 [00:00<00:00,  5.23it/s]\n"
     ]
    },
    {
     "name": "stdout",
     "output_type": "stream",
     "text": [
      "  Train Loss: 0.4722, Train Acc: 0.8652\n",
      "  Val Loss:   0.3275, Val Acc:   0.9639\n",
      "Epoch 373/500\n"
     ]
    },
    {
     "name": "stderr",
     "output_type": "stream",
     "text": [
      "Training: 100%|██████████| 1/1 [00:00<00:00,  2.93it/s]\n",
      "Validation: 100%|██████████| 1/1 [00:00<00:00,  6.04it/s]\n"
     ]
    },
    {
     "name": "stdout",
     "output_type": "stream",
     "text": [
      "  Train Loss: 0.4366, Train Acc: 0.8609\n",
      "  Val Loss:   0.4094, Val Acc:   0.9096\n",
      "Epoch 374/500\n"
     ]
    },
    {
     "name": "stderr",
     "output_type": "stream",
     "text": [
      "Training: 100%|██████████| 1/1 [00:00<00:00,  2.15it/s]\n",
      "Validation: 100%|██████████| 1/1 [00:00<00:00,  4.81it/s]\n"
     ]
    },
    {
     "name": "stdout",
     "output_type": "stream",
     "text": [
      "  Train Loss: 0.4213, Train Acc: 0.8522\n",
      "  Val Loss:   0.4730, Val Acc:   0.8434\n",
      "Epoch 375/500\n"
     ]
    },
    {
     "name": "stderr",
     "output_type": "stream",
     "text": [
      "Training: 100%|██████████| 1/1 [00:00<00:00,  2.43it/s]\n",
      "Validation: 100%|██████████| 1/1 [00:00<00:00,  8.06it/s]\n"
     ]
    },
    {
     "name": "stdout",
     "output_type": "stream",
     "text": [
      "  Train Loss: 0.4780, Train Acc: 0.8174\n",
      "  Val Loss:   0.3504, Val Acc:   0.9096\n",
      "Epoch 376/500\n"
     ]
    },
    {
     "name": "stderr",
     "output_type": "stream",
     "text": [
      "Training: 100%|██████████| 1/1 [00:00<00:00,  2.96it/s]\n",
      "Validation: 100%|██████████| 1/1 [00:00<00:00,  5.61it/s]\n"
     ]
    },
    {
     "name": "stdout",
     "output_type": "stream",
     "text": [
      "  Train Loss: 0.4164, Train Acc: 0.8826\n",
      "  Val Loss:   0.4830, Val Acc:   0.8253\n",
      "Epoch 377/500\n"
     ]
    },
    {
     "name": "stderr",
     "output_type": "stream",
     "text": [
      "Training: 100%|██████████| 1/1 [00:00<00:00,  3.63it/s]\n",
      "Validation: 100%|██████████| 1/1 [00:00<00:00, 10.30it/s]\n"
     ]
    },
    {
     "name": "stdout",
     "output_type": "stream",
     "text": [
      "  Train Loss: 0.4353, Train Acc: 0.8565\n",
      "  Val Loss:   0.3155, Val Acc:   0.9518\n",
      "Epoch 378/500\n"
     ]
    },
    {
     "name": "stderr",
     "output_type": "stream",
     "text": [
      "Training: 100%|██████████| 1/1 [00:00<00:00,  2.55it/s]\n",
      "Validation: 100%|██████████| 1/1 [00:00<00:00,  5.83it/s]\n"
     ]
    },
    {
     "name": "stdout",
     "output_type": "stream",
     "text": [
      "  Train Loss: 0.3583, Train Acc: 0.9043\n",
      "  Val Loss:   0.4503, Val Acc:   0.8554\n",
      "Epoch 379/500\n"
     ]
    },
    {
     "name": "stderr",
     "output_type": "stream",
     "text": [
      "Training: 100%|██████████| 1/1 [00:00<00:00,  2.69it/s]\n",
      "Validation: 100%|██████████| 1/1 [00:00<00:00,  4.56it/s]\n"
     ]
    },
    {
     "name": "stdout",
     "output_type": "stream",
     "text": [
      "  Train Loss: 0.5291, Train Acc: 0.7957\n",
      "  Val Loss:   0.3219, Val Acc:   0.9096\n",
      "Epoch 380/500\n"
     ]
    },
    {
     "name": "stderr",
     "output_type": "stream",
     "text": [
      "Training: 100%|██████████| 1/1 [00:00<00:00,  2.20it/s]\n",
      "Validation: 100%|██████████| 1/1 [00:00<00:00,  6.44it/s]\n"
     ]
    },
    {
     "name": "stdout",
     "output_type": "stream",
     "text": [
      "  Train Loss: 0.4406, Train Acc: 0.8478\n",
      "  Val Loss:   0.3280, Val Acc:   0.9277\n",
      "Epoch 381/500\n"
     ]
    },
    {
     "name": "stderr",
     "output_type": "stream",
     "text": [
      "Training: 100%|██████████| 1/1 [00:00<00:00,  2.36it/s]\n",
      "Validation: 100%|██████████| 1/1 [00:00<00:00,  7.07it/s]\n"
     ]
    },
    {
     "name": "stdout",
     "output_type": "stream",
     "text": [
      "  Train Loss: 0.3823, Train Acc: 0.8826\n",
      "  Val Loss:   0.3858, Val Acc:   0.8976\n",
      "Epoch 382/500\n"
     ]
    },
    {
     "name": "stderr",
     "output_type": "stream",
     "text": [
      "Training: 100%|██████████| 1/1 [00:00<00:00,  2.49it/s]\n",
      "Validation: 100%|██████████| 1/1 [00:00<00:00,  5.52it/s]\n"
     ]
    },
    {
     "name": "stdout",
     "output_type": "stream",
     "text": [
      "  Train Loss: 0.3861, Train Acc: 0.8870\n",
      "  Val Loss:   0.4123, Val Acc:   0.8735\n",
      "Epoch 383/500\n"
     ]
    },
    {
     "name": "stderr",
     "output_type": "stream",
     "text": [
      "Training: 100%|██████████| 1/1 [00:00<00:00,  3.37it/s]\n",
      "Validation: 100%|██████████| 1/1 [00:00<00:00,  5.75it/s]\n"
     ]
    },
    {
     "name": "stdout",
     "output_type": "stream",
     "text": [
      "  Train Loss: 0.5520, Train Acc: 0.8217\n",
      "  Val Loss:   0.3306, Val Acc:   0.8976\n",
      "Epoch 384/500\n"
     ]
    },
    {
     "name": "stderr",
     "output_type": "stream",
     "text": [
      "Training: 100%|██████████| 1/1 [00:00<00:00,  3.33it/s]\n",
      "Validation: 100%|██████████| 1/1 [00:00<00:00,  7.35it/s]\n"
     ]
    },
    {
     "name": "stdout",
     "output_type": "stream",
     "text": [
      "  Train Loss: 0.3697, Train Acc: 0.9217\n",
      "  Val Loss:   0.3643, Val Acc:   0.9096\n",
      "Epoch 385/500\n"
     ]
    },
    {
     "name": "stderr",
     "output_type": "stream",
     "text": [
      "Training: 100%|██████████| 1/1 [00:00<00:00,  3.02it/s]\n",
      "Validation: 100%|██████████| 1/1 [00:00<00:00,  7.16it/s]\n"
     ]
    },
    {
     "name": "stdout",
     "output_type": "stream",
     "text": [
      "  Train Loss: 0.4725, Train Acc: 0.8348\n",
      "  Val Loss:   0.4194, Val Acc:   0.8855\n",
      "Epoch 386/500\n"
     ]
    },
    {
     "name": "stderr",
     "output_type": "stream",
     "text": [
      "Training: 100%|██████████| 1/1 [00:00<00:00,  3.65it/s]\n",
      "Validation: 100%|██████████| 1/1 [00:00<00:00,  3.62it/s]\n"
     ]
    },
    {
     "name": "stdout",
     "output_type": "stream",
     "text": [
      "  Train Loss: 0.3394, Train Acc: 0.9435\n",
      "  Val Loss:   0.3672, Val Acc:   0.9518\n",
      "Epoch 387/500\n"
     ]
    },
    {
     "name": "stderr",
     "output_type": "stream",
     "text": [
      "Training: 100%|██████████| 1/1 [00:00<00:00,  2.42it/s]\n",
      "Validation: 100%|██████████| 1/1 [00:00<00:00,  3.79it/s]\n"
     ]
    },
    {
     "name": "stdout",
     "output_type": "stream",
     "text": [
      "  Train Loss: 0.5636, Train Acc: 0.7478\n",
      "  Val Loss:   0.4076, Val Acc:   0.8916\n",
      "Epoch 388/500\n"
     ]
    },
    {
     "name": "stderr",
     "output_type": "stream",
     "text": [
      "Training: 100%|██████████| 1/1 [00:00<00:00,  2.17it/s]\n",
      "Validation: 100%|██████████| 1/1 [00:00<00:00,  3.14it/s]\n"
     ]
    },
    {
     "name": "stdout",
     "output_type": "stream",
     "text": [
      "  Train Loss: 0.4276, Train Acc: 0.8522\n",
      "  Val Loss:   0.4003, Val Acc:   0.8976\n",
      "Epoch 389/500\n"
     ]
    },
    {
     "name": "stderr",
     "output_type": "stream",
     "text": [
      "Training: 100%|██████████| 1/1 [00:00<00:00,  2.38it/s]\n",
      "Validation: 100%|██████████| 1/1 [00:00<00:00,  5.02it/s]\n"
     ]
    },
    {
     "name": "stdout",
     "output_type": "stream",
     "text": [
      "  Train Loss: 0.3623, Train Acc: 0.9348\n",
      "  Val Loss:   0.4551, Val Acc:   0.8795\n",
      "Epoch 390/500\n"
     ]
    },
    {
     "name": "stderr",
     "output_type": "stream",
     "text": [
      "Training: 100%|██████████| 1/1 [00:00<00:00,  4.19it/s]\n",
      "Validation: 100%|██████████| 1/1 [00:00<00:00,  5.56it/s]\n"
     ]
    },
    {
     "name": "stdout",
     "output_type": "stream",
     "text": [
      "  Train Loss: 0.4609, Train Acc: 0.8174\n",
      "  Val Loss:   0.3058, Val Acc:   0.9578\n",
      "Epoch 391/500\n"
     ]
    },
    {
     "name": "stderr",
     "output_type": "stream",
     "text": [
      "Training: 100%|██████████| 1/1 [00:00<00:00,  2.62it/s]\n",
      "Validation: 100%|██████████| 1/1 [00:00<00:00, 10.22it/s]\n"
     ]
    },
    {
     "name": "stdout",
     "output_type": "stream",
     "text": [
      "  Train Loss: 0.4438, Train Acc: 0.8565\n",
      "  Val Loss:   0.3132, Val Acc:   0.9458\n",
      "Epoch 392/500\n"
     ]
    },
    {
     "name": "stderr",
     "output_type": "stream",
     "text": [
      "Training: 100%|██████████| 1/1 [00:00<00:00,  3.48it/s]\n",
      "Validation: 100%|██████████| 1/1 [00:00<00:00,  5.59it/s]\n"
     ]
    },
    {
     "name": "stdout",
     "output_type": "stream",
     "text": [
      "  Train Loss: 0.3684, Train Acc: 0.8913\n",
      "  Val Loss:   0.3837, Val Acc:   0.8795\n",
      "Epoch 393/500\n"
     ]
    },
    {
     "name": "stderr",
     "output_type": "stream",
     "text": [
      "Training: 100%|██████████| 1/1 [00:00<00:00,  2.12it/s]\n",
      "Validation: 100%|██████████| 1/1 [00:00<00:00,  3.83it/s]\n"
     ]
    },
    {
     "name": "stdout",
     "output_type": "stream",
     "text": [
      "  Train Loss: 0.3700, Train Acc: 0.8696\n",
      "  Val Loss:   0.4549, Val Acc:   0.8253\n",
      "Epoch 394/500\n"
     ]
    },
    {
     "name": "stderr",
     "output_type": "stream",
     "text": [
      "Training: 100%|██████████| 1/1 [00:00<00:00,  2.17it/s]\n",
      "Validation: 100%|██████████| 1/1 [00:00<00:00,  3.19it/s]\n"
     ]
    },
    {
     "name": "stdout",
     "output_type": "stream",
     "text": [
      "  Train Loss: 0.4914, Train Acc: 0.8174\n",
      "  Val Loss:   0.2843, Val Acc:   0.9337\n",
      "Epoch 395/500\n"
     ]
    },
    {
     "name": "stderr",
     "output_type": "stream",
     "text": [
      "Training: 100%|██████████| 1/1 [00:00<00:00,  2.15it/s]\n",
      "Validation: 100%|██████████| 1/1 [00:00<00:00,  3.91it/s]\n"
     ]
    },
    {
     "name": "stdout",
     "output_type": "stream",
     "text": [
      "  Train Loss: 0.4778, Train Acc: 0.7957\n",
      "  Val Loss:   0.3272, Val Acc:   0.9398\n",
      "Epoch 396/500\n"
     ]
    },
    {
     "name": "stderr",
     "output_type": "stream",
     "text": [
      "Training: 100%|██████████| 1/1 [00:00<00:00,  1.92it/s]\n",
      "Validation: 100%|██████████| 1/1 [00:00<00:00,  5.34it/s]\n"
     ]
    },
    {
     "name": "stdout",
     "output_type": "stream",
     "text": [
      "  Train Loss: 0.3175, Train Acc: 0.9174\n",
      "  Val Loss:   0.3715, Val Acc:   0.9036\n",
      "Epoch 397/500\n"
     ]
    },
    {
     "name": "stderr",
     "output_type": "stream",
     "text": [
      "Training: 100%|██████████| 1/1 [00:00<00:00,  1.99it/s]\n",
      "Validation: 100%|██████████| 1/1 [00:00<00:00,  8.62it/s]\n"
     ]
    },
    {
     "name": "stdout",
     "output_type": "stream",
     "text": [
      "  Train Loss: 0.4398, Train Acc: 0.8217\n",
      "  Val Loss:   0.3224, Val Acc:   0.9337\n",
      "Epoch 398/500\n"
     ]
    },
    {
     "name": "stderr",
     "output_type": "stream",
     "text": [
      "Training: 100%|██████████| 1/1 [00:00<00:00,  2.13it/s]\n",
      "Validation: 100%|██████████| 1/1 [00:00<00:00,  4.17it/s]\n"
     ]
    },
    {
     "name": "stdout",
     "output_type": "stream",
     "text": [
      "  Train Loss: 0.4285, Train Acc: 0.8565\n",
      "  Val Loss:   0.3055, Val Acc:   0.9699\n",
      "Epoch 399/500\n"
     ]
    },
    {
     "name": "stderr",
     "output_type": "stream",
     "text": [
      "Training: 100%|██████████| 1/1 [00:00<00:00,  3.33it/s]\n",
      "Validation: 100%|██████████| 1/1 [00:00<00:00,  6.08it/s]\n"
     ]
    },
    {
     "name": "stdout",
     "output_type": "stream",
     "text": [
      "  Train Loss: 0.3978, Train Acc: 0.8957\n",
      "  Val Loss:   0.4613, Val Acc:   0.8494\n",
      "Epoch 400/500\n"
     ]
    },
    {
     "name": "stderr",
     "output_type": "stream",
     "text": [
      "Training: 100%|██████████| 1/1 [00:00<00:00,  2.61it/s]\n",
      "Validation: 100%|██████████| 1/1 [00:00<00:00, 12.49it/s]\n"
     ]
    },
    {
     "name": "stdout",
     "output_type": "stream",
     "text": [
      "  Train Loss: 0.4635, Train Acc: 0.8348\n",
      "  Val Loss:   0.4389, Val Acc:   0.8434\n",
      "Epoch 401/500\n"
     ]
    },
    {
     "name": "stderr",
     "output_type": "stream",
     "text": [
      "Training: 100%|██████████| 1/1 [00:00<00:00,  2.80it/s]\n",
      "Validation: 100%|██████████| 1/1 [00:00<00:00,  6.17it/s]\n"
     ]
    },
    {
     "name": "stdout",
     "output_type": "stream",
     "text": [
      "  Train Loss: 0.5701, Train Acc: 0.7348\n",
      "  Val Loss:   0.5314, Val Acc:   0.7289\n",
      "Epoch 402/500\n"
     ]
    },
    {
     "name": "stderr",
     "output_type": "stream",
     "text": [
      "Training: 100%|██████████| 1/1 [00:00<00:00,  1.98it/s]\n",
      "Validation: 100%|██████████| 1/1 [00:00<00:00,  4.13it/s]\n"
     ]
    },
    {
     "name": "stdout",
     "output_type": "stream",
     "text": [
      "  Train Loss: 0.4262, Train Acc: 0.8522\n",
      "  Val Loss:   0.3835, Val Acc:   0.8916\n",
      "Epoch 403/500\n"
     ]
    },
    {
     "name": "stderr",
     "output_type": "stream",
     "text": [
      "Training: 100%|██████████| 1/1 [00:00<00:00,  1.86it/s]\n",
      "Validation: 100%|██████████| 1/1 [00:00<00:00,  6.44it/s]\n"
     ]
    },
    {
     "name": "stdout",
     "output_type": "stream",
     "text": [
      "  Train Loss: 0.3918, Train Acc: 0.9043\n",
      "  Val Loss:   0.3790, Val Acc:   0.9157\n",
      "Epoch 404/500\n"
     ]
    },
    {
     "name": "stderr",
     "output_type": "stream",
     "text": [
      "Training: 100%|██████████| 1/1 [00:00<00:00,  1.83it/s]\n",
      "Validation: 100%|██████████| 1/1 [00:00<00:00,  7.55it/s]\n"
     ]
    },
    {
     "name": "stdout",
     "output_type": "stream",
     "text": [
      "  Train Loss: 0.4063, Train Acc: 0.8652\n",
      "  Val Loss:   0.2843, Val Acc:   0.9759\n",
      "Epoch 405/500\n"
     ]
    },
    {
     "name": "stderr",
     "output_type": "stream",
     "text": [
      "Training: 100%|██████████| 1/1 [00:00<00:00,  3.09it/s]\n",
      "Validation: 100%|██████████| 1/1 [00:00<00:00,  5.19it/s]\n"
     ]
    },
    {
     "name": "stdout",
     "output_type": "stream",
     "text": [
      "  Train Loss: 0.3112, Train Acc: 0.9522\n",
      "  Val Loss:   0.3442, Val Acc:   0.8735\n",
      "Epoch 406/500\n"
     ]
    },
    {
     "name": "stderr",
     "output_type": "stream",
     "text": [
      "Training: 100%|██████████| 1/1 [00:00<00:00,  2.46it/s]\n",
      "Validation: 100%|██████████| 1/1 [00:00<00:00,  7.80it/s]\n"
     ]
    },
    {
     "name": "stdout",
     "output_type": "stream",
     "text": [
      "  Train Loss: 0.5370, Train Acc: 0.7870\n",
      "  Val Loss:   0.4015, Val Acc:   0.8193\n",
      "Epoch 407/500\n"
     ]
    },
    {
     "name": "stderr",
     "output_type": "stream",
     "text": [
      "Training: 100%|██████████| 1/1 [00:00<00:00,  3.07it/s]\n",
      "Validation: 100%|██████████| 1/1 [00:00<00:00,  7.85it/s]\n"
     ]
    },
    {
     "name": "stdout",
     "output_type": "stream",
     "text": [
      "  Train Loss: 0.3627, Train Acc: 0.9174\n",
      "  Val Loss:   0.3924, Val Acc:   0.8795\n",
      "Epoch 408/500\n"
     ]
    },
    {
     "name": "stderr",
     "output_type": "stream",
     "text": [
      "Training: 100%|██████████| 1/1 [00:00<00:00,  3.03it/s]\n",
      "Validation: 100%|██████████| 1/1 [00:00<00:00,  3.54it/s]\n"
     ]
    },
    {
     "name": "stdout",
     "output_type": "stream",
     "text": [
      "  Train Loss: 0.8558, Train Acc: 0.6696\n",
      "  Val Loss:   0.5332, Val Acc:   0.7892\n",
      "Epoch 409/500\n"
     ]
    },
    {
     "name": "stderr",
     "output_type": "stream",
     "text": [
      "Training: 100%|██████████| 1/1 [00:00<00:00,  2.89it/s]\n",
      "Validation: 100%|██████████| 1/1 [00:00<00:00,  4.65it/s]\n"
     ]
    },
    {
     "name": "stdout",
     "output_type": "stream",
     "text": [
      "  Train Loss: 0.8163, Train Acc: 0.6826\n",
      "  Val Loss:   0.7575, Val Acc:   0.7470\n",
      "Epoch 410/500\n"
     ]
    },
    {
     "name": "stderr",
     "output_type": "stream",
     "text": [
      "Training: 100%|██████████| 1/1 [00:03<00:00,  3.46s/it]\n",
      "Validation: 100%|██████████| 1/1 [00:00<00:00,  6.74it/s]\n"
     ]
    },
    {
     "name": "stdout",
     "output_type": "stream",
     "text": [
      "  Train Loss: 0.5111, Train Acc: 0.8391\n",
      "  Val Loss:   0.2818, Val Acc:   0.9217\n",
      "Epoch 411/500\n"
     ]
    },
    {
     "name": "stderr",
     "output_type": "stream",
     "text": [
      "Training: 100%|██████████| 1/1 [00:00<00:00,  2.66it/s]\n",
      "Validation: 100%|██████████| 1/1 [00:00<00:00,  5.75it/s]\n"
     ]
    },
    {
     "name": "stdout",
     "output_type": "stream",
     "text": [
      "  Train Loss: 0.4858, Train Acc: 0.8087\n",
      "  Val Loss:   0.3823, Val Acc:   0.8916\n",
      "Epoch 412/500\n"
     ]
    },
    {
     "name": "stderr",
     "output_type": "stream",
     "text": [
      "Training: 100%|██████████| 1/1 [00:00<00:00,  2.53it/s]\n",
      "Validation: 100%|██████████| 1/1 [00:00<00:00,  5.88it/s]\n"
     ]
    },
    {
     "name": "stdout",
     "output_type": "stream",
     "text": [
      "  Train Loss: 0.3884, Train Acc: 0.8652\n",
      "  Val Loss:   0.3697, Val Acc:   0.9096\n",
      "Epoch 413/500\n"
     ]
    },
    {
     "name": "stderr",
     "output_type": "stream",
     "text": [
      "Training: 100%|██████████| 1/1 [00:00<00:00,  2.57it/s]\n",
      "Validation: 100%|██████████| 1/1 [00:00<00:00,  5.59it/s]\n"
     ]
    },
    {
     "name": "stdout",
     "output_type": "stream",
     "text": [
      "  Train Loss: 0.4328, Train Acc: 0.8348\n",
      "  Val Loss:   0.4030, Val Acc:   0.8916\n",
      "Epoch 414/500\n"
     ]
    },
    {
     "name": "stderr",
     "output_type": "stream",
     "text": [
      "Training: 100%|██████████| 1/1 [00:00<00:00,  2.44it/s]\n",
      "Validation: 100%|██████████| 1/1 [00:00<00:00,  5.32it/s]\n"
     ]
    },
    {
     "name": "stdout",
     "output_type": "stream",
     "text": [
      "  Train Loss: 0.4778, Train Acc: 0.7783\n",
      "  Val Loss:   0.4132, Val Acc:   0.8855\n",
      "Epoch 415/500\n"
     ]
    },
    {
     "name": "stderr",
     "output_type": "stream",
     "text": [
      "Training: 100%|██████████| 1/1 [00:00<00:00,  2.38it/s]\n",
      "Validation: 100%|██████████| 1/1 [00:00<00:00,  5.77it/s]\n"
     ]
    },
    {
     "name": "stdout",
     "output_type": "stream",
     "text": [
      "  Train Loss: 0.5624, Train Acc: 0.7652\n",
      "  Val Loss:   0.3975, Val Acc:   0.8916\n",
      "Epoch 416/500\n"
     ]
    },
    {
     "name": "stderr",
     "output_type": "stream",
     "text": [
      "Training: 100%|██████████| 1/1 [00:00<00:00,  3.25it/s]\n",
      "Validation: 100%|██████████| 1/1 [00:00<00:00,  8.75it/s]\n"
     ]
    },
    {
     "name": "stdout",
     "output_type": "stream",
     "text": [
      "  Train Loss: 0.4651, Train Acc: 0.8565\n",
      "  Val Loss:   0.4555, Val Acc:   0.8193\n",
      "Epoch 417/500\n"
     ]
    },
    {
     "name": "stderr",
     "output_type": "stream",
     "text": [
      "Training: 100%|██████████| 1/1 [00:00<00:00,  2.19it/s]\n",
      "Validation: 100%|██████████| 1/1 [00:00<00:00,  4.81it/s]\n"
     ]
    },
    {
     "name": "stdout",
     "output_type": "stream",
     "text": [
      "  Train Loss: 0.4052, Train Acc: 0.8870\n",
      "  Val Loss:   0.3641, Val Acc:   0.9217\n",
      "Epoch 418/500\n"
     ]
    },
    {
     "name": "stderr",
     "output_type": "stream",
     "text": [
      "Training: 100%|██████████| 1/1 [00:00<00:00,  2.53it/s]\n",
      "Validation: 100%|██████████| 1/1 [00:00<00:00,  4.15it/s]\n"
     ]
    },
    {
     "name": "stdout",
     "output_type": "stream",
     "text": [
      "  Train Loss: 0.3606, Train Acc: 0.9130\n",
      "  Val Loss:   0.3750, Val Acc:   0.8916\n",
      "Epoch 419/500\n"
     ]
    },
    {
     "name": "stderr",
     "output_type": "stream",
     "text": [
      "Training: 100%|██████████| 1/1 [00:00<00:00,  2.13it/s]\n",
      "Validation: 100%|██████████| 1/1 [00:00<00:00,  2.91it/s]\n"
     ]
    },
    {
     "name": "stdout",
     "output_type": "stream",
     "text": [
      "  Train Loss: 0.4682, Train Acc: 0.8261\n",
      "  Val Loss:   0.2580, Val Acc:   0.9699\n",
      "Epoch 420/500\n"
     ]
    },
    {
     "name": "stderr",
     "output_type": "stream",
     "text": [
      "Training: 100%|██████████| 1/1 [00:00<00:00,  1.61it/s]\n",
      "Validation: 100%|██████████| 1/1 [00:00<00:00,  2.45it/s]\n"
     ]
    },
    {
     "name": "stdout",
     "output_type": "stream",
     "text": [
      "  Train Loss: 0.5285, Train Acc: 0.8087\n",
      "  Val Loss:   0.3643, Val Acc:   0.8855\n",
      "Epoch 421/500\n"
     ]
    },
    {
     "name": "stderr",
     "output_type": "stream",
     "text": [
      "Training: 100%|██████████| 1/1 [00:00<00:00,  1.52it/s]\n",
      "Validation: 100%|██████████| 1/1 [00:00<00:00,  3.75it/s]\n"
     ]
    },
    {
     "name": "stdout",
     "output_type": "stream",
     "text": [
      "  Train Loss: 0.6673, Train Acc: 0.7304\n",
      "  Val Loss:   0.2765, Val Acc:   0.9578\n",
      "Epoch 422/500\n"
     ]
    },
    {
     "name": "stderr",
     "output_type": "stream",
     "text": [
      "Training: 100%|██████████| 1/1 [00:00<00:00,  2.52it/s]\n",
      "Validation: 100%|██████████| 1/1 [00:00<00:00,  4.84it/s]\n"
     ]
    },
    {
     "name": "stdout",
     "output_type": "stream",
     "text": [
      "  Train Loss: 0.3678, Train Acc: 0.9000\n",
      "  Val Loss:   0.3111, Val Acc:   0.9458\n",
      "Epoch 423/500\n"
     ]
    },
    {
     "name": "stderr",
     "output_type": "stream",
     "text": [
      "Training: 100%|██████████| 1/1 [00:00<00:00,  2.78it/s]\n",
      "Validation: 100%|██████████| 1/1 [00:00<00:00,  4.19it/s]\n"
     ]
    },
    {
     "name": "stdout",
     "output_type": "stream",
     "text": [
      "  Train Loss: 0.3112, Train Acc: 0.9043\n",
      "  Val Loss:   0.3256, Val Acc:   0.9157\n",
      "Epoch 424/500\n"
     ]
    },
    {
     "name": "stderr",
     "output_type": "stream",
     "text": [
      "Training: 100%|██████████| 1/1 [00:00<00:00,  3.36it/s]\n",
      "Validation: 100%|██████████| 1/1 [00:00<00:00,  6.74it/s]\n"
     ]
    },
    {
     "name": "stdout",
     "output_type": "stream",
     "text": [
      "  Train Loss: 0.4446, Train Acc: 0.8609\n",
      "  Val Loss:   0.3481, Val Acc:   0.9096\n",
      "Epoch 425/500\n"
     ]
    },
    {
     "name": "stderr",
     "output_type": "stream",
     "text": [
      "Training: 100%|██████████| 1/1 [00:00<00:00,  2.26it/s]\n",
      "Validation: 100%|██████████| 1/1 [00:00<00:00,  6.23it/s]\n"
     ]
    },
    {
     "name": "stdout",
     "output_type": "stream",
     "text": [
      "  Train Loss: 0.4169, Train Acc: 0.8652\n",
      "  Val Loss:   0.3925, Val Acc:   0.8735\n",
      "Epoch 426/500\n"
     ]
    },
    {
     "name": "stderr",
     "output_type": "stream",
     "text": [
      "Training: 100%|██████████| 1/1 [00:00<00:00,  2.86it/s]\n",
      "Validation: 100%|██████████| 1/1 [00:00<00:00,  5.55it/s]\n"
     ]
    },
    {
     "name": "stdout",
     "output_type": "stream",
     "text": [
      "  Train Loss: 0.3855, Train Acc: 0.8739\n",
      "  Val Loss:   0.2789, Val Acc:   0.9578\n",
      "Epoch 427/500\n"
     ]
    },
    {
     "name": "stderr",
     "output_type": "stream",
     "text": [
      "Training: 100%|██████████| 1/1 [00:00<00:00,  2.68it/s]\n",
      "Validation: 100%|██████████| 1/1 [00:00<00:00,  5.59it/s]\n"
     ]
    },
    {
     "name": "stdout",
     "output_type": "stream",
     "text": [
      "  Train Loss: 0.4615, Train Acc: 0.8261\n",
      "  Val Loss:   0.3011, Val Acc:   0.8976\n",
      "Epoch 428/500\n"
     ]
    },
    {
     "name": "stderr",
     "output_type": "stream",
     "text": [
      "Training: 100%|██████████| 1/1 [00:00<00:00,  2.52it/s]\n",
      "Validation: 100%|██████████| 1/1 [00:00<00:00,  8.30it/s]\n"
     ]
    },
    {
     "name": "stdout",
     "output_type": "stream",
     "text": [
      "  Train Loss: 0.4644, Train Acc: 0.8522\n",
      "  Val Loss:   0.3214, Val Acc:   0.9337\n",
      "Epoch 429/500\n"
     ]
    },
    {
     "name": "stderr",
     "output_type": "stream",
     "text": [
      "Training: 100%|██████████| 1/1 [00:00<00:00,  2.04it/s]\n",
      "Validation: 100%|██████████| 1/1 [00:00<00:00, 10.69it/s]\n"
     ]
    },
    {
     "name": "stdout",
     "output_type": "stream",
     "text": [
      "  Train Loss: 0.3496, Train Acc: 0.9043\n",
      "  Val Loss:   0.4119, Val Acc:   0.8434\n",
      "Epoch 430/500\n"
     ]
    },
    {
     "name": "stderr",
     "output_type": "stream",
     "text": [
      "Training: 100%|██████████| 1/1 [00:00<00:00,  2.35it/s]\n",
      "Validation: 100%|██████████| 1/1 [00:00<00:00,  4.97it/s]\n"
     ]
    },
    {
     "name": "stdout",
     "output_type": "stream",
     "text": [
      "  Train Loss: 0.3730, Train Acc: 0.8913\n",
      "  Val Loss:   0.3237, Val Acc:   0.9277\n",
      "Epoch 431/500\n"
     ]
    },
    {
     "name": "stderr",
     "output_type": "stream",
     "text": [
      "Training: 100%|██████████| 1/1 [00:00<00:00,  2.91it/s]\n",
      "Validation: 100%|██████████| 1/1 [00:00<00:00,  4.49it/s]\n"
     ]
    },
    {
     "name": "stdout",
     "output_type": "stream",
     "text": [
      "  Train Loss: 0.2975, Train Acc: 0.9217\n",
      "  Val Loss:   0.2584, Val Acc:   0.9699\n",
      "Epoch 432/500\n"
     ]
    },
    {
     "name": "stderr",
     "output_type": "stream",
     "text": [
      "Training: 100%|██████████| 1/1 [00:00<00:00,  2.78it/s]\n",
      "Validation: 100%|██████████| 1/1 [00:00<00:00,  5.91it/s]\n"
     ]
    },
    {
     "name": "stdout",
     "output_type": "stream",
     "text": [
      "  Train Loss: 0.3933, Train Acc: 0.8696\n",
      "  Val Loss:   0.2950, Val Acc:   0.9398\n",
      "Epoch 433/500\n"
     ]
    },
    {
     "name": "stderr",
     "output_type": "stream",
     "text": [
      "Training: 100%|██████████| 1/1 [00:00<00:00,  2.75it/s]\n",
      "Validation: 100%|██████████| 1/1 [00:00<00:00,  6.05it/s]\n"
     ]
    },
    {
     "name": "stdout",
     "output_type": "stream",
     "text": [
      "  Train Loss: 0.4026, Train Acc: 0.8870\n",
      "  Val Loss:   0.3088, Val Acc:   0.9518\n",
      "Epoch 434/500\n"
     ]
    },
    {
     "name": "stderr",
     "output_type": "stream",
     "text": [
      "Training: 100%|██████████| 1/1 [00:00<00:00,  2.47it/s]\n",
      "Validation: 100%|██████████| 1/1 [00:00<00:00,  6.79it/s]\n"
     ]
    },
    {
     "name": "stdout",
     "output_type": "stream",
     "text": [
      "  Train Loss: 0.2918, Train Acc: 0.9565\n",
      "  Val Loss:   0.2708, Val Acc:   0.9578\n",
      "Epoch 435/500\n"
     ]
    },
    {
     "name": "stderr",
     "output_type": "stream",
     "text": [
      "Training: 100%|██████████| 1/1 [00:00<00:00,  2.44it/s]\n",
      "Validation: 100%|██████████| 1/1 [00:00<00:00,  5.75it/s]\n"
     ]
    },
    {
     "name": "stdout",
     "output_type": "stream",
     "text": [
      "  Train Loss: 0.3416, Train Acc: 0.9087\n",
      "  Val Loss:   0.2805, Val Acc:   0.9518\n",
      "Epoch 436/500\n"
     ]
    },
    {
     "name": "stderr",
     "output_type": "stream",
     "text": [
      "Training: 100%|██████████| 1/1 [00:00<00:00,  2.40it/s]\n",
      "Validation: 100%|██████████| 1/1 [00:00<00:00,  4.23it/s]\n"
     ]
    },
    {
     "name": "stdout",
     "output_type": "stream",
     "text": [
      "  Train Loss: 0.3331, Train Acc: 0.9000\n",
      "  Val Loss:   0.3459, Val Acc:   0.8855\n",
      "Epoch 437/500\n"
     ]
    },
    {
     "name": "stderr",
     "output_type": "stream",
     "text": [
      "Training: 100%|██████████| 1/1 [00:00<00:00,  2.27it/s]\n",
      "Validation: 100%|██████████| 1/1 [00:00<00:00,  7.24it/s]\n"
     ]
    },
    {
     "name": "stdout",
     "output_type": "stream",
     "text": [
      "  Train Loss: 0.2993, Train Acc: 0.9522\n",
      "  Val Loss:   0.2703, Val Acc:   0.9518\n",
      "Epoch 438/500\n"
     ]
    },
    {
     "name": "stderr",
     "output_type": "stream",
     "text": [
      "Training: 100%|██████████| 1/1 [00:00<00:00,  2.00it/s]\n",
      "Validation: 100%|██████████| 1/1 [00:00<00:00,  5.83it/s]\n"
     ]
    },
    {
     "name": "stdout",
     "output_type": "stream",
     "text": [
      "  Train Loss: 0.5437, Train Acc: 0.8304\n",
      "  Val Loss:   0.3477, Val Acc:   0.8976\n",
      "Epoch 439/500\n"
     ]
    },
    {
     "name": "stderr",
     "output_type": "stream",
     "text": [
      "Training: 100%|██████████| 1/1 [00:00<00:00,  2.13it/s]\n",
      "Validation: 100%|██████████| 1/1 [00:00<00:00,  6.67it/s]\n"
     ]
    },
    {
     "name": "stdout",
     "output_type": "stream",
     "text": [
      "  Train Loss: 0.3380, Train Acc: 0.9043\n",
      "  Val Loss:   0.3301, Val Acc:   0.9337\n",
      "Epoch 440/500\n"
     ]
    },
    {
     "name": "stderr",
     "output_type": "stream",
     "text": [
      "Training: 100%|██████████| 1/1 [00:00<00:00,  1.95it/s]\n",
      "Validation: 100%|██████████| 1/1 [00:00<00:00,  4.93it/s]\n"
     ]
    },
    {
     "name": "stdout",
     "output_type": "stream",
     "text": [
      "  Train Loss: 0.3269, Train Acc: 0.9261\n",
      "  Val Loss:   0.3082, Val Acc:   0.9337\n",
      "Epoch 441/500\n"
     ]
    },
    {
     "name": "stderr",
     "output_type": "stream",
     "text": [
      "Training: 100%|██████████| 1/1 [00:00<00:00,  2.71it/s]\n",
      "Validation: 100%|██████████| 1/1 [00:00<00:00,  4.23it/s]\n"
     ]
    },
    {
     "name": "stdout",
     "output_type": "stream",
     "text": [
      "  Train Loss: 0.3201, Train Acc: 0.9304\n",
      "  Val Loss:   0.2996, Val Acc:   0.9277\n",
      "Epoch 442/500\n"
     ]
    },
    {
     "name": "stderr",
     "output_type": "stream",
     "text": [
      "Training: 100%|██████████| 1/1 [00:00<00:00,  1.96it/s]\n",
      "Validation: 100%|██████████| 1/1 [00:00<00:00,  3.47it/s]\n"
     ]
    },
    {
     "name": "stdout",
     "output_type": "stream",
     "text": [
      "  Train Loss: 0.5044, Train Acc: 0.8130\n",
      "  Val Loss:   0.3163, Val Acc:   0.9096\n",
      "Epoch 443/500\n"
     ]
    },
    {
     "name": "stderr",
     "output_type": "stream",
     "text": [
      "Training: 100%|██████████| 1/1 [00:00<00:00,  2.29it/s]\n",
      "Validation: 100%|██████████| 1/1 [00:00<00:00,  4.94it/s]\n"
     ]
    },
    {
     "name": "stdout",
     "output_type": "stream",
     "text": [
      "  Train Loss: 0.4234, Train Acc: 0.8391\n",
      "  Val Loss:   0.2839, Val Acc:   0.9337\n",
      "Epoch 444/500\n"
     ]
    },
    {
     "name": "stderr",
     "output_type": "stream",
     "text": [
      "Training: 100%|██████████| 1/1 [00:00<00:00,  2.12it/s]\n",
      "Validation: 100%|██████████| 1/1 [00:00<00:00,  5.46it/s]\n"
     ]
    },
    {
     "name": "stdout",
     "output_type": "stream",
     "text": [
      "  Train Loss: 0.3496, Train Acc: 0.9000\n",
      "  Val Loss:   0.2791, Val Acc:   0.9398\n",
      "Epoch 445/500\n"
     ]
    },
    {
     "name": "stderr",
     "output_type": "stream",
     "text": [
      "Training: 100%|██████████| 1/1 [00:00<00:00,  2.62it/s]\n",
      "Validation: 100%|██████████| 1/1 [00:00<00:00,  5.63it/s]\n"
     ]
    },
    {
     "name": "stdout",
     "output_type": "stream",
     "text": [
      "  Train Loss: 0.3172, Train Acc: 0.9304\n",
      "  Val Loss:   0.2931, Val Acc:   0.9578\n",
      "Epoch 446/500\n"
     ]
    },
    {
     "name": "stderr",
     "output_type": "stream",
     "text": [
      "Training: 100%|██████████| 1/1 [00:00<00:00,  2.73it/s]\n",
      "Validation: 100%|██████████| 1/1 [00:00<00:00,  4.25it/s]\n"
     ]
    },
    {
     "name": "stdout",
     "output_type": "stream",
     "text": [
      "  Train Loss: 0.3111, Train Acc: 0.9348\n",
      "  Val Loss:   0.3363, Val Acc:   0.8855\n",
      "Epoch 447/500\n"
     ]
    },
    {
     "name": "stderr",
     "output_type": "stream",
     "text": [
      "Training: 100%|██████████| 1/1 [00:00<00:00,  3.30it/s]\n",
      "Validation: 100%|██████████| 1/1 [00:00<00:00,  5.34it/s]\n"
     ]
    },
    {
     "name": "stdout",
     "output_type": "stream",
     "text": [
      "  Train Loss: 0.3821, Train Acc: 0.9043\n",
      "  Val Loss:   0.2511, Val Acc:   0.9759\n",
      "Epoch 448/500\n"
     ]
    },
    {
     "name": "stderr",
     "output_type": "stream",
     "text": [
      "Training: 100%|██████████| 1/1 [00:00<00:00,  3.74it/s]\n",
      "Validation: 100%|██████████| 1/1 [00:00<00:00,  3.83it/s]\n"
     ]
    },
    {
     "name": "stdout",
     "output_type": "stream",
     "text": [
      "  Train Loss: 0.3467, Train Acc: 0.8957\n",
      "  Val Loss:   0.2474, Val Acc:   1.0000\n",
      "Epoch 449/500\n"
     ]
    },
    {
     "name": "stderr",
     "output_type": "stream",
     "text": [
      "Training: 100%|██████████| 1/1 [00:00<00:00,  3.08it/s]\n",
      "Validation: 100%|██████████| 1/1 [00:00<00:00,  6.43it/s]\n"
     ]
    },
    {
     "name": "stdout",
     "output_type": "stream",
     "text": [
      "  Train Loss: 0.4920, Train Acc: 0.8652\n",
      "  Val Loss:   0.2628, Val Acc:   0.9398\n",
      "Epoch 450/500\n"
     ]
    },
    {
     "name": "stderr",
     "output_type": "stream",
     "text": [
      "Training: 100%|██████████| 1/1 [00:00<00:00,  2.13it/s]\n",
      "Validation: 100%|██████████| 1/1 [00:00<00:00,  6.43it/s]\n"
     ]
    },
    {
     "name": "stdout",
     "output_type": "stream",
     "text": [
      "  Train Loss: 0.3522, Train Acc: 0.9043\n",
      "  Val Loss:   0.2671, Val Acc:   0.9639\n",
      "Epoch 451/500\n"
     ]
    },
    {
     "name": "stderr",
     "output_type": "stream",
     "text": [
      "Training: 100%|██████████| 1/1 [00:00<00:00,  2.89it/s]\n",
      "Validation: 100%|██████████| 1/1 [00:00<00:00,  4.86it/s]\n"
     ]
    },
    {
     "name": "stdout",
     "output_type": "stream",
     "text": [
      "  Train Loss: 0.4035, Train Acc: 0.9043\n",
      "  Val Loss:   0.3311, Val Acc:   0.9036\n",
      "Epoch 452/500\n"
     ]
    },
    {
     "name": "stderr",
     "output_type": "stream",
     "text": [
      "Training: 100%|██████████| 1/1 [00:00<00:00,  2.95it/s]\n",
      "Validation: 100%|██████████| 1/1 [00:00<00:00,  4.92it/s]\n"
     ]
    },
    {
     "name": "stdout",
     "output_type": "stream",
     "text": [
      "  Train Loss: 0.3152, Train Acc: 0.9304\n",
      "  Val Loss:   0.2369, Val Acc:   0.9759\n",
      "Epoch 453/500\n"
     ]
    },
    {
     "name": "stderr",
     "output_type": "stream",
     "text": [
      "Training: 100%|██████████| 1/1 [00:00<00:00,  2.37it/s]\n",
      "Validation: 100%|██████████| 1/1 [00:00<00:00,  7.56it/s]\n"
     ]
    },
    {
     "name": "stdout",
     "output_type": "stream",
     "text": [
      "  Train Loss: 0.4160, Train Acc: 0.8783\n",
      "  Val Loss:   0.2672, Val Acc:   0.9880\n",
      "Epoch 454/500\n"
     ]
    },
    {
     "name": "stderr",
     "output_type": "stream",
     "text": [
      "Training: 100%|██████████| 1/1 [00:00<00:00,  3.28it/s]\n",
      "Validation: 100%|██████████| 1/1 [00:00<00:00,  4.11it/s]\n"
     ]
    },
    {
     "name": "stdout",
     "output_type": "stream",
     "text": [
      "  Train Loss: 0.2936, Train Acc: 0.9261\n",
      "  Val Loss:   0.2509, Val Acc:   0.9759\n",
      "Epoch 455/500\n"
     ]
    },
    {
     "name": "stderr",
     "output_type": "stream",
     "text": [
      "Training: 100%|██████████| 1/1 [00:00<00:00,  2.85it/s]\n",
      "Validation: 100%|██████████| 1/1 [00:00<00:00,  8.01it/s]\n"
     ]
    },
    {
     "name": "stdout",
     "output_type": "stream",
     "text": [
      "  Train Loss: 0.3145, Train Acc: 0.9130\n",
      "  Val Loss:   0.2687, Val Acc:   0.9578\n",
      "Epoch 456/500\n"
     ]
    },
    {
     "name": "stderr",
     "output_type": "stream",
     "text": [
      "Training: 100%|██████████| 1/1 [00:00<00:00,  2.36it/s]\n",
      "Validation: 100%|██████████| 1/1 [00:00<00:00, 13.09it/s]\n"
     ]
    },
    {
     "name": "stdout",
     "output_type": "stream",
     "text": [
      "  Train Loss: 0.2796, Train Acc: 0.9391\n",
      "  Val Loss:   0.2520, Val Acc:   0.9398\n",
      "Epoch 457/500\n"
     ]
    },
    {
     "name": "stderr",
     "output_type": "stream",
     "text": [
      "Training: 100%|██████████| 1/1 [00:00<00:00,  4.15it/s]\n",
      "Validation: 100%|██████████| 1/1 [00:00<00:00,  6.09it/s]\n"
     ]
    },
    {
     "name": "stdout",
     "output_type": "stream",
     "text": [
      "  Train Loss: 0.3061, Train Acc: 0.9348\n",
      "  Val Loss:   0.2236, Val Acc:   0.9880\n",
      "Epoch 458/500\n"
     ]
    },
    {
     "name": "stderr",
     "output_type": "stream",
     "text": [
      "Training: 100%|██████████| 1/1 [00:00<00:00,  2.93it/s]\n",
      "Validation: 100%|██████████| 1/1 [00:00<00:00,  6.35it/s]\n"
     ]
    },
    {
     "name": "stdout",
     "output_type": "stream",
     "text": [
      "  Train Loss: 0.4453, Train Acc: 0.8696\n",
      "  Val Loss:   0.2612, Val Acc:   0.9458\n",
      "Epoch 459/500\n"
     ]
    },
    {
     "name": "stderr",
     "output_type": "stream",
     "text": [
      "Training: 100%|██████████| 1/1 [00:00<00:00,  3.29it/s]\n",
      "Validation: 100%|██████████| 1/1 [00:00<00:00,  4.57it/s]\n"
     ]
    },
    {
     "name": "stdout",
     "output_type": "stream",
     "text": [
      "  Train Loss: 0.3049, Train Acc: 0.9261\n",
      "  Val Loss:   0.3645, Val Acc:   0.9096\n",
      "Epoch 460/500\n"
     ]
    },
    {
     "name": "stderr",
     "output_type": "stream",
     "text": [
      "Training: 100%|██████████| 1/1 [00:00<00:00,  2.33it/s]\n",
      "Validation: 100%|██████████| 1/1 [00:00<00:00,  6.46it/s]\n"
     ]
    },
    {
     "name": "stdout",
     "output_type": "stream",
     "text": [
      "  Train Loss: 0.3630, Train Acc: 0.8565\n",
      "  Val Loss:   0.2153, Val Acc:   0.9759\n",
      "Epoch 461/500\n"
     ]
    },
    {
     "name": "stderr",
     "output_type": "stream",
     "text": [
      "Training: 100%|██████████| 1/1 [00:00<00:00,  3.53it/s]\n",
      "Validation: 100%|██████████| 1/1 [00:00<00:00,  2.98it/s]\n"
     ]
    },
    {
     "name": "stdout",
     "output_type": "stream",
     "text": [
      "  Train Loss: 0.3116, Train Acc: 0.9130\n",
      "  Val Loss:   0.2338, Val Acc:   0.9759\n",
      "Epoch 462/500\n"
     ]
    },
    {
     "name": "stderr",
     "output_type": "stream",
     "text": [
      "Training: 100%|██████████| 1/1 [00:00<00:00,  2.05it/s]\n",
      "Validation: 100%|██████████| 1/1 [00:03<00:00,  3.25s/it]\n"
     ]
    },
    {
     "name": "stdout",
     "output_type": "stream",
     "text": [
      "  Train Loss: 0.4337, Train Acc: 0.8696\n",
      "  Val Loss:   0.2613, Val Acc:   0.9639\n",
      "Epoch 463/500\n"
     ]
    },
    {
     "name": "stderr",
     "output_type": "stream",
     "text": [
      "Training: 100%|██████████| 1/1 [00:00<00:00,  2.00it/s]\n",
      "Validation: 100%|██████████| 1/1 [00:00<00:00,  3.96it/s]\n"
     ]
    },
    {
     "name": "stdout",
     "output_type": "stream",
     "text": [
      "  Train Loss: 0.3007, Train Acc: 0.9348\n",
      "  Val Loss:   0.3222, Val Acc:   0.9157\n",
      "Epoch 464/500\n"
     ]
    },
    {
     "name": "stderr",
     "output_type": "stream",
     "text": [
      "Training: 100%|██████████| 1/1 [00:00<00:00,  2.37it/s]\n",
      "Validation: 100%|██████████| 1/1 [00:00<00:00,  3.42it/s]\n"
     ]
    },
    {
     "name": "stdout",
     "output_type": "stream",
     "text": [
      "  Train Loss: 0.4603, Train Acc: 0.8478\n",
      "  Val Loss:   0.3385, Val Acc:   0.8916\n",
      "Epoch 465/500\n"
     ]
    },
    {
     "name": "stderr",
     "output_type": "stream",
     "text": [
      "Training: 100%|██████████| 1/1 [00:00<00:00,  2.18it/s]\n",
      "Validation: 100%|██████████| 1/1 [00:00<00:00,  4.78it/s]\n"
     ]
    },
    {
     "name": "stdout",
     "output_type": "stream",
     "text": [
      "  Train Loss: 0.3022, Train Acc: 0.9348\n",
      "  Val Loss:   0.2664, Val Acc:   0.9458\n",
      "Epoch 466/500\n"
     ]
    },
    {
     "name": "stderr",
     "output_type": "stream",
     "text": [
      "Training: 100%|██████████| 1/1 [00:00<00:00,  2.99it/s]\n",
      "Validation: 100%|██████████| 1/1 [00:00<00:00,  5.81it/s]\n"
     ]
    },
    {
     "name": "stdout",
     "output_type": "stream",
     "text": [
      "  Train Loss: 0.3139, Train Acc: 0.9217\n",
      "  Val Loss:   0.2640, Val Acc:   0.9699\n",
      "Epoch 467/500\n"
     ]
    },
    {
     "name": "stderr",
     "output_type": "stream",
     "text": [
      "Training: 100%|██████████| 1/1 [00:00<00:00,  2.25it/s]\n",
      "Validation: 100%|██████████| 1/1 [00:00<00:00,  8.25it/s]\n"
     ]
    },
    {
     "name": "stdout",
     "output_type": "stream",
     "text": [
      "  Train Loss: 0.2954, Train Acc: 0.9478\n",
      "  Val Loss:   0.2508, Val Acc:   0.9578\n",
      "Epoch 468/500\n"
     ]
    },
    {
     "name": "stderr",
     "output_type": "stream",
     "text": [
      "Training: 100%|██████████| 1/1 [00:00<00:00,  2.82it/s]\n",
      "Validation: 100%|██████████| 1/1 [00:00<00:00,  7.16it/s]\n"
     ]
    },
    {
     "name": "stdout",
     "output_type": "stream",
     "text": [
      "  Train Loss: 0.2677, Train Acc: 0.9391\n",
      "  Val Loss:   0.2293, Val Acc:   0.9639\n",
      "Epoch 469/500\n"
     ]
    },
    {
     "name": "stderr",
     "output_type": "stream",
     "text": [
      "Training: 100%|██████████| 1/1 [00:00<00:00,  3.46it/s]\n",
      "Validation: 100%|██████████| 1/1 [00:00<00:00,  6.06it/s]\n"
     ]
    },
    {
     "name": "stdout",
     "output_type": "stream",
     "text": [
      "  Train Loss: 0.3473, Train Acc: 0.8957\n",
      "  Val Loss:   0.2429, Val Acc:   0.9578\n",
      "Epoch 470/500\n"
     ]
    },
    {
     "name": "stderr",
     "output_type": "stream",
     "text": [
      "Training: 100%|██████████| 1/1 [00:00<00:00,  3.20it/s]\n",
      "Validation: 100%|██████████| 1/1 [00:00<00:00,  4.07it/s]\n"
     ]
    },
    {
     "name": "stdout",
     "output_type": "stream",
     "text": [
      "  Train Loss: 0.2647, Train Acc: 0.9304\n",
      "  Val Loss:   0.2486, Val Acc:   0.9578\n",
      "Epoch 471/500\n"
     ]
    },
    {
     "name": "stderr",
     "output_type": "stream",
     "text": [
      "Training: 100%|██████████| 1/1 [00:00<00:00,  2.83it/s]\n",
      "Validation: 100%|██████████| 1/1 [00:00<00:00,  3.86it/s]\n"
     ]
    },
    {
     "name": "stdout",
     "output_type": "stream",
     "text": [
      "  Train Loss: 0.5910, Train Acc: 0.7957\n",
      "  Val Loss:   0.2976, Val Acc:   0.9036\n",
      "Epoch 472/500\n"
     ]
    },
    {
     "name": "stderr",
     "output_type": "stream",
     "text": [
      "Training: 100%|██████████| 1/1 [00:00<00:00,  2.75it/s]\n",
      "Validation: 100%|██████████| 1/1 [00:00<00:00,  5.97it/s]\n"
     ]
    },
    {
     "name": "stdout",
     "output_type": "stream",
     "text": [
      "  Train Loss: 0.3896, Train Acc: 0.8522\n",
      "  Val Loss:   0.2328, Val Acc:   0.9518\n",
      "Epoch 473/500\n"
     ]
    },
    {
     "name": "stderr",
     "output_type": "stream",
     "text": [
      "Training: 100%|██████████| 1/1 [00:00<00:00,  1.98it/s]\n",
      "Validation: 100%|██████████| 1/1 [00:00<00:00,  6.21it/s]\n"
     ]
    },
    {
     "name": "stdout",
     "output_type": "stream",
     "text": [
      "  Train Loss: 0.4723, Train Acc: 0.8087\n",
      "  Val Loss:   0.3361, Val Acc:   0.9036\n",
      "Epoch 474/500\n"
     ]
    },
    {
     "name": "stderr",
     "output_type": "stream",
     "text": [
      "Training: 100%|██████████| 1/1 [00:00<00:00,  2.48it/s]\n",
      "Validation: 100%|██████████| 1/1 [00:00<00:00,  5.38it/s]\n"
     ]
    },
    {
     "name": "stdout",
     "output_type": "stream",
     "text": [
      "  Train Loss: 0.3112, Train Acc: 0.9348\n",
      "  Val Loss:   0.2560, Val Acc:   0.9639\n",
      "Epoch 475/500\n"
     ]
    },
    {
     "name": "stderr",
     "output_type": "stream",
     "text": [
      "Training: 100%|██████████| 1/1 [00:00<00:00,  1.96it/s]\n",
      "Validation: 100%|██████████| 1/1 [00:00<00:00,  4.68it/s]\n"
     ]
    },
    {
     "name": "stdout",
     "output_type": "stream",
     "text": [
      "  Train Loss: 0.2554, Train Acc: 0.9696\n",
      "  Val Loss:   0.2135, Val Acc:   0.9819\n",
      "Epoch 476/500\n"
     ]
    },
    {
     "name": "stderr",
     "output_type": "stream",
     "text": [
      "Training: 100%|██████████| 1/1 [00:00<00:00,  2.96it/s]\n",
      "Validation: 100%|██████████| 1/1 [00:00<00:00,  5.48it/s]\n"
     ]
    },
    {
     "name": "stdout",
     "output_type": "stream",
     "text": [
      "  Train Loss: 0.2712, Train Acc: 0.9261\n",
      "  Val Loss:   0.2286, Val Acc:   0.9759\n",
      "Epoch 477/500\n"
     ]
    },
    {
     "name": "stderr",
     "output_type": "stream",
     "text": [
      "Training: 100%|██████████| 1/1 [00:00<00:00,  2.67it/s]\n",
      "Validation: 100%|██████████| 1/1 [00:00<00:00,  4.43it/s]\n"
     ]
    },
    {
     "name": "stdout",
     "output_type": "stream",
     "text": [
      "  Train Loss: 0.2748, Train Acc: 0.9391\n",
      "  Val Loss:   0.2104, Val Acc:   0.9699\n",
      "Epoch 478/500\n"
     ]
    },
    {
     "name": "stderr",
     "output_type": "stream",
     "text": [
      "Training: 100%|██████████| 1/1 [00:00<00:00,  2.80it/s]\n",
      "Validation: 100%|██████████| 1/1 [00:00<00:00,  3.54it/s]\n"
     ]
    },
    {
     "name": "stdout",
     "output_type": "stream",
     "text": [
      "  Train Loss: 0.4359, Train Acc: 0.8565\n",
      "  Val Loss:   0.3746, Val Acc:   0.8916\n",
      "Epoch 479/500\n"
     ]
    },
    {
     "name": "stderr",
     "output_type": "stream",
     "text": [
      "Training: 100%|██████████| 1/1 [00:00<00:00,  3.54it/s]\n",
      "Validation: 100%|██████████| 1/1 [00:00<00:00,  5.72it/s]\n"
     ]
    },
    {
     "name": "stdout",
     "output_type": "stream",
     "text": [
      "  Train Loss: 0.5111, Train Acc: 0.7913\n",
      "  Val Loss:   0.2097, Val Acc:   0.9699\n",
      "Epoch 480/500\n"
     ]
    },
    {
     "name": "stderr",
     "output_type": "stream",
     "text": [
      "Training: 100%|██████████| 1/1 [00:00<00:00,  2.54it/s]\n",
      "Validation: 100%|██████████| 1/1 [00:00<00:00,  9.79it/s]\n"
     ]
    },
    {
     "name": "stdout",
     "output_type": "stream",
     "text": [
      "  Train Loss: 0.3091, Train Acc: 0.9087\n",
      "  Val Loss:   0.7342, Val Acc:   0.7771\n",
      "Epoch 481/500\n"
     ]
    },
    {
     "name": "stderr",
     "output_type": "stream",
     "text": [
      "Training: 100%|██████████| 1/1 [00:00<00:00,  2.82it/s]\n",
      "Validation: 100%|██████████| 1/1 [00:00<00:00,  8.07it/s]\n"
     ]
    },
    {
     "name": "stdout",
     "output_type": "stream",
     "text": [
      "  Train Loss: 0.2814, Train Acc: 0.9348\n",
      "  Val Loss:   0.2008, Val Acc:   0.9880\n",
      "Epoch 482/500\n"
     ]
    },
    {
     "name": "stderr",
     "output_type": "stream",
     "text": [
      "Training: 100%|██████████| 1/1 [00:00<00:00,  2.92it/s]\n",
      "Validation: 100%|██████████| 1/1 [00:00<00:00,  5.47it/s]\n"
     ]
    },
    {
     "name": "stdout",
     "output_type": "stream",
     "text": [
      "  Train Loss: 0.3096, Train Acc: 0.9261\n",
      "  Val Loss:   0.2754, Val Acc:   0.9277\n",
      "Epoch 483/500\n"
     ]
    },
    {
     "name": "stderr",
     "output_type": "stream",
     "text": [
      "Training: 100%|██████████| 1/1 [00:00<00:00,  3.02it/s]\n",
      "Validation: 100%|██████████| 1/1 [00:00<00:00,  3.86it/s]\n"
     ]
    },
    {
     "name": "stdout",
     "output_type": "stream",
     "text": [
      "  Train Loss: 0.3400, Train Acc: 0.9304\n",
      "  Val Loss:   0.2524, Val Acc:   0.9458\n",
      "Epoch 484/500\n"
     ]
    },
    {
     "name": "stderr",
     "output_type": "stream",
     "text": [
      "Training: 100%|██████████| 1/1 [00:00<00:00,  2.63it/s]\n",
      "Validation: 100%|██████████| 1/1 [00:00<00:00,  6.62it/s]\n"
     ]
    },
    {
     "name": "stdout",
     "output_type": "stream",
     "text": [
      "  Train Loss: 0.2523, Train Acc: 0.9609\n",
      "  Val Loss:   0.2016, Val Acc:   0.9819\n",
      "Epoch 485/500\n"
     ]
    },
    {
     "name": "stderr",
     "output_type": "stream",
     "text": [
      "Training: 100%|██████████| 1/1 [00:00<00:00,  2.85it/s]\n",
      "Validation: 100%|██████████| 1/1 [00:00<00:00,  7.94it/s]\n"
     ]
    },
    {
     "name": "stdout",
     "output_type": "stream",
     "text": [
      "  Train Loss: 0.2443, Train Acc: 0.9696\n",
      "  Val Loss:   0.2216, Val Acc:   0.9639\n",
      "Epoch 486/500\n"
     ]
    },
    {
     "name": "stderr",
     "output_type": "stream",
     "text": [
      "Training: 100%|██████████| 1/1 [00:00<00:00,  2.57it/s]\n",
      "Validation: 100%|██████████| 1/1 [00:00<00:00, 10.44it/s]\n"
     ]
    },
    {
     "name": "stdout",
     "output_type": "stream",
     "text": [
      "  Train Loss: 0.2702, Train Acc: 0.9391\n",
      "  Val Loss:   0.2182, Val Acc:   0.9880\n",
      "Epoch 487/500\n"
     ]
    },
    {
     "name": "stderr",
     "output_type": "stream",
     "text": [
      "Training: 100%|██████████| 1/1 [00:00<00:00,  3.29it/s]\n",
      "Validation: 100%|██████████| 1/1 [00:00<00:00,  4.79it/s]\n"
     ]
    },
    {
     "name": "stdout",
     "output_type": "stream",
     "text": [
      "  Train Loss: 0.2558, Train Acc: 0.9478\n",
      "  Val Loss:   0.2172, Val Acc:   0.9759\n",
      "Epoch 488/500\n"
     ]
    },
    {
     "name": "stderr",
     "output_type": "stream",
     "text": [
      "Training: 100%|██████████| 1/1 [00:00<00:00,  3.89it/s]\n",
      "Validation: 100%|██████████| 1/1 [00:00<00:00,  6.42it/s]\n"
     ]
    },
    {
     "name": "stdout",
     "output_type": "stream",
     "text": [
      "  Train Loss: 0.4154, Train Acc: 0.8652\n",
      "  Val Loss:   0.2193, Val Acc:   0.9398\n",
      "Epoch 489/500\n"
     ]
    },
    {
     "name": "stderr",
     "output_type": "stream",
     "text": [
      "Training: 100%|██████████| 1/1 [00:00<00:00,  3.07it/s]\n",
      "Validation: 100%|██████████| 1/1 [00:00<00:00,  8.30it/s]\n"
     ]
    },
    {
     "name": "stdout",
     "output_type": "stream",
     "text": [
      "  Train Loss: 0.2997, Train Acc: 0.9304\n",
      "  Val Loss:   0.2364, Val Acc:   0.9819\n",
      "Epoch 490/500\n"
     ]
    },
    {
     "name": "stderr",
     "output_type": "stream",
     "text": [
      "Training: 100%|██████████| 1/1 [00:00<00:00,  3.90it/s]\n",
      "Validation: 100%|██████████| 1/1 [00:00<00:00,  6.92it/s]\n"
     ]
    },
    {
     "name": "stdout",
     "output_type": "stream",
     "text": [
      "  Train Loss: 0.3194, Train Acc: 0.9217\n",
      "  Val Loss:   0.2651, Val Acc:   0.9458\n",
      "Epoch 491/500\n"
     ]
    },
    {
     "name": "stderr",
     "output_type": "stream",
     "text": [
      "Training: 100%|██████████| 1/1 [00:00<00:00,  3.68it/s]\n",
      "Validation: 100%|██████████| 1/1 [00:00<00:00,  5.06it/s]\n"
     ]
    },
    {
     "name": "stdout",
     "output_type": "stream",
     "text": [
      "  Train Loss: 0.2678, Train Acc: 0.9304\n",
      "  Val Loss:   0.2124, Val Acc:   0.9819\n",
      "Epoch 492/500\n"
     ]
    },
    {
     "name": "stderr",
     "output_type": "stream",
     "text": [
      "Training: 100%|██████████| 1/1 [00:00<00:00,  2.26it/s]\n",
      "Validation: 100%|██████████| 1/1 [00:00<00:00,  6.61it/s]\n"
     ]
    },
    {
     "name": "stdout",
     "output_type": "stream",
     "text": [
      "  Train Loss: 0.2705, Train Acc: 0.9261\n",
      "  Val Loss:   0.2550, Val Acc:   0.9458\n",
      "Epoch 493/500\n"
     ]
    },
    {
     "name": "stderr",
     "output_type": "stream",
     "text": [
      "Training: 100%|██████████| 1/1 [00:00<00:00,  2.17it/s]\n",
      "Validation: 100%|██████████| 1/1 [00:00<00:00,  4.49it/s]\n"
     ]
    },
    {
     "name": "stdout",
     "output_type": "stream",
     "text": [
      "  Train Loss: 0.2647, Train Acc: 0.9522\n",
      "  Val Loss:   0.2260, Val Acc:   0.9518\n",
      "Epoch 494/500\n"
     ]
    },
    {
     "name": "stderr",
     "output_type": "stream",
     "text": [
      "Training: 100%|██████████| 1/1 [00:00<00:00,  3.34it/s]\n",
      "Validation: 100%|██████████| 1/1 [00:00<00:00,  5.05it/s]\n"
     ]
    },
    {
     "name": "stdout",
     "output_type": "stream",
     "text": [
      "  Train Loss: 0.2384, Train Acc: 0.9739\n",
      "  Val Loss:   0.2154, Val Acc:   0.9578\n",
      "Epoch 495/500\n"
     ]
    },
    {
     "name": "stderr",
     "output_type": "stream",
     "text": [
      "Training: 100%|██████████| 1/1 [00:00<00:00,  3.13it/s]\n",
      "Validation: 100%|██████████| 1/1 [00:00<00:00,  9.70it/s]\n"
     ]
    },
    {
     "name": "stdout",
     "output_type": "stream",
     "text": [
      "  Train Loss: 0.4377, Train Acc: 0.8304\n",
      "  Val Loss:   0.3207, Val Acc:   0.9096\n",
      "Epoch 496/500\n"
     ]
    },
    {
     "name": "stderr",
     "output_type": "stream",
     "text": [
      "Training: 100%|██████████| 1/1 [00:00<00:00,  4.54it/s]\n",
      "Validation: 100%|██████████| 1/1 [00:00<00:00,  7.22it/s]\n"
     ]
    },
    {
     "name": "stdout",
     "output_type": "stream",
     "text": [
      "  Train Loss: 0.3620, Train Acc: 0.9043\n",
      "  Val Loss:   0.2138, Val Acc:   0.9639\n",
      "Epoch 497/500\n"
     ]
    },
    {
     "name": "stderr",
     "output_type": "stream",
     "text": [
      "Training: 100%|██████████| 1/1 [00:00<00:00,  2.10it/s]\n",
      "Validation: 100%|██████████| 1/1 [00:00<00:00,  4.22it/s]\n"
     ]
    },
    {
     "name": "stdout",
     "output_type": "stream",
     "text": [
      "  Train Loss: 0.2474, Train Acc: 0.9696\n",
      "  Val Loss:   0.2400, Val Acc:   0.9337\n",
      "Epoch 498/500\n"
     ]
    },
    {
     "name": "stderr",
     "output_type": "stream",
     "text": [
      "Training: 100%|██████████| 1/1 [00:00<00:00,  2.13it/s]\n",
      "Validation: 100%|██████████| 1/1 [00:00<00:00,  3.53it/s]\n"
     ]
    },
    {
     "name": "stdout",
     "output_type": "stream",
     "text": [
      "  Train Loss: 0.3106, Train Acc: 0.9087\n",
      "  Val Loss:   0.2379, Val Acc:   0.9880\n",
      "Epoch 499/500\n"
     ]
    },
    {
     "name": "stderr",
     "output_type": "stream",
     "text": [
      "Training: 100%|██████████| 1/1 [00:00<00:00,  2.96it/s]\n",
      "Validation: 100%|██████████| 1/1 [00:00<00:00,  5.93it/s]\n"
     ]
    },
    {
     "name": "stdout",
     "output_type": "stream",
     "text": [
      "  Train Loss: 0.2734, Train Acc: 0.9522\n",
      "  Val Loss:   0.2545, Val Acc:   0.9337\n",
      "Epoch 500/500\n"
     ]
    },
    {
     "name": "stderr",
     "output_type": "stream",
     "text": [
      "Training: 100%|██████████| 1/1 [00:00<00:00,  2.39it/s]\n",
      "Validation: 100%|██████████| 1/1 [00:00<00:00, 10.09it/s]"
     ]
    },
    {
     "name": "stdout",
     "output_type": "stream",
     "text": [
      "  Train Loss: 0.2398, Train Acc: 0.9565\n",
      "  Val Loss:   0.2423, Val Acc:   0.9578\n"
     ]
    },
    {
     "name": "stderr",
     "output_type": "stream",
     "text": [
      "\n"
     ]
    }
   ],
   "source": [
    "\"\"\"Train model and run evaluation\"\"\"\n",
    "print(\"Training model...\")\n",
    "model, history = train_model()"
   ]
  },
  {
   "cell_type": "code",
   "execution_count": 3,
   "id": "20dfc4ab",
   "metadata": {},
   "outputs": [
    {
     "data": {
      "image/png": "[encoded data removed]",
      "text/plain": [
       "<Figure size 1200x500 with 2 Axes>"
      ]
     },
     "metadata": {},
     "output_type": "display_data"
    }
   ],
   "source": [
    "def plot_train_val_curves(history):\n",
    "    \"\"\"Plot training and validation curves for loss and accuracy\"\"\"\n",
    "    plt.figure(figsize=(12, 5))\n",
    "\n",
    "    # Loss plot\n",
    "    plt.subplot(1, 2, 1)\n",
    "    plt.plot(history['train_loss'], marker='o', label='Training')\n",
    "    plt.plot(history['val_loss'], marker='s', label='Validation')\n",
    "    plt.title('Loss')\n",
    "    plt.xlabel('Epoch')\n",
    "    plt.ylabel('Loss')\n",
    "    plt.grid(True)\n",
    "    plt.legend()\n",
    "\n",
    "    # Accuracy plot\n",
    "    plt.subplot(1, 2, 2)\n",
    "    plt.plot(history['train_acc'], marker='o', label='Training')\n",
    "    plt.plot(history['val_acc'], marker='s', label='Validation')\n",
    "    plt.title('Accuracy')\n",
    "    plt.xlabel('Epoch')\n",
    "    plt.ylabel('Accuracy')\n",
    "    plt.grid(True)\n",
    "    plt.legend()\n",
    "\n",
    "    plt.tight_layout()\n",
    "    plt.show()\n",
    "    \n",
    "# Create evaluation dataset\n",
    "test_dataset = TensorDataset(x_enc_test, x_dec_test, y_test)\n",
    "test_loader = DataLoader(test_dataset, batch_size=128, shuffle=False)\n",
    "\n",
    "# Plot training curves\n",
    "plot_train_val_curves(history)"
   ]
  },
  {
   "cell_type": "code",
   "execution_count": null,
   "id": "17a623cd",
   "metadata": {},
   "outputs": [
    {
     "name": "stdout",
     "output_type": "stream",
     "text": [
      "[EVAL] Starting evaluation over 8 samples.\n",
      "[EVAL] Sample 0 - Source shape: torch.Size([1, 39])\n",
      "[EVAL] Sample 0 - Target length: 47\n",
      "[EVAL] Sample 0 - Predicted token IDs: [106, 5, 117, 5, 81, 21, 15, 17, 19, 8, 3, 0, 0, 0, 0, 0, 0, 0, 0, 0, 0, 0, 0, 0, 0, 0, 0, 0, 0, 0, 0, 0, 0, 0, 0, 0, 0, 0, 0, 0, 0, 0, 0, 0, 0, 0]\n",
      "[EVAL] Sample 0 - Ground truth token IDs: [106, 5, 117, 5, 81, 21, 15, 17, 19, 8, 3, 0, 0, 0, 0, 0, 0, 0, 0, 0, 0, 0, 0, 0, 0, 0, 0, 0, 0, 0, 0, 0, 0, 0, 0, 0, 0, 0, 0, 0, 0, 0, 0, 0, 0, 0]\n",
      "[EVAL] Sample 1 - Source shape: torch.Size([1, 39])\n",
      "[EVAL] Sample 1 - Target length: 47\n",
      "[EVAL] Sample 1 - Predicted token IDs: [6, 4, 18, 3, 0, 0, 0, 0, 0, 0, 0, 0, 0, 0, 0, 0, 0, 0, 0, 0, 0, 0, 0, 0, 0, 0, 0, 0, 0, 0, 0, 0, 0, 0, 0, 0, 0, 0, 0, 0, 0, 0, 0, 0, 0, 0]\n",
      "[EVAL] Sample 1 - Ground truth token IDs: [6, 4, 18, 3, 0, 0, 0, 0, 0, 0, 0, 0, 0, 0, 0, 0, 0, 0, 0, 0, 0, 0, 0, 0, 0, 0, 0, 0, 0, 0, 0, 0, 0, 0, 0, 0, 0, 0, 0, 0, 0, 0, 0, 0, 0, 0]\n",
      "[EVAL] Sample 2 - Source shape: torch.Size([1, 39])\n",
      "[EVAL] Sample 2 - Target length: 47\n",
      "[EVAL] Sample 2 - Predicted token IDs: [53, 5, 12, 7, 102, 6, 97, 8, 3, 0, 0, 0, 0, 0, 0, 0, 0, 0, 0, 0, 0, 0, 0, 0, 0, 0, 0, 0, 0, 0, 0, 0, 0, 0, 0, 0, 0, 0, 0, 0, 0, 0, 0, 0, 0, 0]\n",
      "[EVAL] Sample 2 - Ground truth token IDs: [53, 5, 12, 7, 102, 6, 97, 8, 3, 0, 0, 0, 0, 0, 0, 0, 0, 0, 0, 0, 0, 0, 0, 0, 0, 0, 0, 0, 0, 0, 0, 0, 0, 0, 0, 0, 0, 0, 0, 0, 0, 0, 0, 0, 0, 0]\n",
      "[EVAL] Sample 3 - Source shape: torch.Size([1, 39])\n",
      "[EVAL] Sample 3 - Target length: 47\n",
      "[EVAL] Sample 3 - Predicted token IDs: [5, 28, 23, 34, 11, 108, 5, 4, 74, 35, 67, 79, 22, 88, 5, 4, 32, 9, 7, 16, 6, 29, 114, 7, 109, 91, 73, 20, 120, 126, 75, 8, 3, 0, 0, 0, 0, 0, 0, 0, 0, 0, 0, 0, 0, 0]\n",
      "[EVAL] Sample 3 - Ground truth token IDs: [5, 28, 23, 34, 11, 108, 5, 4, 74, 35, 67, 79, 22, 88, 5, 111, 4, 32, 9, 7, 16, 6, 29, 114, 7, 109, 6, 91, 73, 20, 120, 126, 75, 8, 3, 0, 0, 0, 0, 0, 0, 0, 0, 0, 0, 0]\n",
      "[EVAL] Sample 4 - Source shape: torch.Size([1, 39])\n",
      "[EVAL] Sample 4 - Target length: 47\n",
      "[EVAL] Sample 4 - Predicted token IDs: [6, 4, 32, 61, 122, 104, 9, 26, 24, 125, 49, 46, 52, 5, 127, 124, 4, 13, 25, 86, 7, 30, 90, 59, 8, 3, 0, 0, 0, 0, 0, 0, 0, 0, 0, 0, 0, 0, 0, 0, 0, 0, 0, 0, 0, 0]\n",
      "[EVAL] Sample 4 - Ground truth token IDs: [6, 4, 32, 61, 122, 104, 9, 26, 24, 125, 49, 46, 52, 5, 127, 83, 124, 4, 13, 25, 86, 7, 30, 90, 59, 8, 3, 0, 0, 0, 0, 0, 0, 0, 0, 0, 0, 0, 0, 0, 0, 0, 0, 0, 0, 0]\n",
      "[EVAL] Sample 5 - Source shape: torch.Size([1, 39])\n",
      "[EVAL] Sample 5 - Target length: 47\n",
      "[EVAL] Sample 5 - Predicted token IDs: [4, 89, 5, 14, 110, 31, 22, 94, 7, 15, 17, 19, 5, 28, 7, 16, 6, 48, 11, 33, 5, 12, 6, 60, 4, 123, 68, 5, 99, 119, 6, 4, 112, 5, 9, 4, 121, 29, 4, 13, 56, 8, 3, 0, 0, 0]\n",
      "[EVAL] Sample 5 - Ground truth token IDs: [4, 89, 5, 14, 110, 31, 22, 94, 7, 15, 17, 19, 5, 28, 7, 16, 6, 48, 11, 33, 5, 12, 65, 6, 60, 4, 123, 68, 5, 99, 119, 6, 4, 116, 112, 5, 9, 4, 121, 29, 6, 4, 13, 56, 8, 3]\n",
      "[EVAL] Sample 6 - Source shape: torch.Size([1, 39])\n",
      "[EVAL] Sample 6 - Target length: 47\n",
      "[EVAL] Sample 6 - Predicted token IDs: [11, 33, 7, 71, 12, 21, 113, 9, 4, 6, 4, 93, 30, 70, 5, 76, 21, 98, 38, 18, 3, 0, 0, 0, 0, 0, 0, 0, 0, 0, 0, 0, 0, 0, 0, 0, 0, 0, 0, 0, 0, 0, 0, 0, 0, 0]\n",
      "[EVAL] Sample 6 - Ground truth token IDs: [11, 33, 7, 71, 12, 21, 113, 9, 4, 69, 6, 4, 93, 30, 70, 5, 76, 21, 98, 38, 18, 8, 3, 0, 0, 0, 0, 0, 0, 0, 0, 0, 0, 0, 0, 0, 0, 0, 0, 0, 0, 0, 0, 0, 0, 0]\n",
      "[EVAL] Sample 7 - Source shape: torch.Size([1, 39])\n",
      "[EVAL] Sample 7 - Target length: 47\n",
      "[EVAL] Sample 7 - Predicted token IDs: [55, 44, 107, 10, 95, 7, 15, 17, 19, 37, 3, 0, 0, 0, 0, 0, 0, 0, 0, 0, 0, 0, 0, 0, 0, 0, 0, 0, 0, 0, 0, 0, 0, 0, 0, 0, 0, 0, 0, 0, 0, 0, 0, 0, 0, 0]\n",
      "[EVAL] Sample 7 - Ground truth token IDs: [55, 44, 107, 10, 95, 7, 15, 17, 19, 37, 3, 0, 0, 0, 0, 0, 0, 0, 0, 0, 0, 0, 0, 0, 0, 0, 0, 0, 0, 0, 0, 0, 0, 0, 0, 0, 0, 0, 0, 0, 0, 0, 0, 0, 0, 0]\n",
      "[EVAL] Total non-pad tokens evaluated: 166\n",
      "[EVAL] Sample decoded predictions vs targets (first 10):\n",
      "  True: rise (106), Pred: rise (106)\n",
      "  True: , (5), Pred: , (5)\n",
      "  True: then (117), Pred: then (117)\n",
      "  True: , (5), Pred: , (5)\n",
      "  True: for (81), Pred: for (81)\n",
      "  True: this (21), Pred: this (21)\n",
      "  True: minute' (15), Pred: minute' (15)\n",
      "  True: s (17), Pred: s (17)\n",
      "  True: silence (19), Pred: silence (19)\n",
      "  True: . (8), Pred: . (8)\n",
      "\n",
      "[EVAL] Classification report:\n",
      "              precision    recall  f1-score   support\n",
      "\n",
      "       <pad>       0.00      0.00      0.00         0\n",
      "       <end>       0.50      0.50      0.50         8\n",
      "         the       0.42      0.42      0.42        12\n",
      "           ,       0.77      0.77      0.77        13\n",
      "          of       0.50      0.40      0.44        10\n",
      "           a       0.62      0.62      0.62         8\n",
      "           .       0.40      0.33      0.36         6\n",
      "          in       0.50      0.50      0.50         4\n",
      "         and       1.00      1.00      1.00         1\n",
      "        have       1.00      1.00      1.00         3\n",
      "          on       1.00      1.00      1.00         3\n",
      "    European       0.00      0.00      0.00         2\n",
      "           I       1.00      1.00      1.00         1\n",
      "     minute'       1.00      1.00      1.00         3\n",
      "      number       0.50      0.50      0.50         2\n",
      "           s       1.00      1.00      1.00         3\n",
      "     session       0.50      0.50      0.50         2\n",
      "     silence       1.00      1.00      1.00         3\n",
      "        that       0.00      0.00      0.00         1\n",
      "        this       0.67      0.67      0.67         3\n",
      "          to       1.00      1.00      1.00         2\n",
      "         you       1.00      1.00      1.00         1\n",
      "       Lanka       1.00      1.00      1.00         1\n",
      "  Parliament       0.00      0.00      0.00         1\n",
      "         Sri       1.00      1.00      1.00         1\n",
      "          as       1.00      1.00      1.00         2\n",
      "   countries       0.00      0.00      0.00         2\n",
      "         few       0.00      0.00      0.00         2\n",
      "        like       1.00      1.00      1.00         1\n",
      "      people       0.50      0.50      0.50         2\n",
      "   requested       1.00      1.00      1.00         2\n",
      "        will       1.00      1.00      1.00         1\n",
      " 'millennium       1.00      1.00      1.00         1\n",
      "           )       1.00      1.00      1.00         1\n",
      "           -       0.00      0.00      0.00         1\n",
      "       House       1.00      1.00      1.00         1\n",
      "       Kumar       1.00      1.00      1.00         1\n",
      "     Members       1.00      1.00      1.00         1\n",
      "          Mr       1.00      1.00      1.00         1\n",
      " Ponnambalam       1.00      1.00      1.00         1\n",
      "   President       1.00      1.00      1.00         1\n",
      "         The       1.00      1.00      1.00         1\n",
      "       Union       0.00      0.00      0.00         1\n",
      "         ago       0.00      0.00      0.00         1\n",
      "         all       0.00      0.00      0.00         1\n",
      "assassinated       1.00      1.00      1.00         1\n",
      "      behalf       0.00      0.00      0.00         1\n",
      "        bug'       1.00      1.00      1.00         1\n",
      "   concerned       0.00      0.00      0.00         1\n",
      "      course       0.00      0.00      0.00         1\n",
      "        days       0.00      0.00      0.00         1\n",
      "      debate       1.00      1.00      1.00         1\n",
      "   disasters       0.00      0.00      0.00         1\n",
      "     dreaded       1.00      1.00      1.00         1\n",
      "    dreadful       0.00      0.00      0.00         1\n",
      "      during       0.00      0.00      0.00         1\n",
      "      failed       1.00      1.00      1.00         1\n",
      "         for       1.00      1.00      1.00         1\n",
      "         had       0.00      0.00      0.00         1\n",
      "        just       0.00      0.00      0.00         1\n",
      " materialise       1.00      1.00      1.00         1\n",
      "    meantime       1.00      1.00      1.00         1\n",
      "      months       0.00      0.00      0.00         1\n",
      "     natural       0.00      0.00      0.00         1\n",
      "        next       0.00      0.00      0.00         1\n",
      "     observe       1.00      1.00      1.00         1\n",
      "    observed       1.00      1.00      1.00         1\n",
      "       order       1.00      1.00      1.00         1\n",
      "        part       0.00      0.00      0.00         1\n",
      "particularly       0.00      0.00      0.00         1\n",
      "       point       1.00      1.00      1.00         1\n",
      "    recently       1.00      1.00      1.00         1\n",
      "        rise       1.00      1.00      1.00         1\n",
      "        rose       1.00      1.00      1.00         1\n",
      "        seen       1.00      1.00      1.00         1\n",
      "      series       0.00      0.00      0.00         1\n",
      "      should       1.00      1.00      1.00         1\n",
      "       still       0.00      0.00      0.00         1\n",
      "      storms       0.00      0.00      0.00         1\n",
      "     subject       1.00      1.00      1.00         1\n",
      "    suffered       0.00      0.00      0.00         1\n",
      "    terrible       0.00      0.00      0.00         1\n",
      "        then       1.00      1.00      1.00         1\n",
      "       those       0.00      0.00      0.00         1\n",
      "       truly       0.00      0.00      0.00         1\n",
      "     various       0.00      0.00      0.00         1\n",
      "        very       1.00      1.00      1.00         1\n",
      "     victims       0.00      0.00      0.00         1\n",
      "     visited       0.00      0.00      0.00         1\n",
      "         was       1.00      1.00      1.00         1\n",
      "        were       0.00      0.00      0.00         1\n",
      "         who       1.00      1.00      1.00         1\n",
      "\n",
      "    accuracy                           0.58       166\n",
      "   macro avg       0.56      0.56      0.56       166\n",
      "weighted avg       0.59      0.58      0.58       166\n",
      "\n",
      "\n",
      "[EVAL] Displaying top 20 tokens in confusion matrix.\n"
     ]
    }
   ],
   "source": [
    "from sklearn.metrics import classification_report, confusion_matrix, f1_score\n",
    "import torch\n",
    "import numpy as np\n",
    "import seaborn as sns\n",
    "import matplotlib.pyplot as plt\n",
    "\n",
    "def evaluate_token_level(model, src_data, tgt_data, vocab_tgt, device, pad_idx=PAD_IDX, max_display_labels=20):\n",
    "    model.eval()\n",
    "    y_true = []\n",
    "    y_pred = []\n",
    "\n",
    "    print(\"[EVAL] Starting evaluation over\", len(src_data), \"samples.\")\n",
    "\n",
    "    with torch.no_grad():\n",
    "        for i in range(len(src_data)):\n",
    "            src_seq = src_data[i].unsqueeze(0).to(device)\n",
    "            tgt_seq = tgt_data[i].to(device)\n",
    "\n",
    "            print(f\"[EVAL] Sample {i} - Source shape:\", src_seq.shape)\n",
    "            print(f\"[EVAL] Sample {i} - Target length:\", tgt_seq.shape[0])\n",
    "\n",
    "            # Get model prediction (includes <eos> if generated)\n",
    "            pred_seq = model.translate(src_seq, max_len=tgt_seq.shape[0])[0]\n",
    "            \n",
    "            # Ground truth without <sos> but keeping <eos> and padding\n",
    "            tgt_seq_content = tgt_seq[1:].cpu().numpy()  # Remove only <sos>\n",
    "            pred_seq_content = pred_seq.cpu().numpy()\n",
    "            \n",
    "            # Pad predicted sequence to match ground truth length if needed\n",
    "            if len(pred_seq_content) < len(tgt_seq_content):\n",
    "                pred_seq_content = np.pad(\n",
    "                    pred_seq_content,\n",
    "                    (0, len(tgt_seq_content) - len(pred_seq_content)),\n",
    "                    mode='constant',\n",
    "                    constant_values=pad_idx\n",
    "                )\n",
    "            elif len(pred_seq_content) > len(tgt_seq_content):\n",
    "                pred_seq_content = pred_seq_content[:len(tgt_seq_content)]\n",
    "            \n",
    "            print(f\"[EVAL] Sample {i} - Predicted token IDs:\", pred_seq_content.tolist())\n",
    "            print(f\"[EVAL] Sample {i} - Ground truth token IDs:\", tgt_seq_content.tolist())\n",
    "\n",
    "            # Compare up to the <eos> token in ground truth\n",
    "            # Find the first <eos> in ground truth\n",
    "            try:\n",
    "                eos_pos = np.where(tgt_seq_content == END_IDX)[0][0]\n",
    "                compare_len = eos_pos + 1  # include the <eos> token\n",
    "            except IndexError:\n",
    "                compare_len = len(tgt_seq_content)\n",
    "            \n",
    "            # Only compare up to compare_len\n",
    "            for t, p in zip(tgt_seq_content[:compare_len], pred_seq_content[:compare_len]):\n",
    "                if t != pad_idx:\n",
    "                    y_true.append(t)\n",
    "                    y_pred.append(p)\n",
    "\n",
    "    print(f\"[EVAL] Total non-pad tokens evaluated: {len(y_true)}\")\n",
    "    print(\"[EVAL] Sample decoded predictions vs targets (first 10):\")\n",
    "    for i in range(min(10, len(y_true))):\n",
    "        print(f\"  True: {vocab_tgt.get_itos()[y_true[i]]} ({y_true[i]}), Pred: {vocab_tgt.get_itos()[y_pred[i]]} ({y_pred[i]})\")\n",
    "\n",
    "    # Extract labels and names\n",
    "    valid_labels = sorted(set(y_true + y_pred))\n",
    "    target_names = [vocab_tgt.get_itos()[i] for i in valid_labels]\n",
    "\n",
    "    print(\"\\n[EVAL] Classification report:\")\n",
    "    print(classification_report(\n",
    "        y_true, y_pred,\n",
    "        labels=valid_labels,\n",
    "        target_names=target_names,\n",
    "        zero_division=0\n",
    "    ))\n",
    "\n",
    "    # Confusion matrix\n",
    "    cm = confusion_matrix(y_true, y_pred, labels=valid_labels)\n",
    "    display_labels = valid_labels[:max_display_labels]\n",
    "    cm_display = cm[:max_display_labels, :max_display_labels]\n",
    "    display_names = [vocab_tgt.get_itos()[i] for i in display_labels]\n",
    "\n",
    "    print(f\"\\n[EVAL] Displaying top {max_display_labels} tokens in confusion matrix.\")\n",
    "\n",
    "    plt.figure(figsize=(10, 8))\n",
    "    sns.heatmap(cm_display, annot=True, fmt='d', cmap='Blues',\n",
    "                xticklabels=display_names, yticklabels=display_names)\n",
    "    plt.title(\"Confusion Matrix (Top Tokens)\")\n",
    "    plt.xlabel(\"Predicted\")\n",
    "    plt.ylabel(\"True\")\n",
    "    plt.tight_layout()\n",
    "    plt.show()\n",
    "\n",
    "# Assuming you have your model, test data, vocabulary, and device defined\n",
    "# Example usage:\n",
    "evaluate_token_level(model, x_enc_test, y_test, tgt_vocab, device, pad_idx=PAD_IDX)"
   ]
  },
  {
   "cell_type": "code",
   "execution_count": null,
   "id": "2ac78895",
   "metadata": {},
   "outputs": [
    {
     "data": {
      "image/png": "[encoded data removed]",
      "text/plain": [
       "<Figure size 800x600 with 1 Axes>"
      ]
     },
     "metadata": {},
     "output_type": "display_data"
    }
   ],
   "source": [
    "from sklearn.metrics import roc_auc_score, roc_curve, auc\n",
    "import numpy as np\n",
    "import torch.nn.functional as F\n",
    "\n",
    "def plot_roc_auc(model, data_loader, device, pad_idx):\n",
    "    \"\"\"Safe ROC AUC plot for multi-class seq2seq model\"\"\"\n",
    "    model.eval()\n",
    "    all_probs = []\n",
    "    all_targets = []\n",
    "\n",
    "    with torch.no_grad():\n",
    "        for src, trg_in, trg_out in data_loader:\n",
    "            src, trg_in, trg_out = src.to(device), trg_in.to(device), trg_out.to(device)\n",
    "            outputs = model(src, trg_in)  # (batch, seq_len, vocab_size)\n",
    "            probs = F.softmax(outputs, dim=-1)\n",
    "\n",
    "            probs = probs[:, 1:].contiguous().view(-1, probs.size(-1))\n",
    "            targets = trg_out[:, 1:].contiguous().view(-1)\n",
    "\n",
    "            mask = targets != pad_idx\n",
    "            probs = probs[mask]\n",
    "            targets = targets[mask]\n",
    "\n",
    "            all_probs.append(probs.cpu().numpy())\n",
    "            all_targets.append(targets.cpu().numpy())\n",
    "\n",
    "    all_probs = np.vstack(all_probs)\n",
    "    all_targets = np.concatenate(all_targets)\n",
    "\n",
    "    # Check if at least two classes exist\n",
    "    unique_classes = np.unique(all_targets)\n",
    "    if len(unique_classes) < 2:\n",
    "        print(f\"[Warning] Only one class ({unique_classes[0]}) present in y_true. ROC AUC cannot be computed.\")\n",
    "        return\n",
    "\n",
    "    num_classes = all_probs.shape[1]\n",
    "    all_targets_bin = label_binarize(all_targets, classes=np.arange(num_classes))\n",
    "\n",
    "    fpr, tpr, roc_auc = {}, {}, {}\n",
    "    for i in range(num_classes):\n",
    "        if np.sum(all_targets_bin[:, i]) == 0:\n",
    "            continue  # skip class not present in y_true\n",
    "        fpr[i], tpr[i], _ = roc_curve(all_targets_bin[:, i], all_probs[:, i])\n",
    "        roc_auc[i] = auc(fpr[i], tpr[i])\n",
    "\n",
    "    fpr[\"micro\"], tpr[\"micro\"], _ = roc_curve(all_targets_bin.ravel(), all_probs.ravel())\n",
    "    roc_auc[\"micro\"] = auc(fpr[\"micro\"], tpr[\"micro\"])\n",
    "\n",
    "    plt.figure(figsize=(8, 6))\n",
    "    plt.plot(fpr[\"micro\"], tpr[\"micro\"], label=f\"Micro-average AUC = {roc_auc['micro']:.4f}\", color='deeppink', linewidth=2)\n",
    "\n",
    "    int_keys = sorted(k for k in roc_auc.keys() if isinstance(k, int))\n",
    "    for i in int_keys:\n",
    "        plt.plot(fpr[i], tpr[i], label=f\"Class {i} AUC = {roc_auc[i]:.4f}\")\n",
    "\n",
    "\n",
    "    plt.plot([0, 1], [0, 1], 'k--')\n",
    "    plt.xlabel(\"False Positive Rate\")\n",
    "    plt.ylabel(\"True Positive Rate\")\n",
    "    plt.title(\"ROC Curve\")\n",
    "    plt.legend(loc=\"lower right\")\n",
    "    plt.grid(True)\n",
    "    plt.show()\n",
    "\n",
    "plot_roc_auc(model, test_loader, device, PAD_IDX)"
   ]
  },
  {
   "cell_type": "code",
   "execution_count": null,
   "id": "d4d22edb",
   "metadata": {},
   "outputs": [
    {
     "name": "stdout",
     "output_type": "stream",
     "text": [
      "\n",
      "Corpus BLEU score: 0.7666\n",
      "\n",
      "Sample translations:\n",
      "\n",
      "Sample 1\n",
      "Source    : Ich bitte Sie , sich zu einer Schweigeminute zu erheben .\n",
      "Reference : rise , then , for this minute' s silence . <end>\n",
      "Predicted : rise , then , for this minute' s silence . <end>\n",
      "BLEU for this sample: 1.0000\n",
      "\n",
      "Sample 2\n",
      "Source    : Wiederaufnahme der Sitzungsperiode\n",
      "Reference : of the session <end>\n",
      "Predicted : of the session <end>\n",
      "BLEU for this sample: 1.0000\n",
      "\n",
      "Sample 3\n",
      "Source    : Frau Praesidentin , zur Geschaeftsordnung .\n",
      "Reference : President , on a point of order . <end>\n",
      "Predicted : President , on a point of order . <end>\n",
      "BLEU for this sample: 1.0000\n",
      "\n",
      "Sample 4\n",
      "Source    : Wie Sie feststellen konnten , ist der gefuerchtete \"Millenium - Bug \" nicht eingetreten . Doch sind Buerger einiger unserer Mitgliedstaaten Opfer von schrecklichen Naturkatastrophen geworden .\n",
      "Reference : , as you will have seen , the dreaded 'millennium bug' failed to materialise , still the people in a number of countries suffered a series of natural disasters that truly were dreadful . <end>\n",
      "Predicted : , as you will have seen , the dreaded 'millennium bug' failed to materialise still the in in a of of countries suffered a series of disasters that truly were dreadful . <end>\n",
      "BLEU for this sample: 1.0000\n",
      "\n",
      "Sample 5\n",
      "Source    : Zu den Attentatsopfern , die es in juengster Zeit in Sri Lanka zu beklagen gab , zaehlt auch Herr Kumar Ponnambalam , der dem Europaeischen Parlament erst vor wenigen Monaten einen Besuch abgestattet hatte .\n",
      "Reference : of the people assassinated very recently in Sri Lanka was Mr Kumar Ponnambalam , who had visited the European Parliament just a few months ago . <end>\n",
      "Predicted : of the people assassinated very recently in Sri Lanka was Mr Kumar Ponnambalam who had visited the Parliament just a few months ago . <end>\n",
      "BLEU for this sample: 1.0000\n",
      "\n",
      "Sample 6\n",
      "Source    : Heute moechte ich Sie bitten - das ist auch der Wunsch einiger Kolleginnen und Kollegen - , allen Opfern der Stuerme , insbesondere in den verschiedenen Laendern der Europaeischen Union , in einer Schweigeminute zu gedenken .\n",
      "Reference : the meantime , I should like to observe a minute' s silence , as a number of Members have requested , on behalf of all the victims concerned , particularly those of the terrible storms , in the various countries of the European Union . <end>\n",
      "Predicted : the meantime , I should like to observe a minute' s , as a number of Members have requested , on behalf of all the victims concerned particularly particularly those of the terrible storms in the the countries of the European Union . <end>\n",
      "BLEU for this sample: 1.0000\n",
      "\n",
      "Sample 7\n",
      "Source    : Im Parlament besteht der Wunsch nach einer Aussprache im Verlauf dieser Sitzungsperiode in den naechsten Tagen .\n",
      "Reference : have requested a debate on this subject in the course of the next few days , during this part - session . <end>\n",
      "Predicted : have requested a debate on this subject in course of the the next days , during during part - session . <end>\n",
      "BLEU for this sample: 1.0000\n",
      "\n",
      "Sample 8\n",
      "Source    : ( Das Parlament erhebt sich zu einer Schweigeminute . )\n",
      "Reference : The House rose and observed a minute' s silence ) <end>\n",
      "Predicted : The House rose and observed a minute' s silence ) <end>\n",
      "BLEU for this sample: 1.0000\n"
     ]
    },
    {
     "data": {
      "text/plain": [
       "0.7665958470658807"
      ]
     },
     "execution_count": 6,
     "metadata": {},
     "output_type": "execute_result"
    }
   ],
   "source": [
    "from nltk.translate.bleu_score import corpus_bleu, SmoothingFunction\n",
    "\n",
    "def evaluate_bleu(model, src_data, tgt_data, src_vocab, tgt_vocab, num_samples=15):\n",
    "    model.eval()\n",
    "    references = []\n",
    "    hypotheses = []\n",
    "    samples = []\n",
    "\n",
    "    with torch.no_grad():\n",
    "        for i in range(min(num_samples, len(src_data))):\n",
    "            src_seq = src_data[i].unsqueeze(0).to(device)\n",
    "            tgt_seq = tgt_data[i].to(device)\n",
    "\n",
    "            # Get model prediction\n",
    "            pred_seq = model.translate(src_seq, max_len=tgt_seq.shape[0])[0].tolist()\n",
    "            \n",
    "            # Process reference: Convert all tokens except padding\n",
    "            ref_tokens = [idx.item() for idx in tgt_seq if idx.item() != PAD_IDX]\n",
    "            \n",
    "            # Process prediction: keep everything except padding\n",
    "            pred_tokens = [t for t in pred_seq if t != PAD_IDX]\n",
    "            \n",
    "            # Convert to text\n",
    "            def id_to_text(id_list, vocab):\n",
    "                text = []\n",
    "                for idx in id_list:\n",
    "                    if idx == END_IDX:\n",
    "                        text.append('<end>')\n",
    "                    elif idx == START_IDX:\n",
    "                        text.append('<sos>')\n",
    "                    elif idx != PAD_IDX:\n",
    "                        text.append(vocab.get_itos()[idx])\n",
    "                return text\n",
    "            \n",
    "            ref_text = id_to_text(ref_tokens, tgt_vocab)\n",
    "            pred_text = id_to_text(pred_tokens, tgt_vocab)\n",
    "            src_text = id_to_text([idx.item() for idx in src_data[i] \n",
    "                                 if idx.item() != PAD_IDX], src_vocab)\n",
    "\n",
    "            # For display: keep full sequence including <sos> and <end>\n",
    "            display_ref = \" \".join(ref_text)\n",
    "            display_pred = \" \".join(pred_text)\n",
    "            \n",
    "            # For BLEU calculation: remove special tokens\n",
    "            ref_bleu = [t for t in ref_text if t not in ['<sos>', '<end>']]\n",
    "            pred_bleu = [t for t in pred_text if t not in ['<sos>', '<end>']]\n",
    "            \n",
    "            references.append([ref_bleu])\n",
    "            hypotheses.append(pred_bleu)\n",
    "\n",
    "            # Store samples for display\n",
    "            samples.append((\" \".join(src_text), display_ref, display_pred))\n",
    "\n",
    "    # Calculate BLEU with smoothing\n",
    "    smoothie = SmoothingFunction().method4\n",
    "    bleu = corpus_bleu(references, hypotheses, smoothing_function=smoothie)\n",
    "    \n",
    "    print(f\"\\nCorpus BLEU score: {bleu:.4f}\")\n",
    "    print(\"\\nSample translations:\")\n",
    "    for i, (src, ref, hyp) in enumerate(samples):\n",
    "        print(f\"\\nSample {i+1}\")\n",
    "        print(f\"Source    : {src}\")\n",
    "        print(f\"Reference : {ref}\")\n",
    "        print(f\"Predicted : {hyp}\")\n",
    "        \n",
    "        # Calculate individual BLEU score\n",
    "        ref_tokens = ref.split()\n",
    "        hyp_tokens = hyp.split()\n",
    "        \n",
    "        # Remove special tokens for BLEU calculation\n",
    "        ref_for_bleu = [t for t in ref_tokens if t not in ['<sos>', '<end>']]\n",
    "        hyp_for_bleu = [t for t in hyp_tokens if t not in ['<sos>', '<end>']]\n",
    "        \n",
    "        sample_bleu = corpus_bleu([[ref_for_bleu]], [hyp_for_bleu], smoothing_function=smoothie)\n",
    "        print(f\"BLEU for this sample: {sample_bleu:.4f}\")\n",
    "\n",
    "    return bleu\n",
    "\n",
    "# Usage example\n",
    "evaluate_bleu(model, x_enc_test, y_test, src_vocab, tgt_vocab)"
   ]
  },
  {
   "cell_type": "code",
   "execution_count": null,
   "id": "07ea3ccc",
   "metadata": {},
   "outputs": [
    {
     "name": "stdout",
     "output_type": "stream",
     "text": [
      "\n",
      "Evaluating Model...\n"
     ]
    },
    {
     "name": "stderr",
     "output_type": "stream",
     "text": [
      "[nltk_data] Downloading package punkt to /home/ardi/nltk_data...\n",
      "[nltk_data]   Package punkt is already up-to-date!\n"
     ]
    },
    {
     "name": "stdout",
     "output_type": "stream",
     "text": [
      "\n",
      "Classification Report for Each Token:\n",
      "              precision    recall  f1-score   support\n",
      "\n",
      " 'millennium       0.00      0.00      0.00       1.0\n",
      "           (       0.00      0.00      0.00       1.0\n",
      "           )       0.00      0.00      0.00       0.0\n",
      "           ,       0.00      0.00      0.00      13.0\n",
      "           -       0.00      0.00      0.00       1.0\n",
      "           .       0.00      0.00      0.00       0.0\n",
      "    Although       0.00      0.00      0.00       1.0\n",
      "    European       0.00      0.00      0.00       1.0\n",
      "       House       0.00      0.00      0.00       1.0\n",
      "           I       0.00      0.00      0.00       1.0\n",
      "          In       0.00      0.00      0.00       1.0\n",
      "       Kumar       0.00      0.00      0.00       1.0\n",
      "       Lanka       0.00      0.00      0.00       1.0\n",
      "       Madam       0.00      0.00      0.00       1.0\n",
      "     Members       0.00      0.00      0.00       1.0\n",
      "          Mr       0.00      0.00      0.00       1.0\n",
      "         One       0.00      0.00      0.00       1.0\n",
      "  Parliament       0.00      0.00      0.00       1.0\n",
      "      Please       0.00      0.00      0.00       1.0\n",
      " Ponnambalam       0.00      0.00      0.00       1.0\n",
      "   President       0.00      0.00      0.00       1.0\n",
      "  Resumption       0.00      0.00      0.00       1.0\n",
      "         Sri       0.00      0.00      0.00       1.0\n",
      "         The       0.00      0.00      0.00       1.0\n",
      "       Union       0.00      0.00      0.00       0.0\n",
      "         You       0.00      0.00      0.00       1.0\n",
      "           a       0.00      0.00      0.00       8.0\n",
      "         ago       0.00      0.00      0.00       0.0\n",
      "         all       0.00      0.00      0.00       1.0\n",
      "         and       0.00      0.00      0.00       1.0\n",
      "          as       0.00      0.00      0.00       2.0\n",
      "assassinated       0.00      0.00      0.00       1.0\n",
      "      behalf       0.00      0.00      0.00       1.0\n",
      "        bug'       0.00      0.00      0.00       1.0\n",
      "   concerned       0.00      0.00      0.00       1.0\n",
      "   countries       0.00      0.00      0.00       2.0\n",
      "      course       0.00      0.00      0.00       1.0\n",
      "        days       0.00      0.00      0.00       1.0\n",
      "      debate       0.00      0.00      0.00       1.0\n",
      "   disasters       0.00      0.00      0.00       1.0\n",
      "     dreaded       0.00      0.00      0.00       1.0\n",
      "    dreadful       0.00      0.00      0.00       0.0\n",
      "      during       0.00      0.00      0.00       1.0\n",
      "      failed       0.00      0.00      0.00       1.0\n",
      "         few       0.00      0.00      0.00       2.0\n",
      "         for       0.00      0.00      0.00       1.0\n",
      "         had       0.00      0.00      0.00       1.0\n",
      "        have       0.00      0.00      0.00       3.0\n",
      "          in       0.00      0.00      0.00       4.0\n",
      "        just       0.00      0.00      0.00       1.0\n",
      "        like       0.00      0.00      0.00       1.0\n",
      " materialise       0.00      0.00      0.00       1.0\n",
      "    meantime       0.00      0.00      0.00       1.0\n",
      "     minute'       0.00      0.00      0.00       3.0\n",
      "      months       0.00      0.00      0.00       0.0\n",
      "     natural       0.00      0.00      0.00       1.0\n",
      "        next       0.00      0.00      0.00       1.0\n",
      "      number       0.00      0.00      0.00       2.0\n",
      "     observe       0.00      0.00      0.00       1.0\n",
      "    observed       0.00      0.00      0.00       1.0\n",
      "          of       0.00      0.00      0.00      10.0\n",
      "          on       0.00      0.00      0.00       3.0\n",
      "       order       0.00      0.00      0.00       1.0\n",
      "        part       0.00      0.00      0.00       1.0\n",
      "particularly       0.00      0.00      0.00       1.0\n",
      "      people       0.00      0.00      0.00       2.0\n",
      "       point       0.00      0.00      0.00       1.0\n",
      "    recently       0.00      0.00      0.00       1.0\n",
      "   requested       0.00      0.00      0.00       2.0\n",
      "        rise       0.00      0.00      0.00       1.0\n",
      "        rose       0.00      0.00      0.00       1.0\n",
      "           s       0.00      0.00      0.00       3.0\n",
      "        seen       0.00      0.00      0.00       1.0\n",
      "      series       0.00      0.00      0.00       1.0\n",
      "     session       0.00      0.00      0.00       0.0\n",
      "      should       0.00      0.00      0.00       1.0\n",
      "     silence       0.00      0.00      0.00       3.0\n",
      "       still       0.00      0.00      0.00       1.0\n",
      "      storms       0.00      0.00      0.00       1.0\n",
      "     subject       0.00      0.00      0.00       1.0\n",
      "    suffered       0.00      0.00      0.00       1.0\n",
      "    terrible       0.00      0.00      0.00       1.0\n",
      "        that       0.00      0.00      0.00       1.0\n",
      "         the       0.00      0.00      0.00      12.0\n",
      "        then       0.00      0.00      0.00       1.0\n",
      "        this       0.00      0.00      0.00       3.0\n",
      "       those       0.00      0.00      0.00       1.0\n",
      "          to       0.00      0.00      0.00       2.0\n",
      "       truly       0.00      0.00      0.00       1.0\n",
      "     various       0.00      0.00      0.00       1.0\n",
      "        very       0.00      0.00      0.00       1.0\n",
      "     victims       0.00      0.00      0.00       1.0\n",
      "     visited       0.00      0.00      0.00       1.0\n",
      "         was       0.00      0.00      0.00       1.0\n",
      "        were       0.00      0.00      0.00       0.0\n",
      "         who       0.00      0.00      0.00       1.0\n",
      "        will       0.00      0.00      0.00       1.0\n",
      "         you       0.00      0.00      0.00       1.0\n",
      "\n",
      "    accuracy                           0.00     151.0\n",
      "   macro avg       0.00      0.00      0.00     151.0\n",
      "weighted avg       0.00      0.00      0.00     151.0\n",
      "\n"
     ]
    },
    {
     "data": {
      "image/png": "[encoded data removed]",
      "text/plain": [
       "<Figure size 1500x1200 with 2 Axes>"
      ]
     },
     "metadata": {},
     "output_type": "display_data"
    },
    {
     "name": "stdout",
     "output_type": "stream",
     "text": [
      "\n",
      "BLEU Score: 0.7270\n"
     ]
    }
   ],
   "source": [
    "# ======================== Evaluation ========================\n",
    "import nltk\n",
    "from nltk.translate.bleu_score import corpus_bleu\n",
    "from sklearn.metrics import classification_report, confusion_matrix\n",
    "import matplotlib.pyplot as plt\n",
    "import seaborn as sns\n",
    "\n",
    "nltk.download('punkt')\n",
    "\n",
    "def evaluate_model(model, x_enc_test, y_test, tgt_vocab, device):\n",
    "    model.eval()\n",
    "    with torch.no_grad():\n",
    "        # Move test data to device\n",
    "        x_enc_test = x_enc_test.to(device)\n",
    "        # Generate translations\n",
    "        generated_indices = model.translate(x_enc_test)\n",
    "        \n",
    "    # Process predictions and references\n",
    "    predicted_tokens_list = []\n",
    "    true_tokens_list = []\n",
    "\n",
    "    for i in range(len(x_enc_test)):\n",
    "        # Process generated sequence\n",
    "        gen_seq = generated_indices[i].cpu().numpy()\n",
    "        pred_tokens = [tgt_vocab.lookup_token(idx) for idx in gen_seq]\n",
    "        # Strip special tokens\n",
    "        pred_tokens = [tok for tok in pred_tokens if tok not in ['<start>', '<end>']]\n",
    "        # Remove tokens after <end>\n",
    "        try:\n",
    "            end_idx = pred_tokens.index('<end>')\n",
    "            pred_tokens = pred_tokens[:end_idx]\n",
    "        except ValueError:\n",
    "            pass\n",
    "        predicted_tokens_list.append(pred_tokens)\n",
    "\n",
    "        # Process reference sequence\n",
    "        ref_indices = y_test[i].cpu().numpy()\n",
    "        ref_tokens = [tgt_vocab.lookup_token(idx) for idx in ref_indices]\n",
    "        ref_filtered = []\n",
    "        for tok in ref_tokens:\n",
    "            if tok in ['<pad>', '<end>']:\n",
    "                break\n",
    "            ref_filtered.append(tok)\n",
    "        true_tokens_list.append(ref_filtered)\n",
    "\n",
    "    # Flatten and align tokens for classification report\n",
    "    all_predicted = []\n",
    "    all_true = []\n",
    "    for pred, true in zip(predicted_tokens_list, true_tokens_list):\n",
    "        min_len = min(len(pred), len(true))\n",
    "        all_predicted.extend(pred[:min_len])\n",
    "        all_true.extend(true[:min_len])\n",
    "\n",
    "    # Classification report\n",
    "    print(\"\\nClassification Report for Each Token:\")\n",
    "    print(classification_report(all_true, all_predicted, zero_division=0))\n",
    "\n",
    "    # Confusion matrix for top 20 tokens\n",
    "    token_counts = Counter(all_true)\n",
    "    top_tokens = [token for token, _ in token_counts.most_common(20)]\n",
    "    \n",
    "    # Filter pairs for confusion matrix\n",
    "    cm_true = []\n",
    "    cm_pred = []\n",
    "    for t, p in zip(all_true, all_predicted):\n",
    "        if t in top_tokens:\n",
    "            cm_true.append(t)\n",
    "            cm_pred.append(p if p in top_tokens else '<other>')\n",
    "\n",
    "    # Generate confusion matrix\n",
    "    cm = confusion_matrix(cm_true, cm_pred, labels=top_tokens)\n",
    "    \n",
    "    plt.figure(figsize=(15, 12))\n",
    "    sns.heatmap(cm, annot=True, fmt='d', xticklabels=top_tokens, yticklabels=top_tokens)\n",
    "    plt.xlabel('Predicted')\n",
    "    plt.ylabel('True')\n",
    "    plt.title('Confusion Matrix for Top 20 Tokens')\n",
    "    plt.show()\n",
    "\n",
    "    # BLEU score calculation\n",
    "    references = [[ref] for ref in true_tokens_list]\n",
    "    hypotheses = predicted_tokens_list\n",
    "    bleu_score = corpus_bleu(references, hypotheses)\n",
    "    print(f\"\\nBLEU Score: {bleu_score:.4f}\")\n",
    "\n",
    "# Run evaluation after training\n",
    "print(\"\\nEvaluating Model...\")\n",
    "evaluate_model(model, x_enc_test, y_test, tgt_vocab, device)"
   ]
  },
  {
   "cell_type": "code",
   "execution_count": null,
   "id": "2695bea7",
   "metadata": {},
   "outputs": [],
   "source": []
  }
 ],
 "metadata": {
  "kernelspec": {
   "display_name": "base",
   "language": "python",
   "name": "python3"
  },
  "language_info": {
   "codemirror_mode": {
    "name": "ipython",
    "version": 3
   },
   "file_extension": ".py",
   "mimetype": "text/x-python",
   "name": "python",
   "nbconvert_exporter": "python",
   "pygments_lexer": "ipython3",
   "version": "3.12.2"
  }
 },
 "nbformat": 4,
 "nbformat_minor": 5
}
