{
 "cells": [
  {
   "cell_type": "markdown",
   "id": "cc0cf292",
   "metadata": {},
   "source": [
    "### 1. Setup"
   ]
  },
  {
   "cell_type": "code",
   "execution_count": 1,
   "id": "52ccda1b",
   "metadata": {},
   "outputs": [
    {
     "name": "stderr",
     "output_type": "stream",
     "text": [
      "2025-06-20 16:30:31.005657: E external/local_xla/xla/stream_executor/cuda/cuda_fft.cc:477] Unable to register cuFFT factory: Attempting to register factory for plugin cuFFT when one has already been registered\n",
      "WARNING: All log messages before absl::InitializeLog() is called are written to STDERR\n",
      "E0000 00:00:1750411831.026482   58469 cuda_dnn.cc:8310] Unable to register cuDNN factory: Attempting to register factory for plugin cuDNN when one has already been registered\n",
      "E0000 00:00:1750411831.032915   58469 cuda_blas.cc:1418] Unable to register cuBLAS factory: Attempting to register factory for plugin cuBLAS when one has already been registered\n",
      "2025-06-20 16:30:31.053199: I tensorflow/core/platform/cpu_feature_guard.cc:210] This TensorFlow binary is optimized to use available CPU instructions in performance-critical operations.\n",
      "To enable the following instructions: SSE4.1 SSE4.2 AVX AVX2 FMA, in other operations, rebuild TensorFlow with the appropriate compiler flags.\n"
     ]
    },
    {
     "name": "stdout",
     "output_type": "stream",
     "text": [
      "Setup selesai.\n"
     ]
    }
   ],
   "source": [
    "# Impor library standar dan pengecekan versi\n",
    "import sys\n",
    "import sklearn\n",
    "import tensorflow as tf\n",
    "from tensorflow import keras\n",
    "import numpy as np\n",
    "import os\n",
    "import pandas as pd\n",
    "\n",
    "# Impor untuk plotting\n",
    "import matplotlib as mpl\n",
    "import matplotlib.pyplot as plt\n",
    "\n",
    "# --- Pengecekan Versi ---\n",
    "assert sys.version_info >= (3, 5), \"Dibutuhkan Python 3.5 atau lebih baru\"\n",
    "assert sklearn.__version__ >= \"0.20\", \"Dibutuhkan Scikit-Learn 0.20 atau lebih baru\"\n",
    "assert tf.__version__ >= \"2.0\", \"Dibutuhkan TensorFlow 2.0 atau lebih baru\"\n",
    "\n",
    "# --- Pengaturan untuk Hasil yang Stabil dan Plot ---\n",
    "np.random.seed(42)\n",
    "tf.random.set_seed(42)\n",
    "\n",
    "mpl.rc('axes', labelsize=14)\n",
    "mpl.rc('xtick', labelsize=12)\n",
    "mpl.rc('ytick', labelsize=12)\n",
    "\n",
    "# --- Direktori untuk Menyimpan Gambar ---\n",
    "PROJECT_ROOT_DIR = \".\"\n",
    "CHAPTER_ID = \"data\"\n",
    "IMAGES_PATH = os.path.join(PROJECT_ROOT_DIR, \"images\", CHAPTER_ID)\n",
    "os.makedirs(IMAGES_PATH, exist_ok=True)\n",
    "\n",
    "def save_fig(fig_id, tight_layout=True, fig_extension=\"png\", resolution=300):\n",
    "    \"\"\"Fungsi untuk menyimpan gambar plot.\"\"\"\n",
    "    path = os.path.join(IMAGES_PATH, fig_id + \".\" + fig_extension)\n",
    "    print(\"Menyimpan gambar:\", fig_id)\n",
    "    if tight_layout:\n",
    "        plt.tight_layout()\n",
    "    plt.savefig(path, format=fig_extension, dpi=resolution)\n",
    "\n",
    "print(\"Setup selesai.\")"
   ]
  },
  {
   "cell_type": "markdown",
   "id": "e6cf40c4",
   "metadata": {},
   "source": [
    "### 2. Data API"
   ]
  },
  {
   "cell_type": "code",
   "execution_count": 2,
   "id": "2bd00356",
   "metadata": {},
   "outputs": [
    {
     "name": "stdout",
     "output_type": "stream",
     "text": [
      "\n",
      "--- Memulai Bagian Data API ---\n",
      "Dataset dari from_tensor_slices(tf.range(10)): <_TensorSliceDataset element_spec=TensorSpec(shape=(), dtype=tf.int32, name=None)>\n",
      "Dataset dari range(10): <_RangeDataset element_spec=TensorSpec(shape=(), dtype=tf.int64, name=None)>\n",
      "\n",
      "Item dalam dataset awal:\n",
      "tf.Tensor(0, shape=(), dtype=int64)\n",
      "tf.Tensor(1, shape=(), dtype=int64)\n",
      "tf.Tensor(2, shape=(), dtype=int64)\n",
      "tf.Tensor(3, shape=(), dtype=int64)\n",
      "tf.Tensor(4, shape=(), dtype=int64)\n",
      "tf.Tensor(5, shape=(), dtype=int64)\n",
      "tf.Tensor(6, shape=(), dtype=int64)\n",
      "tf.Tensor(7, shape=(), dtype=int64)\n",
      "tf.Tensor(8, shape=(), dtype=int64)\n",
      "tf.Tensor(9, shape=(), dtype=int64)\n"
     ]
    },
    {
     "name": "stderr",
     "output_type": "stream",
     "text": [
      "I0000 00:00:1750411838.526482   58469 gpu_device.cc:2022] Created device /job:localhost/replica:0/task:0/device:GPU:0 with 4057 MB memory:  -> device: 0, name: NVIDIA GeForce RTX 2060, pci bus id: 0000:01:00.0, compute capability: 7.5\n",
      "2025-06-20 16:30:38.826957: I tensorflow/core/framework/local_rendezvous.cc:405] Local rendezvous is aborting with status: OUT_OF_RANGE: End of sequence\n"
     ]
    }
   ],
   "source": [
    "# Bagian ini mendemonstrasikan dasar-dasar penggunaan `tf.data.Dataset` untuk membuat pipeline data yang efisien.\n",
    "\n",
    "print(\"\\n--- Memulai Bagian Data API ---\")\n",
    "\n",
    "# Membuat dataset dari tensor di memori\n",
    "X = tf.range(10)\n",
    "dataset = tf.data.Dataset.from_tensor_slices(X)\n",
    "print(\"Dataset dari from_tensor_slices(tf.range(10)):\", dataset)\n",
    "\n",
    "# Cara lain yang ekuivalen\n",
    "dataset = tf.data.Dataset.range(10)\n",
    "print(\"Dataset dari range(10):\", dataset)\n",
    "\n",
    "# Iterasi melalui dataset\n",
    "print(\"\\nItem dalam dataset awal:\")\n",
    "for item in dataset:\n",
    "    print(item)"
   ]
  },
  {
   "cell_type": "markdown",
   "id": "42dd0f70",
   "metadata": {},
   "source": [
    "#### Chaining (merangkai) transformasi pada dataset\n",
    "repeat() mengulang data, batch() mengelompokkan data"
   ]
  },
  {
   "cell_type": "code",
   "execution_count": 3,
   "id": "59afe0f1",
   "metadata": {},
   "outputs": [
    {
     "name": "stdout",
     "output_type": "stream",
     "text": [
      "\n",
      "Dataset setelah repeat(3) dan batch(7):\n",
      "tf.Tensor([0 1 2 3 4 5 6], shape=(7,), dtype=int64)\n",
      "tf.Tensor([7 8 9 0 1 2 3], shape=(7,), dtype=int64)\n",
      "tf.Tensor([4 5 6 7 8 9 0], shape=(7,), dtype=int64)\n",
      "tf.Tensor([1 2 3 4 5 6 7], shape=(7,), dtype=int64)\n",
      "tf.Tensor([8 9], shape=(2,), dtype=int64)\n",
      "\n",
      "Dataset setelah map(lambda x: x * 2):\n",
      "tf.Tensor([ 0  2  4  6  8 10 12], shape=(7,), dtype=int64)\n",
      "tf.Tensor([14 16 18  0  2  4  6], shape=(7,), dtype=int64)\n",
      "tf.Tensor([ 8 10 12 14 16 18  0], shape=(7,), dtype=int64)\n",
      "tf.Tensor([ 2  4  6  8 10 12 14], shape=(7,), dtype=int64)\n",
      "tf.Tensor([16 18], shape=(2,), dtype=int64)\n"
     ]
    },
    {
     "name": "stderr",
     "output_type": "stream",
     "text": [
      "2025-06-20 16:30:38.864240: I tensorflow/core/framework/local_rendezvous.cc:405] Local rendezvous is aborting with status: OUT_OF_RANGE: End of sequence\n"
     ]
    },
    {
     "name": "stdout",
     "output_type": "stream",
     "text": [
      "\n",
      "Dataset setelah unbatch():\n",
      "tf.Tensor(0, shape=(), dtype=int64)\n",
      "tf.Tensor(2, shape=(), dtype=int64)\n",
      "tf.Tensor(4, shape=(), dtype=int64)\n",
      "tf.Tensor(6, shape=(), dtype=int64)\n",
      "tf.Tensor(8, shape=(), dtype=int64)\n",
      "\n",
      "Dataset setelah filter(lambda x: x < 10):\n",
      "tf.Tensor(0, shape=(), dtype=int64)\n",
      "tf.Tensor(2, shape=(), dtype=int64)\n",
      "tf.Tensor(4, shape=(), dtype=int64)\n",
      "tf.Tensor(6, shape=(), dtype=int64)\n",
      "tf.Tensor(8, shape=(), dtype=int64)\n"
     ]
    },
    {
     "name": "stderr",
     "output_type": "stream",
     "text": [
      "2025-06-20 16:30:38.928981: I tensorflow/core/framework/local_rendezvous.cc:405] Local rendezvous is aborting with status: OUT_OF_RANGE: End of sequence\n"
     ]
    }
   ],
   "source": [
    "dataset = dataset.repeat(3).batch(7)\n",
    "print(\"\\nDataset setelah repeat(3) dan batch(7):\")\n",
    "for item in dataset:\n",
    "    print(item)\n",
    "\n",
    "# Transformasi lainnya seperti map, apply, filter\n",
    "dataset = dataset.map(lambda x: x * 2)  # Mengalikan setiap elemen dengan 2\n",
    "print(\"\\nDataset setelah map(lambda x: x * 2):\")\n",
    "for item in dataset:\n",
    "    print(item)\n",
    "\n",
    "# Mengembalikan batch menjadi elemen individual\n",
    "dataset = dataset.unbatch()\n",
    "print(\"\\nDataset setelah unbatch():\")\n",
    "for item in dataset.take(5): # Hanya menampilkan 5 item pertama\n",
    "    print(item)\n",
    "\n",
    "# Menyaring dataset\n",
    "dataset = dataset.filter(lambda x: x < 10)  # Hanya menyimpan item < 10\n",
    "print(\"\\nDataset setelah filter(lambda x: x < 10):\")\n",
    "for item in dataset.take(5):\n",
    "    print(item)"
   ]
  },
  {
   "cell_type": "markdown",
   "id": "6ba0d5da",
   "metadata": {},
   "source": [
    "#### Mengacak (shuffle) dataset"
   ]
  },
  {
   "cell_type": "code",
   "execution_count": 4,
   "id": "b9f5402e",
   "metadata": {},
   "outputs": [
    {
     "name": "stderr",
     "output_type": "stream",
     "text": [
      "W0000 00:00:1750411839.172870   58646 gpu_backend_lib.cc:579] Can't find libdevice directory ${CUDA_DIR}/nvvm/libdevice. This may result in compilation or runtime failures, if the program we try to run uses routines from libdevice.\n",
      "Searched for CUDA in the following directories:\n",
      "  ./cuda_sdk_lib\n",
      "  ipykernel_launcher.runfiles/cuda_nvcc\n",
      "  ipykern/cuda_nvcc\n",
      "  \n",
      "  /usr/local/cuda\n",
      "  /home/ardi/miniconda3/lib/python3.12/site-packages/tensorflow/python/platform/../../../nvidia/cuda_nvcc\n",
      "  /home/ardi/miniconda3/lib/python3.12/site-packages/tensorflow/python/platform/../../../../nvidia/cuda_nvcc\n",
      "  /home/ardi/miniconda3/lib/python3.12/site-packages/tensorflow/python/platform/../../cuda\n",
      "  .\n",
      "You can choose the search directory by setting xla_gpu_cuda_data_dir in HloModule's DebugOptions.  For most apps, setting the environment variable XLA_FLAGS=--xla_gpu_cuda_data_dir=/path/to/cuda will work.\n"
     ]
    },
    {
     "name": "stdout",
     "output_type": "stream",
     "text": [
      "\n",
      "Dataset setelah shuffle() dan batch():\n",
      "tf.Tensor([0 1 6 5 7 3 9], shape=(7,), dtype=int64)\n",
      "tf.Tensor([8 2 1 0 4 6 4], shape=(7,), dtype=int64)\n",
      "tf.Tensor([7 2 5 9 2 1 3], shape=(7,), dtype=int64)\n",
      "tf.Tensor([4 3 8 7 9 5 0], shape=(7,), dtype=int64)\n",
      "tf.Tensor([8 6], shape=(2,), dtype=int64)\n"
     ]
    }
   ],
   "source": [
    "# Mengacak (shuffle) dataset\n",
    "tf.random.set_seed(42)\n",
    "dataset = tf.data.Dataset.range(10).repeat(3)\n",
    "# buffer_size penting untuk pengacakan yang baik\n",
    "dataset = dataset.shuffle(buffer_size=5, seed=42).batch(7)\n",
    "print(\"\\nDataset setelah shuffle() dan batch():\")\n",
    "for item in dataset:\n",
    "    print(item)"
   ]
  },
  {
   "cell_type": "markdown",
   "id": "9c903ace",
   "metadata": {},
   "source": [
    "#### Pipeline Input dari File CSV"
   ]
  },
  {
   "cell_type": "code",
   "execution_count": 5,
   "id": "4b66d8bc",
   "metadata": {},
   "outputs": [],
   "source": [
    "from sklearn.datasets import fetch_california_housing\n",
    "from sklearn.model_selection import train_test_split\n",
    "from sklearn.preprocessing import StandardScaler\n",
    "\n",
    "# --- Memuat dan Mempersiapkan Dataset California Housing ---\n",
    "housing = fetch_california_housing()\n",
    "X_train_full, X_test, y_train_full, y_test = train_test_split(\n",
    "    housing.data, housing.target.reshape(-1, 1), random_state=42)\n",
    "X_train, X_valid, y_train, y_valid = train_test_split(\n",
    "    X_train_full, y_train_full, random_state=42)\n",
    "\n",
    "# Melakukan penskalaan (scaling) pada fitur\n",
    "scaler = StandardScaler()\n",
    "scaler.fit(X_train)\n",
    "X_mean = scaler.mean_\n",
    "X_std = scaler.scale_"
   ]
  },
  {
   "cell_type": "markdown",
   "id": "ad4b2416",
   "metadata": {},
   "source": [
    "#### Menyimpan Dataset ke Beberapa File CSV"
   ]
  },
  {
   "cell_type": "code",
   "execution_count": 6,
   "id": "b3bc7fe3",
   "metadata": {},
   "outputs": [],
   "source": [
    "def save_to_multiple_csv_files(data, name_prefix, header=None, n_parts=10):\n",
    "    housing_dir = os.path.join(\"datasets\", \"housing\")\n",
    "    os.makedirs(housing_dir, exist_ok=True)\n",
    "    path_format = os.path.join(housing_dir, f\"my_{name_prefix}_{{:02d}}.csv\")\n",
    "\n",
    "    filepaths = []\n",
    "    m = len(data)\n",
    "    for file_idx, row_indices in enumerate(np.array_split(np.arange(m), n_parts)):\n",
    "        part_csv = path_format.format(file_idx)\n",
    "        filepaths.append(part_csv)\n",
    "        with open(part_csv, \"wt\", encoding=\"utf-8\") as f:\n",
    "            if header is not None:\n",
    "                f.write(header)\n",
    "                f.write(\"\\n\")\n",
    "            for row_idx in row_indices:\n",
    "                f.write(\",\".join([repr(col) for col in data[row_idx]]))\n",
    "                f.write(\"\\n\")\n",
    "    return filepaths"
   ]
  },
  {
   "cell_type": "code",
   "execution_count": 7,
   "id": "2ba4b4d5",
   "metadata": {},
   "outputs": [
    {
     "name": "stdout",
     "output_type": "stream",
     "text": [
      "\n",
      "Dataset telah disimpan ke dalam beberapa file CSV.\n",
      "Contoh path file training: datasets/housing/my_train_00.csv\n"
     ]
    }
   ],
   "source": [
    "# Menggabungkan fitur dan target, lalu menyimpannya\n",
    "train_data = np.c_[X_train, y_train]\n",
    "valid_data = np.c_[X_valid, y_valid]\n",
    "test_data = np.c_[X_test, y_test]\n",
    "header_cols = housing.feature_names + [\"MedianHouseValue\"]\n",
    "header = \",\".join(header_cols)\n",
    "\n",
    "train_filepaths = save_to_multiple_csv_files(train_data, \"train\", header, n_parts=20)\n",
    "valid_filepaths = save_to_multiple_csv_files(valid_data, \"valid\", header, n_parts=10)\n",
    "test_filepaths = save_to_multiple_csv_files(test_data, \"test\", header, n_parts=10)\n",
    "\n",
    "print(\"\\nDataset telah disimpan ke dalam beberapa file CSV.\")\n",
    "print(\"Contoh path file training:\", train_filepaths[0])"
   ]
  },
  {
   "cell_type": "markdown",
   "id": "7bfb6438",
   "metadata": {},
   "source": [
    "#### Membangun Pipeline Input"
   ]
  },
  {
   "cell_type": "code",
   "execution_count": 8,
   "id": "2181cb3a",
   "metadata": {},
   "outputs": [],
   "source": [
    "# 1. Membuat dataset dari path file\n",
    "filepath_dataset = tf.data.Dataset.list_files(train_filepaths, seed=42)"
   ]
  },
  {
   "cell_type": "code",
   "execution_count": 9,
   "id": "c37718c7",
   "metadata": {},
   "outputs": [
    {
     "name": "stdout",
     "output_type": "stream",
     "text": [
      "\n",
      "5 baris pertama dari dataset yang digabungkan:\n",
      "b'np.float64(4.7361),np.float64(7.0),np.float64(7.464968152866242),np.float64(1.1178343949044587),np.float64(846.0),np.float64(2.694267515923567),np.float64(34.49),np.float64(-117.27),np.float64(1.745)'\n",
      "b'np.float64(3.6641),np.float64(17.0),np.float64(5.577142857142857),np.float64(1.1542857142857144),np.float64(511.0),np.float64(2.92),np.float64(40.85),np.float64(-121.07),np.float64(0.808)'\n",
      "b'np.float64(4.5909),np.float64(16.0),np.float64(5.475877192982456),np.float64(1.0964912280701755),np.float64(1357.0),np.float64(2.9758771929824563),np.float64(33.63),np.float64(-117.71),np.float64(2.418)'\n",
      "b'np.float64(3.6875),np.float64(44.0),np.float64(4.524475524475524),np.float64(0.993006993006993),np.float64(457.0),np.float64(3.195804195804196),np.float64(34.04),np.float64(-118.15),np.float64(1.625)'\n",
      "b'np.float64(2.3),np.float64(25.0),np.float64(5.828178694158075),np.float64(0.9587628865979382),np.float64(909.0),np.float64(3.1237113402061856),np.float64(36.25),np.float64(-119.4),np.float64(1.328)'\n"
     ]
    }
   ],
   "source": [
    "# 2. Membaca file secara paralel dengan `interleave`\n",
    "n_readers = 5\n",
    "dataset = filepath_dataset.interleave(\n",
    "    lambda filepath: tf.data.TextLineDataset(filepath).skip(1),\n",
    "    cycle_length=n_readers)\n",
    "\n",
    "print(\"\\n5 baris pertama dari dataset yang digabungkan:\")\n",
    "for line in dataset.take(5):\n",
    "    print(line.numpy())"
   ]
  },
  {
   "cell_type": "code",
   "execution_count": 10,
   "id": "d9869fa5",
   "metadata": {},
   "outputs": [
    {
     "name": "stdout",
     "output_type": "stream",
     "text": [
      "\n",
      "Hasil pra-pemrosesan satu baris data:\n",
      "(<tf.Tensor: shape=(8,), dtype=float32, numpy=\n",
      "array([ 0.16579157,  1.216324  , -0.05204565, -0.39215982, -0.5277444 ,\n",
      "       -0.2633488 ,  0.8543046 , -1.3072058 ], dtype=float32)>, <tf.Tensor: shape=(1,), dtype=float32, numpy=array([2.782], dtype=float32)>)\n"
     ]
    }
   ],
   "source": [
    "# 3. Fungsi untuk pra-pemrosesan (parsing dan scaling)\n",
    "n_inputs = 8  # Jumlah fitur input\n",
    "@tf.function\n",
    "def preprocess(line):\n",
    "    defs = [0.] * n_inputs + [tf.constant([], dtype=tf.float32)]\n",
    "    fields = tf.io.decode_csv(line, record_defaults=defs)\n",
    "    x = tf.stack(fields[:-1])\n",
    "    y = tf.stack(fields[-1:])\n",
    "    return (x - X_mean) / X_std, y\n",
    "\n",
    "# Contoh hasil pra-pemrosesan\n",
    "print(\"\\nHasil pra-pemrosesan satu baris data:\")\n",
    "print(preprocess(b'4.2083,44.0,5.3232,0.9171,846.0,2.3370,37.47,-122.2,2.782'))"
   ]
  },
  {
   "cell_type": "code",
   "execution_count": 11,
   "id": "78877b0b",
   "metadata": {},
   "outputs": [],
   "source": [
    "# 4. Fungsi pabrik untuk membuat pipeline data lengkap\n",
    "def csv_reader_dataset(filepaths, repeat=1, n_readers=5,\n",
    "                       n_read_threads=None, shuffle_buffer_size=10000,\n",
    "                       n_parse_threads=5, batch_size=32):\n",
    "    dataset = tf.data.Dataset.list_files(filepaths).repeat(repeat)\n",
    "    dataset = dataset.interleave(\n",
    "        lambda filepath: tf.data.TextLineDataset(filepath).skip(1),\n",
    "        cycle_length=n_readers, num_parallel_calls=n_read_threads)\n",
    "    dataset = dataset.shuffle(shuffle_buffer_size)\n",
    "    dataset = dataset.map(preprocess, num_parallel_calls=n_parse_threads)\n",
    "    dataset = dataset.batch(batch_size)\n",
    "    return dataset.prefetch(1) # prefetch untuk kinerja yang lebih baik"
   ]
  },
  {
   "cell_type": "code",
   "execution_count": 12,
   "id": "277c1c8b",
   "metadata": {},
   "outputs": [],
   "source": [
    "# Membuat set data training, validasi, dan testing\n",
    "train_set = csv_reader_dataset(train_filepaths, repeat=None)\n",
    "valid_set = csv_reader_dataset(valid_filepaths)\n",
    "test_set = csv_reader_dataset(test_filepaths)"
   ]
  },
  {
   "cell_type": "markdown",
   "id": "fdab9305",
   "metadata": {},
   "source": [
    "#### Melatih Model dengan Pipeline Data"
   ]
  },
  {
   "cell_type": "code",
   "execution_count": 13,
   "id": "b4504847",
   "metadata": {},
   "outputs": [
    {
     "name": "stderr",
     "output_type": "stream",
     "text": [
      "/home/ardi/miniconda3/lib/python3.12/site-packages/keras/src/layers/core/dense.py:87: UserWarning: Do not pass an `input_shape`/`input_dim` argument to a layer. When using Sequential models, prefer using an `Input(shape)` object as the first layer in the model instead.\n",
      "  super().__init__(activity_regularizer=activity_regularizer, **kwargs)\n"
     ]
    }
   ],
   "source": [
    "keras.backend.clear_session()\n",
    "np.random.seed(42)\n",
    "tf.random.set_seed(42)\n",
    "\n",
    "model = keras.models.Sequential([\n",
    "    keras.layers.Dense(30, activation=\"relu\", input_shape=X_train.shape[1:]),\n",
    "    keras.layers.Dense(1),\n",
    "])\n",
    "\n",
    "model.compile(loss=\"mse\", optimizer=keras.optimizers.SGD(learning_rate=1e-3))"
   ]
  },
  {
   "cell_type": "code",
   "execution_count": 14,
   "id": "ac02e439",
   "metadata": {},
   "outputs": [
    {
     "name": "stdout",
     "output_type": "stream",
     "text": [
      "\n",
      "Melatih model selama 5 epoch...\n",
      "Epoch 1/5\n"
     ]
    },
    {
     "name": "stderr",
     "output_type": "stream",
     "text": [
      "2025-06-20 16:30:43.445609: I tensorflow/core/framework/local_rendezvous.cc:405] Local rendezvous is aborting with status: INVALID_ARGUMENT: Field 0 in record 0 is not a valid float: np.float64(5.0)\n",
      "\t [[{{function_node __inference_preprocess_290}}{{node DecodeCSV}}]]\n",
      "\t [[IteratorGetNext]]\n",
      "2025-06-20 16:30:43.445720: I tensorflow/core/framework/local_rendezvous.cc:424] Local rendezvous recv item cancelled. Key hash: 8240808479259398707\n",
      "2025-06-20 16:30:43.445769: I tensorflow/core/framework/local_rendezvous.cc:424] Local rendezvous recv item cancelled. Key hash: 14422924542292116735\n"
     ]
    },
    {
     "ename": "InvalidArgumentError",
     "evalue": "Graph execution error:\n\nDetected at node DecodeCSV defined at (most recent call last):\n<stack traces unavailable>\nDetected at node DecodeCSV defined at (most recent call last):\n<stack traces unavailable>\n2 root error(s) found.\n  (0) INVALID_ARGUMENT:  Field 0 in record 0 is not a valid float: np.float64(5.0)\n\t [[{{node DecodeCSV}}]]\n\t [[IteratorGetNext]]\n\t [[IteratorGetNext/_2]]\n  (1) INVALID_ARGUMENT:  Field 0 in record 0 is not a valid float: np.float64(5.0)\n\t [[{{node DecodeCSV}}]]\n\t [[IteratorGetNext]]\n0 successful operations.\n0 derived errors ignored. [Op:__inference_multi_step_on_iterator_704]",
     "output_type": "error",
     "traceback": [
      "\u001b[31m---------------------------------------------------------------------------\u001b[39m",
      "\u001b[31mInvalidArgumentError\u001b[39m                      Traceback (most recent call last)",
      "\u001b[36mCell\u001b[39m\u001b[36m \u001b[39m\u001b[32mIn[14]\u001b[39m\u001b[32m, line 5\u001b[39m\n\u001b[32m      3\u001b[39m batch_size = \u001b[32m32\u001b[39m\n\u001b[32m      4\u001b[39m \u001b[38;5;28mprint\u001b[39m(\u001b[33mf\u001b[39m\u001b[33m\"\u001b[39m\u001b[38;5;130;01m\\n\u001b[39;00m\u001b[33mMelatih model selama \u001b[39m\u001b[38;5;132;01m{\u001b[39;00mepochs\u001b[38;5;132;01m}\u001b[39;00m\u001b[33m epoch...\u001b[39m\u001b[33m\"\u001b[39m)\n\u001b[32m----> \u001b[39m\u001b[32m5\u001b[39m history = \u001b[43mmodel\u001b[49m\u001b[43m.\u001b[49m\u001b[43mfit\u001b[49m\u001b[43m(\u001b[49m\u001b[43mtrain_set\u001b[49m\u001b[43m,\u001b[49m\u001b[43m \u001b[49m\u001b[43msteps_per_epoch\u001b[49m\u001b[43m=\u001b[49m\u001b[38;5;28;43mlen\u001b[39;49m\u001b[43m(\u001b[49m\u001b[43mX_train\u001b[49m\u001b[43m)\u001b[49m\u001b[43m \u001b[49m\u001b[43m/\u001b[49m\u001b[43m/\u001b[49m\u001b[43m \u001b[49m\u001b[43mbatch_size\u001b[49m\u001b[43m,\u001b[49m\u001b[43m \u001b[49m\u001b[43mepochs\u001b[49m\u001b[43m=\u001b[49m\u001b[43mepochs\u001b[49m\u001b[43m,\u001b[49m\n\u001b[32m      6\u001b[39m \u001b[43m                    \u001b[49m\u001b[43mvalidation_data\u001b[49m\u001b[43m=\u001b[49m\u001b[43mvalid_set\u001b[49m\u001b[43m)\u001b[49m\n\u001b[32m      8\u001b[39m \u001b[38;5;28mprint\u001b[39m(\u001b[33m\"\u001b[39m\u001b[38;5;130;01m\\n\u001b[39;00m\u001b[33mEvaluasi model pada test set:\u001b[39m\u001b[33m\"\u001b[39m)\n\u001b[32m      9\u001b[39m loss = model.evaluate(test_set, steps=\u001b[38;5;28mlen\u001b[39m(X_test) // batch_size)\n",
      "\u001b[36mFile \u001b[39m\u001b[32m~/miniconda3/lib/python3.12/site-packages/keras/src/utils/traceback_utils.py:122\u001b[39m, in \u001b[36mfilter_traceback.<locals>.error_handler\u001b[39m\u001b[34m(*args, **kwargs)\u001b[39m\n\u001b[32m    119\u001b[39m     filtered_tb = _process_traceback_frames(e.__traceback__)\n\u001b[32m    120\u001b[39m     \u001b[38;5;66;03m# To get the full stack trace, call:\u001b[39;00m\n\u001b[32m    121\u001b[39m     \u001b[38;5;66;03m# `keras.config.disable_traceback_filtering()`\u001b[39;00m\n\u001b[32m--> \u001b[39m\u001b[32m122\u001b[39m     \u001b[38;5;28;01mraise\u001b[39;00m e.with_traceback(filtered_tb) \u001b[38;5;28;01mfrom\u001b[39;00m\u001b[38;5;250m \u001b[39m\u001b[38;5;28;01mNone\u001b[39;00m\n\u001b[32m    123\u001b[39m \u001b[38;5;28;01mfinally\u001b[39;00m:\n\u001b[32m    124\u001b[39m     \u001b[38;5;28;01mdel\u001b[39;00m filtered_tb\n",
      "\u001b[36mFile \u001b[39m\u001b[32m~/miniconda3/lib/python3.12/site-packages/tensorflow/python/eager/execute.py:53\u001b[39m, in \u001b[36mquick_execute\u001b[39m\u001b[34m(op_name, num_outputs, inputs, attrs, ctx, name)\u001b[39m\n\u001b[32m     51\u001b[39m \u001b[38;5;28;01mtry\u001b[39;00m:\n\u001b[32m     52\u001b[39m   ctx.ensure_initialized()\n\u001b[32m---> \u001b[39m\u001b[32m53\u001b[39m   tensors = pywrap_tfe.TFE_Py_Execute(ctx._handle, device_name, op_name,\n\u001b[32m     54\u001b[39m                                       inputs, attrs, num_outputs)\n\u001b[32m     55\u001b[39m \u001b[38;5;28;01mexcept\u001b[39;00m core._NotOkStatusException \u001b[38;5;28;01mas\u001b[39;00m e:\n\u001b[32m     56\u001b[39m   \u001b[38;5;28;01mif\u001b[39;00m name \u001b[38;5;129;01mis\u001b[39;00m \u001b[38;5;129;01mnot\u001b[39;00m \u001b[38;5;28;01mNone\u001b[39;00m:\n",
      "\u001b[31mInvalidArgumentError\u001b[39m: Graph execution error:\n\nDetected at node DecodeCSV defined at (most recent call last):\n<stack traces unavailable>\nDetected at node DecodeCSV defined at (most recent call last):\n<stack traces unavailable>\n2 root error(s) found.\n  (0) INVALID_ARGUMENT:  Field 0 in record 0 is not a valid float: np.float64(5.0)\n\t [[{{node DecodeCSV}}]]\n\t [[IteratorGetNext]]\n\t [[IteratorGetNext/_2]]\n  (1) INVALID_ARGUMENT:  Field 0 in record 0 is not a valid float: np.float64(5.0)\n\t [[{{node DecodeCSV}}]]\n\t [[IteratorGetNext]]\n0 successful operations.\n0 derived errors ignored. [Op:__inference_multi_step_on_iterator_704]"
     ]
    }
   ],
   "source": [
    "# Mengurangi epoch agar berjalan lebih cepat\n",
    "epochs = 5\n",
    "batch_size = 32\n",
    "print(f\"\\nMelatih model selama {epochs} epoch...\")\n",
    "history = model.fit(train_set, steps_per_epoch=len(X_train) // batch_size, epochs=epochs,\n",
    "                    validation_data=valid_set)\n",
    "\n",
    "print(\"\\nEvaluasi model pada test set:\")\n",
    "loss = model.evaluate(test_set, steps=len(X_test) // batch_size)\n",
    "print(\"Loss pada test set:\", loss)"
   ]
  },
  {
   "cell_type": "markdown",
   "id": "10e75f42",
   "metadata": {},
   "source": [
    "### 3. Format Biner TFRecord\n",
    "Bagian ini menjelaskan cara menggunakan format TFRecord yang efisien untuk menyimpan dan membaca data."
   ]
  },
  {
   "cell_type": "code",
   "execution_count": null,
   "id": "a5a311f2",
   "metadata": {},
   "outputs": [],
   "source": [
    "# --- Menulis dan Membaca File TFRecord Sederhana ---\n",
    "with tf.io.TFRecordWriter(\"my_data.tfrecord\") as f:\n",
    "    f.write(b\"Ini adalah record pertama\")\n",
    "    f.write(b\"Dan ini adalah record kedua\")\n",
    "\n",
    "filepaths = [\"my_data.tfrecord\"]\n",
    "dataset = tf.data.TFRecordDataset(filepaths)\n",
    "print(\"\\nMembaca dari file TFRecord:\")\n",
    "for item in dataset:\n",
    "    print(item)"
   ]
  },
  {
   "cell_type": "markdown",
   "id": "25b71be8",
   "metadata": {},
   "source": [
    "#### Kompresi File TFRecord"
   ]
  },
  {
   "cell_type": "code",
   "execution_count": null,
   "id": "b2b930d4",
   "metadata": {},
   "outputs": [],
   "source": [
    "# --- Kompresi File TFRecord ---\n",
    "options = tf.io.TFRecordOptions(compression_type=\"GZIP\")\n",
    "with tf.io.TFRecordWriter(\"my_compressed.tfrecord\", options) as f:\n",
    "    f.write(b\"Ini adalah record terkompresi\")\n",
    "\n",
    "dataset = tf.data.TFRecordDataset([\"my_compressed.tfrecord\"], compression_type=\"GZIP\")\n",
    "print(\"\\nMembaca dari file TFRecord terkompresi:\")\n",
    "for item in dataset:\n",
    "    print(item)"
   ]
  },
  {
   "cell_type": "markdown",
   "id": "8de1a5a2",
   "metadata": {},
   "source": [
    "#### TensorFlow Protobufs (tf.train.Example)"
   ]
  },
  {
   "cell_type": "code",
   "execution_count": null,
   "id": "822b372d",
   "metadata": {},
   "outputs": [],
   "source": [
    "# Menggunakan tf.train.Example untuk menyimpan data terstruktur\n",
    "BytesList = tf.train.BytesList\n",
    "FloatList = tf.train.FloatList\n",
    "Int64List = tf.train.Int64List\n",
    "Feature = tf.train.Feature\n",
    "Features = tf.train.Features\n",
    "Example = tf.train.Example\n",
    "\n",
    "person_example = Example(\n",
    "    features=Features(\n",
    "        feature={\n",
    "            \"name\": Feature(bytes_list=BytesList(value=[b\"Alice\"])),\n",
    "            \"id\": Feature(int64_list=Int64List(value=[123])),\n",
    "            \"emails\": Feature(bytes_list=BytesList(value=[b\"a@b.com\", b\"c@d.com\"]))\n",
    "        }))\n",
    "\n",
    "with tf.io.TFRecordWriter(\"my_contacts.tfrecord\") as f:\n",
    "    f.write(person_example.SerializeToString())\n",
    "print(\"\\nContoh tf.train.Example berhasil ditulis ke file.\")"
   ]
  },
  {
   "cell_type": "code",
   "execution_count": null,
   "id": "7c45bb1a",
   "metadata": {},
   "outputs": [],
   "source": [
    "feature_description = {\n",
    "    \"name\": tf.io.FixedLenFeature([], tf.string, default_value=\"\"),\n",
    "    \"id\": tf.io.FixedLenFeature([], tf.int64, default_value=0),\n",
    "    \"emails\": tf.io.VarLenFeature(tf.string), # Fitur dengan panjang variabel\n",
    "}\n",
    "\n",
    "print(\"\\nMembaca dan mem-parsing tf.train.Example:\")\n",
    "for serialized_example in tf.data.TFRecordDataset([\"my_contacts.tfrecord\"]):\n",
    "    parsed_example = tf.io.parse_single_example(serialized_example,\n",
    "                                                feature_description)\n",
    "    print(parsed_example)"
   ]
  },
  {
   "cell_type": "code",
   "execution_count": null,
   "id": "2cbd90ce",
   "metadata": {},
   "outputs": [],
   "source": [
    "# Mengubah sparse tensor menjadi dense tensor\n",
    "print(\"\\nEmail (dense):\", tf.sparse.to_dense(parsed_example[\"emails\"], default_value=b\"\").numpy())"
   ]
  },
  {
   "cell_type": "code",
   "execution_count": null,
   "id": "5f208b23",
   "metadata": {},
   "outputs": [],
   "source": [
    "img = load_sample_images()[\"images\"][0]\n",
    "data = tf.io.encode_jpeg(img)\n",
    "example_with_image = Example(features=Features(feature={\n",
    "    \"image\": Feature(bytes_list=BytesList(value=[data.numpy()]))\n",
    "}))\n",
    "serialized_example_img = example_with_image.SerializeToString()"
   ]
  },
  {
   "cell_type": "code",
   "execution_count": null,
   "id": "b0ec6f6c",
   "metadata": {},
   "outputs": [],
   "source": [
    "# Membaca dan mendekode gambar\n",
    "feature_description_img = { \"image\": tf.io.VarLenFeature(tf.string) }\n",
    "parsed_example_img = tf.io.parse_single_example(serialized_example_img, feature_description_img)\n",
    "decoded_img_tensor = tf.io.decode_image(parsed_example_img[\"image\"].values[0])\n",
    "\n",
    "print(\"\\nUkuran tensor gambar yang didekode:\", decoded_img_tensor.shape)"
   ]
  },
  {
   "cell_type": "markdown",
   "id": "a0f021f1",
   "metadata": {},
   "source": [
    "### 4. Preprocessing dengan Features API (Feature Columns)"
   ]
  },
  {
   "cell_type": "code",
   "execution_count": null,
   "id": "7a320a21",
   "metadata": {},
   "outputs": [],
   "source": [
    "# Memuat data housing lagi (versi dengan fitur kategorikal)\n",
    "housing = load_housing_data()\n",
    "print(\"Data housing (head):\\n\", housing.head())"
   ]
  },
  {
   "cell_type": "markdown",
   "id": "09c7db58",
   "metadata": {},
   "source": [
    "#### Membuat Feature Columns"
   ]
  },
  {
   "cell_type": "code",
   "execution_count": null,
   "id": "6eba77e3",
   "metadata": {},
   "outputs": [],
   "source": [
    "# 1. Numeric Column dengan normalisasi\n",
    "age_mean, age_std = X_mean[1], X_std[1]\n",
    "housing_median_age = tf.feature_column.numeric_column(\n",
    "    \"housing_median_age\", normalizer_fn=lambda x: (x - age_mean) / age_std)"
   ]
  },
  {
   "cell_type": "code",
   "execution_count": null,
   "id": "632497ba",
   "metadata": {},
   "outputs": [],
   "source": [
    "# 2. Bucketized Column\n",
    "median_income = tf.feature_column.numeric_column(\"median_income\")\n",
    "bucketized_income = tf.feature_column.bucketized_column(\n",
    "    median_income, boundaries=[1.5, 3., 4.5, 6.])"
   ]
  },
  {
   "cell_type": "code",
   "execution_count": null,
   "id": "ae93fe8f",
   "metadata": {},
   "outputs": [],
   "source": [
    "# 3. Categorical Vocabulary Column\n",
    "ocean_prox_vocab = ['<1H OCEAN', 'INLAND', 'ISLAND', 'NEAR BAY', 'NEAR OCEAN']\n",
    "ocean_proximity = tf.feature_column.categorical_column_with_vocabulary_list(\n",
    "    \"ocean_proximity\", ocean_prox_vocab)"
   ]
  },
  {
   "cell_type": "code",
   "execution_count": null,
   "id": "a5a9f718",
   "metadata": {},
   "outputs": [],
   "source": [
    "# 4. Crossed Column\n",
    "bucketized_age = tf.feature_column.bucketized_column(\n",
    "    housing_median_age, boundaries=[-1., -0.5, 0., 0.5, 1.])\n",
    "age_and_ocean_proximity = tf.feature_column.crossed_column(\n",
    "    [bucketized_age, ocean_proximity], hash_bucket_size=100)"
   ]
  },
  {
   "cell_type": "code",
   "execution_count": null,
   "id": "8435b339",
   "metadata": {},
   "outputs": [],
   "source": [
    "# 5. Indicator Column (untuk one-hot encoding)\n",
    "ocean_proximity_one_hot = tf.feature_column.indicator_column(ocean_proximity)"
   ]
  },
  {
   "cell_type": "code",
   "execution_count": null,
   "id": "04063082",
   "metadata": {},
   "outputs": [],
   "source": [
    "# 6. Embedding Column (untuk representasi padat dari fitur kategorikal)\n",
    "ocean_proximity_embed = tf.feature_column.embedding_column(ocean_proximity, dimension=2)\n"
   ]
  },
  {
   "cell_type": "markdown",
   "id": "29748b26",
   "metadata": {},
   "source": [
    "#### Menggunakan Feature Columns untuk Parsing dan Pelatihan"
   ]
  },
  {
   "cell_type": "code",
   "execution_count": null,
   "id": "ca46adcd",
   "metadata": {},
   "outputs": [],
   "source": [
    "median_house_value = tf.feature_column.numeric_column(\"median_house_value\")\n",
    "columns = [housing_median_age, median_house_value]\n",
    "feature_descriptions = tf.feature_column.make_parse_example_spec(columns)\n",
    "print(\"\\nDeskripsi fitur yang dihasilkan:\\n\", feature_descriptions)"
   ]
  },
  {
   "cell_type": "code",
   "execution_count": null,
   "id": "733028e0",
   "metadata": {},
   "outputs": [],
   "source": [
    "# Tulis subset data ke TFRecord untuk demonstrasi\n",
    "with tf.io.TFRecordWriter(\"my_data_with_features.tfrecords\") as f:\n",
    "    for x, y in zip(X_train[:, 1:2], y_train):\n",
    "        example = Example(features=Features(feature={\n",
    "            \"housing_median_age\": Feature(float_list=FloatList(value=[x])),\n",
    "            \"median_house_value\": Feature(float_list=FloatList(value=[y]))\n",
    "        }))\n",
    "        f.write(example.SerializeToString())"
   ]
  },
  {
   "cell_type": "code",
   "execution_count": null,
   "id": "6427aabf",
   "metadata": {},
   "outputs": [],
   "source": [
    "# Fungsi untuk mem-parsing example\n",
    "def parse_examples(serialized_examples):\n",
    "    examples = tf.io.parse_example(serialized_examples, feature_descriptions)\n",
    "    targets = examples.pop(\"median_house_value\")\n",
    "    return examples, targets"
   ]
  },
  {
   "cell_type": "code",
   "execution_count": null,
   "id": "29008b3f",
   "metadata": {},
   "outputs": [],
   "source": [
    "# Buat dataset\n",
    "dataset = tf.data.TFRecordDataset([\"my_data_with_features.tfrecords\"])\n",
    "dataset = dataset.repeat().shuffle(10000).batch(batch_size).map(parse_examples)"
   ]
  },
  {
   "cell_type": "code",
   "execution_count": null,
   "id": "888b44be",
   "metadata": {},
   "outputs": [],
   "source": [
    "# Buat model menggunakan `DenseFeatures` layer\n",
    "columns_without_target = [housing_median_age]\n",
    "model = keras.models.Sequential([\n",
    "    keras.layers.DenseFeatures(feature_columns=columns_without_target),\n",
    "    keras.layers.Dense(1)\n",
    "])\n",
    "model.compile(loss=\"mse\", optimizer=keras.optimizers.SGD(learning_rate=1e-3))\n",
    "print(\"\\nMelatih model dengan DenseFeatures layer:\")\n",
    "model.fit(dataset, steps_per_epoch=len(X_train) // batch_size, epochs=5)"
   ]
  },
  {
   "cell_type": "markdown",
   "id": "dbf3eacd",
   "metadata": {},
   "source": [
    "### 5. TF Transform"
   ]
  },
  {
   "cell_type": "code",
   "execution_count": null,
   "id": "b00b7d81",
   "metadata": {},
   "outputs": [],
   "source": [
    "if tft is not None:\n",
    "    # pra-pemrosesan data yang perlu di-fit terlebih dahulu.\n",
    "\n",
    "    print(\"\\n--- Memulai Bagian TF Transform ---\")\n",
    "    \n",
    "    def preprocess_tft(inputs):\n",
    "        \"\"\"Fungsi pra-pemrosesan untuk TF Transform.\"\"\"\n",
    "        median_age = inputs[\"housing_median_age\"]\n",
    "        ocean_proximity = inputs[\"ocean_proximity\"]\n",
    "        \n",
    "        # tft.scale_to_z_score akan menghitung mean dan std dev dari seluruh dataset\n",
    "        standardized_age = tft.scale_to_z_score(median_age) \n",
    "        # tft.compute_and_apply_vocabulary akan membuat vocabulary dari seluruh dataset\n",
    "        ocean_proximity_id = tft.compute_and_apply_vocabulary(ocean_proximity)\n",
    "        \n",
    "        return {\n",
    "            \"standardized_median_age\": standardized_age,\n",
    "            \"ocean_proximity_id\": ocean_proximity_id\n",
    "        }\n",
    "    print(\"Fungsi pra-pemrosesan TF Transform telah didefinisikan (tidak dijalankan).\")"
   ]
  },
  {
   "cell_type": "markdown",
   "id": "270f23fe",
   "metadata": {},
   "source": [
    "### 6. TensorFlow Datasets (TFDS)"
   ]
  },
  {
   "cell_type": "code",
   "execution_count": null,
   "id": "f1d4f9da",
   "metadata": {},
   "outputs": [],
   "source": [
    "if tfds is not None:\n",
    "    # Bagian ini menunjukkan cara mudah memuat dataset standar menggunakan library TFDS.\n",
    "\n",
    "    print(\"\\n--- Memulai Bagian TensorFlow Datasets (TFDS) ---\")\n",
    "\n",
    "    # Memuat dataset MNIST\n",
    "    datasets = tfds.load(name=\"mnist\", batch_size=32, as_supervised=True)\n",
    "    mnist_train = datasets[\"train\"].repeat().prefetch(1)\n",
    "    \n",
    "    # Menampilkan beberapa gambar\n",
    "    print(\"\\nContoh gambar dari dataset MNIST yang dimuat via TFDS:\")\n",
    "    plt.figure(figsize=(6, 3))\n",
    "    for images, labels in mnist_train.take(1):\n",
    "        for index in range(5):\n",
    "            plt.subplot(1, 5, index + 1)\n",
    "            image = images[index, ..., 0]\n",
    "            label = labels[index].numpy()\n",
    "            plt.imshow(image, cmap=\"binary\")\n",
    "            plt.title(label)\n",
    "            plt.axis(\"off\")\n",
    "    plt.show()\n",
    "\n",
    "    # Melatih model pada dataset dari TFDS\n",
    "    keras.backend.clear_session()\n",
    "    np.random.seed(42)\n",
    "    tf.random.set_seed(42)\n",
    "    \n",
    "    model = keras.models.Sequential([\n",
    "        keras.layers.Flatten(input_shape=[28, 28, 1]),\n",
    "        keras.layers.Lambda(lambda images: tf.cast(images, tf.float32)), # Cast ke float\n",
    "        keras.layers.Dense(10, activation=\"softmax\")\n",
    "    ])\n",
    "    model.compile(loss=\"sparse_categorical_crossentropy\",\n",
    "                  optimizer=keras.optimizers.SGD(learning_rate=1e-3),\n",
    "                  metrics=[\"accuracy\"])\n",
    "    \n",
    "    print(\"\\nMelatih model pada dataset MNIST dari TFDS:\")\n",
    "    model.fit(mnist_train, steps_per_epoch=60000 // 32, epochs=5)"
   ]
  },
  {
   "cell_type": "code",
   "execution_count": null,
   "id": "6653c76c",
   "metadata": {},
   "outputs": [],
   "source": [
    "if hub is not None:\n",
    "    # Bagian ini menunjukkan cara menggunakan model pre-trained dari TensorFlow Hub.\n",
    "    \n",
    "    print(\"\\n--- Memulai Bagian TensorFlow Hub ---\")\n",
    "\n",
    "    keras.backend.clear_session()\n",
    "    np.random.seed(42)\n",
    "    tf.random.set_seed(42)\n",
    "\n",
    "    # Menggunakan layer embedding teks dari TF Hub\n",
    "    hub_layer = hub.KerasLayer(\"https://tfhub.dev/google/nnlm-en-dim50/2\",\n",
    "                               output_shape=[50], input_shape=[], dtype=tf.string)\n",
    "\n",
    "    model = keras.Sequential([\n",
    "        hub_layer,\n",
    "        keras.layers.Dense(16, activation='relu'),\n",
    "        keras.layers.Dense(1, activation='sigmoid')\n",
    "    ])\n",
    "    \n",
    "    print(\"\\nRingkasan model dengan layer dari TF Hub:\")\n",
    "    model.summary()\n",
    "\n",
    "    # Contoh penggunaan layer\n",
    "    sentences = tf.constant([\"It was a great movie\", \"The actors were amazing\"])\n",
    "    embeddings = hub_layer(sentences)\n",
    "    print(\"\\nContoh output embeddings dari TF Hub layer:\")\n",
    "    print(embeddings)"
   ]
  }
 ],
 "metadata": {
  "kernelspec": {
   "display_name": "base",
   "language": "python",
   "name": "python3"
  },
  "language_info": {
   "codemirror_mode": {
    "name": "ipython",
    "version": 3
   },
   "file_extension": ".py",
   "mimetype": "text/x-python",
   "name": "python",
   "nbconvert_exporter": "python",
   "pygments_lexer": "ipython3",
   "version": "3.12.2"
  }
 },
 "nbformat": 4,
 "nbformat_minor": 5
}
