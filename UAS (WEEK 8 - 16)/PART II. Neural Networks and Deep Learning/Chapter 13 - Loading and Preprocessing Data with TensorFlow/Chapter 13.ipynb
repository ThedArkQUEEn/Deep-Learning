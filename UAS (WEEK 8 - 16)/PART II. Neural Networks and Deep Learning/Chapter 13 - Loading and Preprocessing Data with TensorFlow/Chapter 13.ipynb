{
 "cells": [
  {
   "cell_type": "markdown",
   "id": "cc0cf292",
   "metadata": {},
   "source": [
    "### 1. Setup"
   ]
  },
  {
   "cell_type": "code",
   "execution_count": 1,
   "id": "52ccda1b",
   "metadata": {},
   "outputs": [
    {
     "name": "stderr",
     "output_type": "stream",
     "text": [
      "2025-06-20 18:35:47.466406: E external/local_xla/xla/stream_executor/cuda/cuda_fft.cc:477] Unable to register cuFFT factory: Attempting to register factory for plugin cuFFT when one has already been registered\n",
      "WARNING: All log messages before absl::InitializeLog() is called are written to STDERR\n",
      "E0000 00:00:1750419347.555671   94398 cuda_dnn.cc:8310] Unable to register cuDNN factory: Attempting to register factory for plugin cuDNN when one has already been registered\n",
      "E0000 00:00:1750419347.571289   94398 cuda_blas.cc:1418] Unable to register cuBLAS factory: Attempting to register factory for plugin cuBLAS when one has already been registered\n",
      "2025-06-20 18:35:47.698131: I tensorflow/core/platform/cpu_feature_guard.cc:210] This TensorFlow binary is optimized to use available CPU instructions in performance-critical operations.\n",
      "To enable the following instructions: SSE4.1 SSE4.2 AVX AVX2 FMA, in other operations, rebuild TensorFlow with the appropriate compiler flags.\n"
     ]
    }
   ],
   "source": [
    "# Impor library standar dan pengecekan versi\n",
    "import sys\n",
    "import sklearn\n",
    "import tensorflow as tf\n",
    "from tensorflow import keras\n",
    "import numpy as np\n",
    "import os\n",
    "import pandas as pd\n",
    "\n",
    "# Impor untuk plotting\n",
    "import matplotlib as mpl\n",
    "import matplotlib.pyplot as plt\n",
    "\n",
    "# --- Pengecekan Versi ---\n",
    "assert sys.version_info >= (3, 5), \"Dibutuhkan Python 3.5 atau lebih baru\"\n",
    "assert sklearn.__version__ >= \"0.20\", \"Dibutuhkan Scikit-Learn 0.20 atau lebih baru\"\n",
    "assert tf.__version__ >= \"2.0\", \"Dibutuhkan TensorFlow 2.0 atau lebih baru\"\n",
    "\n",
    "\n",
    "# --- Pengaturan untuk Hasil yang Stabil dan Plot ---\n",
    "np.random.seed(42)\n",
    "tf.random.set_seed(42)\n",
    "\n",
    "mpl.rc('axes', labelsize=14)\n",
    "mpl.rc('xtick', labelsize=12)\n",
    "mpl.rc('ytick', labelsize=12)\n",
    "\n",
    "# --- Direktori untuk Menyimpan Gambar ---\n",
    "PROJECT_ROOT_DIR = \".\"\n",
    "CHAPTER_ID = \"data\"\n",
    "IMAGES_PATH = os.path.join(PROJECT_ROOT_DIR, \"images\", CHAPTER_ID)\n",
    "os.makedirs(IMAGES_PATH, exist_ok=True)\n",
    "\n",
    "def save_fig(fig_id, tight_layout=True, fig_extension=\"png\", resolution=300):\n",
    "    \"\"\"Fungsi untuk menyimpan gambar plot.\"\"\"\n",
    "    path = os.path.join(IMAGES_PATH, fig_id + \".\" + fig_extension)\n",
    "    print(\"Menyimpan gambar:\", fig_id)\n",
    "    if tight_layout:\n",
    "        plt.tight_layout()\n",
    "    plt.savefig(path, format=fig_extension, dpi=resolution)"
   ]
  },
  {
   "cell_type": "markdown",
   "id": "e6cf40c4",
   "metadata": {},
   "source": [
    "### 2. Data API"
   ]
  },
  {
   "cell_type": "code",
   "execution_count": 2,
   "id": "2bd00356",
   "metadata": {},
   "outputs": [
    {
     "name": "stdout",
     "output_type": "stream",
     "text": [
      "\n",
      "--- Memulai Bagian Data API ---\n",
      "Dataset dari from_tensor_slices(tf.range(10)): <_TensorSliceDataset element_spec=TensorSpec(shape=(), dtype=tf.int32, name=None)>\n"
     ]
    },
    {
     "name": "stderr",
     "output_type": "stream",
     "text": [
      "I0000 00:00:1750419354.276679   94398 gpu_device.cc:2022] Created device /job:localhost/replica:0/task:0/device:GPU:0 with 1544 MB memory:  -> device: 0, name: NVIDIA GeForce RTX 2060, pci bus id: 0000:01:00.0, compute capability: 7.5\n"
     ]
    },
    {
     "name": "stdout",
     "output_type": "stream",
     "text": [
      "Dataset dari range(10): <_RangeDataset element_spec=TensorSpec(shape=(), dtype=tf.int64, name=None)>\n",
      "\n",
      "Item dalam dataset awal:\n",
      "0 1 2 3 4 5 6 7 8 9 "
     ]
    },
    {
     "name": "stderr",
     "output_type": "stream",
     "text": [
      "2025-06-20 18:35:59.281609: I tensorflow/core/framework/local_rendezvous.cc:405] Local rendezvous is aborting with status: OUT_OF_RANGE: End of sequence\n"
     ]
    }
   ],
   "source": [
    "# Bagian ini mendemonstrasikan dasar-dasar penggunaan `tf.data.Dataset` untuk membuat pipeline data yang efisien.\n",
    "\n",
    "print(\"\\n--- Memulai Bagian Data API ---\")\n",
    "\n",
    "# Membuat dataset dari tensor di memori\n",
    "X = tf.range(10)\n",
    "dataset = tf.data.Dataset.from_tensor_slices(X)\n",
    "print(\"Dataset dari from_tensor_slices(tf.range(10)):\", dataset)\n",
    "\n",
    "# Cara lain yang ekuivalen\n",
    "dataset = tf.data.Dataset.range(10)\n",
    "print(\"Dataset dari range(10):\", dataset)\n",
    "\n",
    "# Iterasi melalui dataset\n",
    "print(\"\\nItem dalam dataset awal:\")\n",
    "for item in dataset:\n",
    "    print(item.numpy(), end=\" \")"
   ]
  },
  {
   "cell_type": "markdown",
   "id": "42dd0f70",
   "metadata": {},
   "source": [
    "#### Chaining (merangkai) transformasi pada dataset\n",
    "repeat() mengulang data, batch() mengelompokkan data"
   ]
  },
  {
   "cell_type": "code",
   "execution_count": 3,
   "id": "59afe0f1",
   "metadata": {},
   "outputs": [
    {
     "name": "stdout",
     "output_type": "stream",
     "text": [
      "Dataset setelah repeat(3) dan batch(7):\n",
      "tf.Tensor([0 1 2 3 4 5 6], shape=(7,), dtype=int64)\n",
      "tf.Tensor([7 8 9 0 1 2 3], shape=(7,), dtype=int64)\n",
      "tf.Tensor([4 5 6 7 8 9 0], shape=(7,), dtype=int64)\n",
      "tf.Tensor([1 2 3 4 5 6 7], shape=(7,), dtype=int64)\n",
      "tf.Tensor([8 9], shape=(2,), dtype=int64)\n",
      "\n",
      "Dataset setelah map(lambda x: x * 2):\n",
      "tf.Tensor([ 0  2  4  6  8 10 12], shape=(7,), dtype=int64)\n",
      "tf.Tensor([14 16 18  0  2  4  6], shape=(7,), dtype=int64)\n",
      "tf.Tensor([ 8 10 12 14 16 18  0], shape=(7,), dtype=int64)\n",
      "tf.Tensor([ 2  4  6  8 10 12 14], shape=(7,), dtype=int64)\n",
      "tf.Tensor([16 18], shape=(2,), dtype=int64)\n",
      "\n",
      "Dataset setelah unbatch():\n"
     ]
    },
    {
     "name": "stderr",
     "output_type": "stream",
     "text": [
      "2025-06-20 18:35:59.334543: I tensorflow/core/framework/local_rendezvous.cc:405] Local rendezvous is aborting with status: OUT_OF_RANGE: End of sequence\n",
      "2025-06-20 18:35:59.436324: I tensorflow/core/framework/local_rendezvous.cc:405] Local rendezvous is aborting with status: OUT_OF_RANGE: End of sequence\n"
     ]
    },
    {
     "name": "stdout",
     "output_type": "stream",
     "text": [
      "0 2 4 6 8 \n",
      "\n",
      "\n",
      "Dataset setelah filter(lambda x: x < 10):\n",
      "0 2 4 6 8 0 2 4 6 8 0 2 4 6 8 "
     ]
    }
   ],
   "source": [
    "dataset_repeated = dataset.repeat(3).batch(7)\n",
    "print(\"Dataset setelah repeat(3) dan batch(7):\")\n",
    "for item in dataset_repeated:\n",
    "    print(item)\n",
    "\n",
    "# Transformasi lainnya seperti map, apply, filter\n",
    "dataset_mapped = dataset_repeated.map(lambda x: x * 2)  # Mengalikan setiap elemen dengan 2\n",
    "print(\"\\nDataset setelah map(lambda x: x * 2):\")\n",
    "for item in dataset_mapped:\n",
    "    print(item)\n",
    "\n",
    "# Mengembalikan batch menjadi elemen individual\n",
    "dataset_unbatched = dataset_mapped.unbatch()\n",
    "print(\"\\nDataset setelah unbatch():\")\n",
    "for item in dataset_unbatched.take(5): # Hanya menampilkan 5 item pertama\n",
    "    print(item.numpy(), end=\" \")\n",
    "print(\"\\n\")\n",
    "\n",
    "# Menyaring dataset\n",
    "dataset_filtered = dataset_unbatched.filter(lambda x: x < 10)  # Hanya menyimpan item < 10\n",
    "print(\"\\nDataset setelah filter(lambda x: x < 10):\")\n",
    "for item in dataset_filtered:\n",
    "    print(item.numpy(), end=\" \")"
   ]
  },
  {
   "cell_type": "markdown",
   "id": "6ba0d5da",
   "metadata": {},
   "source": [
    "#### Mengacak (shuffle) dataset"
   ]
  },
  {
   "cell_type": "code",
   "execution_count": 4,
   "id": "b9f5402e",
   "metadata": {},
   "outputs": [
    {
     "name": "stderr",
     "output_type": "stream",
     "text": [
      "W0000 00:00:1750419359.924648  104057 gpu_backend_lib.cc:579] Can't find libdevice directory ${CUDA_DIR}/nvvm/libdevice. This may result in compilation or runtime failures, if the program we try to run uses routines from libdevice.\n",
      "Searched for CUDA in the following directories:\n",
      "  ./cuda_sdk_lib\n",
      "  ipykernel_launcher.runfiles/cuda_nvcc\n",
      "  ipykern/cuda_nvcc\n",
      "  \n",
      "  /usr/local/cuda\n",
      "  /home/ardi/miniconda3/lib/python3.12/site-packages/tensorflow/python/platform/../../../nvidia/cuda_nvcc\n",
      "  /home/ardi/miniconda3/lib/python3.12/site-packages/tensorflow/python/platform/../../../../nvidia/cuda_nvcc\n",
      "  /home/ardi/miniconda3/lib/python3.12/site-packages/tensorflow/python/platform/../../cuda\n",
      "  .\n",
      "You can choose the search directory by setting xla_gpu_cuda_data_dir in HloModule's DebugOptions.  For most apps, setting the environment variable XLA_FLAGS=--xla_gpu_cuda_data_dir=/path/to/cuda will work.\n"
     ]
    },
    {
     "name": "stdout",
     "output_type": "stream",
     "text": [
      "\n",
      "Dataset setelah shuffle() dan batch():\n",
      "tf.Tensor([0 1 6 5 7 3 9], shape=(7,), dtype=int64)\n",
      "tf.Tensor([8 2 1 0 4 6 4], shape=(7,), dtype=int64)\n",
      "tf.Tensor([7 2 5 9 2 1 3], shape=(7,), dtype=int64)\n",
      "tf.Tensor([4 3 8 7 9 5 0], shape=(7,), dtype=int64)\n",
      "tf.Tensor([8 6], shape=(2,), dtype=int64)\n"
     ]
    }
   ],
   "source": [
    "# Mengacak (shuffle) dataset\n",
    "tf.random.set_seed(42)\n",
    "dataset_shuffled = tf.data.Dataset.range(10).repeat(3)\n",
    "# buffer_size penting untuk pengacakan yang baik\n",
    "dataset_shuffled = dataset_shuffled.shuffle(buffer_size=5, seed=42).batch(7)\n",
    "print(\"\\nDataset setelah shuffle() dan batch():\")\n",
    "for item in dataset_shuffled:\n",
    "    print(item)"
   ]
  },
  {
   "cell_type": "markdown",
   "id": "9c903ace",
   "metadata": {},
   "source": [
    "#### Pipeline Input dari File CSV"
   ]
  },
  {
   "cell_type": "code",
   "execution_count": 5,
   "id": "4b66d8bc",
   "metadata": {},
   "outputs": [],
   "source": [
    "from sklearn.datasets import fetch_california_housing\n",
    "from sklearn.model_selection import train_test_split\n",
    "from sklearn.preprocessing import StandardScaler\n",
    "\n",
    "# --- Memuat dan Mempersiapkan Dataset California Housing ---\n",
    "housing = fetch_california_housing()\n",
    "X_train_full, X_test, y_train_full, y_test = train_test_split(\n",
    "    housing.data, housing.target.reshape(-1, 1), random_state=42)\n",
    "X_train, X_valid, y_train, y_valid = train_test_split(\n",
    "    X_train_full, y_train_full, random_state=42)\n",
    "\n",
    "# Melakukan penskalaan (scaling) pada fitur\n",
    "scaler = StandardScaler()\n",
    "scaler.fit(X_train)\n",
    "X_mean = scaler.mean_\n",
    "X_std = scaler.scale_"
   ]
  },
  {
   "cell_type": "markdown",
   "id": "ad4b2416",
   "metadata": {},
   "source": [
    "#### Menyimpan Dataset ke Beberapa File CSV"
   ]
  },
  {
   "cell_type": "code",
   "execution_count": 6,
   "id": "b3bc7fe3",
   "metadata": {},
   "outputs": [],
   "source": [
    "def save_to_multiple_csv_files(data, name_prefix, header=None, n_parts=10):\n",
    "    housing_dir = os.path.join(\"datasets\", \"housing\")\n",
    "    os.makedirs(housing_dir, exist_ok=True)\n",
    "    path_format = os.path.join(housing_dir, f\"my_{name_prefix}_{{:02d}}.csv\")\n",
    "\n",
    "    filepaths = []\n",
    "    m = len(data)\n",
    "    for file_idx, row_indices in enumerate(np.array_split(np.arange(m), n_parts)):\n",
    "        part_csv = path_format.format(file_idx)\n",
    "        filepaths.append(part_csv)\n",
    "        with open(part_csv, \"wt\", encoding=\"utf-8\") as f:\n",
    "            if header is not None:\n",
    "                f.write(header)\n",
    "                f.write(\"\\n\")\n",
    "            for row_idx in row_indices:\n",
    "                f.write(\",\".join([str(col) for col in data[row_idx]]))\n",
    "                f.write(\"\\n\")\n",
    "    return filepaths"
   ]
  },
  {
   "cell_type": "code",
   "execution_count": 7,
   "id": "2ba4b4d5",
   "metadata": {},
   "outputs": [
    {
     "name": "stdout",
     "output_type": "stream",
     "text": [
      "\n",
      "Dataset telah disimpan ke dalam beberapa file CSV.\n",
      "Contoh path file training: datasets/housing/my_train_00.csv\n"
     ]
    }
   ],
   "source": [
    "# Menggabungkan fitur dan target, lalu menyimpannya\n",
    "train_data = np.c_[X_train, y_train]\n",
    "valid_data = np.c_[X_valid, y_valid]\n",
    "test_data = np.c_[X_test, y_test]\n",
    "header_cols = housing.feature_names + [\"MedianHouseValue\"]\n",
    "header = \",\".join(header_cols)\n",
    "\n",
    "train_filepaths = save_to_multiple_csv_files(train_data, \"train\", header, n_parts=20)\n",
    "valid_filepaths = save_to_multiple_csv_files(valid_data, \"valid\", header, n_parts=10)\n",
    "test_filepaths = save_to_multiple_csv_files(test_data, \"test\", header, n_parts=10)\n",
    "\n",
    "print(\"\\nDataset telah disimpan ke dalam beberapa file CSV.\")\n",
    "print(\"Contoh path file training:\", train_filepaths[0])"
   ]
  },
  {
   "cell_type": "code",
   "execution_count": 8,
   "id": "ed7dfb49",
   "metadata": {},
   "outputs": [
    {
     "name": "stdout",
     "output_type": "stream",
     "text": [
      "\n",
      "Dataset telah disimpan ke dalam beberapa file CSV.\n",
      "Melihat isi 5 baris pertama dari file CSV pertama:\n",
      "MedInc,HouseAge,AveRooms,AveBedrms,Population,AveOccup,Latitude,Longitude,MedianHouseValue\n",
      "3.5214,15.0,3.0499445061043287,1.106548279689234,1447.0,1.6059933407325193,37.63,-122.43,1.442\n",
      "5.3275,5.0,6.490059642147117,0.9910536779324056,3464.0,3.4433399602385686,33.69,-117.39,1.687\n",
      "3.1,29.0,7.5423728813559325,1.5915254237288134,1328.0,2.2508474576271187,38.44,-122.98,1.621\n",
      "7.1736,12.0,6.289002557544757,0.9974424552429667,1054.0,2.6956521739130435,33.55,-117.7,2.621\n"
     ]
    }
   ],
   "source": [
    "print(\"\\nDataset telah disimpan ke dalam beberapa file CSV.\")\n",
    "print(\"Melihat isi 5 baris pertama dari file CSV pertama:\")\n",
    "with open(train_filepaths[0]) as f:\n",
    "    for i in range(5):\n",
    "        print(f.readline(), end=\"\")"
   ]
  },
  {
   "cell_type": "markdown",
   "id": "7bfb6438",
   "metadata": {},
   "source": [
    "#### Membangun Pipeline Input"
   ]
  },
  {
   "cell_type": "code",
   "execution_count": 9,
   "id": "2181cb3a",
   "metadata": {},
   "outputs": [],
   "source": [
    "# 1. Membuat dataset dari path file\n",
    "filepath_dataset = tf.data.Dataset.list_files(train_filepaths, seed=42)"
   ]
  },
  {
   "cell_type": "code",
   "execution_count": 10,
   "id": "c37718c7",
   "metadata": {},
   "outputs": [
    {
     "name": "stdout",
     "output_type": "stream",
     "text": [
      "\n",
      "5 baris pertama dari dataset yang digabungkan:\n",
      "b'4.7361,7.0,7.464968152866242,1.1178343949044587,846.0,2.694267515923567,34.49,-117.27,1.745'\n",
      "b'3.6641,17.0,5.577142857142857,1.1542857142857144,511.0,2.92,40.85,-121.07,0.808'\n",
      "b'4.5909,16.0,5.475877192982456,1.0964912280701755,1357.0,2.9758771929824563,33.63,-117.71,2.418'\n",
      "b'3.6875,44.0,4.524475524475524,0.993006993006993,457.0,3.195804195804196,34.04,-118.15,1.625'\n",
      "b'2.3,25.0,5.828178694158075,0.9587628865979382,909.0,3.1237113402061856,36.25,-119.4,1.328'\n"
     ]
    }
   ],
   "source": [
    "# 2. Membaca file secara paralel dengan `interleave`\n",
    "n_readers = 5\n",
    "dataset = filepath_dataset.interleave(\n",
    "    lambda filepath: tf.data.TextLineDataset(filepath).skip(1),\n",
    "    cycle_length=n_readers)\n",
    "\n",
    "print(\"\\n5 baris pertama dari dataset yang digabungkan:\")\n",
    "for line in dataset.take(5):\n",
    "    print(line.numpy())"
   ]
  },
  {
   "cell_type": "code",
   "execution_count": 11,
   "id": "d9869fa5",
   "metadata": {},
   "outputs": [
    {
     "name": "stdout",
     "output_type": "stream",
     "text": [
      "\n",
      "Hasil pra-pemrosesan satu baris data:\n",
      "(<tf.Tensor: shape=(8,), dtype=float32, numpy=\n",
      "array([ 0.16579157,  1.216324  , -0.05204565, -0.39215982, -0.5277444 ,\n",
      "       -0.2633488 ,  0.8543046 , -1.3072058 ], dtype=float32)>, <tf.Tensor: shape=(1,), dtype=float32, numpy=array([2.782], dtype=float32)>)\n"
     ]
    }
   ],
   "source": [
    "# 3. Fungsi untuk pra-pemrosesan (parsing dan scaling)\n",
    "n_inputs = 8  # Jumlah fitur input\n",
    "@tf.function\n",
    "def preprocess(line):\n",
    "    defs = [0.] * n_inputs + [tf.constant([], dtype=tf.float32)]\n",
    "    fields = tf.io.decode_csv(line, record_defaults=defs)\n",
    "    x = tf.stack(fields[:-1])\n",
    "    y = tf.stack(fields[-1:])\n",
    "    return (x - X_mean) / X_std, y\n",
    "\n",
    "# Contoh hasil pra-pemrosesan\n",
    "print(\"\\nHasil pra-pemrosesan satu baris data:\")\n",
    "print(preprocess(b'4.2083,44.0,5.3232,0.9171,846.0,2.3370,37.47,-122.2,2.782'))"
   ]
  },
  {
   "cell_type": "code",
   "execution_count": 12,
   "id": "78877b0b",
   "metadata": {},
   "outputs": [],
   "source": [
    "# 4. Fungsi pabrik untuk membuat pipeline data lengkap\n",
    "def csv_reader_dataset(filepaths, repeat=1, n_readers=5,\n",
    "                       n_read_threads=None, shuffle_buffer_size=10000,\n",
    "                       n_parse_threads=5, batch_size=32):\n",
    "    dataset = tf.data.Dataset.list_files(filepaths).repeat(repeat)\n",
    "    dataset = dataset.interleave(\n",
    "        lambda filepath: tf.data.TextLineDataset(filepath).skip(1),\n",
    "        cycle_length=n_readers, num_parallel_calls=n_read_threads)\n",
    "    dataset = dataset.shuffle(shuffle_buffer_size)\n",
    "    dataset = dataset.map(preprocess, num_parallel_calls=n_parse_threads)\n",
    "    dataset = dataset.batch(batch_size)\n",
    "    return dataset.prefetch(1) # prefetch untuk kinerja yang lebih baik"
   ]
  },
  {
   "cell_type": "code",
   "execution_count": 13,
   "id": "277c1c8b",
   "metadata": {},
   "outputs": [],
   "source": [
    "# Membuat set data training, validasi, dan testing\n",
    "train_set = csv_reader_dataset(train_filepaths, repeat=None)\n",
    "valid_set = csv_reader_dataset(valid_filepaths)\n",
    "test_set = csv_reader_dataset(test_filepaths)"
   ]
  },
  {
   "cell_type": "markdown",
   "id": "fdab9305",
   "metadata": {},
   "source": [
    "#### Melatih Model dengan Pipeline Data"
   ]
  },
  {
   "cell_type": "code",
   "execution_count": 14,
   "id": "b4504847",
   "metadata": {},
   "outputs": [
    {
     "name": "stderr",
     "output_type": "stream",
     "text": [
      "/home/ardi/miniconda3/lib/python3.12/site-packages/keras/src/layers/core/dense.py:87: UserWarning: Do not pass an `input_shape`/`input_dim` argument to a layer. When using Sequential models, prefer using an `Input(shape)` object as the first layer in the model instead.\n",
      "  super().__init__(activity_regularizer=activity_regularizer, **kwargs)\n"
     ]
    }
   ],
   "source": [
    "keras.backend.clear_session()\n",
    "np.random.seed(42)\n",
    "tf.random.set_seed(42)\n",
    "\n",
    "model = keras.models.Sequential([\n",
    "    keras.layers.Dense(30, activation=\"relu\", input_shape=X_train.shape[1:]),\n",
    "    keras.layers.Dense(1),\n",
    "])\n",
    "\n",
    "model.compile(loss=\"mse\", optimizer=keras.optimizers.SGD(learning_rate=1e-3))"
   ]
  },
  {
   "cell_type": "code",
   "execution_count": 15,
   "id": "ac02e439",
   "metadata": {},
   "outputs": [
    {
     "name": "stdout",
     "output_type": "stream",
     "text": [
      "\n",
      "Melatih model dengan pipeline CSV selama 5 epoch...\n",
      "Epoch 1/5\n"
     ]
    },
    {
     "name": "stderr",
     "output_type": "stream",
     "text": [
      "I0000 00:00:1750419364.589023  103938 service.cc:148] XLA service 0x7fd73c0054e0 initialized for platform CUDA (this does not guarantee that XLA will be used). Devices:\n",
      "I0000 00:00:1750419364.589100  103938 service.cc:156]   StreamExecutor device (0): NVIDIA GeForce RTX 2060, Compute Capability 7.5\n",
      "2025-06-20 18:36:04.641487: I tensorflow/compiler/mlir/tensorflow/utils/dump_mlir_util.cc:268] disabling MLIR crash reproducer, set env var `MLIR_CRASH_REPRODUCER_DIRECTORY` to enable.\n",
      "I0000 00:00:1750419364.718127  103938 cuda_dnn.cc:529] Loaded cuDNN version 91000\n"
     ]
    },
    {
     "name": "stdout",
     "output_type": "stream",
     "text": [
      "\u001b[1m 29/362\u001b[0m \u001b[32m━\u001b[0m\u001b[37m━━━━━━━━━━━━━━━━━━━\u001b[0m \u001b[1m1s\u001b[0m 6ms/step - loss: 8.7985"
     ]
    },
    {
     "name": "stderr",
     "output_type": "stream",
     "text": [
      "I0000 00:00:1750419365.500378  103938 device_compiler.h:188] Compiled cluster using XLA!  This line is logged at most once for the lifetime of the process.\n"
     ]
    },
    {
     "name": "stdout",
     "output_type": "stream",
     "text": [
      "\u001b[1m362/362\u001b[0m \u001b[32m━━━━━━━━━━━━━━━━━━━━\u001b[0m\u001b[37m\u001b[0m \u001b[1m4s\u001b[0m 8ms/step - loss: 4.8536 - val_loss: 15.9329\n",
      "Epoch 2/5\n",
      "\u001b[1m 31/362\u001b[0m \u001b[32m━\u001b[0m\u001b[37m━━━━━━━━━━━━━━━━━━━\u001b[0m \u001b[1m1s\u001b[0m 5ms/step - loss: 1.1329"
     ]
    },
    {
     "name": "stderr",
     "output_type": "stream",
     "text": [
      "2025-06-20 18:36:08.582295: I tensorflow/core/framework/local_rendezvous.cc:405] Local rendezvous is aborting with status: OUT_OF_RANGE: End of sequence\n",
      "\t [[{{node IteratorGetNext}}]]\n",
      "2025-06-20 18:36:08.582361: I tensorflow/core/framework/local_rendezvous.cc:424] Local rendezvous recv item cancelled. Key hash: 2912377891073911225\n",
      "2025-06-20 18:36:08.582395: I tensorflow/core/framework/local_rendezvous.cc:424] Local rendezvous recv item cancelled. Key hash: 5114593147772436740\n",
      "/home/ardi/miniconda3/lib/python3.12/site-packages/keras/src/trainers/epoch_iterator.py:151: UserWarning: Your input ran out of data; interrupting training. Make sure that your dataset or generator can generate at least `steps_per_epoch * epochs` batches. You may need to use the `.repeat()` function when building your dataset.\n",
      "  self._interrupted_warning()\n"
     ]
    },
    {
     "name": "stdout",
     "output_type": "stream",
     "text": [
      "\u001b[1m362/362\u001b[0m \u001b[32m━━━━━━━━━━━━━━━━━━━━\u001b[0m\u001b[37m\u001b[0m \u001b[1m2s\u001b[0m 6ms/step - loss: 1.1265 - val_loss: 4.1240\n",
      "Epoch 3/5\n",
      "\u001b[1m 29/362\u001b[0m \u001b[32m━\u001b[0m\u001b[37m━━━━━━━━━━━━━━━━━━━\u001b[0m \u001b[1m1s\u001b[0m 6ms/step - loss: 0.6739"
     ]
    },
    {
     "name": "stderr",
     "output_type": "stream",
     "text": [
      "2025-06-20 18:36:10.917342: I tensorflow/core/framework/local_rendezvous.cc:424] Local rendezvous recv item cancelled. Key hash: 2912377891073911225\n",
      "2025-06-20 18:36:10.917439: I tensorflow/core/framework/local_rendezvous.cc:424] Local rendezvous recv item cancelled. Key hash: 5114593147772436740\n"
     ]
    },
    {
     "name": "stdout",
     "output_type": "stream",
     "text": [
      "\u001b[1m362/362\u001b[0m \u001b[32m━━━━━━━━━━━━━━━━━━━━\u001b[0m\u001b[37m\u001b[0m \u001b[1m2s\u001b[0m 7ms/step - loss: 0.7319 - val_loss: 0.6485\n",
      "Epoch 4/5\n",
      "\u001b[1m 28/362\u001b[0m \u001b[32m━\u001b[0m\u001b[37m━━━━━━━━━━━━━━━━━━━\u001b[0m \u001b[1m1s\u001b[0m 6ms/step - loss: 0.6681"
     ]
    },
    {
     "name": "stderr",
     "output_type": "stream",
     "text": [
      "2025-06-20 18:36:13.362264: I tensorflow/core/framework/local_rendezvous.cc:424] Local rendezvous recv item cancelled. Key hash: 2912377891073911225\n",
      "2025-06-20 18:36:13.362386: I tensorflow/core/framework/local_rendezvous.cc:424] Local rendezvous recv item cancelled. Key hash: 5114593147772436740\n"
     ]
    },
    {
     "name": "stdout",
     "output_type": "stream",
     "text": [
      "\u001b[1m362/362\u001b[0m \u001b[32m━━━━━━━━━━━━━━━━━━━━\u001b[0m\u001b[37m\u001b[0m \u001b[1m3s\u001b[0m 7ms/step - loss: 0.6791 - val_loss: 0.7825\n",
      "Epoch 5/5\n",
      "\u001b[1m 23/362\u001b[0m \u001b[32m━\u001b[0m\u001b[37m━━━━━━━━━━━━━━━━━━━\u001b[0m \u001b[1m2s\u001b[0m 7ms/step - loss: 0.6406"
     ]
    },
    {
     "name": "stderr",
     "output_type": "stream",
     "text": [
      "2025-06-20 18:36:15.984376: I tensorflow/core/framework/local_rendezvous.cc:424] Local rendezvous recv item cancelled. Key hash: 2912377891073911225\n",
      "2025-06-20 18:36:15.984463: I tensorflow/core/framework/local_rendezvous.cc:424] Local rendezvous recv item cancelled. Key hash: 5114593147772436740\n"
     ]
    },
    {
     "name": "stdout",
     "output_type": "stream",
     "text": [
      "\u001b[1m362/362\u001b[0m \u001b[32m━━━━━━━━━━━━━━━━━━━━\u001b[0m\u001b[37m\u001b[0m \u001b[1m3s\u001b[0m 7ms/step - loss: 0.6483 - val_loss: 1.8318\n",
      "\n",
      "Evaluasi model pada test set:\n",
      "\u001b[1m 10/161\u001b[0m \u001b[32m━\u001b[0m\u001b[37m━━━━━━━━━━━━━━━━━━━\u001b[0m \u001b[1m0s\u001b[0m 6ms/step - loss: 0.4313  "
     ]
    },
    {
     "name": "stderr",
     "output_type": "stream",
     "text": [
      "2025-06-20 18:36:18.568215: I tensorflow/core/framework/local_rendezvous.cc:405] Local rendezvous is aborting with status: OUT_OF_RANGE: End of sequence\n",
      "\t [[{{node IteratorGetNext}}]]\n",
      "2025-06-20 18:36:18.568289: I tensorflow/core/framework/local_rendezvous.cc:424] Local rendezvous recv item cancelled. Key hash: 2912377891073911225\n",
      "2025-06-20 18:36:18.568327: I tensorflow/core/framework/local_rendezvous.cc:424] Local rendezvous recv item cancelled. Key hash: 5114593147772436740\n"
     ]
    },
    {
     "name": "stdout",
     "output_type": "stream",
     "text": [
      "\u001b[1m161/161\u001b[0m \u001b[32m━━━━━━━━━━━━━━━━━━━━\u001b[0m\u001b[37m\u001b[0m \u001b[1m1s\u001b[0m 5ms/step - loss: 0.5797\n",
      "Loss pada test set: 0.6209\n"
     ]
    }
   ],
   "source": [
    "# Mengurangi epoch agar berjalan lebih cepat\n",
    "epochs = 5\n",
    "batch_size = 32\n",
    "print(f\"\\nMelatih model dengan pipeline CSV selama {epochs} epoch...\")\n",
    "model.fit(train_set, steps_per_epoch=len(X_train) // batch_size, epochs=epochs,\n",
    "          validation_data=valid_set)\n",
    "\n",
    "print(\"\\nEvaluasi model pada test set:\")\n",
    "test_loss = model.evaluate(test_set, steps=len(X_test) // batch_size)\n",
    "print(f\"Loss pada test set: {test_loss:.4f}\")"
   ]
  },
  {
   "cell_type": "markdown",
   "id": "10e75f42",
   "metadata": {},
   "source": [
    "### 3. Format Biner TFRecord\n",
    "Bagian ini menjelaskan cara menggunakan format TFRecord yang efisien untuk menyimpan dan membaca data."
   ]
  },
  {
   "cell_type": "code",
   "execution_count": 16,
   "id": "a5a311f2",
   "metadata": {},
   "outputs": [
    {
     "name": "stdout",
     "output_type": "stream",
     "text": [
      "\n",
      "Membaca dari file TFRecord:\n",
      "tf.Tensor(b'Ini adalah record pertama', shape=(), dtype=string)\n",
      "tf.Tensor(b'Dan ini adalah record kedua', shape=(), dtype=string)\n"
     ]
    },
    {
     "name": "stderr",
     "output_type": "stream",
     "text": [
      "2025-06-20 18:36:19.598960: I tensorflow/core/kernels/data/tf_record_dataset_op.cc:370] TFRecordDataset `buffer_size` is unspecified, default to 262144\n"
     ]
    }
   ],
   "source": [
    "# --- Menulis dan Membaca File TFRecord Sederhana ---\n",
    "with tf.io.TFRecordWriter(\"my_data.tfrecord\") as f:\n",
    "    f.write(b\"Ini adalah record pertama\")\n",
    "    f.write(b\"Dan ini adalah record kedua\")\n",
    "\n",
    "filepaths = [\"my_data.tfrecord\"]\n",
    "dataset = tf.data.TFRecordDataset(filepaths)\n",
    "print(\"\\nMembaca dari file TFRecord:\")\n",
    "for item in dataset:\n",
    "    print(item)"
   ]
  },
  {
   "cell_type": "markdown",
   "id": "25b71be8",
   "metadata": {},
   "source": [
    "#### Kompresi File TFRecord"
   ]
  },
  {
   "cell_type": "code",
   "execution_count": 17,
   "id": "b2b930d4",
   "metadata": {},
   "outputs": [
    {
     "name": "stdout",
     "output_type": "stream",
     "text": [
      "\n",
      "Membaca dari file TFRecord terkompresi:\n",
      "tf.Tensor(b'Ini adalah record terkompresi', shape=(), dtype=string)\n"
     ]
    }
   ],
   "source": [
    "# --- Kompresi File TFRecord ---\n",
    "options = tf.io.TFRecordOptions(compression_type=\"GZIP\")\n",
    "with tf.io.TFRecordWriter(\"my_compressed.tfrecord\", options) as f:\n",
    "    f.write(b\"Ini adalah record terkompresi\")\n",
    "\n",
    "dataset = tf.data.TFRecordDataset([\"my_compressed.tfrecord\"], compression_type=\"GZIP\")\n",
    "print(\"\\nMembaca dari file TFRecord terkompresi:\")\n",
    "for item in dataset:\n",
    "    print(item)"
   ]
  },
  {
   "cell_type": "markdown",
   "id": "8de1a5a2",
   "metadata": {},
   "source": [
    "#### TensorFlow Protobufs (tf.train.Example)"
   ]
  },
  {
   "cell_type": "code",
   "execution_count": 18,
   "id": "822b372d",
   "metadata": {},
   "outputs": [
    {
     "name": "stdout",
     "output_type": "stream",
     "text": [
      "\n",
      "Contoh tf.train.Example berhasil ditulis ke file.\n"
     ]
    }
   ],
   "source": [
    "# Menggunakan tf.train.Example untuk menyimpan data terstruktur\n",
    "BytesList = tf.train.BytesList\n",
    "FloatList = tf.train.FloatList\n",
    "Int64List = tf.train.Int64List\n",
    "Feature = tf.train.Feature\n",
    "Features = tf.train.Features\n",
    "Example = tf.train.Example\n",
    "\n",
    "person_example = Example(\n",
    "    features=Features(\n",
    "        feature={\n",
    "            \"name\": Feature(bytes_list=BytesList(value=[b\"Alice\"])),\n",
    "            \"id\": Feature(int64_list=Int64List(value=[123])),\n",
    "            \"emails\": Feature(bytes_list=BytesList(value=[b\"a@b.com\", b\"c@d.com\"]))\n",
    "        }))\n",
    "\n",
    "with tf.io.TFRecordWriter(\"my_contacts.tfrecord\") as f:\n",
    "    f.write(person_example.SerializeToString())\n",
    "print(\"\\nContoh tf.train.Example berhasil ditulis ke file.\")"
   ]
  },
  {
   "cell_type": "code",
   "execution_count": 19,
   "id": "7c45bb1a",
   "metadata": {},
   "outputs": [
    {
     "name": "stdout",
     "output_type": "stream",
     "text": [
      "\n",
      "Membaca dan mem-parsing tf.train.Example:\n",
      "{'emails': SparseTensor(indices=tf.Tensor(\n",
      "[[0]\n",
      " [1]], shape=(2, 1), dtype=int64), values=tf.Tensor([b'a@b.com' b'c@d.com'], shape=(2,), dtype=string), dense_shape=tf.Tensor([2], shape=(1,), dtype=int64)), 'id': <tf.Tensor: shape=(), dtype=int64, numpy=123>, 'name': <tf.Tensor: shape=(), dtype=string, numpy=b'Alice'>}\n"
     ]
    }
   ],
   "source": [
    "feature_description = {\n",
    "    \"name\": tf.io.FixedLenFeature([], tf.string, default_value=\"\"),\n",
    "    \"id\": tf.io.FixedLenFeature([], tf.int64, default_value=0),\n",
    "    \"emails\": tf.io.VarLenFeature(tf.string), # Fitur dengan panjang variabel\n",
    "}\n",
    "\n",
    "print(\"\\nMembaca dan mem-parsing tf.train.Example:\")\n",
    "for serialized_example in tf.data.TFRecordDataset([\"my_contacts.tfrecord\"]):\n",
    "    parsed_example = tf.io.parse_single_example(serialized_example,\n",
    "                                                feature_description)\n",
    "    print(parsed_example)"
   ]
  },
  {
   "cell_type": "code",
   "execution_count": 20,
   "id": "2cbd90ce",
   "metadata": {},
   "outputs": [
    {
     "name": "stdout",
     "output_type": "stream",
     "text": [
      "\n",
      "Email (dense): [b'a@b.com' b'c@d.com']\n"
     ]
    }
   ],
   "source": [
    "# Mengubah sparse tensor menjadi dense tensor\n",
    "print(\"\\nEmail (dense):\", tf.sparse.to_dense(parsed_example[\"emails\"], default_value=b\"\").numpy())"
   ]
  },
  {
   "cell_type": "code",
   "execution_count": 21,
   "id": "5f208b23",
   "metadata": {},
   "outputs": [],
   "source": [
    "from sklearn.datasets import load_sample_images\n",
    "\n",
    "img = load_sample_images()[\"images\"][0]\n",
    "data = tf.io.encode_jpeg(img)\n",
    "example_with_image = Example(features=Features(feature={\n",
    "    \"image\": Feature(bytes_list=BytesList(value=[data.numpy()]))\n",
    "}))\n",
    "serialized_example_img = example_with_image.SerializeToString()"
   ]
  },
  {
   "cell_type": "code",
   "execution_count": 22,
   "id": "b0ec6f6c",
   "metadata": {},
   "outputs": [
    {
     "name": "stdout",
     "output_type": "stream",
     "text": [
      "\n",
      "Ukuran tensor gambar yang didekode: (427, 640, 3)\n"
     ]
    }
   ],
   "source": [
    "# Membaca dan mendekode gambar\n",
    "feature_description_img = { \"image\": tf.io.VarLenFeature(tf.string) }\n",
    "parsed_example_img = tf.io.parse_single_example(serialized_example_img, feature_description_img)\n",
    "decoded_img_tensor = tf.io.decode_image(parsed_example_img[\"image\"].values[0])\n",
    "\n",
    "print(\"\\nUkuran tensor gambar yang didekode:\", decoded_img_tensor.shape)"
   ]
  },
  {
   "cell_type": "markdown",
   "id": "a0f021f1",
   "metadata": {},
   "source": [
    "### 4. Preprocessing dengan Features API (diganti dengan Keras Preprocessing Layers)"
   ]
  },
  {
   "cell_type": "code",
   "execution_count": 25,
   "id": "38685fcd",
   "metadata": {},
   "outputs": [
    {
     "name": "stdout",
     "output_type": "stream",
     "text": [
      "Data housing dengan fitur kategorikal (head):\n",
      "    longitude  latitude  housing_median_age  total_rooms  total_bedrooms  \\\n",
      "0    -122.23     37.88                41.0        880.0           129.0   \n",
      "1    -122.22     37.86                21.0       7099.0          1106.0   \n",
      "2    -122.24     37.85                52.0       1467.0           190.0   \n",
      "3    -122.25     37.85                52.0       1274.0           235.0   \n",
      "4    -122.25     37.85                52.0       1627.0           280.0   \n",
      "\n",
      "   population  households  median_income  median_house_value ocean_proximity  \n",
      "0       322.0       126.0         8.3252            452600.0        NEAR BAY  \n",
      "1      2401.0      1138.0         8.3014            358500.0        NEAR BAY  \n",
      "2       496.0       177.0         7.2574            352100.0        NEAR BAY  \n",
      "3       558.0       219.0         5.6431            341300.0        NEAR BAY  \n",
      "4       565.0       259.0         3.8462            342200.0        NEAR BAY  \n",
      "\n",
      "Mengecek nilai yang hilang sebelum imputasi:\n",
      "longitude               0\n",
      "latitude                0\n",
      "housing_median_age      0\n",
      "total_rooms             0\n",
      "total_bedrooms        207\n",
      "population              0\n",
      "households              0\n",
      "median_income           0\n",
      "median_house_value      0\n",
      "ocean_proximity         0\n",
      "dtype: int64\n",
      "\n",
      "Mengecek nilai yang hilang SETELAH imputasi:\n",
      "longitude             0\n",
      "latitude              0\n",
      "housing_median_age    0\n",
      "total_rooms           0\n",
      "total_bedrooms        0\n",
      "population            0\n",
      "households            0\n",
      "median_income         0\n",
      "median_house_value    0\n",
      "ocean_proximity       0\n",
      "dtype: int64\n"
     ]
    },
    {
     "name": "stderr",
     "output_type": "stream",
     "text": [
      "/tmp/ipykernel_94398/509219114.py:29: FutureWarning: A value is trying to be set on a copy of a DataFrame or Series through chained assignment using an inplace method.\n",
      "The behavior will change in pandas 3.0. This inplace method will never work because the intermediate object on which we are setting values always behaves as a copy.\n",
      "\n",
      "For example, when doing 'df[col].method(value, inplace=True)', try using 'df.method({col: value}, inplace=True)' or df[col] = df[col].method(value) instead, to perform the operation inplace on the original object.\n",
      "\n",
      "\n",
      "  housing[\"total_bedrooms\"].fillna(median, inplace=True)\n"
     ]
    },
    {
     "name": "stdout",
     "output_type": "stream",
     "text": [
      "\n",
      "Melatih model dengan Keras Preprocessing Layers:\n",
      "Epoch 1/10\n",
      "\u001b[1m484/484\u001b[0m \u001b[32m━━━━━━━━━━━━━━━━━━━━\u001b[0m\u001b[37m\u001b[0m \u001b[1m17s\u001b[0m 22ms/step - loss: 55873150976.0000 - val_loss: 55740764160.0000\n",
      "Epoch 2/10\n",
      "\u001b[1m484/484\u001b[0m \u001b[32m━━━━━━━━━━━━━━━━━━━━\u001b[0m\u001b[37m\u001b[0m \u001b[1m9s\u001b[0m 18ms/step - loss: 55746932736.0000 - val_loss: 55325446144.0000\n",
      "Epoch 3/10\n",
      "\u001b[1m484/484\u001b[0m \u001b[32m━━━━━━━━━━━━━━━━━━━━\u001b[0m\u001b[37m\u001b[0m \u001b[1m10s\u001b[0m 20ms/step - loss: 55194308608.0000 - val_loss: 54330200064.0000\n",
      "Epoch 4/10\n",
      "\u001b[1m484/484\u001b[0m \u001b[32m━━━━━━━━━━━━━━━━━━━━\u001b[0m\u001b[37m\u001b[0m \u001b[1m12s\u001b[0m 25ms/step - loss: 54026588160.0000 - val_loss: 52657270784.0000\n",
      "Epoch 5/10\n",
      "\u001b[1m484/484\u001b[0m \u001b[32m━━━━━━━━━━━━━━━━━━━━\u001b[0m\u001b[37m\u001b[0m \u001b[1m9s\u001b[0m 19ms/step - loss: 52169195520.0000 - val_loss: 50296033280.0000\n",
      "Epoch 6/10\n",
      "\u001b[1m484/484\u001b[0m \u001b[32m━━━━━━━━━━━━━━━━━━━━\u001b[0m\u001b[37m\u001b[0m \u001b[1m9s\u001b[0m 18ms/step - loss: 49629188096.0000 - val_loss: 47301292032.0000\n",
      "Epoch 7/10\n",
      "\u001b[1m484/484\u001b[0m \u001b[32m━━━━━━━━━━━━━━━━━━━━\u001b[0m\u001b[37m\u001b[0m \u001b[1m12s\u001b[0m 25ms/step - loss: 46475538432.0000 - val_loss: 43778723840.0000\n",
      "Epoch 8/10\n",
      "\u001b[1m484/484\u001b[0m \u001b[32m━━━━━━━━━━━━━━━━━━━━\u001b[0m\u001b[37m\u001b[0m \u001b[1m8s\u001b[0m 17ms/step - loss: 42825359360.0000 - val_loss: 39873638400.0000\n",
      "Epoch 9/10\n",
      "\u001b[1m484/484\u001b[0m \u001b[32m━━━━━━━━━━━━━━━━━━━━\u001b[0m\u001b[37m\u001b[0m \u001b[1m9s\u001b[0m 18ms/step - loss: 38833164288.0000 - val_loss: 35760529408.0000\n",
      "Epoch 10/10\n",
      "\u001b[1m484/484\u001b[0m \u001b[32m━━━━━━━━━━━━━━━━━━━━\u001b[0m\u001b[37m\u001b[0m \u001b[1m9s\u001b[0m 18ms/step - loss: 34680057856.0000 - val_loss: 31630960640.0000\n",
      "\n",
      "Evaluasi model modern:\n",
      "Validation loss: 31,630,960,640.00\n",
      "\n",
      "Contoh prediksi untuk 5 data validasi pertama:\n",
      "\u001b[1m1/1\u001b[0m \u001b[32m━━━━━━━━━━━━━━━━━━━━\u001b[0m\u001b[37m\u001b[0m \u001b[1m0s\u001b[0m 138ms/step\n",
      "  - Prediksi: $67,247 | Nilai Aktual: $47,700\n",
      "  - Prediksi: $67,778 | Nilai Aktual: $45,800\n",
      "  - Prediksi: $45,493 | Nilai Aktual: $500,001\n",
      "  - Prediksi: $87,858 | Nilai Aktual: $218,600\n",
      "  - Prediksi: $47,066 | Nilai Aktual: $278,000\n"
     ]
    }
   ],
   "source": [
    "import tarfile\n",
    "# --- Memuat data housing (versi dengan fitur kategorikal) ---\n",
    "DOWNLOAD_ROOT = \"https://raw.githubusercontent.com/ageron/handson-ml2/master/\"\n",
    "HOUSING_PATH = os.path.join(\"datasets\", \"housing\")\n",
    "HOUSING_URL = DOWNLOAD_ROOT + \"datasets/housing/housing.tgz\"\n",
    "\n",
    "def fetch_housing_data(housing_url=HOUSING_URL, housing_path=HOUSING_PATH):\n",
    "    os.makedirs(housing_path, exist_ok=True)\n",
    "    tgz_path = os.path.join(housing_path, \"housing.tgz\")\n",
    "    if not os.path.isfile(tgz_path):\n",
    "        urllib.request.urlretrieve(housing_url, tgz_path)\n",
    "    housing_tgz = tarfile.open(tgz_path)\n",
    "    housing_tgz.extractall(path=housing_path)\n",
    "    housing_tgz.close()\n",
    "\n",
    "def load_housing_data(housing_path=HOUSING_PATH):\n",
    "    csv_path = os.path.join(housing_path, \"housing.csv\")\n",
    "    return pd.read_csv(csv_path)\n",
    "\n",
    "fetch_housing_data()\n",
    "housing = load_housing_data()\n",
    "print(\"Data housing dengan fitur kategorikal (head):\\n\", housing.head())\n",
    "\n",
    "print(\"\\nMengecek nilai yang hilang sebelum imputasi:\")\n",
    "print(housing.isnull().sum())\n",
    "\n",
    "# Mengisi nilai NaN pada kolom 'total_bedrooms' dengan nilai median kolom tersebut.\n",
    "median = housing[\"total_bedrooms\"].median()\n",
    "housing[\"total_bedrooms\"].fillna(median, inplace=True)\n",
    "\n",
    "print(\"\\nMengecek nilai yang hilang SETELAH imputasi:\")\n",
    "print(housing.isnull().sum())\n",
    "\n",
    "X_train_sub, X_valid_sub, y_train_sub, y_valid_sub = train_test_split(\n",
    "    housing.drop(\"median_house_value\", axis=1),\n",
    "    housing[\"median_house_value\"],\n",
    "    random_state=42\n",
    ")\n",
    "\n",
    "keras.backend.clear_session()\n",
    "np.random.seed(42)\n",
    "tf.random.set_seed(42)\n",
    "\n",
    "# 1. Input dan Normalisasi untuk Fitur Numerik\n",
    "numerical_features = [\"housing_median_age\", \"total_rooms\", \"total_bedrooms\",\n",
    "                      \"population\", \"households\", \"median_income\"]\n",
    "numerical_inputs, normalized_numerical = [], []\n",
    "for feature in numerical_features:\n",
    "    input_layer = keras.layers.Input(shape=(1,), name=feature)\n",
    "    norm_layer = keras.layers.Normalization()\n",
    "    norm_layer.adapt(X_train_sub[feature].values.reshape(-1, 1))\n",
    "    numerical_inputs.append(input_layer)\n",
    "    normalized_numerical.append(norm_layer(input_layer))\n",
    "\n",
    "# 2. Input dan Preprocessing untuk Fitur Kategorikal\n",
    "ocean_input = keras.layers.Input(shape=(1,), name=\"ocean_proximity\", dtype=tf.string)\n",
    "ocean_vocab = [str(x) for x in np.unique(X_train_sub[\"ocean_proximity\"])]\n",
    "lookup = keras.layers.StringLookup(vocabulary=ocean_vocab)\n",
    "encoded = lookup(ocean_input)\n",
    "embedding = keras.layers.Embedding(input_dim=lookup.vocabulary_size(), output_dim=4)(encoded)\n",
    "flattened = keras.layers.Flatten()(embedding)\n",
    "\n",
    "# 3. Menggabungkan semua fitur\n",
    "x = keras.layers.concatenate(normalized_numerical + [flattened])\n",
    "\n",
    "# 4. Menambahkan layer Dense\n",
    "x = keras.layers.Dense(30, activation=\"relu\")(x)\n",
    "x = keras.layers.Dense(1)(x)\n",
    "\n",
    "# 5. Membuat Model\n",
    "model_modern = keras.Model(inputs=numerical_inputs + [ocean_input], outputs=x)\n",
    "\n",
    "# 6. Menyiapkan data input dalam format dictionary\n",
    "X_train_dict = {\n",
    "    feature: X_train_sub[feature].values.astype(np.float32)\n",
    "    for feature in numerical_features\n",
    "}\n",
    "X_train_dict[\"ocean_proximity\"] = tf.constant(X_train_sub[\"ocean_proximity\"].values, dtype=tf.string)\n",
    "\n",
    "X_valid_dict = {\n",
    "    feature: X_valid_sub[feature].values.astype(np.float32)\n",
    "    for feature in numerical_features\n",
    "}\n",
    "X_valid_dict[\"ocean_proximity\"] = tf.constant(X_valid_sub[\"ocean_proximity\"].values, dtype=tf.string)\n",
    "\n",
    "\n",
    "# 7. Kompilasi dan Latih Model\n",
    "# Menggunakan optimizer dengan learning rate yang lebih kecil untuk stabilitas tambahan\n",
    "optimizer = keras.optimizers.Adam(learning_rate=1e-3)\n",
    "model_modern.compile(loss=\"mse\", optimizer=optimizer)\n",
    "\n",
    "print(\"\\nMelatih model dengan Keras Preprocessing Layers:\")\n",
    "history = model_modern.fit(X_train_dict, y_train_sub, epochs=10,\n",
    "                           validation_data=(X_valid_dict, y_valid_sub))\n",
    "\n",
    "# 8. Evaluasi dan Prediksi\n",
    "print(\"\\nEvaluasi model modern:\")\n",
    "val_loss = model_modern.evaluate(X_valid_dict, y_valid_sub, verbose=0)\n",
    "print(f\"Validation loss: {val_loss:,.2f}\")\n",
    "\n",
    "print(\"\\nContoh prediksi untuk 5 data validasi pertama:\")\n",
    "sample_prediction = model_modern.predict(\n",
    "    {feature: data[:5] for feature, data in X_valid_dict.items()}\n",
    ")\n",
    "for pred, actual in zip(sample_prediction.flatten(), y_valid_sub.iloc[:5].values):\n",
    "    print(f\"  - Prediksi: ${pred:,.0f} | Nilai Aktual: ${actual:,.0f}\")"
   ]
  },
  {
   "cell_type": "markdown",
   "id": "325efb7f",
   "metadata": {},
   "source": [
    "### 5. TF Transform"
   ]
  },
  {
   "cell_type": "code",
   "execution_count": 26,
   "id": "16c35157",
   "metadata": {},
   "outputs": [
    {
     "data": {
      "image/png": "[encoded data removed]",
      "text/plain": [
       "<Figure size 600x300 with 5 Axes>"
      ]
     },
     "metadata": {},
     "output_type": "display_data"
    },
    {
     "name": "stderr",
     "output_type": "stream",
     "text": [
      "/home/ardi/miniconda3/lib/python3.12/site-packages/keras/src/layers/reshaping/flatten.py:37: UserWarning: Do not pass an `input_shape`/`input_dim` argument to a layer. When using Sequential models, prefer using an `Input(shape)` object as the first layer in the model instead.\n",
      "  super().__init__(**kwargs)\n"
     ]
    },
    {
     "data": {
      "text/html": [
       "<pre style=\"white-space:pre;overflow-x:auto;line-height:normal;font-family:Menlo,'DejaVu Sans Mono',consolas,'Courier New',monospace\"><span style=\"font-weight: bold\">Model: \"sequential\"</span>\n",
       "</pre>\n"
      ],
      "text/plain": [
       "\u001b[1mModel: \"sequential\"\u001b[0m\n"
      ]
     },
     "metadata": {},
     "output_type": "display_data"
    },
    {
     "data": {
      "text/html": [
       "<pre style=\"white-space:pre;overflow-x:auto;line-height:normal;font-family:Menlo,'DejaVu Sans Mono',consolas,'Courier New',monospace\">┏━━━━━━━━━━━━━━━━━━━━━━━━━━━━━━━━━┳━━━━━━━━━━━━━━━━━━━━━━━━┳━━━━━━━━━━━━━━━┓\n",
       "┃<span style=\"font-weight: bold\"> Layer (type)                    </span>┃<span style=\"font-weight: bold\"> Output Shape           </span>┃<span style=\"font-weight: bold\">       Param # </span>┃\n",
       "┡━━━━━━━━━━━━━━━━━━━━━━━━━━━━━━━━━╇━━━━━━━━━━━━━━━━━━━━━━━━╇━━━━━━━━━━━━━━━┩\n",
       "│ flatten (<span style=\"color: #0087ff; text-decoration-color: #0087ff\">Flatten</span>)               │ (<span style=\"color: #00d7ff; text-decoration-color: #00d7ff\">None</span>, <span style=\"color: #00af00; text-decoration-color: #00af00\">784</span>)            │             <span style=\"color: #00af00; text-decoration-color: #00af00\">0</span> │\n",
       "├─────────────────────────────────┼────────────────────────┼───────────────┤\n",
       "│ dense (<span style=\"color: #0087ff; text-decoration-color: #0087ff\">Dense</span>)                   │ (<span style=\"color: #00d7ff; text-decoration-color: #00d7ff\">None</span>, <span style=\"color: #00af00; text-decoration-color: #00af00\">128</span>)            │       <span style=\"color: #00af00; text-decoration-color: #00af00\">100,480</span> │\n",
       "├─────────────────────────────────┼────────────────────────┼───────────────┤\n",
       "│ dense_1 (<span style=\"color: #0087ff; text-decoration-color: #0087ff\">Dense</span>)                 │ (<span style=\"color: #00d7ff; text-decoration-color: #00d7ff\">None</span>, <span style=\"color: #00af00; text-decoration-color: #00af00\">10</span>)             │         <span style=\"color: #00af00; text-decoration-color: #00af00\">1,290</span> │\n",
       "└─────────────────────────────────┴────────────────────────┴───────────────┘\n",
       "</pre>\n"
      ],
      "text/plain": [
       "┏━━━━━━━━━━━━━━━━━━━━━━━━━━━━━━━━━┳━━━━━━━━━━━━━━━━━━━━━━━━┳━━━━━━━━━━━━━━━┓\n",
       "┃\u001b[1m \u001b[0m\u001b[1mLayer (type)                   \u001b[0m\u001b[1m \u001b[0m┃\u001b[1m \u001b[0m\u001b[1mOutput Shape          \u001b[0m\u001b[1m \u001b[0m┃\u001b[1m \u001b[0m\u001b[1m      Param #\u001b[0m\u001b[1m \u001b[0m┃\n",
       "┡━━━━━━━━━━━━━━━━━━━━━━━━━━━━━━━━━╇━━━━━━━━━━━━━━━━━━━━━━━━╇━━━━━━━━━━━━━━━┩\n",
       "│ flatten (\u001b[38;5;33mFlatten\u001b[0m)               │ (\u001b[38;5;45mNone\u001b[0m, \u001b[38;5;34m784\u001b[0m)            │             \u001b[38;5;34m0\u001b[0m │\n",
       "├─────────────────────────────────┼────────────────────────┼───────────────┤\n",
       "│ dense (\u001b[38;5;33mDense\u001b[0m)                   │ (\u001b[38;5;45mNone\u001b[0m, \u001b[38;5;34m128\u001b[0m)            │       \u001b[38;5;34m100,480\u001b[0m │\n",
       "├─────────────────────────────────┼────────────────────────┼───────────────┤\n",
       "│ dense_1 (\u001b[38;5;33mDense\u001b[0m)                 │ (\u001b[38;5;45mNone\u001b[0m, \u001b[38;5;34m10\u001b[0m)             │         \u001b[38;5;34m1,290\u001b[0m │\n",
       "└─────────────────────────────────┴────────────────────────┴───────────────┘\n"
      ]
     },
     "metadata": {},
     "output_type": "display_data"
    },
    {
     "data": {
      "text/html": [
       "<pre style=\"white-space:pre;overflow-x:auto;line-height:normal;font-family:Menlo,'DejaVu Sans Mono',consolas,'Courier New',monospace\"><span style=\"font-weight: bold\"> Total params: </span><span style=\"color: #00af00; text-decoration-color: #00af00\">101,770</span> (397.54 KB)\n",
       "</pre>\n"
      ],
      "text/plain": [
       "\u001b[1m Total params: \u001b[0m\u001b[38;5;34m101,770\u001b[0m (397.54 KB)\n"
      ]
     },
     "metadata": {},
     "output_type": "display_data"
    },
    {
     "data": {
      "text/html": [
       "<pre style=\"white-space:pre;overflow-x:auto;line-height:normal;font-family:Menlo,'DejaVu Sans Mono',consolas,'Courier New',monospace\"><span style=\"font-weight: bold\"> Trainable params: </span><span style=\"color: #00af00; text-decoration-color: #00af00\">101,770</span> (397.54 KB)\n",
       "</pre>\n"
      ],
      "text/plain": [
       "\u001b[1m Trainable params: \u001b[0m\u001b[38;5;34m101,770\u001b[0m (397.54 KB)\n"
      ]
     },
     "metadata": {},
     "output_type": "display_data"
    },
    {
     "data": {
      "text/html": [
       "<pre style=\"white-space:pre;overflow-x:auto;line-height:normal;font-family:Menlo,'DejaVu Sans Mono',consolas,'Courier New',monospace\"><span style=\"font-weight: bold\"> Non-trainable params: </span><span style=\"color: #00af00; text-decoration-color: #00af00\">0</span> (0.00 B)\n",
       "</pre>\n"
      ],
      "text/plain": [
       "\u001b[1m Non-trainable params: \u001b[0m\u001b[38;5;34m0\u001b[0m (0.00 B)\n"
      ]
     },
     "metadata": {},
     "output_type": "display_data"
    },
    {
     "name": "stdout",
     "output_type": "stream",
     "text": [
      "Epoch 1/5\n",
      "\u001b[1m1875/1875\u001b[0m \u001b[32m━━━━━━━━━━━━━━━━━━━━\u001b[0m\u001b[37m\u001b[0m \u001b[1m21s\u001b[0m 8ms/step - accuracy: 0.8742 - loss: 0.4361 - val_accuracy: 0.9559 - val_loss: 0.1479\n",
      "Epoch 2/5\n",
      "\u001b[1m1875/1875\u001b[0m \u001b[32m━━━━━━━━━━━━━━━━━━━━\u001b[0m\u001b[37m\u001b[0m \u001b[1m14s\u001b[0m 8ms/step - accuracy: 0.9636 - loss: 0.1190 - val_accuracy: 0.9668 - val_loss: 0.1075\n",
      "Epoch 3/5\n",
      "\u001b[1m1875/1875\u001b[0m \u001b[32m━━━━━━━━━━━━━━━━━━━━\u001b[0m\u001b[37m\u001b[0m \u001b[1m16s\u001b[0m 8ms/step - accuracy: 0.9772 - loss: 0.0758 - val_accuracy: 0.9714 - val_loss: 0.0913\n",
      "Epoch 4/5\n",
      "\u001b[1m1875/1875\u001b[0m \u001b[32m━━━━━━━━━━━━━━━━━━━━\u001b[0m\u001b[37m\u001b[0m \u001b[1m13s\u001b[0m 7ms/step - accuracy: 0.9833 - loss: 0.0561 - val_accuracy: 0.9773 - val_loss: 0.0753\n",
      "Epoch 5/5\n",
      "\u001b[1m1875/1875\u001b[0m \u001b[32m━━━━━━━━━━━━━━━━━━━━\u001b[0m\u001b[37m\u001b[0m \u001b[1m16s\u001b[0m 9ms/step - accuracy: 0.9865 - loss: 0.0423 - val_accuracy: 0.9769 - val_loss: 0.0751\n",
      "\u001b[1m313/313\u001b[0m \u001b[32m━━━━━━━━━━━━━━━━━━━━\u001b[0m\u001b[37m\u001b[0m \u001b[1m2s\u001b[0m 6ms/step - accuracy: 0.9734 - loss: 0.0887\n",
      "\n",
      "Akurasi Akhir: 0.9769 | Loss Akhir: 0.0751\n"
     ]
    },
    {
     "data": {
      "image/png": "[encoded data removed]",
      "text/plain": [
       "<Figure size 1000x400 with 2 Axes>"
      ]
     },
     "metadata": {},
     "output_type": "display_data"
    }
   ],
   "source": [
    "import numpy as np\n",
    "import tensorflow as tf\n",
    "from tensorflow import keras\n",
    "import matplotlib.pyplot as plt\n",
    "\n",
    "# 1. Muat dataset MNIST dari Keras\n",
    "(x_train, y_train), (x_test, y_test) = keras.datasets.mnist.load_data()\n",
    "\n",
    "# Tampilkan 5 gambar pertama\n",
    "plt.figure(figsize=(6, 3))\n",
    "for i in range(5):\n",
    "    plt.subplot(1, 5, i + 1)\n",
    "    plt.imshow(x_train[i], cmap=\"binary\")\n",
    "    plt.title(y_train[i])\n",
    "    plt.axis(\"off\")\n",
    "plt.show()\n",
    "\n",
    "# 2. Persiapan Data\n",
    "# Tambahkan dimensi channel (28x28 -> 28x28x1) dan normalisasi piksel (0-1)\n",
    "x_train = np.expand_dims(x_train, -1).astype(\"float32\") / 255.0\n",
    "x_test = np.expand_dims(x_test, -1).astype(\"float32\") / 255.0\n",
    "\n",
    "BATCH_SIZE = 32\n",
    "\n",
    "# Buat pipeline data (shuffle, batch, prefetch)\n",
    "mnist_train = tf.data.Dataset.from_tensor_slices((x_train, y_train))\n",
    "mnist_train = mnist_train.shuffle(60000).batch(BATCH_SIZE).prefetch(1)\n",
    "\n",
    "mnist_test = tf.data.Dataset.from_tensor_slices((x_test, y_test))\n",
    "mnist_test = mnist_test.batch(BATCH_SIZE).prefetch(1)\n",
    "\n",
    "\n",
    "# 3. Buat dan Kompilasi Model\n",
    "# Atur seed untuk hasil yang konsisten\n",
    "keras.backend.clear_session()\n",
    "np.random.seed(42)\n",
    "tf.random.set_seed(42)\n",
    "\n",
    "# Definisikan arsitektur model\n",
    "model = keras.models.Sequential([\n",
    "    keras.layers.Flatten(input_shape=[28, 28, 1]),\n",
    "    keras.layers.Dense(128, activation=\"relu\"),\n",
    "    keras.layers.Dense(10, activation=\"softmax\")\n",
    "])\n",
    "\n",
    "# Kompilasi model dengan optimizer, loss, dan metrik\n",
    "model.compile(loss=\"sparse_categorical_crossentropy\",\n",
    "              optimizer=keras.optimizers.Adam(learning_rate=1e-3),\n",
    "              metrics=[\"accuracy\"])\n",
    "\n",
    "model.summary()\n",
    "\n",
    "# 4. Latih Model\n",
    "history = model.fit(mnist_train,\n",
    "                    validation_data=mnist_test,\n",
    "                    epochs=5)\n",
    "\n",
    "# 5. Evaluasi dan Tampilkan Hasil\n",
    "results = model.evaluate(mnist_test, return_dict=True)\n",
    "\n",
    "print(f\"\\nAkurasi Akhir: {results['accuracy']:.4f} | \"\n",
    "      f\"Loss Akhir: {results['loss']:.4f}\")\n",
    "\n",
    "# Tampilkan grafik akurasi dan loss\n",
    "plt.figure(figsize=(10, 4))\n",
    "\n",
    "plt.subplot(1, 2, 1)\n",
    "plt.plot(history.history[\"accuracy\"], label=\"Train Acc\")\n",
    "plt.plot(history.history[\"val_accuracy\"], label=\"Val Acc\")\n",
    "plt.title(\"Akurasi Model\")\n",
    "plt.xlabel(\"Epoch\")\n",
    "plt.ylabel(\"Accuracy\")\n",
    "plt.grid(True)\n",
    "plt.legend()\n",
    "\n",
    "plt.subplot(1, 2, 2)\n",
    "plt.plot(history.history[\"loss\"], label=\"Train Loss\")\n",
    "plt.plot(history.history[\"val_loss\"], label=\"Val Loss\")\n",
    "plt.title(\"Loss Model\")\n",
    "plt.xlabel(\"Epoch\")\n",
    "plt.ylabel(\"Loss\")\n",
    "plt.grid(True)\n",
    "plt.legend()\n",
    "\n",
    "plt.tight_layout()\n",
    "plt.show()"
   ]
  },
  {
   "cell_type": "markdown",
   "id": "973c9f1a",
   "metadata": {},
   "source": [
    "# Penjelasan\n",
    "\n",
    "Berdasarkan analisis dari notebook \"Chapter 13.ipynb\", berikut adalah kesimpulan dan perbandingan dari berbagai teknik yang didemonstrasikan untuk memuat dan melakukan pra-pemrosesan data menggunakan TensorFlow.\n",
    "\n",
    "### Ringkasan Eksekusi\n",
    "\n",
    "Notebook ini secara komprehensif menjelajahi beberapa metode fundamental untuk menangani data dalam alur kerja machine learning dengan TensorFlow:\n",
    "\n",
    "1.  **`tf.data` API**: Bagian awal memperkenalkan `tf.data.Dataset` sebagai alat utama untuk membangun pipeline input yang efisien dan dapat diskalakan. Demonstrasi mencakup pembuatan dataset dari tensor (`from_tensor_slices`, `range`), dan yang lebih penting, kemampuan untuk merangkai (*chaining*) transformasi seperti `.repeat()`, `.batch()`, `.map()`, `.shuffle()`, `.filter()`, dan `.prefetch()`. Metode ini memungkinkan manipulasi data yang kompleks tanpa perlu memuat seluruh dataset ke dalam memori sekaligus.\n",
    "\n",
    "2.  **Studi Kasus 1: Pipeline dari File CSV (California Housing)**:\n",
    "    - **Teknik**: Notebook ini menunjukkan pendekatan praktis untuk dataset yang lebih besar dari memori dengan menyimpannya ke dalam beberapa file CSV. Kemudian, pipeline dibangun menggunakan `tf.data.Dataset.list_files` yang diikuti oleh `.interleave()` untuk membaca beberapa file secara paralel, yang sangat meningkatkan efisiensi I/O.\n",
    "    - **Hasil**: Sebuah model Keras sederhana berhasil dilatih menggunakan pipeline ini. Pelatihan berjalan stabil, dengan `val_loss` menurun dari ~15.9 menjadi sekitar 0.6485 pada epoch ketiga, dan akhirnya mencapai **loss pada test set sebesar 0.6209**. Ini membuktikan bahwa pipeline `tf.data` dari file CSV adalah metode yang efektif untuk melatih model.\n",
    "\n",
    "3.  **Studi Kasus 2: Format Biner TFRecord**:\n",
    "    - **Teknik**: Diperkenalkan format TFRecord sebagai alternatif yang lebih efisien dibandingkan format teks seperti CSV. TFRecord adalah format biner yang dioptimalkan untuk TensorFlow. Notebook ini mendemonstrasikan cara menulis dan membaca file TFRecord, termasuk penggunaan kompresi GZIP.\n",
    "    - **Struktur Data**: Penggunaan `tf.train.Example` dan `tf.train.Feature` ditunjukkan sebagai cara untuk menyimpan data terstruktur (termasuk tipe data berbeda seperti string, integer, float, bahkan data biner seperti gambar yang di-encode) dalam satu record. Ini adalah praktik terbaik untuk performa tinggi dalam skala besar.\n",
    "\n",
    "4.  **Studi Kasus 3: Keras Preprocessing Layers (California Housing Lanjutan)**:\n",
    "    - **Teknik**: Pendekatan ini memindahkan logika pra-pemrosesan dari pipeline data (`.map(preprocess)`) langsung ke dalam model sebagai lapisan (*layers*). Lapisan seperti `Normalization` untuk fitur numerik dan `StringLookup` + `Embedding` untuk fitur kategorikal (`ocean_proximity`) digunakan.\n",
    "    - **Hasil**: Model yang menggunakan Keras Preprocessing Layers menunjukkan **validation loss yang sangat tinggi (sekitar 31.6 Miliar)**. Prediksi yang dihasilkan juga jauh dari nilai aktual. Performa yang buruk ini **bukan** karena tekniknya salah, melainkan karena **target variabel (`median_house_value`) tidak dinormalisasi**. Model mencoba memprediksi nilai rumah dalam skala aslinya (misalnya, $200,000), yang menyebabkan Mean Squared Error (MSE) menjadi sangat besar. Ini adalah poin perbandingan penting dengan model pertama yang bekerja pada target yang sudah diskalakan.\n",
    "\n",
    "5.  **Contoh Ringkasan: Klasifikasi MNIST**:\n",
    "    - **Teknik**: Bagian terakhir menyajikan contoh end-to-end yang bersih dan efektif menggunakan `tf.data.Dataset` untuk pipeline input MNIST (`shuffle`, `batch`, `prefetch`) dan melatih model Keras sederhana.\n",
    "    - **Hasil**: Model mencapai **akurasi akhir 97.69%** dengan loss 0.0751 pada test set. Plot akurasi dan loss menunjukkan konvergensi yang baik tanpa adanya overfitting yang signifikan setelah 5 epoch. Ini berfungsi sebagai contoh template yang solid.\n",
    "\n",
    "### Perbandingan dan Kesimpulan Akhir\n",
    "\n",
    "-   **Pipeline CSV vs. TFRecord**: Meskipun model pada pipeline CSV menunjukkan performa yang baik, untuk dataset skala industri, **TFRecord adalah format yang lebih unggul**. Ini karena TFRecord adalah format biner yang menghindari overhead parsing teks dan lebih efisien dalam hal penyimpanan dan pembacaan data oleh TensorFlow.\n",
    "\n",
    "-   **Preprocessing di `tf.data` vs. Keras Layers**:\n",
    "    - **`tf.data.map()`**: Sangat fleksibel dan memungkinkan pra-pemrosesan dilakukan secara efisien dan paralel sebagai bagian dari pipeline data. Ini adalah pendekatan klasik.\n",
    "    - **Keras Preprocessing Layers**: Merupakan pendekatan modern yang memiliki keuntungan besar: logika pra-pemrosesan menjadi bagian dari model itu sendiri. Ini menyederhanakan proses deployment, karena model yang disimpan sudah *self-contained* dan dapat menerima data mentah. Namun, seperti yang ditunjukkan dalam notebook, pengembang harus berhati-hati untuk menerapkan semua transformasi yang diperlukan (termasuk pada target jika diperlukan) untuk memastikan performa model yang baik.\n",
    "\n",
    "Secara keseluruhan, hasil tersebut menunjukkan bahwa TensorFlow menyediakan perangkat yang kaya dan fleksibel untuk data. **`tf.data` adalah fondasinya**, **TFRecord adalah kunci untuk performa**, dan **Keras Preprocessing Layers adalah cara modern untuk membangun model yang portabel dan siap produksi**."
   ]
  }
 ],
 "metadata": {
  "kernelspec": {
   "display_name": "base",
   "language": "python",
   "name": "python3"
  },
  "language_info": {
   "codemirror_mode": {
    "name": "ipython",
    "version": 3
   },
   "file_extension": ".py",
   "mimetype": "text/x-python",
   "name": "python",
   "nbconvert_exporter": "python",
   "pygments_lexer": "ipython3",
   "version": "3.12.2"
  }
 },
 "nbformat": 4,
 "nbformat_minor": 5
}
